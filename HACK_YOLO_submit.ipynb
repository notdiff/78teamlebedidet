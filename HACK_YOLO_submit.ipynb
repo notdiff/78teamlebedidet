{
  "cells": [
    {
      "cell_type": "markdown",
      "metadata": {
        "id": "pSONm77js1RW"
      },
      "source": [
        "## How to Train YOLOv8 Object Detection on a Custom Dataset"
      ]
    },
    {
      "cell_type": "code",
      "execution_count": null,
      "metadata": {
        "colab": {
          "base_uri": "https://localhost:8080/"
        },
        "id": "GzTxPWnR95Qb",
        "outputId": "1aaaf1e4-948a-4d79-848e-f35c0225a117"
      },
      "outputs": [
        {
          "output_type": "stream",
          "name": "stdout",
          "text": [
            "Downloading...\n",
            "From: https://drive.google.com/uc?id=1u6uANPoai_N6ytg9zFbT2ISYVUqWtJ_X\n",
            "To: /content/train_dataset_Минприроды.zip\n",
            "100% 1.76G/1.76G [00:11<00:00, 148MB/s]\n"
          ]
        }
      ],
      "source": [
        "!gdown 1u6uANPoai_N6ytg9zFbT2ISYVUqWtJ_X"
      ]
    },
    {
      "cell_type": "code",
      "source": [
        "!pip install hugsvision\n",
        "!pip install --upgrade accelerate\n",
        "!pip install accelerate -U"
      ],
      "metadata": {
        "id": "L32ycsQQ7eUW"
      },
      "execution_count": null,
      "outputs": []
    },
    {
      "cell_type": "code",
      "source": [
        "!pip uninstall -y transformers\n",
        "!pip install transformers==4.28.0"
      ],
      "metadata": {
        "id": "SditCAKG7hQ5"
      },
      "execution_count": null,
      "outputs": []
    },
    {
      "cell_type": "code",
      "source": [
        "!pip install rasterio\n",
        "!pip install pybboxes\n",
        "!pip install ultralytics"
      ],
      "metadata": {
        "colab": {
          "base_uri": "https://localhost:8080/"
        },
        "id": "7lfqq3k-4VFW",
        "outputId": "f5696117-72ad-4111-f362-e8b4b3773347"
      },
      "execution_count": 7,
      "outputs": [
        {
          "output_type": "stream",
          "name": "stdout",
          "text": [
            "Looking in indexes: https://pypi.org/simple, https://us-python.pkg.dev/colab-wheels/public/simple/\n",
            "Collecting rasterio\n",
            "  Downloading rasterio-1.3.6-cp310-cp310-manylinux_2_17_x86_64.manylinux2014_x86_64.whl (20.0 MB)\n",
            "\u001b[2K     \u001b[90m━━━━━━━━━━━━━━━━━━━━━━━━━━━━━━━━━━━━━━━━\u001b[0m \u001b[32m20.0/20.0 MB\u001b[0m \u001b[31m62.9 MB/s\u001b[0m eta \u001b[36m0:00:00\u001b[0m\n",
            "\u001b[?25hCollecting affine (from rasterio)\n",
            "  Downloading affine-2.4.0-py3-none-any.whl (15 kB)\n",
            "Requirement already satisfied: attrs in /usr/local/lib/python3.10/dist-packages (from rasterio) (23.1.0)\n",
            "Requirement already satisfied: certifi in /usr/local/lib/python3.10/dist-packages (from rasterio) (2022.12.7)\n",
            "Requirement already satisfied: click>=4.0 in /usr/local/lib/python3.10/dist-packages (from rasterio) (8.1.3)\n",
            "Collecting cligj>=0.5 (from rasterio)\n",
            "  Downloading cligj-0.7.2-py3-none-any.whl (7.1 kB)\n",
            "Requirement already satisfied: numpy>=1.18 in /usr/local/lib/python3.10/dist-packages (from rasterio) (1.22.4)\n",
            "Collecting snuggs>=1.4.1 (from rasterio)\n",
            "  Downloading snuggs-1.4.7-py3-none-any.whl (5.4 kB)\n",
            "Collecting click-plugins (from rasterio)\n",
            "  Downloading click_plugins-1.1.1-py2.py3-none-any.whl (7.5 kB)\n",
            "Requirement already satisfied: setuptools in /usr/local/lib/python3.10/dist-packages (from rasterio) (67.7.2)\n",
            "Requirement already satisfied: pyparsing>=2.1.6 in /usr/local/lib/python3.10/dist-packages (from snuggs>=1.4.1->rasterio) (3.0.9)\n",
            "Installing collected packages: snuggs, cligj, click-plugins, affine, rasterio\n",
            "Successfully installed affine-2.4.0 click-plugins-1.1.1 cligj-0.7.2 rasterio-1.3.6 snuggs-1.4.7\n",
            "Looking in indexes: https://pypi.org/simple, https://us-python.pkg.dev/colab-wheels/public/simple/\n",
            "Collecting pybboxes\n",
            "  Downloading pybboxes-0.1.6-py3-none-any.whl (24 kB)\n",
            "Requirement already satisfied: numpy in /usr/local/lib/python3.10/dist-packages (from pybboxes) (1.22.4)\n",
            "Installing collected packages: pybboxes\n",
            "Successfully installed pybboxes-0.1.6\n",
            "Looking in indexes: https://pypi.org/simple, https://us-python.pkg.dev/colab-wheels/public/simple/\n",
            "Collecting ultralytics\n",
            "  Downloading ultralytics-8.0.105-py3-none-any.whl (586 kB)\n",
            "\u001b[2K     \u001b[90m━━━━━━━━━━━━━━━━━━━━━━━━━━━━━━━━━━━━━━\u001b[0m \u001b[32m586.5/586.5 kB\u001b[0m \u001b[31m41.6 MB/s\u001b[0m eta \u001b[36m0:00:00\u001b[0m\n",
            "\u001b[?25hRequirement already satisfied: matplotlib>=3.2.2 in /usr/local/lib/python3.10/dist-packages (from ultralytics) (3.7.1)\n",
            "Requirement already satisfied: opencv-python>=4.6.0 in /usr/local/lib/python3.10/dist-packages (from ultralytics) (4.7.0.72)\n",
            "Requirement already satisfied: Pillow>=7.1.2 in /usr/local/lib/python3.10/dist-packages (from ultralytics) (8.4.0)\n",
            "Requirement already satisfied: PyYAML>=5.3.1 in /usr/local/lib/python3.10/dist-packages (from ultralytics) (6.0)\n",
            "Requirement already satisfied: requests>=2.23.0 in /usr/local/lib/python3.10/dist-packages (from ultralytics) (2.27.1)\n",
            "Requirement already satisfied: scipy>=1.4.1 in /usr/local/lib/python3.10/dist-packages (from ultralytics) (1.10.1)\n",
            "Requirement already satisfied: torch>=1.7.0 in /usr/local/lib/python3.10/dist-packages (from ultralytics) (2.0.1+cu118)\n",
            "Requirement already satisfied: torchvision>=0.8.1 in /usr/local/lib/python3.10/dist-packages (from ultralytics) (0.15.2+cu118)\n",
            "Requirement already satisfied: tqdm>=4.64.0 in /usr/local/lib/python3.10/dist-packages (from ultralytics) (4.65.0)\n",
            "Requirement already satisfied: pandas>=1.1.4 in /usr/local/lib/python3.10/dist-packages (from ultralytics) (1.5.3)\n",
            "Requirement already satisfied: seaborn>=0.11.0 in /usr/local/lib/python3.10/dist-packages (from ultralytics) (0.12.2)\n",
            "Requirement already satisfied: psutil in /usr/local/lib/python3.10/dist-packages (from ultralytics) (5.9.5)\n",
            "Collecting sentry-sdk (from ultralytics)\n",
            "  Downloading sentry_sdk-1.23.1-py2.py3-none-any.whl (205 kB)\n",
            "\u001b[2K     \u001b[90m━━━━━━━━━━━━━━━━━━━━━━━━━━━━━━━━━━━━━━\u001b[0m \u001b[32m205.1/205.1 kB\u001b[0m \u001b[31m24.5 MB/s\u001b[0m eta \u001b[36m0:00:00\u001b[0m\n",
            "\u001b[?25hRequirement already satisfied: contourpy>=1.0.1 in /usr/local/lib/python3.10/dist-packages (from matplotlib>=3.2.2->ultralytics) (1.0.7)\n",
            "Requirement already satisfied: cycler>=0.10 in /usr/local/lib/python3.10/dist-packages (from matplotlib>=3.2.2->ultralytics) (0.11.0)\n",
            "Requirement already satisfied: fonttools>=4.22.0 in /usr/local/lib/python3.10/dist-packages (from matplotlib>=3.2.2->ultralytics) (4.39.3)\n",
            "Requirement already satisfied: kiwisolver>=1.0.1 in /usr/local/lib/python3.10/dist-packages (from matplotlib>=3.2.2->ultralytics) (1.4.4)\n",
            "Requirement already satisfied: numpy>=1.20 in /usr/local/lib/python3.10/dist-packages (from matplotlib>=3.2.2->ultralytics) (1.22.4)\n",
            "Requirement already satisfied: packaging>=20.0 in /usr/local/lib/python3.10/dist-packages (from matplotlib>=3.2.2->ultralytics) (23.1)\n",
            "Requirement already satisfied: pyparsing>=2.3.1 in /usr/local/lib/python3.10/dist-packages (from matplotlib>=3.2.2->ultralytics) (3.0.9)\n",
            "Requirement already satisfied: python-dateutil>=2.7 in /usr/local/lib/python3.10/dist-packages (from matplotlib>=3.2.2->ultralytics) (2.8.2)\n",
            "Requirement already satisfied: pytz>=2020.1 in /usr/local/lib/python3.10/dist-packages (from pandas>=1.1.4->ultralytics) (2022.7.1)\n",
            "Requirement already satisfied: urllib3<1.27,>=1.21.1 in /usr/local/lib/python3.10/dist-packages (from requests>=2.23.0->ultralytics) (1.26.15)\n",
            "Requirement already satisfied: certifi>=2017.4.17 in /usr/local/lib/python3.10/dist-packages (from requests>=2.23.0->ultralytics) (2022.12.7)\n",
            "Requirement already satisfied: charset-normalizer~=2.0.0 in /usr/local/lib/python3.10/dist-packages (from requests>=2.23.0->ultralytics) (2.0.12)\n",
            "Requirement already satisfied: idna<4,>=2.5 in /usr/local/lib/python3.10/dist-packages (from requests>=2.23.0->ultralytics) (3.4)\n",
            "Requirement already satisfied: filelock in /usr/local/lib/python3.10/dist-packages (from torch>=1.7.0->ultralytics) (3.12.0)\n",
            "Requirement already satisfied: typing-extensions in /usr/local/lib/python3.10/dist-packages (from torch>=1.7.0->ultralytics) (4.5.0)\n",
            "Requirement already satisfied: sympy in /usr/local/lib/python3.10/dist-packages (from torch>=1.7.0->ultralytics) (1.11.1)\n",
            "Requirement already satisfied: networkx in /usr/local/lib/python3.10/dist-packages (from torch>=1.7.0->ultralytics) (3.1)\n",
            "Requirement already satisfied: jinja2 in /usr/local/lib/python3.10/dist-packages (from torch>=1.7.0->ultralytics) (3.1.2)\n",
            "Requirement already satisfied: triton==2.0.0 in /usr/local/lib/python3.10/dist-packages (from torch>=1.7.0->ultralytics) (2.0.0)\n",
            "Requirement already satisfied: cmake in /usr/local/lib/python3.10/dist-packages (from triton==2.0.0->torch>=1.7.0->ultralytics) (3.25.2)\n",
            "Requirement already satisfied: lit in /usr/local/lib/python3.10/dist-packages (from triton==2.0.0->torch>=1.7.0->ultralytics) (16.0.5)\n",
            "Requirement already satisfied: six>=1.5 in /usr/local/lib/python3.10/dist-packages (from python-dateutil>=2.7->matplotlib>=3.2.2->ultralytics) (1.16.0)\n",
            "Requirement already satisfied: MarkupSafe>=2.0 in /usr/local/lib/python3.10/dist-packages (from jinja2->torch>=1.7.0->ultralytics) (2.1.2)\n",
            "Requirement already satisfied: mpmath>=0.19 in /usr/local/lib/python3.10/dist-packages (from sympy->torch>=1.7.0->ultralytics) (1.3.0)\n",
            "Installing collected packages: sentry-sdk, ultralytics\n",
            "Successfully installed sentry-sdk-1.23.1 ultralytics-8.0.105\n"
          ]
        }
      ]
    },
    {
      "cell_type": "code",
      "execution_count": null,
      "metadata": {
        "id": "csXK-q0Wsvj9"
      },
      "outputs": [],
      "source": [
        "!unzip /content/train_dataset_Минприроды.zip"
      ]
    },
    {
      "cell_type": "code",
      "execution_count": null,
      "metadata": {
        "id": "Ikm99tenGp4M"
      },
      "outputs": [],
      "source": [
        "!unzip /content/train_dataset_Минприроды/разметка_кликун.zip\n",
        "!unzip /content/train_dataset_Минприроды/разметка_малый.zip\n",
        "!unzip /content/train_dataset_Минприроды/разметка_шипун.zip"
      ]
    },
    {
      "cell_type": "code",
      "execution_count": null,
      "metadata": {
        "id": "c37MN-8tG2Fo"
      },
      "outputs": [],
      "source": [
        "!rm -rf /content/разметка_шипун/images/masks"
      ]
    },
    {
      "cell_type": "code",
      "execution_count": null,
      "metadata": {
        "id": "BHQZWkO8sQbx"
      },
      "outputs": [],
      "source": [
        "import numpy as np\n",
        "import pybboxes as pbx\n",
        "from PIL import Image\n",
        "from skimage import draw\n",
        "import random\n",
        "from pathlib import Path\n",
        "import os\n",
        "import shutil\n",
        "\n",
        "from rasterio import features\n",
        "from google.colab.patches import cv2_imshow\n",
        "import cv2\n",
        "import numpy as np"
      ]
    },
    {
      "cell_type": "code",
      "execution_count": null,
      "metadata": {
        "id": "j5A-6fPWv6H-"
      },
      "outputs": [],
      "source": [
        "#!rm -rf /content/FORMODEL"
      ]
    },
    {
      "cell_type": "code",
      "execution_count": null,
      "metadata": {
        "id": "0N6pS3NNFdtQ"
      },
      "outputs": [],
      "source": [
        "os.makedirs('/content/FORMODEL/')\n",
        "os.makedirs('/content/FORMODEL/train/')\n",
        "os.makedirs('/content/FORMODEL/val/')\n",
        "os.makedirs('/content/FORMODEL/train/images')\n",
        "os.makedirs('/content/FORMODEL/train/labels')\n",
        "os.makedirs('/content/FORMODEL/val/images')\n",
        "os.makedirs('/content/FORMODEL/val/labels')"
      ]
    },
    {
      "cell_type": "code",
      "execution_count": null,
      "metadata": {
        "id": "09d7XAc0zKWq"
      },
      "outputs": [],
      "source": [
        "def resize_image_and_label(image, label):\n",
        "    height, width, channels = image.shape\n",
        "    label_height, label_width = label.shape\n",
        "    \n",
        "    square_size = max(height, width)\n",
        "    \n",
        "    square_image = np.zeros((square_size, square_size, channels), dtype=np.uint8)\n",
        "    x_offset = (square_size - width) // 2\n",
        "    y_offset = (square_size - height) // 2\n",
        "    square_image[y_offset:y_offset+height, x_offset:x_offset+width] = image\n",
        "\n",
        "    square_label = np.zeros((square_size, square_size), dtype=np.uint8)\n",
        "    square_label[y_offset:y_offset+height, x_offset:x_offset+width] = label\n",
        "    \n",
        "    line_pixels = (square_image.sum(axis=2) == 0)  # Pixels where all channels are 0 (black lines)\n",
        "    noise = np.random.randint(200, 256, (square_size, square_size, channels), dtype=np.uint8)\n",
        "    sky_image = np.where(line_pixels[..., np.newaxis], noise, square_image)\n",
        "\n",
        "    resized_image = cv2.resize(sky_image, (640, 640))\n",
        "    resized_image = cv2.normalize(resized_image, resized_image, 0, 255, cv2.NORM_MINMAX)\n",
        "\n",
        "    resized_label = cv2.resize(square_label, (640, 640), interpolation=cv2.INTER_NEAREST)\n",
        "    \n",
        "    return resized_image, resized_label"
      ]
    },
    {
      "cell_type": "code",
      "execution_count": null,
      "metadata": {
        "id": "acNLM-7T6PuT"
      },
      "outputs": [],
      "source": [
        "def seg_to_bbox(label, label_class):\n",
        "    #image = cv2.imread(name, cv2.IMREAD_GRAYSCALE)\n",
        "\n",
        "    unique_gray_values = np.unique(label)\n",
        "    unique_gray_values = unique_gray_values[unique_gray_values != 0]\n",
        "\n",
        "    coordinates = []\n",
        "\n",
        "    for gray_value in unique_gray_values:\n",
        "        indices = np.where(label == gray_value)\n",
        "        \n",
        "        min_x = np.min(indices[1])\n",
        "        max_x = np.max(indices[1])\n",
        "        min_y = np.min(indices[0])\n",
        "        max_y = np.max(indices[0])\n",
        "        \n",
        "        coordinates.append((min_x, min_y, max_x, max_y))\n",
        "\n",
        "    return coordinates"
      ]
    },
    {
      "cell_type": "code",
      "execution_count": null,
      "metadata": {
        "id": "dwAelP73LoX7"
      },
      "outputs": [],
      "source": [
        "def visualize_yolo_bounding_boxes(image, bounding_boxes):\n",
        "    for bbox in bounding_boxes:\n",
        "        class_id, x_center, y_center, width, height = bbox.split()\n",
        "        \n",
        "        class_id = int(class_id)\n",
        "        x_center = float(x_center)\n",
        "        y_center = float(y_center)\n",
        "        width = float(width)\n",
        "        height = float(height)\n",
        "        \n",
        "        x_min = int((x_center - width / 2) * image.shape[1])\n",
        "        y_min = int((y_center - height / 2) * image.shape[0])\n",
        "        x_max = int((x_center + width / 2) * image.shape[1])\n",
        "        y_max = int((y_center + height / 2) * image.shape[0])\n",
        "        \n",
        "        cv2.rectangle(image, (x_min, y_min), (x_max, y_max), (0, 255, 0), 2)\n",
        "        \n",
        "        label = f\"Class {class_id}\"\n",
        "        cv2.putText(image, label, (x_min, y_min - 10), cv2.FONT_HERSHEY_SIMPLEX, 0.9, (0, 255, 0), 2)\n",
        "\n",
        "    cv2_imshow(image)"
      ]
    },
    {
      "cell_type": "code",
      "execution_count": null,
      "metadata": {
        "id": "u6SS8tda6b6w"
      },
      "outputs": [],
      "source": [
        "def prepare_images(class_label, image_name, image_path, label_path, load_path):\n",
        "    image = cv2.imread(image_path+image_name+'.jpg')\n",
        "    label = cv2.imread(label_path+image_name+'.png', 0)\n",
        "\n",
        "    try:\n",
        "        resized_image, resized_label = resize_image_and_label(image, label)\n",
        "    except Exception as e:\n",
        "        print(e)\n",
        "        return\n",
        "    \n",
        "    #cv2_imshow(resized_image)\n",
        "\n",
        "    cv2.imwrite(os.path.join(load_path + '/images/', image_name+'.jpg'), resized_image)\n",
        "\n",
        "    boxes = seg_to_bbox(resized_label, 0)\n",
        "    image_height, image_width = resized_label.shape\n",
        "\n",
        "    W, H = image_width, image_height\n",
        "\n",
        "    ans = []\n",
        "    for box in boxes:\n",
        "        a1,a2,a3,a4 = pbx.convert_bbox(box, from_type=\"voc\", to_type=\"yolo\", image_size=(W,H))\n",
        "        ans.append(f\"{class_label} {a1} {a2} {a3} {a4}\\n\")\n",
        "    \n",
        "    #cv2_imshow(visualize_yolo_bounding_boxes(resized_image, ans))\n",
        "\n",
        "    with open(load_path+'labels/'+image_name+'.txt', \"w\") as file:\n",
        "        file.write(\"\\n\".join(ans))"
      ]
    },
    {
      "cell_type": "code",
      "execution_count": null,
      "metadata": {
        "id": "WfWAFjBh_s64"
      },
      "outputs": [],
      "source": [
        "#prepare_images(0, '1211999571', '/content/klikun/images/', '/content/klikun/masks/', '/content/FORMODEL/train/')"
      ]
    },
    {
      "cell_type": "code",
      "execution_count": null,
      "metadata": {
        "id": "oAjevmVpsg8T"
      },
      "outputs": [],
      "source": [
        "#len(os.listdir('/content/ship/images'))"
      ]
    },
    {
      "cell_type": "code",
      "execution_count": null,
      "metadata": {
        "id": "T2TGDiCrPxiM"
      },
      "outputs": [],
      "source": [
        "from tqdm.notebook import tqdm_notebook as tqdm"
      ]
    },
    {
      "cell_type": "code",
      "execution_count": null,
      "metadata": {
        "colab": {
          "base_uri": "https://localhost:8080/",
          "height": 66,
          "referenced_widgets": [
            "c40a4bea24d147028147df0c7db3c370",
            "33fcbff2bca747f6986de029e8036d6d",
            "3f117350490a492f90680902808782d2",
            "60e68a4215a7487ea108acecfc79cf13",
            "6ced2ccbeb1d44e3a700f09c24d65b69",
            "0449fd9bfa664dd0ba41258236e1e331",
            "3e66d126ecff4685975355fde8a8bb91",
            "e0061d413b5a419eb835e8d62a793337",
            "4e240e4b950a49e4b0b78131152a0ad9",
            "93fc3dfe1db04b1b800c9d316d442c75",
            "b097eac6c06942529ac762a7f737d986"
          ]
        },
        "id": "K8UaGxvlvSeh",
        "outputId": "2ab5c07f-6491-41f5-9f4b-c3a7bd7d286e"
      },
      "outputs": [
        {
          "data": {
            "application/vnd.jupyter.widget-view+json": {
              "model_id": "c40a4bea24d147028147df0c7db3c370",
              "version_major": 2,
              "version_minor": 0
            },
            "text/plain": [
              "0it [00:00, ?it/s]"
            ]
          },
          "metadata": {},
          "output_type": "display_data"
        },
        {
          "name": "stdout",
          "output_type": "stream",
          "text": [
            "could not broadcast input array from shape (2048,1152) into shape (1009,2048)\n"
          ]
        }
      ],
      "source": [
        "for k, filepath in tqdm(enumerate(os.listdir('/content/klikun/images')[:])):\n",
        "    if k>1100:break\n",
        "\n",
        "    if k<1000:\n",
        "        load_path = '/content/FORMODEL/train/'\n",
        "    else:\n",
        "        load_path = '/content/FORMODEL/val/'\n",
        "    \n",
        "    prepare_images(0, filepath.replace('.jpg', ''), '/content/klikun/images/', '/content/klikun/masks/', load_path)"
      ]
    },
    {
      "cell_type": "code",
      "execution_count": null,
      "metadata": {
        "colab": {
          "base_uri": "https://localhost:8080/",
          "height": 49,
          "referenced_widgets": [
            "db77c008d9f04098b9a33f6baceb5ef4",
            "a364db9a3fbe4477bac128477615ede0",
            "a2f94a21ecbb4c9b853dbd6bcc87f66c",
            "2805fbea6f4f466696fe5e308659801e",
            "af22b68356504d9b94c2eb9094cd1e6c",
            "7b521d907eb5458eb07262ab3fb6b9a3",
            "c7865182cafe419e880bf55dd86e509b",
            "2fb50a7b0e344cfdb4e75dd362adb793",
            "992606fb78a54f208c468c5af0777724",
            "bf89d53cca8340e786f78e7aff572077",
            "bd62901b8f7b4faba1e81a53f34d4cb7"
          ]
        },
        "id": "ilAseHprYJb9",
        "outputId": "1cbfab73-f195-4265-c9bf-585b7971c8a3"
      },
      "outputs": [
        {
          "data": {
            "application/vnd.jupyter.widget-view+json": {
              "model_id": "db77c008d9f04098b9a33f6baceb5ef4",
              "version_major": 2,
              "version_minor": 0
            },
            "text/plain": [
              "0it [00:00, ?it/s]"
            ]
          },
          "metadata": {},
          "output_type": "display_data"
        }
      ],
      "source": [
        "for k, filepath in tqdm(enumerate(os.listdir('/content/mal/images')[:])):\n",
        "    if k>1100:break\n",
        "\n",
        "    if k<1000:\n",
        "        load_path = '/content/FORMODEL/train/'\n",
        "    else:\n",
        "        load_path = '/content/FORMODEL/val/'\n",
        "    \n",
        "    prepare_images(1, filepath.replace('.jpg', ''), '/content/mal/images/', '/content/mal/masks/', load_path)"
      ]
    },
    {
      "cell_type": "code",
      "execution_count": null,
      "metadata": {
        "colab": {
          "base_uri": "https://localhost:8080/",
          "height": 49,
          "referenced_widgets": [
            "06a35c3e87ea4d2b8936318183edc5b1",
            "ddecf2bcb05744b09ecb269b5a5efd9e",
            "8fbb584bbef146fdaa4329a2cad25999",
            "9095a1e767814115bd8a739e2b1ca3eb",
            "07cde40eb40c43e7820854909c9acf1f",
            "ca72cc2738ff46fd8be024391e19aa4b",
            "a4caa3950eac44d3b49fcbc1850634e7",
            "8916d4edb02f4670b2220bbf896e2ca8",
            "f8cd160c9a6b4d1c835bcaf54dbdd18d",
            "a1a99e1a9fb441d88283d091ab067dee",
            "9f1befc969774694afd19ad62f6cdd90"
          ]
        },
        "id": "HwNuzsbwYJ3-",
        "outputId": "b5cbe168-11aa-42b6-e4e8-e6b13258fab8"
      },
      "outputs": [
        {
          "data": {
            "application/vnd.jupyter.widget-view+json": {
              "model_id": "06a35c3e87ea4d2b8936318183edc5b1",
              "version_major": 2,
              "version_minor": 0
            },
            "text/plain": [
              "0it [00:00, ?it/s]"
            ]
          },
          "metadata": {},
          "output_type": "display_data"
        }
      ],
      "source": [
        "for k, filepath in tqdm(enumerate(os.listdir('/content/ship/images')[:])):\n",
        "    if k>1100:break\n",
        "\n",
        "    if k<1000:\n",
        "        load_path = '/content/FORMODEL/train/'\n",
        "    else:\n",
        "        load_path = '/content/FORMODEL/val/'\n",
        "    \n",
        "    prepare_images(2, filepath.replace('.jpg', ''), '/content/ship/images/', '/content/ship/masks/', load_path)"
      ]
    },
    {
      "cell_type": "code",
      "execution_count": null,
      "metadata": {
        "id": "j7i_8jQZt8hY"
      },
      "outputs": [],
      "source": [
        "yaml_content = f'''\n",
        "path: /content/FORMODEL/\n",
        "train: /content/FORMODEL/train\n",
        "val: /content/FORMODEL/val\n",
        "test: /content/FORMODEL/val\n",
        "\n",
        "names:\n",
        "  0: 'mal'\n",
        "  1: 'klikun'\n",
        "  2: 'ship'\n",
        "'''\n",
        "#['klikun', 'mal', 'ship']\n",
        "with Path('data.yaml').open('w') as f:\n",
        "    f.write(yaml_content)"
      ]
    },
    {
      "cell_type": "code",
      "execution_count": null,
      "metadata": {
        "id": "yV-KOo1JrP44"
      },
      "outputs": [],
      "source": [
        "#from google.colab import files\n",
        "#files.download('/content/runs/detect/train2/weights/best.pt')"
      ]
    },
    {
      "cell_type": "code",
      "execution_count": null,
      "metadata": {
        "id": "9DELdoDIPsQN"
      },
      "outputs": [],
      "source": [
        "import torch\n",
        "torch.cuda.is_available()"
      ]
    },
    {
      "cell_type": "code",
      "execution_count": null,
      "metadata": {
        "id": "0Pm671z2GL40"
      },
      "outputs": [],
      "source": [
        "from ultralytics import YOLO\n",
        "\n",
        "model = YOLO(\"yolov8s.pt\")\n",
        "model.to('cuda:0')"
      ]
    },
    {
      "cell_type": "code",
      "execution_count": null,
      "metadata": {
        "colab": {
          "background_save": true
        },
        "id": "FftOMbB1uHvy"
      },
      "outputs": [],
      "source": [
        "results = model.train(\n",
        "        batch=32,\n",
        "        device=\"cuda:0\",\n",
        "        data=\"data.yaml\",\n",
        "        epochs=10,\n",
        "        imgsz=640,\n",
        "    )"
      ]
    },
    {
      "cell_type": "code",
      "execution_count": null,
      "metadata": {
        "id": "rIwyk2KaISBY"
      },
      "outputs": [],
      "source": [
        "from IPython.display import Image as show_image\n",
        "show_image(filename=\"/content/runs/detect/train2/val_batch0_pred.jpg\")"
      ]
    },
    {
      "cell_type": "code",
      "execution_count": null,
      "metadata": {
        "id": "AS_p-h2Rkbc3"
      },
      "outputs": [],
      "source": [
        "import locale\n",
        "def getpreferredencoding(do_setlocale = True):\n",
        "    return \"UTF-8\"\n",
        "locale.getpreferredencoding = getpreferredencoding"
      ]
    },
    {
      "cell_type": "code",
      "execution_count": null,
      "metadata": {
        "id": "7DjJFwE4kG87"
      },
      "outputs": [],
      "source": [
        "!zip -r /content/FORMODEL.zip /content/FORMODEL "
      ]
    },
    {
      "cell_type": "code",
      "execution_count": null,
      "metadata": {
        "id": "fiVimP2JiXWG"
      },
      "outputs": [],
      "source": [
        "from google.colab import drive\n",
        "drive.mount('/content/drive')"
      ]
    },
    {
      "cell_type": "code",
      "execution_count": null,
      "metadata": {
        "id": "hidxME_WljYA"
      },
      "outputs": [],
      "source": [
        "!cp '/content/FORMODEL.zip' '/content/drive/MyDrive/FORMODEL.zip'"
      ]
    },
    {
      "cell_type": "code",
      "execution_count": null,
      "metadata": {
        "id": "GX0JvuK4leDF"
      },
      "outputs": [],
      "source": [
        "def visualize_yolo_res(image, bounding_boxes):\n",
        "    for bbox in bounding_boxes:\n",
        "        print(bbox)\n",
        "        x_center, y_center, width, height, clas = bbox.split()\n",
        "        \n",
        "        # Convert string values to float\n",
        "        class_id = int(class_id)\n",
        "        x_center = float(x_center)\n",
        "        y_center = float(y_center)\n",
        "        width = float(width)\n",
        "        height = float(height)\n",
        "        \n",
        "        # Calculate the coordinates of the bounding box\n",
        "        x_min = int((x_center - width / 2) * image.shape[1])\n",
        "        y_min = int((y_center - height / 2) * image.shape[0])\n",
        "        x_max = int((x_center + width / 2) * image.shape[1])\n",
        "        y_max = int((y_center + height / 2) * image.shape[0])\n",
        "        \n",
        "        # Draw the bounding box rectangle on the image\n",
        "        cv2.rectangle(image, (x_min, y_min), (x_max, y_max), (0, 255, 0), 2)\n",
        "        \n",
        "        # Display the class label on the bounding box\n",
        "        label = f\"Class {class_id}\"\n",
        "        cv2.putText(image, label, (x_min, y_min - 10), cv2.FONT_HERSHEY_SIMPLEX, 0.9, (0, 255, 0), 2)\n",
        "    \n",
        "    # Show the image with bounding boxes\n",
        "    return image"
      ]
    },
    {
      "cell_type": "markdown",
      "source": [
        "# **PREDICTIONS**"
      ],
      "metadata": {
        "id": "5KPmrov-54pN"
      }
    },
    {
      "cell_type": "code",
      "source": [
        "!gdown 1OeyFFgmLHSkZ2uWRZIdqad0_IAtdI14c"
      ],
      "metadata": {
        "id": "pmZaM9IB3oPJ"
      },
      "execution_count": null,
      "outputs": []
    },
    {
      "cell_type": "code",
      "source": [
        "!unzip /content/HUGSMODEL.zip"
      ],
      "metadata": {
        "id": "NEEHRMtt3xXO"
      },
      "execution_count": null,
      "outputs": []
    },
    {
      "cell_type": "code",
      "source": [
        "#model bin\n",
        "#!gdown 1kr9EkvRYRqA7B2C_UzO-jdC99FhgwZcl"
      ],
      "metadata": {
        "id": "HetwXeGY64wC"
      },
      "execution_count": null,
      "outputs": []
    },
    {
      "cell_type": "code",
      "source": [
        "!gdown 1WZxaj3GBd8xkZJ_FLV_7Mv3dQaISE3p5"
      ],
      "metadata": {
        "id": "cjkQgUbb7K_E"
      },
      "execution_count": null,
      "outputs": []
    },
    {
      "cell_type": "code",
      "source": [
        "#import torch\n",
        "#state_dict = torch.load('/content/hugs/pytorch_model.bin', map_location=\"cpu\")"
      ],
      "metadata": {
        "id": "1mMCmDws81xc"
      },
      "execution_count": null,
      "outputs": []
    },
    {
      "cell_type": "code",
      "source": [
        "from ultralytics import YOLO\n",
        "from PIL import Image\n",
        "from numpy import asarray\n",
        "\n",
        "import os.path\n",
        "from transformers import ViTFeatureExtractor, ViTForImageClassification\n",
        "from hugsvision.inference.VisionClassifierInference import VisionClassifierInference\n",
        "\n",
        "yolo_model = YOLO('/content/best.pt')\n",
        "\n",
        "hugs_path = \"/content/content/out/MYKVASIRV2MODEL/10_2023-05-21-04-36-48/trainer\"\n",
        "hugs_model = VisionClassifierInference(\n",
        "    feature_extractor = ViTFeatureExtractor.from_pretrained(hugs_path),\n",
        "    model = ViTForImageClassification.from_pretrained(hugs_path),\n",
        ")\n",
        "\n",
        "classes = {\n",
        "    'mal': 0,\n",
        "    'skikun': 1,\n",
        "    'ship': 2\n",
        "}"
      ],
      "metadata": {
        "id": "jitl70Wg5-kZ"
      },
      "execution_count": null,
      "outputs": []
    },
    {
      "cell_type": "code",
      "execution_count": 57,
      "metadata": {
        "id": "17pSt5mps8Kg"
      },
      "outputs": [],
      "source": [
        "def gen_ansambel(path):\n",
        "    ####################\n",
        "    # YOLO PREDICTION DOWN\n",
        "    ###################\n",
        "    image = Image.open(path)\n",
        "    image = image.convert('RGB')\n",
        "    image = asarray(image)\n",
        "\n",
        "    res = yolo_model.predict(image)\n",
        "\n",
        "    class_c = {\n",
        "        0: 0.,\n",
        "        1: 0.,\n",
        "        2: 0.\n",
        "    }\n",
        "\n",
        "    for i, clas in enumerate(res[0].boxes.cls):\n",
        "        clas = int(clas)\n",
        "\n",
        "        class_c[clas] += float(res[0].boxes.conf[i].item())\n",
        "    \n",
        "    yolo_class = max(class_c, key=class_c.get)\n",
        "    # average conf\n",
        "    yolo_conf = class_c[yolo_class] / len(res[0].boxes.cls)\n",
        "    ###################\n",
        "    # YOLO PRED UP\n",
        "    ###################\n",
        "\n",
        "    ###################\n",
        "    # HUGS PRED DOWN\n",
        "    ###################\n",
        "    try:\n",
        "        hugs_class = hugs_model.predict(img_path=path)\n",
        "        hugs_class = classes[hugs_class]\n",
        "    except Exception as e:\n",
        "        hugs_class = -1\n",
        "        print('HUGS FAILED ON ' + path)\n",
        "    ################### + path\n",
        "    # HUGS PRED UP\n",
        "    ###################\n",
        "    \n",
        "    final_pred = 0\n",
        "    if hugs_class == -1:\n",
        "        final_pred = yolo_class\n",
        "    else:\n",
        "        if yolo_class != hugs_class:\n",
        "            if yolo_conf >= 0.5:\n",
        "                final_pred = yolo_class\n",
        "            else:\n",
        "                final_pred = hugs_class\n",
        "        else:\n",
        "            final_pred = yolo_class\n",
        "    \n",
        "    print(f'Yolo class {yolo_class}, yolo conf {yolo_conf}, Hugs class {hugs_class}')\n",
        "\n",
        "    image = cv2.imread(path)\n",
        "\n",
        "    boxes_list = np.array(res[0].boxes.boxes.cpu()).tolist()\n",
        "\n",
        "    for _ in boxes_list:\n",
        "        xmin, ymin, xmax, ymax, pro, cl = _[0], _[1], _[2], _[3], _[4], _[5]\n",
        "        cv2.rectangle(image, (int(xmin), int(ymin)), (int(xmax), int(ymax)), (255, 0, 0), 2)\n",
        "    \n",
        "    return final_pred+1, image"
      ]
    },
    {
      "cell_type": "code",
      "source": [
        "def gen_yolo(path):\n",
        "    ####################\n",
        "    # YOLO PREDICTION DOWN\n",
        "    ###################\n",
        "    image = Image.open(path)\n",
        "    image = image.convert('RGB')\n",
        "    image = asarray(image)\n",
        "\n",
        "    res = yolo_model.predict(image)\n",
        "\n",
        "    class_c = {\n",
        "        0: 0.,\n",
        "        1: 0.,\n",
        "        2: 0.\n",
        "    }\n",
        "\n",
        "    for i, clas in enumerate(res[0].boxes.cls):\n",
        "        clas = int(clas)\n",
        "\n",
        "        class_c[clas] += float(res[0].boxes.conf[i].item())\n",
        "    \n",
        "    yolo_class = max(class_c, key=class_c.get)\n",
        "    # average conf\n",
        "    yolo_conf = class_c[yolo_class] / len(res[0].boxes.cls)\n",
        "    ###################\n",
        "    # YOLO PRED UP\n",
        "    ###################\n",
        "\n",
        "    ###################\n",
        "    # HUGS PRED DOWN\n",
        "    ###################\n",
        "    #hugs_class = hugs_model.predict(img_path=path)\n",
        "    #hugs_class = classes[hugs_class]\n",
        "    ###################\n",
        "    # HUGS PRED UP\n",
        "    ###################\n",
        "    \n",
        "    final_pred = yolo_class\n",
        "    #if yolo_class != hugs_class:\n",
        "    #    if yolo_conf >= 0.5:\n",
        "    #        final_pred = yolo_class\n",
        "    #    else:\n",
        "    #        final_pred = hugs_class\n",
        "    #else:\n",
        "    #    final_pred = yolo_class\n",
        "    \n",
        "    #print(f'Yolo class {yolo_class}, yolo conf {yolo_conf}, Hugs class {hugs_class}')\n",
        "\n",
        "    image = cv2.imread(path)\n",
        "\n",
        "    boxes_list = np.array(res[0].boxes.boxes.cpu()).tolist()\n",
        "\n",
        "    for _ in boxes_list:\n",
        "        xmin, ymin, xmax, ymax, pro, cl = _[0], _[1], _[2], _[3], _[4], _[5]\n",
        "        cv2.rectangle(image, (int(xmin), int(ymin)), (int(xmax), int(ymax)), (255, 0, 0), 2)\n",
        "    \n",
        "    return final_pred+1, image"
      ],
      "metadata": {
        "id": "rdlMSdFV-SyY"
      },
      "execution_count": 58,
      "outputs": []
    },
    {
      "cell_type": "code",
      "execution_count": 38,
      "metadata": {
        "id": "ag7PkbcjgeSp",
        "colab": {
          "base_uri": "https://localhost:8080/"
        },
        "outputId": "fdac8c2c-3104-4080-a130-cec9c636aad3"
      },
      "outputs": [
        {
          "output_type": "stream",
          "name": "stderr",
          "text": [
            "\n",
            "0: 448x640 8 ships, 27.9ms\n",
            "Speed: 2.8ms preprocess, 27.9ms inference, 1.9ms postprocess per image at shape (1, 3, 640, 640)\n"
          ]
        },
        {
          "output_type": "stream",
          "name": "stdout",
          "text": [
            "Yolo class 2, yolo conf 0.531843576580286, Hugs class 2\n"
          ]
        },
        {
          "output_type": "execute_result",
          "data": {
            "text/plain": [
              "3"
            ]
          },
          "metadata": {},
          "execution_count": 38
        }
      ],
      "source": [
        "gen('/content/1680723390_animals-pibig-info-p-staya-lebedei-zhivotnie-krasivo-1.jpg')"
      ]
    },
    {
      "cell_type": "code",
      "source": [
        "'''image = cv2.imread(path)\n",
        "\n",
        "    boxes_list = np.array(res[0].boxes.boxes.cpu()).tolist()\n",
        "\n",
        "    for _ in boxes_list:\n",
        "        xmin, ymin, xmax, ymax, pro, cl = _[0], _[1], _[2], _[3], _[4], _[5]\n",
        "        cv2.rectangle(image, (int(xmin), int(ymin)), (int(xmax), int(ymax)), (255, 0, 0), 2)\n",
        "    \n",
        "    #boxed_img = visualize_yolo_res(image, np.array(res[0].boxes.boxes.cpu()).tolist())\n",
        "\n",
        "    #cv2_imshow(image)\n",
        "\n",
        "    #print( \"Количество особей: \"+str((res[0].boxes.cls)) )\n",
        "    #print(res[0].boxes.boxes)'''"
      ],
      "metadata": {
        "id": "rv9cgxDf5uIs"
      },
      "execution_count": null,
      "outputs": []
    },
    {
      "cell_type": "code",
      "source": [
        "!gdown 1_SWQjEWBJOBQzupfI_2NY9Lib-0hZk5U"
      ],
      "metadata": {
        "colab": {
          "base_uri": "https://localhost:8080/"
        },
        "id": "VlqyrxNMCCAw",
        "outputId": "f13655e5-0b3c-4f52-d98b-a4854ee847e8"
      },
      "execution_count": 43,
      "outputs": [
        {
          "output_type": "stream",
          "name": "stdout",
          "text": [
            "Downloading...\n",
            "From: https://drive.google.com/uc?id=1_SWQjEWBJOBQzupfI_2NY9Lib-0hZk5U\n",
            "To: /content/Тестовый датасет.zip\n",
            "100% 104M/104M [00:03<00:00, 26.6MB/s] \n"
          ]
        }
      ]
    },
    {
      "cell_type": "code",
      "source": [
        "!unzip /content/testdadatset.zip"
      ],
      "metadata": {
        "id": "py0_jDnLCxoD"
      },
      "execution_count": null,
      "outputs": []
    },
    {
      "cell_type": "code",
      "source": [
        "import pandas as pd\n",
        "#testd = pd.read_csv('')\n",
        "\n",
        "SUBM = pd.DataFrame(columns=['name', 'class'])"
      ],
      "metadata": {
        "id": "nYoYkQV5OYZC"
      },
      "execution_count": 59,
      "outputs": []
    },
    {
      "cell_type": "code",
      "source": [
        "from tqdm.notebook import tqdm_notebook as tqdm\n",
        "import cv2\n",
        "import numpy as np"
      ],
      "metadata": {
        "id": "vo6nip4pDhHW"
      },
      "execution_count": 55,
      "outputs": []
    },
    {
      "cell_type": "code",
      "source": [
        "testfolder = '/content/TESTdataset/'\n",
        "\n",
        "for filepath in tqdm(os.listdir(testfolder)):\n",
        "    print(testfolder + filepath)\n",
        "    #filepath = row['name']\n",
        "\n",
        "    clas, img = gen_ansambel(testfolder + filepath)\n",
        "    SUBM.append({'name': filepath, 'class': clas}, ignore_index=True)"
      ],
      "metadata": {
        "id": "7w0gVeOeOA5J",
        "colab": {
          "base_uri": "https://localhost:8080/",
          "height": 1000,
          "referenced_widgets": [
            "9e3a9a4b10a84808940e5b5f9d86a97a",
            "13a31d69de9d4218a644bc1739630074",
            "52278d9d0dfc4b668c238ede2d4d7cf5",
            "65256ce8056e4d86a5cacca92f245ec5",
            "693bf3382b64495591e13e1b0b223c38",
            "4a3e35eebd794fbd9eaae61edf1821de",
            "3f4b703902484644bceb01c7bbc20ef6",
            "6abe61976ba54619a646cfa6f32cbe48",
            "8b0aa1f99c6c466f9e78309ebcc979a7",
            "81eca56fbf90483b9d0c0c860e616041",
            "1b67b9aaab65409c88a770ed57e11a89"
          ]
        },
        "outputId": "1c09cdaf-0372-42dc-ad82-1aa68a9fb916"
      },
      "execution_count": 60,
      "outputs": [
        {
          "output_type": "display_data",
          "data": {
            "text/plain": [
              "  0%|          | 0/595 [00:00<?, ?it/s]"
            ],
            "application/vnd.jupyter.widget-view+json": {
              "version_major": 2,
              "version_minor": 0,
              "model_id": "9e3a9a4b10a84808940e5b5f9d86a97a"
            }
          },
          "metadata": {}
        },
        {
          "output_type": "stream",
          "name": "stderr",
          "text": [
            "\n",
            "0: 640x640 1 ship, 38.1ms\n",
            "Speed: 4.8ms preprocess, 38.1ms inference, 10.0ms postprocess per image at shape (1, 3, 640, 640)\n"
          ]
        },
        {
          "output_type": "stream",
          "name": "stdout",
          "text": [
            "/content/TESTdataset/133.jpg\n"
          ]
        },
        {
          "output_type": "stream",
          "name": "stderr",
          "text": [
            "WARNING ⚠️ 'Boxes.boxes' is deprecated. Use 'Boxes.data' instead.\n",
            "<ipython-input-60-051a0d118cd5>:8: FutureWarning: The frame.append method is deprecated and will be removed from pandas in a future version. Use pandas.concat instead.\n",
            "  SUBM.append({'name': filepath, 'class': clas}, ignore_index=True)\n",
            "\n",
            "0: 480x640 1 klikun, 2 ships, 29.2ms\n",
            "Speed: 3.3ms preprocess, 29.2ms inference, 1.8ms postprocess per image at shape (1, 3, 640, 640)\n"
          ]
        },
        {
          "output_type": "stream",
          "name": "stdout",
          "text": [
            "Yolo class 2, yolo conf 0.8972364664077759, Hugs class 2\n",
            "/content/TESTdataset/59.jpg\n"
          ]
        },
        {
          "output_type": "stream",
          "name": "stderr",
          "text": [
            "WARNING ⚠️ 'Boxes.boxes' is deprecated. Use 'Boxes.data' instead.\n",
            "<ipython-input-60-051a0d118cd5>:8: FutureWarning: The frame.append method is deprecated and will be removed from pandas in a future version. Use pandas.concat instead.\n",
            "  SUBM.append({'name': filepath, 'class': clas}, ignore_index=True)\n",
            "\n",
            "0: 640x640 2 klikuns, 2 mals, 38.3ms\n",
            "Speed: 4.3ms preprocess, 38.3ms inference, 2.2ms postprocess per image at shape (1, 3, 640, 640)\n"
          ]
        },
        {
          "output_type": "stream",
          "name": "stdout",
          "text": [
            "Yolo class 2, yolo conf 0.22146361072858176, Hugs class 1\n",
            "/content/TESTdataset/531.jpg\n"
          ]
        },
        {
          "output_type": "stream",
          "name": "stderr",
          "text": [
            "WARNING ⚠️ 'Boxes.boxes' is deprecated. Use 'Boxes.data' instead.\n",
            "<ipython-input-60-051a0d118cd5>:8: FutureWarning: The frame.append method is deprecated and will be removed from pandas in a future version. Use pandas.concat instead.\n",
            "  SUBM.append({'name': filepath, 'class': clas}, ignore_index=True)\n",
            "\n",
            "0: 480x640 1 mal, 29.4ms\n",
            "Speed: 2.9ms preprocess, 29.4ms inference, 2.2ms postprocess per image at shape (1, 3, 640, 640)\n"
          ]
        },
        {
          "output_type": "stream",
          "name": "stdout",
          "text": [
            "Yolo class 1, yolo conf 0.35579031705856323, Hugs class 1\n",
            "/content/TESTdataset/9.jpg\n"
          ]
        },
        {
          "output_type": "stream",
          "name": "stderr",
          "text": [
            "WARNING ⚠️ 'Boxes.boxes' is deprecated. Use 'Boxes.data' instead.\n",
            "<ipython-input-60-051a0d118cd5>:8: FutureWarning: The frame.append method is deprecated and will be removed from pandas in a future version. Use pandas.concat instead.\n",
            "  SUBM.append({'name': filepath, 'class': clas}, ignore_index=True)\n",
            "\n",
            "0: 576x640 1 klikun, 36.2ms\n",
            "Speed: 4.1ms preprocess, 36.2ms inference, 1.7ms postprocess per image at shape (1, 3, 640, 640)\n"
          ]
        },
        {
          "output_type": "stream",
          "name": "stdout",
          "text": [
            "Yolo class 1, yolo conf 0.8185388445854187, Hugs class 0\n",
            "/content/TESTdataset/291.jpg\n"
          ]
        },
        {
          "output_type": "stream",
          "name": "stderr",
          "text": [
            "WARNING ⚠️ 'Boxes.boxes' is deprecated. Use 'Boxes.data' instead.\n",
            "<ipython-input-60-051a0d118cd5>:8: FutureWarning: The frame.append method is deprecated and will be removed from pandas in a future version. Use pandas.concat instead.\n",
            "  SUBM.append({'name': filepath, 'class': clas}, ignore_index=True)\n",
            "\n",
            "0: 512x640 1 klikun, 29.3ms\n",
            "Speed: 2.2ms preprocess, 29.3ms inference, 1.4ms postprocess per image at shape (1, 3, 640, 640)\n"
          ]
        },
        {
          "output_type": "stream",
          "name": "stdout",
          "text": [
            "Yolo class 0, yolo conf 0.8942986130714417, Hugs class 1\n",
            "/content/TESTdataset/200.jpg\n"
          ]
        },
        {
          "output_type": "stream",
          "name": "stderr",
          "text": [
            "WARNING ⚠️ 'Boxes.boxes' is deprecated. Use 'Boxes.data' instead.\n",
            "<ipython-input-60-051a0d118cd5>:8: FutureWarning: The frame.append method is deprecated and will be removed from pandas in a future version. Use pandas.concat instead.\n",
            "  SUBM.append({'name': filepath, 'class': clas}, ignore_index=True)\n",
            "\n",
            "0: 288x640 1 klikun, 2 mals, 22.4ms\n",
            "Speed: 2.2ms preprocess, 22.4ms inference, 1.4ms postprocess per image at shape (1, 3, 640, 640)\n"
          ]
        },
        {
          "output_type": "stream",
          "name": "stdout",
          "text": [
            "Yolo class 0, yolo conf 0.9602330327033997, Hugs class 1\n",
            "/content/TESTdataset/543.jpg\n"
          ]
        },
        {
          "output_type": "stream",
          "name": "stderr",
          "text": [
            "WARNING ⚠️ 'Boxes.boxes' is deprecated. Use 'Boxes.data' instead.\n",
            "<ipython-input-60-051a0d118cd5>:8: FutureWarning: The frame.append method is deprecated and will be removed from pandas in a future version. Use pandas.concat instead.\n",
            "  SUBM.append({'name': filepath, 'class': clas}, ignore_index=True)\n",
            "\n",
            "0: 480x640 1 klikun, 1 ship, 29.0ms\n",
            "Speed: 2.5ms preprocess, 29.0ms inference, 1.4ms postprocess per image at shape (1, 3, 640, 640)\n"
          ]
        },
        {
          "output_type": "stream",
          "name": "stdout",
          "text": [
            "Yolo class 1, yolo conf 0.3446207841237386, Hugs class 0\n",
            "/content/TESTdataset/342.jpg\n"
          ]
        },
        {
          "output_type": "stream",
          "name": "stderr",
          "text": [
            "WARNING ⚠️ 'Boxes.boxes' is deprecated. Use 'Boxes.data' instead.\n",
            "<ipython-input-60-051a0d118cd5>:8: FutureWarning: The frame.append method is deprecated and will be removed from pandas in a future version. Use pandas.concat instead.\n",
            "  SUBM.append({'name': filepath, 'class': clas}, ignore_index=True)\n",
            "\n",
            "0: 512x640 1 klikun, 3 mals, 29.2ms\n",
            "Speed: 3.1ms preprocess, 29.2ms inference, 1.4ms postprocess per image at shape (1, 3, 640, 640)\n"
          ]
        },
        {
          "output_type": "stream",
          "name": "stdout",
          "text": [
            "Yolo class 0, yolo conf 0.1977233588695526, Hugs class 2\n",
            "/content/TESTdataset/338.jpg\n"
          ]
        },
        {
          "output_type": "stream",
          "name": "stderr",
          "text": [
            "WARNING ⚠️ 'Boxes.boxes' is deprecated. Use 'Boxes.data' instead.\n",
            "<ipython-input-60-051a0d118cd5>:8: FutureWarning: The frame.append method is deprecated and will be removed from pandas in a future version. Use pandas.concat instead.\n",
            "  SUBM.append({'name': filepath, 'class': clas}, ignore_index=True)\n",
            "\n",
            "0: 448x640 1 ship, 28.5ms\n",
            "Speed: 3.6ms preprocess, 28.5ms inference, 1.5ms postprocess per image at shape (1, 3, 640, 640)\n"
          ]
        },
        {
          "output_type": "stream",
          "name": "stdout",
          "text": [
            "Yolo class 1, yolo conf 0.41375138610601425, Hugs class 0\n",
            "/content/TESTdataset/47.jpg\n"
          ]
        },
        {
          "output_type": "stream",
          "name": "stderr",
          "text": [
            "WARNING ⚠️ 'Boxes.boxes' is deprecated. Use 'Boxes.data' instead.\n",
            "<ipython-input-60-051a0d118cd5>:8: FutureWarning: The frame.append method is deprecated and will be removed from pandas in a future version. Use pandas.concat instead.\n",
            "  SUBM.append({'name': filepath, 'class': clas}, ignore_index=True)\n",
            "\n",
            "0: 480x640 1 klikun, 29.1ms\n",
            "Speed: 3.5ms preprocess, 29.1ms inference, 1.6ms postprocess per image at shape (1, 3, 640, 640)\n"
          ]
        },
        {
          "output_type": "stream",
          "name": "stdout",
          "text": [
            "Yolo class 2, yolo conf 0.9129278063774109, Hugs class 2\n",
            "/content/TESTdataset/43.jpg\n"
          ]
        },
        {
          "output_type": "stream",
          "name": "stderr",
          "text": [
            "WARNING ⚠️ 'Boxes.boxes' is deprecated. Use 'Boxes.data' instead.\n",
            "<ipython-input-60-051a0d118cd5>:8: FutureWarning: The frame.append method is deprecated and will be removed from pandas in a future version. Use pandas.concat instead.\n",
            "  SUBM.append({'name': filepath, 'class': clas}, ignore_index=True)\n",
            "\n",
            "0: 640x608 1 ship, 37.2ms\n",
            "Speed: 2.8ms preprocess, 37.2ms inference, 1.4ms postprocess per image at shape (1, 3, 640, 640)\n"
          ]
        },
        {
          "output_type": "stream",
          "name": "stdout",
          "text": [
            "Yolo class 0, yolo conf 0.9201688766479492, Hugs class 1\n",
            "/content/TESTdataset/323.jpg\n"
          ]
        },
        {
          "output_type": "stream",
          "name": "stderr",
          "text": [
            "WARNING ⚠️ 'Boxes.boxes' is deprecated. Use 'Boxes.data' instead.\n",
            "<ipython-input-60-051a0d118cd5>:8: FutureWarning: The frame.append method is deprecated and will be removed from pandas in a future version. Use pandas.concat instead.\n",
            "  SUBM.append({'name': filepath, 'class': clas}, ignore_index=True)\n",
            "\n",
            "0: 640x640 2 klikuns, 1 mal, 37.8ms\n",
            "Speed: 3.5ms preprocess, 37.8ms inference, 1.5ms postprocess per image at shape (1, 3, 640, 640)\n"
          ]
        },
        {
          "output_type": "stream",
          "name": "stdout",
          "text": [
            "Yolo class 2, yolo conf 0.7670812010765076, Hugs class 2\n",
            "/content/TESTdataset/443.jpg\n"
          ]
        },
        {
          "output_type": "stream",
          "name": "stderr",
          "text": [
            "WARNING ⚠️ 'Boxes.boxes' is deprecated. Use 'Boxes.data' instead.\n",
            "<ipython-input-60-051a0d118cd5>:8: FutureWarning: The frame.append method is deprecated and will be removed from pandas in a future version. Use pandas.concat instead.\n",
            "  SUBM.append({'name': filepath, 'class': clas}, ignore_index=True)\n",
            "\n",
            "0: 640x640 3 klikuns, 37.2ms\n",
            "Speed: 3.3ms preprocess, 37.2ms inference, 1.8ms postprocess per image at shape (1, 3, 640, 640)\n"
          ]
        },
        {
          "output_type": "stream",
          "name": "stdout",
          "text": [
            "Yolo class 0, yolo conf 0.416883905728658, Hugs class 1\n",
            "/content/TESTdataset/408.jpg\n"
          ]
        },
        {
          "output_type": "stream",
          "name": "stderr",
          "text": [
            "WARNING ⚠️ 'Boxes.boxes' is deprecated. Use 'Boxes.data' instead.\n",
            "<ipython-input-60-051a0d118cd5>:8: FutureWarning: The frame.append method is deprecated and will be removed from pandas in a future version. Use pandas.concat instead.\n",
            "  SUBM.append({'name': filepath, 'class': clas}, ignore_index=True)\n",
            "\n",
            "0: 448x640 2 klikuns, 28.6ms\n",
            "Speed: 3.2ms preprocess, 28.6ms inference, 1.5ms postprocess per image at shape (1, 3, 640, 640)\n"
          ]
        },
        {
          "output_type": "stream",
          "name": "stdout",
          "text": [
            "Yolo class 0, yolo conf 0.569321205218633, Hugs class 0\n",
            "/content/TESTdataset/198.jpg\n"
          ]
        },
        {
          "output_type": "stream",
          "name": "stderr",
          "text": [
            "WARNING ⚠️ 'Boxes.boxes' is deprecated. Use 'Boxes.data' instead.\n",
            "<ipython-input-60-051a0d118cd5>:8: FutureWarning: The frame.append method is deprecated and will be removed from pandas in a future version. Use pandas.concat instead.\n",
            "  SUBM.append({'name': filepath, 'class': clas}, ignore_index=True)\n",
            "\n",
            "0: 640x544 1 klikun, 1 mal, 36.3ms\n",
            "Speed: 3.2ms preprocess, 36.3ms inference, 1.5ms postprocess per image at shape (1, 3, 640, 640)\n",
            "WARNING ⚠️ 'Boxes.boxes' is deprecated. Use 'Boxes.data' instead.\n",
            "<ipython-input-60-051a0d118cd5>:8: FutureWarning: The frame.append method is deprecated and will be removed from pandas in a future version. Use pandas.concat instead.\n",
            "  SUBM.append({'name': filepath, 'class': clas}, ignore_index=True)\n",
            "\n",
            "0: 448x640 1 klikun, 1 ship, 28.5ms\n",
            "Speed: 3.4ms preprocess, 28.5ms inference, 1.4ms postprocess per image at shape (1, 3, 640, 640)\n"
          ]
        },
        {
          "output_type": "stream",
          "name": "stdout",
          "text": [
            "Yolo class 0, yolo conf 0.8603042662143707, Hugs class 0\n",
            "/content/TESTdataset/510.jpg\n",
            "HUGS FAILED ON /content/TESTdataset/510.jpg\n",
            "Yolo class 1, yolo conf 0.34084415435791016, Hugs class -1\n",
            "/content/TESTdataset/343.jpg\n"
          ]
        },
        {
          "output_type": "stream",
          "name": "stderr",
          "text": [
            "WARNING ⚠️ 'Boxes.boxes' is deprecated. Use 'Boxes.data' instead.\n",
            "<ipython-input-60-051a0d118cd5>:8: FutureWarning: The frame.append method is deprecated and will be removed from pandas in a future version. Use pandas.concat instead.\n",
            "  SUBM.append({'name': filepath, 'class': clas}, ignore_index=True)\n",
            "\n",
            "0: 480x640 1 ship, 29.1ms\n",
            "Speed: 3.3ms preprocess, 29.1ms inference, 1.5ms postprocess per image at shape (1, 3, 640, 640)\n"
          ]
        },
        {
          "output_type": "stream",
          "name": "stdout",
          "text": [
            "Yolo class 0, yolo conf 0.2620103657245636, Hugs class 2\n",
            "/content/TESTdataset/589.jpg\n"
          ]
        },
        {
          "output_type": "stream",
          "name": "stderr",
          "text": [
            "WARNING ⚠️ 'Boxes.boxes' is deprecated. Use 'Boxes.data' instead.\n",
            "<ipython-input-60-051a0d118cd5>:8: FutureWarning: The frame.append method is deprecated and will be removed from pandas in a future version. Use pandas.concat instead.\n",
            "  SUBM.append({'name': filepath, 'class': clas}, ignore_index=True)\n",
            "\n",
            "0: 480x640 2 klikuns, 28.2ms\n",
            "Speed: 3.9ms preprocess, 28.2ms inference, 1.6ms postprocess per image at shape (1, 3, 640, 640)\n"
          ]
        },
        {
          "output_type": "stream",
          "name": "stdout",
          "text": [
            "Yolo class 2, yolo conf 0.9306008219718933, Hugs class 2\n",
            "/content/TESTdataset/378.jpg\n"
          ]
        },
        {
          "output_type": "stream",
          "name": "stderr",
          "text": [
            "WARNING ⚠️ 'Boxes.boxes' is deprecated. Use 'Boxes.data' instead.\n",
            "<ipython-input-60-051a0d118cd5>:8: FutureWarning: The frame.append method is deprecated and will be removed from pandas in a future version. Use pandas.concat instead.\n",
            "  SUBM.append({'name': filepath, 'class': clas}, ignore_index=True)\n",
            "\n",
            "0: 448x640 2 ships, 28.7ms\n",
            "Speed: 3.1ms preprocess, 28.7ms inference, 1.5ms postprocess per image at shape (1, 3, 640, 640)\n"
          ]
        },
        {
          "output_type": "stream",
          "name": "stdout",
          "text": [
            "Yolo class 0, yolo conf 0.5833350121974945, Hugs class 1\n",
            "/content/TESTdataset/253.jpg\n"
          ]
        },
        {
          "output_type": "stream",
          "name": "stderr",
          "text": [
            "WARNING ⚠️ 'Boxes.boxes' is deprecated. Use 'Boxes.data' instead.\n",
            "<ipython-input-60-051a0d118cd5>:8: FutureWarning: The frame.append method is deprecated and will be removed from pandas in a future version. Use pandas.concat instead.\n",
            "  SUBM.append({'name': filepath, 'class': clas}, ignore_index=True)\n",
            "\n",
            "0: 480x640 2 klikuns, 31.4ms\n",
            "Speed: 4.2ms preprocess, 31.4ms inference, 1.9ms postprocess per image at shape (1, 3, 640, 640)\n"
          ]
        },
        {
          "output_type": "stream",
          "name": "stdout",
          "text": [
            "Yolo class 2, yolo conf 0.5704801082611084, Hugs class 2\n",
            "/content/TESTdataset/222.jpg\n"
          ]
        },
        {
          "output_type": "stream",
          "name": "stderr",
          "text": [
            "WARNING ⚠️ 'Boxes.boxes' is deprecated. Use 'Boxes.data' instead.\n",
            "<ipython-input-60-051a0d118cd5>:8: FutureWarning: The frame.append method is deprecated and will be removed from pandas in a future version. Use pandas.concat instead.\n",
            "  SUBM.append({'name': filepath, 'class': clas}, ignore_index=True)\n",
            "\n",
            "0: 480x640 1 klikun, 28.3ms\n",
            "Speed: 3.0ms preprocess, 28.3ms inference, 2.0ms postprocess per image at shape (1, 3, 640, 640)\n"
          ]
        },
        {
          "output_type": "stream",
          "name": "stdout",
          "text": [
            "Yolo class 0, yolo conf 0.9315800070762634, Hugs class 1\n",
            "/content/TESTdataset/57.jpg\n"
          ]
        },
        {
          "output_type": "stream",
          "name": "stderr",
          "text": [
            "WARNING ⚠️ 'Boxes.boxes' is deprecated. Use 'Boxes.data' instead.\n",
            "<ipython-input-60-051a0d118cd5>:8: FutureWarning: The frame.append method is deprecated and will be removed from pandas in a future version. Use pandas.concat instead.\n",
            "  SUBM.append({'name': filepath, 'class': clas}, ignore_index=True)\n",
            "\n",
            "0: 480x640 1 ship, 28.3ms\n",
            "Speed: 3.7ms preprocess, 28.3ms inference, 2.5ms postprocess per image at shape (1, 3, 640, 640)\n"
          ]
        },
        {
          "output_type": "stream",
          "name": "stdout",
          "text": [
            "Yolo class 0, yolo conf 0.4944000244140625, Hugs class 1\n",
            "/content/TESTdataset/204.jpg\n"
          ]
        },
        {
          "output_type": "stream",
          "name": "stderr",
          "text": [
            "WARNING ⚠️ 'Boxes.boxes' is deprecated. Use 'Boxes.data' instead.\n",
            "<ipython-input-60-051a0d118cd5>:8: FutureWarning: The frame.append method is deprecated and will be removed from pandas in a future version. Use pandas.concat instead.\n",
            "  SUBM.append({'name': filepath, 'class': clas}, ignore_index=True)\n",
            "\n",
            "0: 608x640 1 klikun, 1 ship, 104.5ms\n",
            "Speed: 3.9ms preprocess, 104.5ms inference, 2.2ms postprocess per image at shape (1, 3, 640, 640)\n"
          ]
        },
        {
          "output_type": "stream",
          "name": "stdout",
          "text": [
            "Yolo class 2, yolo conf 0.918086051940918, Hugs class 2\n",
            "/content/TESTdataset/322.jpg\n"
          ]
        },
        {
          "output_type": "stream",
          "name": "stderr",
          "text": [
            "WARNING ⚠️ 'Boxes.boxes' is deprecated. Use 'Boxes.data' instead.\n",
            "<ipython-input-60-051a0d118cd5>:8: FutureWarning: The frame.append method is deprecated and will be removed from pandas in a future version. Use pandas.concat instead.\n",
            "  SUBM.append({'name': filepath, 'class': clas}, ignore_index=True)\n",
            "\n",
            "0: 448x640 1 ship, 29.0ms\n",
            "Speed: 3.3ms preprocess, 29.0ms inference, 2.6ms postprocess per image at shape (1, 3, 640, 640)\n"
          ]
        },
        {
          "output_type": "stream",
          "name": "stdout",
          "text": [
            "Yolo class 2, yolo conf 0.33358994126319885, Hugs class 1\n",
            "/content/TESTdataset/45.jpg\n"
          ]
        },
        {
          "output_type": "stream",
          "name": "stderr",
          "text": [
            "WARNING ⚠️ 'Boxes.boxes' is deprecated. Use 'Boxes.data' instead.\n",
            "<ipython-input-60-051a0d118cd5>:8: FutureWarning: The frame.append method is deprecated and will be removed from pandas in a future version. Use pandas.concat instead.\n",
            "  SUBM.append({'name': filepath, 'class': clas}, ignore_index=True)\n",
            "\n",
            "0: 640x576 2 klikuns, 1 ship, 105.4ms\n",
            "Speed: 3.3ms preprocess, 105.4ms inference, 2.2ms postprocess per image at shape (1, 3, 640, 640)\n"
          ]
        },
        {
          "output_type": "stream",
          "name": "stdout",
          "text": [
            "Yolo class 2, yolo conf 0.9212356805801392, Hugs class 2\n",
            "/content/TESTdataset/7.jpg\n"
          ]
        },
        {
          "output_type": "stream",
          "name": "stderr",
          "text": [
            "WARNING ⚠️ 'Boxes.boxes' is deprecated. Use 'Boxes.data' instead.\n",
            "<ipython-input-60-051a0d118cd5>:8: FutureWarning: The frame.append method is deprecated and will be removed from pandas in a future version. Use pandas.concat instead.\n",
            "  SUBM.append({'name': filepath, 'class': clas}, ignore_index=True)\n",
            "\n",
            "0: 448x640 1 klikun, 29.3ms\n",
            "Speed: 3.1ms preprocess, 29.3ms inference, 2.1ms postprocess per image at shape (1, 3, 640, 640)\n"
          ]
        },
        {
          "output_type": "stream",
          "name": "stdout",
          "text": [
            "HUGS FAILED ON /content/TESTdataset/7.jpg\n",
            "Yolo class 0, yolo conf 0.38766127824783325, Hugs class -1\n",
            "/content/TESTdataset/416.jpg\n"
          ]
        },
        {
          "output_type": "stream",
          "name": "stderr",
          "text": [
            "WARNING ⚠️ 'Boxes.boxes' is deprecated. Use 'Boxes.data' instead.\n",
            "<ipython-input-60-051a0d118cd5>:8: FutureWarning: The frame.append method is deprecated and will be removed from pandas in a future version. Use pandas.concat instead.\n",
            "  SUBM.append({'name': filepath, 'class': clas}, ignore_index=True)\n",
            "\n",
            "0: 480x640 1 klikun, 29.0ms\n",
            "Speed: 3.4ms preprocess, 29.0ms inference, 1.5ms postprocess per image at shape (1, 3, 640, 640)\n"
          ]
        },
        {
          "output_type": "stream",
          "name": "stdout",
          "text": [
            "Yolo class 0, yolo conf 0.8223304152488708, Hugs class 1\n",
            "/content/TESTdataset/36.jpg\n"
          ]
        },
        {
          "output_type": "stream",
          "name": "stderr",
          "text": [
            "WARNING ⚠️ 'Boxes.boxes' is deprecated. Use 'Boxes.data' instead.\n",
            "<ipython-input-60-051a0d118cd5>:8: FutureWarning: The frame.append method is deprecated and will be removed from pandas in a future version. Use pandas.concat instead.\n",
            "  SUBM.append({'name': filepath, 'class': clas}, ignore_index=True)\n",
            "\n",
            "0: 640x480 2 ships, 64.6ms\n",
            "Speed: 3.6ms preprocess, 64.6ms inference, 1.4ms postprocess per image at shape (1, 3, 640, 640)\n"
          ]
        },
        {
          "output_type": "stream",
          "name": "stdout",
          "text": [
            "Yolo class 0, yolo conf 0.9107545614242554, Hugs class 1\n",
            "/content/TESTdataset/362.jpg\n"
          ]
        },
        {
          "output_type": "stream",
          "name": "stderr",
          "text": [
            "WARNING ⚠️ 'Boxes.boxes' is deprecated. Use 'Boxes.data' instead.\n",
            "<ipython-input-60-051a0d118cd5>:8: FutureWarning: The frame.append method is deprecated and will be removed from pandas in a future version. Use pandas.concat instead.\n",
            "  SUBM.append({'name': filepath, 'class': clas}, ignore_index=True)\n",
            "\n",
            "0: 608x640 1 mal, 37.4ms\n",
            "Speed: 4.4ms preprocess, 37.4ms inference, 1.6ms postprocess per image at shape (1, 3, 640, 640)\n"
          ]
        },
        {
          "output_type": "stream",
          "name": "stdout",
          "text": [
            "Yolo class 2, yolo conf 0.6469204872846603, Hugs class 2\n",
            "/content/TESTdataset/116.jpg\n"
          ]
        },
        {
          "output_type": "stream",
          "name": "stderr",
          "text": [
            "WARNING ⚠️ 'Boxes.boxes' is deprecated. Use 'Boxes.data' instead.\n",
            "<ipython-input-60-051a0d118cd5>:8: FutureWarning: The frame.append method is deprecated and will be removed from pandas in a future version. Use pandas.concat instead.\n",
            "  SUBM.append({'name': filepath, 'class': clas}, ignore_index=True)\n",
            "\n",
            "0: 448x640 1 klikun, 28.7ms\n",
            "Speed: 2.6ms preprocess, 28.7ms inference, 1.5ms postprocess per image at shape (1, 3, 640, 640)\n"
          ]
        },
        {
          "output_type": "stream",
          "name": "stdout",
          "text": [
            "Yolo class 1, yolo conf 0.4983229339122772, Hugs class 0\n",
            "/content/TESTdataset/429.jpg\n"
          ]
        },
        {
          "output_type": "stream",
          "name": "stderr",
          "text": [
            "WARNING ⚠️ 'Boxes.boxes' is deprecated. Use 'Boxes.data' instead.\n",
            "<ipython-input-60-051a0d118cd5>:8: FutureWarning: The frame.append method is deprecated and will be removed from pandas in a future version. Use pandas.concat instead.\n",
            "  SUBM.append({'name': filepath, 'class': clas}, ignore_index=True)\n",
            "\n",
            "0: 480x640 1 klikun, 1 mal, 29.1ms\n",
            "Speed: 3.0ms preprocess, 29.1ms inference, 1.5ms postprocess per image at shape (1, 3, 640, 640)\n"
          ]
        },
        {
          "output_type": "stream",
          "name": "stdout",
          "text": [
            "Yolo class 0, yolo conf 0.8320388197898865, Hugs class 0\n",
            "/content/TESTdataset/27.jpg\n"
          ]
        },
        {
          "output_type": "stream",
          "name": "stderr",
          "text": [
            "WARNING ⚠️ 'Boxes.boxes' is deprecated. Use 'Boxes.data' instead.\n",
            "<ipython-input-60-051a0d118cd5>:8: FutureWarning: The frame.append method is deprecated and will be removed from pandas in a future version. Use pandas.concat instead.\n",
            "  SUBM.append({'name': filepath, 'class': clas}, ignore_index=True)\n",
            "\n",
            "0: 480x640 2 klikuns, 28.5ms\n",
            "Speed: 3.2ms preprocess, 28.5ms inference, 1.6ms postprocess per image at shape (1, 3, 640, 640)\n"
          ]
        },
        {
          "output_type": "stream",
          "name": "stdout",
          "text": [
            "Yolo class 0, yolo conf 0.26726484298706055, Hugs class 0\n",
            "/content/TESTdataset/280.jpg\n"
          ]
        },
        {
          "output_type": "stream",
          "name": "stderr",
          "text": [
            "WARNING ⚠️ 'Boxes.boxes' is deprecated. Use 'Boxes.data' instead.\n",
            "<ipython-input-60-051a0d118cd5>:8: FutureWarning: The frame.append method is deprecated and will be removed from pandas in a future version. Use pandas.concat instead.\n",
            "  SUBM.append({'name': filepath, 'class': clas}, ignore_index=True)\n",
            "\n",
            "0: 640x480 2 ships, 29.8ms\n",
            "Speed: 3.4ms preprocess, 29.8ms inference, 1.5ms postprocess per image at shape (1, 3, 640, 640)\n"
          ]
        },
        {
          "output_type": "stream",
          "name": "stdout",
          "text": [
            "Yolo class 0, yolo conf 0.6372794508934021, Hugs class 1\n",
            "/content/TESTdataset/125.jpg\n"
          ]
        },
        {
          "output_type": "stream",
          "name": "stderr",
          "text": [
            "WARNING ⚠️ 'Boxes.boxes' is deprecated. Use 'Boxes.data' instead.\n",
            "<ipython-input-60-051a0d118cd5>:8: FutureWarning: The frame.append method is deprecated and will be removed from pandas in a future version. Use pandas.concat instead.\n",
            "  SUBM.append({'name': filepath, 'class': clas}, ignore_index=True)\n",
            "\n",
            "0: 448x640 1 klikun, 28.7ms\n",
            "Speed: 3.7ms preprocess, 28.7ms inference, 1.4ms postprocess per image at shape (1, 3, 640, 640)\n"
          ]
        },
        {
          "output_type": "stream",
          "name": "stdout",
          "text": [
            "Yolo class 2, yolo conf 0.6335902661085129, Hugs class 2\n",
            "/content/TESTdataset/51.jpg\n"
          ]
        },
        {
          "output_type": "stream",
          "name": "stderr",
          "text": [
            "WARNING ⚠️ 'Boxes.boxes' is deprecated. Use 'Boxes.data' instead.\n",
            "<ipython-input-60-051a0d118cd5>:8: FutureWarning: The frame.append method is deprecated and will be removed from pandas in a future version. Use pandas.concat instead.\n",
            "  SUBM.append({'name': filepath, 'class': clas}, ignore_index=True)\n",
            "\n",
            "0: 384x640 1 klikun, 1 mal, 68.4ms\n",
            "Speed: 2.8ms preprocess, 68.4ms inference, 1.6ms postprocess per image at shape (1, 3, 640, 640)\n"
          ]
        },
        {
          "output_type": "stream",
          "name": "stdout",
          "text": [
            "Yolo class 0, yolo conf 0.35815879702568054, Hugs class 0\n",
            "/content/TESTdataset/366.jpg\n"
          ]
        },
        {
          "output_type": "stream",
          "name": "stderr",
          "text": [
            "WARNING ⚠️ 'Boxes.boxes' is deprecated. Use 'Boxes.data' instead.\n",
            "<ipython-input-60-051a0d118cd5>:8: FutureWarning: The frame.append method is deprecated and will be removed from pandas in a future version. Use pandas.concat instead.\n",
            "  SUBM.append({'name': filepath, 'class': clas}, ignore_index=True)\n",
            "\n",
            "0: 480x640 1 ship, 29.0ms\n",
            "Speed: 3.1ms preprocess, 29.0ms inference, 1.4ms postprocess per image at shape (1, 3, 640, 640)\n"
          ]
        },
        {
          "output_type": "stream",
          "name": "stdout",
          "text": [
            "Yolo class 0, yolo conf 0.4039729833602905, Hugs class 1\n",
            "/content/TESTdataset/478.jpg\n"
          ]
        },
        {
          "output_type": "stream",
          "name": "stderr",
          "text": [
            "WARNING ⚠️ 'Boxes.boxes' is deprecated. Use 'Boxes.data' instead.\n",
            "<ipython-input-60-051a0d118cd5>:8: FutureWarning: The frame.append method is deprecated and will be removed from pandas in a future version. Use pandas.concat instead.\n",
            "  SUBM.append({'name': filepath, 'class': clas}, ignore_index=True)\n",
            "\n",
            "0: 448x640 1 mal, 28.6ms\n",
            "Speed: 1.7ms preprocess, 28.6ms inference, 1.4ms postprocess per image at shape (1, 3, 640, 640)\n"
          ]
        },
        {
          "output_type": "stream",
          "name": "stdout",
          "text": [
            "Yolo class 2, yolo conf 0.7434566020965576, Hugs class 2\n",
            "/content/TESTdataset/154.jpg\n"
          ]
        },
        {
          "output_type": "stream",
          "name": "stderr",
          "text": [
            "WARNING ⚠️ 'Boxes.boxes' is deprecated. Use 'Boxes.data' instead.\n",
            "<ipython-input-60-051a0d118cd5>:8: FutureWarning: The frame.append method is deprecated and will be removed from pandas in a future version. Use pandas.concat instead.\n",
            "  SUBM.append({'name': filepath, 'class': clas}, ignore_index=True)\n",
            "\n",
            "0: 448x640 2 klikuns, 27.9ms\n",
            "Speed: 3.3ms preprocess, 27.9ms inference, 1.7ms postprocess per image at shape (1, 3, 640, 640)\n"
          ]
        },
        {
          "output_type": "stream",
          "name": "stdout",
          "text": [
            "Yolo class 1, yolo conf 0.8884812593460083, Hugs class 0\n",
            "/content/TESTdataset/20.jpg\n"
          ]
        },
        {
          "output_type": "stream",
          "name": "stderr",
          "text": [
            "WARNING ⚠️ 'Boxes.boxes' is deprecated. Use 'Boxes.data' instead.\n",
            "<ipython-input-60-051a0d118cd5>:8: FutureWarning: The frame.append method is deprecated and will be removed from pandas in a future version. Use pandas.concat instead.\n",
            "  SUBM.append({'name': filepath, 'class': clas}, ignore_index=True)\n",
            "\n",
            "0: 448x640 5 klikuns, 27.9ms\n",
            "Speed: 3.2ms preprocess, 27.9ms inference, 1.5ms postprocess per image at shape (1, 3, 640, 640)\n"
          ]
        },
        {
          "output_type": "stream",
          "name": "stdout",
          "text": [
            "Yolo class 0, yolo conf 0.7282589673995972, Hugs class 1\n",
            "/content/TESTdataset/28.jpg\n"
          ]
        },
        {
          "output_type": "stream",
          "name": "stderr",
          "text": [
            "WARNING ⚠️ 'Boxes.boxes' is deprecated. Use 'Boxes.data' instead.\n",
            "<ipython-input-60-051a0d118cd5>:8: FutureWarning: The frame.append method is deprecated and will be removed from pandas in a future version. Use pandas.concat instead.\n",
            "  SUBM.append({'name': filepath, 'class': clas}, ignore_index=True)\n",
            "\n",
            "0: 480x640 1 klikun, 31.4ms\n",
            "Speed: 3.6ms preprocess, 31.4ms inference, 1.4ms postprocess per image at shape (1, 3, 640, 640)\n"
          ]
        },
        {
          "output_type": "stream",
          "name": "stdout",
          "text": [
            "Yolo class 0, yolo conf 0.7526573240756989, Hugs class 1\n",
            "/content/TESTdataset/384.jpg\n"
          ]
        },
        {
          "output_type": "stream",
          "name": "stderr",
          "text": [
            "WARNING ⚠️ 'Boxes.boxes' is deprecated. Use 'Boxes.data' instead.\n",
            "<ipython-input-60-051a0d118cd5>:8: FutureWarning: The frame.append method is deprecated and will be removed from pandas in a future version. Use pandas.concat instead.\n",
            "  SUBM.append({'name': filepath, 'class': clas}, ignore_index=True)\n",
            "\n",
            "0: 480x640 1 klikun, 28.3ms\n",
            "Speed: 3.2ms preprocess, 28.3ms inference, 2.2ms postprocess per image at shape (1, 3, 640, 640)\n"
          ]
        },
        {
          "output_type": "stream",
          "name": "stdout",
          "text": [
            "Yolo class 0, yolo conf 0.6725870966911316, Hugs class 1\n",
            "/content/TESTdataset/205.jpg\n"
          ]
        },
        {
          "output_type": "stream",
          "name": "stderr",
          "text": [
            "WARNING ⚠️ 'Boxes.boxes' is deprecated. Use 'Boxes.data' instead.\n",
            "<ipython-input-60-051a0d118cd5>:8: FutureWarning: The frame.append method is deprecated and will be removed from pandas in a future version. Use pandas.concat instead.\n",
            "  SUBM.append({'name': filepath, 'class': clas}, ignore_index=True)\n",
            "\n",
            "0: 448x640 3 klikuns, 1 mal, 31.4ms\n",
            "Speed: 3.3ms preprocess, 31.4ms inference, 1.8ms postprocess per image at shape (1, 3, 640, 640)\n"
          ]
        },
        {
          "output_type": "stream",
          "name": "stdout",
          "text": [
            "Yolo class 0, yolo conf 0.5400909781455994, Hugs class 0\n",
            "/content/TESTdataset/394.jpg\n"
          ]
        },
        {
          "output_type": "stream",
          "name": "stderr",
          "text": [
            "WARNING ⚠️ 'Boxes.boxes' is deprecated. Use 'Boxes.data' instead.\n",
            "<ipython-input-60-051a0d118cd5>:8: FutureWarning: The frame.append method is deprecated and will be removed from pandas in a future version. Use pandas.concat instead.\n",
            "  SUBM.append({'name': filepath, 'class': clas}, ignore_index=True)\n",
            "\n",
            "0: 448x640 3 ships, 28.8ms\n",
            "Speed: 2.7ms preprocess, 28.8ms inference, 2.2ms postprocess per image at shape (1, 3, 640, 640)\n"
          ]
        },
        {
          "output_type": "stream",
          "name": "stdout",
          "text": [
            "Yolo class 0, yolo conf 0.2621835395693779, Hugs class 0\n",
            "/content/TESTdataset/388.jpg\n"
          ]
        },
        {
          "output_type": "stream",
          "name": "stderr",
          "text": [
            "WARNING ⚠️ 'Boxes.boxes' is deprecated. Use 'Boxes.data' instead.\n",
            "<ipython-input-60-051a0d118cd5>:8: FutureWarning: The frame.append method is deprecated and will be removed from pandas in a future version. Use pandas.concat instead.\n",
            "  SUBM.append({'name': filepath, 'class': clas}, ignore_index=True)\n",
            "\n",
            "0: 480x640 2 mals, 29.3ms\n",
            "Speed: 3.1ms preprocess, 29.3ms inference, 1.8ms postprocess per image at shape (1, 3, 640, 640)\n"
          ]
        },
        {
          "output_type": "stream",
          "name": "stdout",
          "text": [
            "Yolo class 2, yolo conf 0.746067742506663, Hugs class 2\n",
            "/content/TESTdataset/432.jpg\n"
          ]
        },
        {
          "output_type": "stream",
          "name": "stderr",
          "text": [
            "WARNING ⚠️ 'Boxes.boxes' is deprecated. Use 'Boxes.data' instead.\n",
            "<ipython-input-60-051a0d118cd5>:8: FutureWarning: The frame.append method is deprecated and will be removed from pandas in a future version. Use pandas.concat instead.\n",
            "  SUBM.append({'name': filepath, 'class': clas}, ignore_index=True)\n",
            "\n",
            "0: 480x640 1 mal, 28.2ms\n",
            "Speed: 3.3ms preprocess, 28.2ms inference, 3.9ms postprocess per image at shape (1, 3, 640, 640)\n"
          ]
        },
        {
          "output_type": "stream",
          "name": "stdout",
          "text": [
            "Yolo class 1, yolo conf 0.898078203201294, Hugs class 1\n",
            "/content/TESTdataset/314.jpg\n"
          ]
        },
        {
          "output_type": "stream",
          "name": "stderr",
          "text": [
            "WARNING ⚠️ 'Boxes.boxes' is deprecated. Use 'Boxes.data' instead.\n",
            "<ipython-input-60-051a0d118cd5>:8: FutureWarning: The frame.append method is deprecated and will be removed from pandas in a future version. Use pandas.concat instead.\n",
            "  SUBM.append({'name': filepath, 'class': clas}, ignore_index=True)\n",
            "\n",
            "0: 640x448 1 ship, 98.2ms\n",
            "Speed: 2.9ms preprocess, 98.2ms inference, 2.1ms postprocess per image at shape (1, 3, 640, 640)\n"
          ]
        },
        {
          "output_type": "stream",
          "name": "stdout",
          "text": [
            "Yolo class 1, yolo conf 0.6868650913238525, Hugs class 0\n",
            "/content/TESTdataset/140.jpg\n"
          ]
        },
        {
          "output_type": "stream",
          "name": "stderr",
          "text": [
            "WARNING ⚠️ 'Boxes.boxes' is deprecated. Use 'Boxes.data' instead.\n",
            "<ipython-input-60-051a0d118cd5>:8: FutureWarning: The frame.append method is deprecated and will be removed from pandas in a future version. Use pandas.concat instead.\n",
            "  SUBM.append({'name': filepath, 'class': clas}, ignore_index=True)\n",
            "\n",
            "0: 416x640 2 mals, 62.2ms\n",
            "Speed: 2.9ms preprocess, 62.2ms inference, 1.4ms postprocess per image at shape (1, 3, 640, 640)\n"
          ]
        },
        {
          "output_type": "stream",
          "name": "stdout",
          "text": [
            "Yolo class 2, yolo conf 0.8879740238189697, Hugs class 2\n",
            "/content/TESTdataset/153.jpg\n"
          ]
        },
        {
          "output_type": "stream",
          "name": "stderr",
          "text": [
            "WARNING ⚠️ 'Boxes.boxes' is deprecated. Use 'Boxes.data' instead.\n",
            "<ipython-input-60-051a0d118cd5>:8: FutureWarning: The frame.append method is deprecated and will be removed from pandas in a future version. Use pandas.concat instead.\n",
            "  SUBM.append({'name': filepath, 'class': clas}, ignore_index=True)\n",
            "\n",
            "0: 480x640 2 mals, 29.0ms\n",
            "Speed: 2.8ms preprocess, 29.0ms inference, 1.4ms postprocess per image at shape (1, 3, 640, 640)\n"
          ]
        },
        {
          "output_type": "stream",
          "name": "stdout",
          "text": [
            "Yolo class 1, yolo conf 0.6489489078521729, Hugs class 0\n",
            "/content/TESTdataset/508.jpg\n"
          ]
        },
        {
          "output_type": "stream",
          "name": "stderr",
          "text": [
            "WARNING ⚠️ 'Boxes.boxes' is deprecated. Use 'Boxes.data' instead.\n",
            "<ipython-input-60-051a0d118cd5>:8: FutureWarning: The frame.append method is deprecated and will be removed from pandas in a future version. Use pandas.concat instead.\n",
            "  SUBM.append({'name': filepath, 'class': clas}, ignore_index=True)\n",
            "\n",
            "0: 448x640 2 klikuns, 28.9ms\n",
            "Speed: 2.9ms preprocess, 28.9ms inference, 1.9ms postprocess per image at shape (1, 3, 640, 640)\n"
          ]
        },
        {
          "output_type": "stream",
          "name": "stdout",
          "text": [
            "Yolo class 1, yolo conf 0.5541874915361404, Hugs class 1\n",
            "/content/TESTdataset/541.jpg\n"
          ]
        },
        {
          "output_type": "stream",
          "name": "stderr",
          "text": [
            "WARNING ⚠️ 'Boxes.boxes' is deprecated. Use 'Boxes.data' instead.\n",
            "<ipython-input-60-051a0d118cd5>:8: FutureWarning: The frame.append method is deprecated and will be removed from pandas in a future version. Use pandas.concat instead.\n",
            "  SUBM.append({'name': filepath, 'class': clas}, ignore_index=True)\n",
            "\n",
            "0: 480x640 1 mal, 28.9ms\n",
            "Speed: 2.7ms preprocess, 28.9ms inference, 1.5ms postprocess per image at shape (1, 3, 640, 640)\n",
            "WARNING ⚠️ 'Boxes.boxes' is deprecated. Use 'Boxes.data' instead.\n",
            "<ipython-input-60-051a0d118cd5>:8: FutureWarning: The frame.append method is deprecated and will be removed from pandas in a future version. Use pandas.concat instead.\n",
            "  SUBM.append({'name': filepath, 'class': clas}, ignore_index=True)\n",
            "\n",
            "0: 480x640 1 mal, 28.8ms\n",
            "Speed: 3.3ms preprocess, 28.8ms inference, 1.6ms postprocess per image at shape (1, 3, 640, 640)\n"
          ]
        },
        {
          "output_type": "stream",
          "name": "stdout",
          "text": [
            "Yolo class 0, yolo conf 0.2817024141550064, Hugs class 0\n",
            "/content/TESTdataset/353.jpg\n",
            "HUGS FAILED ON /content/TESTdataset/353.jpg\n",
            "Yolo class 1, yolo conf 0.6563290953636169, Hugs class -1\n",
            "/content/TESTdataset/182.jpg\n"
          ]
        },
        {
          "output_type": "stream",
          "name": "stderr",
          "text": [
            "WARNING ⚠️ 'Boxes.boxes' is deprecated. Use 'Boxes.data' instead.\n",
            "<ipython-input-60-051a0d118cd5>:8: FutureWarning: The frame.append method is deprecated and will be removed from pandas in a future version. Use pandas.concat instead.\n",
            "  SUBM.append({'name': filepath, 'class': clas}, ignore_index=True)\n",
            "\n",
            "0: 384x640 1 klikun, 26.6ms\n",
            "Speed: 2.0ms preprocess, 26.6ms inference, 1.4ms postprocess per image at shape (1, 3, 640, 640)\n"
          ]
        },
        {
          "output_type": "stream",
          "name": "stdout",
          "text": [
            "Yolo class 1, yolo conf 0.5106058716773987, Hugs class 1\n",
            "/content/TESTdataset/381.jpg\n"
          ]
        },
        {
          "output_type": "stream",
          "name": "stderr",
          "text": [
            "WARNING ⚠️ 'Boxes.boxes' is deprecated. Use 'Boxes.data' instead.\n",
            "<ipython-input-60-051a0d118cd5>:8: FutureWarning: The frame.append method is deprecated and will be removed from pandas in a future version. Use pandas.concat instead.\n",
            "  SUBM.append({'name': filepath, 'class': clas}, ignore_index=True)\n",
            "\n",
            "0: 480x640 2 klikuns, 1 mal, 29.1ms\n",
            "Speed: 3.3ms preprocess, 29.1ms inference, 1.4ms postprocess per image at shape (1, 3, 640, 640)\n"
          ]
        },
        {
          "output_type": "stream",
          "name": "stdout",
          "text": [
            "Yolo class 0, yolo conf 0.9549691081047058, Hugs class 1\n",
            "/content/TESTdataset/273.jpg\n"
          ]
        },
        {
          "output_type": "stream",
          "name": "stderr",
          "text": [
            "WARNING ⚠️ 'Boxes.boxes' is deprecated. Use 'Boxes.data' instead.\n",
            "<ipython-input-60-051a0d118cd5>:8: FutureWarning: The frame.append method is deprecated and will be removed from pandas in a future version. Use pandas.concat instead.\n",
            "  SUBM.append({'name': filepath, 'class': clas}, ignore_index=True)\n",
            "\n",
            "0: 448x640 1 mal, 28.8ms\n",
            "Speed: 3.2ms preprocess, 28.8ms inference, 1.6ms postprocess per image at shape (1, 3, 640, 640)\n"
          ]
        },
        {
          "output_type": "stream",
          "name": "stdout",
          "text": [
            "Yolo class 0, yolo conf 0.34380920728047687, Hugs class 1\n",
            "/content/TESTdataset/557.jpg\n"
          ]
        },
        {
          "output_type": "stream",
          "name": "stderr",
          "text": [
            "WARNING ⚠️ 'Boxes.boxes' is deprecated. Use 'Boxes.data' instead.\n",
            "<ipython-input-60-051a0d118cd5>:8: FutureWarning: The frame.append method is deprecated and will be removed from pandas in a future version. Use pandas.concat instead.\n",
            "  SUBM.append({'name': filepath, 'class': clas}, ignore_index=True)\n",
            "\n",
            "0: 448x640 1 mal, 27.9ms\n",
            "Speed: 3.1ms preprocess, 27.9ms inference, 1.5ms postprocess per image at shape (1, 3, 640, 640)\n"
          ]
        },
        {
          "output_type": "stream",
          "name": "stdout",
          "text": [
            "Yolo class 1, yolo conf 0.6697695255279541, Hugs class 0\n",
            "/content/TESTdataset/169.jpg\n"
          ]
        },
        {
          "output_type": "stream",
          "name": "stderr",
          "text": [
            "WARNING ⚠️ 'Boxes.boxes' is deprecated. Use 'Boxes.data' instead.\n",
            "<ipython-input-60-051a0d118cd5>:8: FutureWarning: The frame.append method is deprecated and will be removed from pandas in a future version. Use pandas.concat instead.\n",
            "  SUBM.append({'name': filepath, 'class': clas}, ignore_index=True)\n",
            "\n",
            "0: 640x640 4 mals, 37.8ms\n",
            "Speed: 4.3ms preprocess, 37.8ms inference, 1.4ms postprocess per image at shape (1, 3, 640, 640)\n",
            "WARNING ⚠️ 'Boxes.boxes' is deprecated. Use 'Boxes.data' instead.\n",
            "<ipython-input-60-051a0d118cd5>:8: FutureWarning: The frame.append method is deprecated and will be removed from pandas in a future version. Use pandas.concat instead.\n",
            "  SUBM.append({'name': filepath, 'class': clas}, ignore_index=True)\n",
            "\n",
            "0: 384x640 1 ship, 26.6ms\n",
            "Speed: 2.5ms preprocess, 26.6ms inference, 1.5ms postprocess per image at shape (1, 3, 640, 640)\n"
          ]
        },
        {
          "output_type": "stream",
          "name": "stdout",
          "text": [
            "Yolo class 1, yolo conf 0.43908122181892395, Hugs class 1\n",
            "/content/TESTdataset/206.jpg\n",
            "HUGS FAILED ON /content/TESTdataset/206.jpg\n",
            "Yolo class 1, yolo conf 0.4646485596895218, Hugs class -1\n",
            "/content/TESTdataset/263.jpg\n"
          ]
        },
        {
          "output_type": "stream",
          "name": "stderr",
          "text": [
            "WARNING ⚠️ 'Boxes.boxes' is deprecated. Use 'Boxes.data' instead.\n",
            "<ipython-input-60-051a0d118cd5>:8: FutureWarning: The frame.append method is deprecated and will be removed from pandas in a future version. Use pandas.concat instead.\n",
            "  SUBM.append({'name': filepath, 'class': clas}, ignore_index=True)\n",
            "\n",
            "0: 480x640 1 mal, 29.1ms\n",
            "Speed: 3.6ms preprocess, 29.1ms inference, 1.4ms postprocess per image at shape (1, 3, 640, 640)\n"
          ]
        },
        {
          "output_type": "stream",
          "name": "stdout",
          "text": [
            "Yolo class 2, yolo conf 0.9175251126289368, Hugs class 2\n",
            "/content/TESTdataset/527.jpg\n"
          ]
        },
        {
          "output_type": "stream",
          "name": "stderr",
          "text": [
            "WARNING ⚠️ 'Boxes.boxes' is deprecated. Use 'Boxes.data' instead.\n",
            "<ipython-input-60-051a0d118cd5>:8: FutureWarning: The frame.append method is deprecated and will be removed from pandas in a future version. Use pandas.concat instead.\n",
            "  SUBM.append({'name': filepath, 'class': clas}, ignore_index=True)\n",
            "\n",
            "0: 480x640 2 mals, 28.2ms\n",
            "Speed: 2.9ms preprocess, 28.2ms inference, 1.5ms postprocess per image at shape (1, 3, 640, 640)\n"
          ]
        },
        {
          "output_type": "stream",
          "name": "stdout",
          "text": [
            "Yolo class 1, yolo conf 0.5629236102104187, Hugs class 2\n",
            "/content/TESTdataset/496.jpg\n"
          ]
        },
        {
          "output_type": "stream",
          "name": "stderr",
          "text": [
            "WARNING ⚠️ 'Boxes.boxes' is deprecated. Use 'Boxes.data' instead.\n",
            "<ipython-input-60-051a0d118cd5>:8: FutureWarning: The frame.append method is deprecated and will be removed from pandas in a future version. Use pandas.concat instead.\n",
            "  SUBM.append({'name': filepath, 'class': clas}, ignore_index=True)\n",
            "\n",
            "0: 480x640 1 ship, 28.5ms\n",
            "Speed: 3.3ms preprocess, 28.5ms inference, 1.6ms postprocess per image at shape (1, 3, 640, 640)\n"
          ]
        },
        {
          "output_type": "stream",
          "name": "stdout",
          "text": [
            "Yolo class 1, yolo conf 0.5768555700778961, Hugs class 0\n",
            "/content/TESTdataset/441.jpg\n"
          ]
        },
        {
          "output_type": "stream",
          "name": "stderr",
          "text": [
            "WARNING ⚠️ 'Boxes.boxes' is deprecated. Use 'Boxes.data' instead.\n",
            "<ipython-input-60-051a0d118cd5>:8: FutureWarning: The frame.append method is deprecated and will be removed from pandas in a future version. Use pandas.concat instead.\n",
            "  SUBM.append({'name': filepath, 'class': clas}, ignore_index=True)\n",
            "\n",
            "0: 640x480 1 ship, 29.0ms\n",
            "Speed: 3.5ms preprocess, 29.0ms inference, 1.9ms postprocess per image at shape (1, 3, 640, 640)\n"
          ]
        },
        {
          "output_type": "stream",
          "name": "stdout",
          "text": [
            "Yolo class 2, yolo conf 0.8758598566055298, Hugs class 2\n",
            "/content/TESTdataset/2.jpg\n"
          ]
        },
        {
          "output_type": "stream",
          "name": "stderr",
          "text": [
            "WARNING ⚠️ 'Boxes.boxes' is deprecated. Use 'Boxes.data' instead.\n",
            "<ipython-input-60-051a0d118cd5>:8: FutureWarning: The frame.append method is deprecated and will be removed from pandas in a future version. Use pandas.concat instead.\n",
            "  SUBM.append({'name': filepath, 'class': clas}, ignore_index=True)\n",
            "\n",
            "0: 480x640 3 mals, 29.0ms\n",
            "Speed: 3.3ms preprocess, 29.0ms inference, 1.4ms postprocess per image at shape (1, 3, 640, 640)\n"
          ]
        },
        {
          "output_type": "stream",
          "name": "stdout",
          "text": [
            "Yolo class 2, yolo conf 0.7675585746765137, Hugs class 2\n",
            "/content/TESTdataset/566.jpg\n"
          ]
        },
        {
          "output_type": "stream",
          "name": "stderr",
          "text": [
            "WARNING ⚠️ 'Boxes.boxes' is deprecated. Use 'Boxes.data' instead.\n",
            "<ipython-input-60-051a0d118cd5>:8: FutureWarning: The frame.append method is deprecated and will be removed from pandas in a future version. Use pandas.concat instead.\n",
            "  SUBM.append({'name': filepath, 'class': clas}, ignore_index=True)\n",
            "\n",
            "0: 416x640 1 klikun, 28.3ms\n",
            "Speed: 3.3ms preprocess, 28.3ms inference, 1.5ms postprocess per image at shape (1, 3, 640, 640)\n"
          ]
        },
        {
          "output_type": "stream",
          "name": "stdout",
          "text": [
            "Yolo class 1, yolo conf 0.8010108868281046, Hugs class 0\n",
            "/content/TESTdataset/112.jpg\n"
          ]
        },
        {
          "output_type": "stream",
          "name": "stderr",
          "text": [
            "WARNING ⚠️ 'Boxes.boxes' is deprecated. Use 'Boxes.data' instead.\n",
            "<ipython-input-60-051a0d118cd5>:8: FutureWarning: The frame.append method is deprecated and will be removed from pandas in a future version. Use pandas.concat instead.\n",
            "  SUBM.append({'name': filepath, 'class': clas}, ignore_index=True)\n",
            "\n",
            "0: 448x640 4 mals, 28.9ms\n",
            "Speed: 2.9ms preprocess, 28.9ms inference, 1.8ms postprocess per image at shape (1, 3, 640, 640)\n"
          ]
        },
        {
          "output_type": "stream",
          "name": "stdout",
          "text": [
            "Yolo class 0, yolo conf 0.877126932144165, Hugs class 1\n",
            "/content/TESTdataset/99.jpg\n"
          ]
        },
        {
          "output_type": "stream",
          "name": "stderr",
          "text": [
            "WARNING ⚠️ 'Boxes.boxes' is deprecated. Use 'Boxes.data' instead.\n",
            "<ipython-input-60-051a0d118cd5>:8: FutureWarning: The frame.append method is deprecated and will be removed from pandas in a future version. Use pandas.concat instead.\n",
            "  SUBM.append({'name': filepath, 'class': clas}, ignore_index=True)\n",
            "\n",
            "0: 480x640 1 klikun, 29.2ms\n",
            "Speed: 3.7ms preprocess, 29.2ms inference, 1.8ms postprocess per image at shape (1, 3, 640, 640)\n"
          ]
        },
        {
          "output_type": "stream",
          "name": "stdout",
          "text": [
            "Yolo class 1, yolo conf 0.5586203262209892, Hugs class 0\n",
            "/content/TESTdataset/324.jpg\n"
          ]
        },
        {
          "output_type": "stream",
          "name": "stderr",
          "text": [
            "WARNING ⚠️ 'Boxes.boxes' is deprecated. Use 'Boxes.data' instead.\n",
            "<ipython-input-60-051a0d118cd5>:8: FutureWarning: The frame.append method is deprecated and will be removed from pandas in a future version. Use pandas.concat instead.\n",
            "  SUBM.append({'name': filepath, 'class': clas}, ignore_index=True)\n",
            "\n",
            "0: 480x640 1 klikun, 28.2ms\n",
            "Speed: 3.5ms preprocess, 28.2ms inference, 2.0ms postprocess per image at shape (1, 3, 640, 640)\n"
          ]
        },
        {
          "output_type": "stream",
          "name": "stdout",
          "text": [
            "Yolo class 0, yolo conf 0.8486781120300293, Hugs class 1\n",
            "/content/TESTdataset/233.jpg\n"
          ]
        },
        {
          "output_type": "stream",
          "name": "stderr",
          "text": [
            "WARNING ⚠️ 'Boxes.boxes' is deprecated. Use 'Boxes.data' instead.\n",
            "<ipython-input-60-051a0d118cd5>:8: FutureWarning: The frame.append method is deprecated and will be removed from pandas in a future version. Use pandas.concat instead.\n",
            "  SUBM.append({'name': filepath, 'class': clas}, ignore_index=True)\n",
            "\n",
            "0: 480x640 1 ship, 28.2ms\n",
            "Speed: 3.7ms preprocess, 28.2ms inference, 2.0ms postprocess per image at shape (1, 3, 640, 640)\n"
          ]
        },
        {
          "output_type": "stream",
          "name": "stdout",
          "text": [
            "Yolo class 0, yolo conf 0.8302421569824219, Hugs class 1\n",
            "/content/TESTdataset/345.jpg\n"
          ]
        },
        {
          "output_type": "stream",
          "name": "stderr",
          "text": [
            "WARNING ⚠️ 'Boxes.boxes' is deprecated. Use 'Boxes.data' instead.\n",
            "<ipython-input-60-051a0d118cd5>:8: FutureWarning: The frame.append method is deprecated and will be removed from pandas in a future version. Use pandas.concat instead.\n",
            "  SUBM.append({'name': filepath, 'class': clas}, ignore_index=True)\n",
            "\n",
            "0: 416x640 1 klikun, 28.7ms\n",
            "Speed: 2.6ms preprocess, 28.7ms inference, 2.2ms postprocess per image at shape (1, 3, 640, 640)\n"
          ]
        },
        {
          "output_type": "stream",
          "name": "stdout",
          "text": [
            "Yolo class 2, yolo conf 0.8739092946052551, Hugs class 2\n",
            "/content/TESTdataset/218.jpg\n"
          ]
        },
        {
          "output_type": "stream",
          "name": "stderr",
          "text": [
            "WARNING ⚠️ 'Boxes.boxes' is deprecated. Use 'Boxes.data' instead.\n",
            "<ipython-input-60-051a0d118cd5>:8: FutureWarning: The frame.append method is deprecated and will be removed from pandas in a future version. Use pandas.concat instead.\n",
            "  SUBM.append({'name': filepath, 'class': clas}, ignore_index=True)\n",
            "\n",
            "0: 448x640 2 klikuns, 29.6ms\n",
            "Speed: 3.1ms preprocess, 29.6ms inference, 2.2ms postprocess per image at shape (1, 3, 640, 640)\n"
          ]
        },
        {
          "output_type": "stream",
          "name": "stdout",
          "text": [
            "Yolo class 0, yolo conf 0.43735358119010925, Hugs class 2\n",
            "/content/TESTdataset/548.jpg\n"
          ]
        },
        {
          "output_type": "stream",
          "name": "stderr",
          "text": [
            "WARNING ⚠️ 'Boxes.boxes' is deprecated. Use 'Boxes.data' instead.\n",
            "<ipython-input-60-051a0d118cd5>:8: FutureWarning: The frame.append method is deprecated and will be removed from pandas in a future version. Use pandas.concat instead.\n",
            "  SUBM.append({'name': filepath, 'class': clas}, ignore_index=True)\n",
            "\n",
            "0: 448x640 1 ship, 28.1ms\n",
            "Speed: 3.0ms preprocess, 28.1ms inference, 1.6ms postprocess per image at shape (1, 3, 640, 640)\n"
          ]
        },
        {
          "output_type": "stream",
          "name": "stdout",
          "text": [
            "Yolo class 0, yolo conf 0.2932888865470886, Hugs class 1\n",
            "/content/TESTdataset/53.jpg\n"
          ]
        },
        {
          "output_type": "stream",
          "name": "stderr",
          "text": [
            "WARNING ⚠️ 'Boxes.boxes' is deprecated. Use 'Boxes.data' instead.\n",
            "<ipython-input-60-051a0d118cd5>:8: FutureWarning: The frame.append method is deprecated and will be removed from pandas in a future version. Use pandas.concat instead.\n",
            "  SUBM.append({'name': filepath, 'class': clas}, ignore_index=True)\n",
            "\n",
            "0: 448x640 1 ship, 27.9ms\n",
            "Speed: 3.1ms preprocess, 27.9ms inference, 1.6ms postprocess per image at shape (1, 3, 640, 640)\n"
          ]
        },
        {
          "output_type": "stream",
          "name": "stdout",
          "text": [
            "Yolo class 2, yolo conf 0.8665554523468018, Hugs class 0\n",
            "/content/TESTdataset/56.jpg\n"
          ]
        },
        {
          "output_type": "stream",
          "name": "stderr",
          "text": [
            "WARNING ⚠️ 'Boxes.boxes' is deprecated. Use 'Boxes.data' instead.\n",
            "<ipython-input-60-051a0d118cd5>:8: FutureWarning: The frame.append method is deprecated and will be removed from pandas in a future version. Use pandas.concat instead.\n",
            "  SUBM.append({'name': filepath, 'class': clas}, ignore_index=True)\n",
            "\n",
            "0: 448x640 1 mal, 27.8ms\n",
            "Speed: 3.1ms preprocess, 27.8ms inference, 1.7ms postprocess per image at shape (1, 3, 640, 640)\n"
          ]
        },
        {
          "output_type": "stream",
          "name": "stdout",
          "text": [
            "Yolo class 2, yolo conf 0.9080144762992859, Hugs class 2\n",
            "/content/TESTdataset/40.jpg\n"
          ]
        },
        {
          "output_type": "stream",
          "name": "stderr",
          "text": [
            "WARNING ⚠️ 'Boxes.boxes' is deprecated. Use 'Boxes.data' instead.\n",
            "<ipython-input-60-051a0d118cd5>:8: FutureWarning: The frame.append method is deprecated and will be removed from pandas in a future version. Use pandas.concat instead.\n",
            "  SUBM.append({'name': filepath, 'class': clas}, ignore_index=True)\n",
            "\n",
            "0: 480x640 2 mals, 29.4ms\n",
            "Speed: 2.9ms preprocess, 29.4ms inference, 1.4ms postprocess per image at shape (1, 3, 640, 640)\n"
          ]
        },
        {
          "output_type": "stream",
          "name": "stdout",
          "text": [
            "Yolo class 1, yolo conf 0.8603500127792358, Hugs class 0\n",
            "/content/TESTdataset/532.jpg\n"
          ]
        },
        {
          "output_type": "stream",
          "name": "stderr",
          "text": [
            "WARNING ⚠️ 'Boxes.boxes' is deprecated. Use 'Boxes.data' instead.\n",
            "<ipython-input-60-051a0d118cd5>:8: FutureWarning: The frame.append method is deprecated and will be removed from pandas in a future version. Use pandas.concat instead.\n",
            "  SUBM.append({'name': filepath, 'class': clas}, ignore_index=True)\n",
            "\n",
            "0: 448x640 1 klikun, 28.9ms\n",
            "Speed: 3.2ms preprocess, 28.9ms inference, 1.6ms postprocess per image at shape (1, 3, 640, 640)\n"
          ]
        },
        {
          "output_type": "stream",
          "name": "stdout",
          "text": [
            "Yolo class 1, yolo conf 0.4244880974292755, Hugs class 0\n",
            "/content/TESTdataset/271.jpg\n"
          ]
        },
        {
          "output_type": "stream",
          "name": "stderr",
          "text": [
            "WARNING ⚠️ 'Boxes.boxes' is deprecated. Use 'Boxes.data' instead.\n",
            "<ipython-input-60-051a0d118cd5>:8: FutureWarning: The frame.append method is deprecated and will be removed from pandas in a future version. Use pandas.concat instead.\n",
            "  SUBM.append({'name': filepath, 'class': clas}, ignore_index=True)\n",
            "\n",
            "0: 480x640 1 ship, 28.9ms\n",
            "Speed: 3.2ms preprocess, 28.9ms inference, 1.4ms postprocess per image at shape (1, 3, 640, 640)\n"
          ]
        },
        {
          "output_type": "stream",
          "name": "stdout",
          "text": [
            "Yolo class 0, yolo conf 0.6980001926422119, Hugs class 0\n",
            "/content/TESTdataset/138.jpg\n"
          ]
        },
        {
          "output_type": "stream",
          "name": "stderr",
          "text": [
            "WARNING ⚠️ 'Boxes.boxes' is deprecated. Use 'Boxes.data' instead.\n",
            "<ipython-input-60-051a0d118cd5>:8: FutureWarning: The frame.append method is deprecated and will be removed from pandas in a future version. Use pandas.concat instead.\n",
            "  SUBM.append({'name': filepath, 'class': clas}, ignore_index=True)\n",
            "\n",
            "0: 384x640 2 mals, 26.6ms\n",
            "Speed: 2.5ms preprocess, 26.6ms inference, 1.4ms postprocess per image at shape (1, 3, 640, 640)\n"
          ]
        },
        {
          "output_type": "stream",
          "name": "stdout",
          "text": [
            "Yolo class 2, yolo conf 0.9170342087745667, Hugs class 2\n",
            "/content/TESTdataset/348.jpg\n"
          ]
        },
        {
          "output_type": "stream",
          "name": "stderr",
          "text": [
            "WARNING ⚠️ 'Boxes.boxes' is deprecated. Use 'Boxes.data' instead.\n",
            "<ipython-input-60-051a0d118cd5>:8: FutureWarning: The frame.append method is deprecated and will be removed from pandas in a future version. Use pandas.concat instead.\n",
            "  SUBM.append({'name': filepath, 'class': clas}, ignore_index=True)\n",
            "\n",
            "0: 416x640 1 klikun, 28.4ms\n",
            "Speed: 3.2ms preprocess, 28.4ms inference, 1.8ms postprocess per image at shape (1, 3, 640, 640)\n"
          ]
        },
        {
          "output_type": "stream",
          "name": "stdout",
          "text": [
            "Yolo class 1, yolo conf 0.769145131111145, Hugs class 0\n",
            "/content/TESTdataset/139.jpg\n"
          ]
        },
        {
          "output_type": "stream",
          "name": "stderr",
          "text": [
            "WARNING ⚠️ 'Boxes.boxes' is deprecated. Use 'Boxes.data' instead.\n",
            "<ipython-input-60-051a0d118cd5>:8: FutureWarning: The frame.append method is deprecated and will be removed from pandas in a future version. Use pandas.concat instead.\n",
            "  SUBM.append({'name': filepath, 'class': clas}, ignore_index=True)\n",
            "\n",
            "0: 448x640 1 klikun, 28.7ms\n",
            "Speed: 3.5ms preprocess, 28.7ms inference, 1.6ms postprocess per image at shape (1, 3, 640, 640)\n"
          ]
        },
        {
          "output_type": "stream",
          "name": "stdout",
          "text": [
            "Yolo class 0, yolo conf 0.7842774391174316, Hugs class 1\n",
            "/content/TESTdataset/304.jpg\n"
          ]
        },
        {
          "output_type": "stream",
          "name": "stderr",
          "text": [
            "WARNING ⚠️ 'Boxes.boxes' is deprecated. Use 'Boxes.data' instead.\n",
            "<ipython-input-60-051a0d118cd5>:8: FutureWarning: The frame.append method is deprecated and will be removed from pandas in a future version. Use pandas.concat instead.\n",
            "  SUBM.append({'name': filepath, 'class': clas}, ignore_index=True)\n",
            "\n",
            "0: 480x640 1 ship, 29.1ms\n",
            "Speed: 3.8ms preprocess, 29.1ms inference, 1.5ms postprocess per image at shape (1, 3, 640, 640)\n"
          ]
        },
        {
          "output_type": "stream",
          "name": "stdout",
          "text": [
            "Yolo class 0, yolo conf 0.9405857920646667, Hugs class 1\n",
            "/content/TESTdataset/238.jpg\n"
          ]
        },
        {
          "output_type": "stream",
          "name": "stderr",
          "text": [
            "WARNING ⚠️ 'Boxes.boxes' is deprecated. Use 'Boxes.data' instead.\n",
            "<ipython-input-60-051a0d118cd5>:8: FutureWarning: The frame.append method is deprecated and will be removed from pandas in a future version. Use pandas.concat instead.\n",
            "  SUBM.append({'name': filepath, 'class': clas}, ignore_index=True)\n",
            "\n",
            "0: 640x640 2 mals, 37.9ms\n",
            "Speed: 3.5ms preprocess, 37.9ms inference, 1.4ms postprocess per image at shape (1, 3, 640, 640)\n"
          ]
        },
        {
          "output_type": "stream",
          "name": "stdout",
          "text": [
            "Yolo class 2, yolo conf 0.505651593208313, Hugs class 2\n",
            "/content/TESTdataset/382.jpg\n"
          ]
        },
        {
          "output_type": "stream",
          "name": "stderr",
          "text": [
            "WARNING ⚠️ 'Boxes.boxes' is deprecated. Use 'Boxes.data' instead.\n",
            "<ipython-input-60-051a0d118cd5>:8: FutureWarning: The frame.append method is deprecated and will be removed from pandas in a future version. Use pandas.concat instead.\n",
            "  SUBM.append({'name': filepath, 'class': clas}, ignore_index=True)\n",
            "\n",
            "0: 480x640 1 klikun, 29.6ms\n",
            "Speed: 4.7ms preprocess, 29.6ms inference, 1.5ms postprocess per image at shape (1, 3, 640, 640)\n"
          ]
        },
        {
          "output_type": "stream",
          "name": "stdout",
          "text": [
            "Yolo class 1, yolo conf 0.8897430300712585, Hugs class 0\n",
            "/content/TESTdataset/331.jpg\n"
          ]
        },
        {
          "output_type": "stream",
          "name": "stderr",
          "text": [
            "WARNING ⚠️ 'Boxes.boxes' is deprecated. Use 'Boxes.data' instead.\n",
            "<ipython-input-60-051a0d118cd5>:8: FutureWarning: The frame.append method is deprecated and will be removed from pandas in a future version. Use pandas.concat instead.\n",
            "  SUBM.append({'name': filepath, 'class': clas}, ignore_index=True)\n",
            "\n",
            "0: 480x640 1 klikun, 28.3ms\n",
            "Speed: 3.5ms preprocess, 28.3ms inference, 1.6ms postprocess per image at shape (1, 3, 640, 640)\n"
          ]
        },
        {
          "output_type": "stream",
          "name": "stdout",
          "text": [
            "Yolo class 0, yolo conf 0.3219256103038788, Hugs class 2\n",
            "/content/TESTdataset/454.jpg\n"
          ]
        },
        {
          "output_type": "stream",
          "name": "stderr",
          "text": [
            "WARNING ⚠️ 'Boxes.boxes' is deprecated. Use 'Boxes.data' instead.\n",
            "<ipython-input-60-051a0d118cd5>:8: FutureWarning: The frame.append method is deprecated and will be removed from pandas in a future version. Use pandas.concat instead.\n",
            "  SUBM.append({'name': filepath, 'class': clas}, ignore_index=True)\n",
            "\n",
            "0: 480x640 1 ship, 28.3ms\n",
            "Speed: 3.6ms preprocess, 28.3ms inference, 1.6ms postprocess per image at shape (1, 3, 640, 640)\n"
          ]
        },
        {
          "output_type": "stream",
          "name": "stdout",
          "text": [
            "Yolo class 0, yolo conf 0.45740747451782227, Hugs class 0\n",
            "/content/TESTdataset/246.jpg\n"
          ]
        },
        {
          "output_type": "stream",
          "name": "stderr",
          "text": [
            "WARNING ⚠️ 'Boxes.boxes' is deprecated. Use 'Boxes.data' instead.\n",
            "<ipython-input-60-051a0d118cd5>:8: FutureWarning: The frame.append method is deprecated and will be removed from pandas in a future version. Use pandas.concat instead.\n",
            "  SUBM.append({'name': filepath, 'class': clas}, ignore_index=True)\n",
            "\n",
            "0: 448x640 1 ship, 28.6ms\n",
            "Speed: 3.4ms preprocess, 28.6ms inference, 1.5ms postprocess per image at shape (1, 3, 640, 640)\n"
          ]
        },
        {
          "output_type": "stream",
          "name": "stdout",
          "text": [
            "Yolo class 2, yolo conf 0.27855902910232544, Hugs class 2\n",
            "/content/TESTdataset/586.jpg\n"
          ]
        },
        {
          "output_type": "stream",
          "name": "stderr",
          "text": [
            "WARNING ⚠️ 'Boxes.boxes' is deprecated. Use 'Boxes.data' instead.\n",
            "<ipython-input-60-051a0d118cd5>:8: FutureWarning: The frame.append method is deprecated and will be removed from pandas in a future version. Use pandas.concat instead.\n",
            "  SUBM.append({'name': filepath, 'class': clas}, ignore_index=True)\n",
            "\n",
            "0: 608x640 2 ships, 37.4ms\n",
            "Speed: 3.3ms preprocess, 37.4ms inference, 1.9ms postprocess per image at shape (1, 3, 640, 640)\n"
          ]
        },
        {
          "output_type": "stream",
          "name": "stdout",
          "text": [
            "Yolo class 2, yolo conf 0.9208477139472961, Hugs class 2\n",
            "/content/TESTdataset/546.jpg\n"
          ]
        },
        {
          "output_type": "stream",
          "name": "stderr",
          "text": [
            "WARNING ⚠️ 'Boxes.boxes' is deprecated. Use 'Boxes.data' instead.\n",
            "<ipython-input-60-051a0d118cd5>:8: FutureWarning: The frame.append method is deprecated and will be removed from pandas in a future version. Use pandas.concat instead.\n",
            "  SUBM.append({'name': filepath, 'class': clas}, ignore_index=True)\n",
            "\n",
            "0: 448x640 1 ship, 28.9ms\n",
            "Speed: 3.0ms preprocess, 28.9ms inference, 1.9ms postprocess per image at shape (1, 3, 640, 640)\n"
          ]
        },
        {
          "output_type": "stream",
          "name": "stdout",
          "text": [
            "Yolo class 2, yolo conf 0.5581438392400742, Hugs class 2\n",
            "/content/TESTdataset/11.jpg\n"
          ]
        },
        {
          "output_type": "stream",
          "name": "stderr",
          "text": [
            "WARNING ⚠️ 'Boxes.boxes' is deprecated. Use 'Boxes.data' instead.\n",
            "<ipython-input-60-051a0d118cd5>:8: FutureWarning: The frame.append method is deprecated and will be removed from pandas in a future version. Use pandas.concat instead.\n",
            "  SUBM.append({'name': filepath, 'class': clas}, ignore_index=True)\n",
            "\n",
            "0: 640x480 2 ships, 29.3ms\n",
            "Speed: 3.6ms preprocess, 29.3ms inference, 2.1ms postprocess per image at shape (1, 3, 640, 640)\n"
          ]
        },
        {
          "output_type": "stream",
          "name": "stdout",
          "text": [
            "Yolo class 2, yolo conf 0.9323093295097351, Hugs class 2\n",
            "/content/TESTdataset/583.jpg\n"
          ]
        },
        {
          "output_type": "stream",
          "name": "stderr",
          "text": [
            "WARNING ⚠️ 'Boxes.boxes' is deprecated. Use 'Boxes.data' instead.\n",
            "<ipython-input-60-051a0d118cd5>:8: FutureWarning: The frame.append method is deprecated and will be removed from pandas in a future version. Use pandas.concat instead.\n",
            "  SUBM.append({'name': filepath, 'class': clas}, ignore_index=True)\n",
            "\n",
            "0: 640x480 4 mals, 28.2ms\n",
            "Speed: 3.2ms preprocess, 28.2ms inference, 1.9ms postprocess per image at shape (1, 3, 640, 640)\n"
          ]
        },
        {
          "output_type": "stream",
          "name": "stdout",
          "text": [
            "Yolo class 2, yolo conf 0.4566418379545212, Hugs class 2\n",
            "/content/TESTdataset/1.jpg\n"
          ]
        },
        {
          "output_type": "stream",
          "name": "stderr",
          "text": [
            "WARNING ⚠️ 'Boxes.boxes' is deprecated. Use 'Boxes.data' instead.\n",
            "<ipython-input-60-051a0d118cd5>:8: FutureWarning: The frame.append method is deprecated and will be removed from pandas in a future version. Use pandas.concat instead.\n",
            "  SUBM.append({'name': filepath, 'class': clas}, ignore_index=True)\n",
            "\n",
            "0: 384x640 1 ship, 27.0ms\n",
            "Speed: 2.3ms preprocess, 27.0ms inference, 2.2ms postprocess per image at shape (1, 3, 640, 640)\n"
          ]
        },
        {
          "output_type": "stream",
          "name": "stdout",
          "text": [
            "Yolo class 1, yolo conf 0.535380557179451, Hugs class 0\n",
            "/content/TESTdataset/176.jpg\n"
          ]
        },
        {
          "output_type": "stream",
          "name": "stderr",
          "text": [
            "WARNING ⚠️ 'Boxes.boxes' is deprecated. Use 'Boxes.data' instead.\n",
            "<ipython-input-60-051a0d118cd5>:8: FutureWarning: The frame.append method is deprecated and will be removed from pandas in a future version. Use pandas.concat instead.\n",
            "  SUBM.append({'name': filepath, 'class': clas}, ignore_index=True)\n",
            "\n",
            "0: 544x640 1 klikun, 99.5ms\n",
            "Speed: 3.4ms preprocess, 99.5ms inference, 2.2ms postprocess per image at shape (1, 3, 640, 640)\n"
          ]
        },
        {
          "output_type": "stream",
          "name": "stdout",
          "text": [
            "Yolo class 2, yolo conf 0.5479578375816345, Hugs class 1\n",
            "/content/TESTdataset/302.jpg\n"
          ]
        },
        {
          "output_type": "stream",
          "name": "stderr",
          "text": [
            "WARNING ⚠️ 'Boxes.boxes' is deprecated. Use 'Boxes.data' instead.\n",
            "<ipython-input-60-051a0d118cd5>:8: FutureWarning: The frame.append method is deprecated and will be removed from pandas in a future version. Use pandas.concat instead.\n",
            "  SUBM.append({'name': filepath, 'class': clas}, ignore_index=True)\n",
            "\n",
            "0: 512x640 1 mal, 29.2ms\n",
            "Speed: 3.1ms preprocess, 29.2ms inference, 1.4ms postprocess per image at shape (1, 3, 640, 640)\n"
          ]
        },
        {
          "output_type": "stream",
          "name": "stdout",
          "text": [
            "Yolo class 0, yolo conf 0.8462203145027161, Hugs class 1\n",
            "/content/TESTdataset/344.jpg\n"
          ]
        },
        {
          "output_type": "stream",
          "name": "stderr",
          "text": [
            "WARNING ⚠️ 'Boxes.boxes' is deprecated. Use 'Boxes.data' instead.\n",
            "<ipython-input-60-051a0d118cd5>:8: FutureWarning: The frame.append method is deprecated and will be removed from pandas in a future version. Use pandas.concat instead.\n",
            "  SUBM.append({'name': filepath, 'class': clas}, ignore_index=True)\n",
            "\n",
            "0: 448x640 1 klikun, 28.7ms\n",
            "Speed: 3.0ms preprocess, 28.7ms inference, 1.5ms postprocess per image at shape (1, 3, 640, 640)\n"
          ]
        },
        {
          "output_type": "stream",
          "name": "stdout",
          "text": [
            "Yolo class 1, yolo conf 0.7411715984344482, Hugs class 2\n",
            "/content/TESTdataset/230.jpg\n"
          ]
        },
        {
          "output_type": "stream",
          "name": "stderr",
          "text": [
            "WARNING ⚠️ 'Boxes.boxes' is deprecated. Use 'Boxes.data' instead.\n",
            "<ipython-input-60-051a0d118cd5>:8: FutureWarning: The frame.append method is deprecated and will be removed from pandas in a future version. Use pandas.concat instead.\n",
            "  SUBM.append({'name': filepath, 'class': clas}, ignore_index=True)\n",
            "\n",
            "0: 480x640 1 ship, 29.0ms\n",
            "Speed: 3.1ms preprocess, 29.0ms inference, 1.4ms postprocess per image at shape (1, 3, 640, 640)\n"
          ]
        },
        {
          "output_type": "stream",
          "name": "stdout",
          "text": [
            "Yolo class 0, yolo conf 0.6152582168579102, Hugs class 2\n",
            "/content/TESTdataset/88.jpg\n"
          ]
        },
        {
          "output_type": "stream",
          "name": "stderr",
          "text": [
            "WARNING ⚠️ 'Boxes.boxes' is deprecated. Use 'Boxes.data' instead.\n",
            "<ipython-input-60-051a0d118cd5>:8: FutureWarning: The frame.append method is deprecated and will be removed from pandas in a future version. Use pandas.concat instead.\n",
            "  SUBM.append({'name': filepath, 'class': clas}, ignore_index=True)\n",
            "\n",
            "0: 576x640 1 klikun, 2 mals, 36.3ms\n",
            "Speed: 3.2ms preprocess, 36.3ms inference, 1.5ms postprocess per image at shape (1, 3, 640, 640)\n",
            "WARNING ⚠️ 'Boxes.boxes' is deprecated. Use 'Boxes.data' instead.\n",
            "<ipython-input-60-051a0d118cd5>:8: FutureWarning: The frame.append method is deprecated and will be removed from pandas in a future version. Use pandas.concat instead.\n",
            "  SUBM.append({'name': filepath, 'class': clas}, ignore_index=True)\n",
            "\n",
            "0: 576x640 2 mals, 35.7ms\n",
            "Speed: 3.2ms preprocess, 35.7ms inference, 3.5ms postprocess per image at shape (1, 3, 640, 640)\n",
            "WARNING ⚠️ 'Boxes.boxes' is deprecated. Use 'Boxes.data' instead.\n"
          ]
        },
        {
          "output_type": "stream",
          "name": "stdout",
          "text": [
            "Yolo class 2, yolo conf 0.5811526775360107, Hugs class 2\n",
            "/content/TESTdataset/201.jpg\n",
            "HUGS FAILED ON /content/TESTdataset/201.jpg\n",
            "Yolo class 1, yolo conf 0.30259113510449726, Hugs class -1\n",
            "/content/TESTdataset/257.jpg\n",
            "HUGS FAILED ON /content/TESTdataset/257.jpg\n",
            "Yolo class 1, yolo conf 0.8388924896717072, Hugs class -1\n",
            "/content/TESTdataset/572.jpg\n"
          ]
        },
        {
          "output_type": "stream",
          "name": "stderr",
          "text": [
            "<ipython-input-60-051a0d118cd5>:8: FutureWarning: The frame.append method is deprecated and will be removed from pandas in a future version. Use pandas.concat instead.\n",
            "  SUBM.append({'name': filepath, 'class': clas}, ignore_index=True)\n",
            "\n",
            "0: 448x640 1 mal, 28.5ms\n",
            "Speed: 4.7ms preprocess, 28.5ms inference, 1.4ms postprocess per image at shape (1, 3, 640, 640)\n",
            "WARNING ⚠️ 'Boxes.boxes' is deprecated. Use 'Boxes.data' instead.\n",
            "<ipython-input-60-051a0d118cd5>:8: FutureWarning: The frame.append method is deprecated and will be removed from pandas in a future version. Use pandas.concat instead.\n",
            "  SUBM.append({'name': filepath, 'class': clas}, ignore_index=True)\n",
            "\n",
            "0: 448x640 1 ship, 27.8ms\n",
            "Speed: 3.1ms preprocess, 27.8ms inference, 1.5ms postprocess per image at shape (1, 3, 640, 640)\n"
          ]
        },
        {
          "output_type": "stream",
          "name": "stdout",
          "text": [
            "Yolo class 1, yolo conf 0.7562788128852844, Hugs class 1\n",
            "/content/TESTdataset/312.jpg\n"
          ]
        },
        {
          "output_type": "stream",
          "name": "stderr",
          "text": [
            "WARNING ⚠️ 'Boxes.boxes' is deprecated. Use 'Boxes.data' instead.\n",
            "<ipython-input-60-051a0d118cd5>:8: FutureWarning: The frame.append method is deprecated and will be removed from pandas in a future version. Use pandas.concat instead.\n",
            "  SUBM.append({'name': filepath, 'class': clas}, ignore_index=True)\n",
            "\n",
            "0: 640x576 1 mal, 36.7ms\n",
            "Speed: 4.3ms preprocess, 36.7ms inference, 1.5ms postprocess per image at shape (1, 3, 640, 640)\n",
            "WARNING ⚠️ 'Boxes.boxes' is deprecated. Use 'Boxes.data' instead.\n",
            "<ipython-input-60-051a0d118cd5>:8: FutureWarning: The frame.append method is deprecated and will be removed from pandas in a future version. Use pandas.concat instead.\n",
            "  SUBM.append({'name': filepath, 'class': clas}, ignore_index=True)\n",
            "\n",
            "0: 448x640 1 ship, 28.7ms\n",
            "Speed: 2.8ms preprocess, 28.7ms inference, 1.4ms postprocess per image at shape (1, 3, 640, 640)\n"
          ]
        },
        {
          "output_type": "stream",
          "name": "stdout",
          "text": [
            "Yolo class 2, yolo conf 0.8877429366111755, Hugs class 2\n",
            "/content/TESTdataset/15.jpg\n",
            "HUGS FAILED ON /content/TESTdataset/15.jpg\n",
            "Yolo class 1, yolo conf 0.9252008199691772, Hugs class -1\n",
            "/content/TESTdataset/19.jpg\n"
          ]
        },
        {
          "output_type": "stream",
          "name": "stderr",
          "text": [
            "WARNING ⚠️ 'Boxes.boxes' is deprecated. Use 'Boxes.data' instead.\n",
            "<ipython-input-60-051a0d118cd5>:8: FutureWarning: The frame.append method is deprecated and will be removed from pandas in a future version. Use pandas.concat instead.\n",
            "  SUBM.append({'name': filepath, 'class': clas}, ignore_index=True)\n",
            "\n",
            "0: 640x640 1 ship, 37.9ms\n",
            "Speed: 4.4ms preprocess, 37.9ms inference, 1.5ms postprocess per image at shape (1, 3, 640, 640)\n"
          ]
        },
        {
          "output_type": "stream",
          "name": "stdout",
          "text": [
            "Yolo class 2, yolo conf 0.8795952200889587, Hugs class 2\n",
            "/content/TESTdataset/456.jpg\n"
          ]
        },
        {
          "output_type": "stream",
          "name": "stderr",
          "text": [
            "WARNING ⚠️ 'Boxes.boxes' is deprecated. Use 'Boxes.data' instead.\n",
            "<ipython-input-60-051a0d118cd5>:8: FutureWarning: The frame.append method is deprecated and will be removed from pandas in a future version. Use pandas.concat instead.\n",
            "  SUBM.append({'name': filepath, 'class': clas}, ignore_index=True)\n",
            "\n",
            "0: 480x640 1 klikun, 1 mal, 29.1ms\n",
            "Speed: 4.0ms preprocess, 29.1ms inference, 1.5ms postprocess per image at shape (1, 3, 640, 640)\n"
          ]
        },
        {
          "output_type": "stream",
          "name": "stdout",
          "text": [
            "Yolo class 2, yolo conf 0.5557541847229004, Hugs class 2\n",
            "/content/TESTdataset/8.jpg\n"
          ]
        },
        {
          "output_type": "stream",
          "name": "stderr",
          "text": [
            "WARNING ⚠️ 'Boxes.boxes' is deprecated. Use 'Boxes.data' instead.\n",
            "<ipython-input-60-051a0d118cd5>:8: FutureWarning: The frame.append method is deprecated and will be removed from pandas in a future version. Use pandas.concat instead.\n",
            "  SUBM.append({'name': filepath, 'class': clas}, ignore_index=True)\n",
            "\n",
            "0: 448x640 1 klikun, 1 mal, 28.9ms\n",
            "Speed: 3.2ms preprocess, 28.9ms inference, 1.5ms postprocess per image at shape (1, 3, 640, 640)\n"
          ]
        },
        {
          "output_type": "stream",
          "name": "stdout",
          "text": [
            "Yolo class 1, yolo conf 0.2778985798358917, Hugs class 0\n",
            "/content/TESTdataset/419.jpg\n"
          ]
        },
        {
          "output_type": "stream",
          "name": "stderr",
          "text": [
            "WARNING ⚠️ 'Boxes.boxes' is deprecated. Use 'Boxes.data' instead.\n",
            "<ipython-input-60-051a0d118cd5>:8: FutureWarning: The frame.append method is deprecated and will be removed from pandas in a future version. Use pandas.concat instead.\n",
            "  SUBM.append({'name': filepath, 'class': clas}, ignore_index=True)\n",
            "\n",
            "0: 640x640 1 ship, 37.8ms\n",
            "Speed: 5.1ms preprocess, 37.8ms inference, 1.4ms postprocess per image at shape (1, 3, 640, 640)\n"
          ]
        },
        {
          "output_type": "stream",
          "name": "stdout",
          "text": [
            "Yolo class 0, yolo conf 0.1776483803987503, Hugs class 0\n",
            "/content/TESTdataset/534.jpg\n"
          ]
        },
        {
          "output_type": "stream",
          "name": "stderr",
          "text": [
            "WARNING ⚠️ 'Boxes.boxes' is deprecated. Use 'Boxes.data' instead.\n",
            "<ipython-input-60-051a0d118cd5>:8: FutureWarning: The frame.append method is deprecated and will be removed from pandas in a future version. Use pandas.concat instead.\n",
            "  SUBM.append({'name': filepath, 'class': clas}, ignore_index=True)\n",
            "\n",
            "0: 512x640 1 ship, 29.5ms\n",
            "Speed: 3.3ms preprocess, 29.5ms inference, 1.5ms postprocess per image at shape (1, 3, 640, 640)\n"
          ]
        },
        {
          "output_type": "stream",
          "name": "stdout",
          "text": [
            "Yolo class 2, yolo conf 0.9141955375671387, Hugs class 0\n",
            "/content/TESTdataset/223.jpg\n"
          ]
        },
        {
          "output_type": "stream",
          "name": "stderr",
          "text": [
            "WARNING ⚠️ 'Boxes.boxes' is deprecated. Use 'Boxes.data' instead.\n",
            "<ipython-input-60-051a0d118cd5>:8: FutureWarning: The frame.append method is deprecated and will be removed from pandas in a future version. Use pandas.concat instead.\n",
            "  SUBM.append({'name': filepath, 'class': clas}, ignore_index=True)\n",
            "\n",
            "0: 480x640 1 mal, 29.5ms\n",
            "Speed: 3.6ms preprocess, 29.5ms inference, 2.3ms postprocess per image at shape (1, 3, 640, 640)\n"
          ]
        },
        {
          "output_type": "stream",
          "name": "stdout",
          "text": [
            "Yolo class 2, yolo conf 0.8574029803276062, Hugs class 2\n",
            "/content/TESTdataset/157.jpg\n"
          ]
        },
        {
          "output_type": "stream",
          "name": "stderr",
          "text": [
            "WARNING ⚠️ 'Boxes.boxes' is deprecated. Use 'Boxes.data' instead.\n",
            "<ipython-input-60-051a0d118cd5>:8: FutureWarning: The frame.append method is deprecated and will be removed from pandas in a future version. Use pandas.concat instead.\n",
            "  SUBM.append({'name': filepath, 'class': clas}, ignore_index=True)\n",
            "\n",
            "0: 640x640 1 klikun, 38.3ms\n",
            "Speed: 3.8ms preprocess, 38.3ms inference, 2.0ms postprocess per image at shape (1, 3, 640, 640)\n"
          ]
        },
        {
          "output_type": "stream",
          "name": "stdout",
          "text": [
            "Yolo class 1, yolo conf 0.7591317892074585, Hugs class 0\n",
            "/content/TESTdataset/585.jpg\n"
          ]
        },
        {
          "output_type": "stream",
          "name": "stderr",
          "text": [
            "WARNING ⚠️ 'Boxes.boxes' is deprecated. Use 'Boxes.data' instead.\n",
            "<ipython-input-60-051a0d118cd5>:8: FutureWarning: The frame.append method is deprecated and will be removed from pandas in a future version. Use pandas.concat instead.\n",
            "  SUBM.append({'name': filepath, 'class': clas}, ignore_index=True)\n",
            "\n",
            "0: 448x640 2 mals, 28.6ms\n",
            "Speed: 2.7ms preprocess, 28.6ms inference, 1.4ms postprocess per image at shape (1, 3, 640, 640)\n"
          ]
        },
        {
          "output_type": "stream",
          "name": "stdout",
          "text": [
            "Yolo class 0, yolo conf 0.6245754361152649, Hugs class 1\n",
            "/content/TESTdataset/249.jpg\n"
          ]
        },
        {
          "output_type": "stream",
          "name": "stderr",
          "text": [
            "WARNING ⚠️ 'Boxes.boxes' is deprecated. Use 'Boxes.data' instead.\n",
            "<ipython-input-60-051a0d118cd5>:8: FutureWarning: The frame.append method is deprecated and will be removed from pandas in a future version. Use pandas.concat instead.\n",
            "  SUBM.append({'name': filepath, 'class': clas}, ignore_index=True)\n",
            "\n",
            "0: 480x640 1 klikun, 29.2ms\n",
            "Speed: 3.0ms preprocess, 29.2ms inference, 1.9ms postprocess per image at shape (1, 3, 640, 640)\n"
          ]
        },
        {
          "output_type": "stream",
          "name": "stdout",
          "text": [
            "Yolo class 1, yolo conf 0.7286523878574371, Hugs class 0\n",
            "/content/TESTdataset/259.jpg\n"
          ]
        },
        {
          "output_type": "stream",
          "name": "stderr",
          "text": [
            "WARNING ⚠️ 'Boxes.boxes' is deprecated. Use 'Boxes.data' instead.\n",
            "<ipython-input-60-051a0d118cd5>:8: FutureWarning: The frame.append method is deprecated and will be removed from pandas in a future version. Use pandas.concat instead.\n",
            "  SUBM.append({'name': filepath, 'class': clas}, ignore_index=True)\n",
            "\n",
            "0: 480x640 1 ship, 28.6ms\n",
            "Speed: 6.0ms preprocess, 28.6ms inference, 2.4ms postprocess per image at shape (1, 3, 640, 640)\n"
          ]
        },
        {
          "output_type": "stream",
          "name": "stdout",
          "text": [
            "Yolo class 0, yolo conf 0.7158023715019226, Hugs class 1\n",
            "/content/TESTdataset/437.jpg\n"
          ]
        },
        {
          "output_type": "stream",
          "name": "stderr",
          "text": [
            "WARNING ⚠️ 'Boxes.boxes' is deprecated. Use 'Boxes.data' instead.\n",
            "<ipython-input-60-051a0d118cd5>:8: FutureWarning: The frame.append method is deprecated and will be removed from pandas in a future version. Use pandas.concat instead.\n",
            "  SUBM.append({'name': filepath, 'class': clas}, ignore_index=True)\n",
            "\n",
            "0: 480x640 1 ship, 29.9ms\n",
            "Speed: 3.0ms preprocess, 29.9ms inference, 2.0ms postprocess per image at shape (1, 3, 640, 640)\n"
          ]
        },
        {
          "output_type": "stream",
          "name": "stdout",
          "text": [
            "Yolo class 2, yolo conf 0.7594041228294373, Hugs class 2\n",
            "/content/TESTdataset/38.jpg\n"
          ]
        },
        {
          "output_type": "stream",
          "name": "stderr",
          "text": [
            "WARNING ⚠️ 'Boxes.boxes' is deprecated. Use 'Boxes.data' instead.\n",
            "<ipython-input-60-051a0d118cd5>:8: FutureWarning: The frame.append method is deprecated and will be removed from pandas in a future version. Use pandas.concat instead.\n",
            "  SUBM.append({'name': filepath, 'class': clas}, ignore_index=True)\n",
            "\n",
            "0: 576x640 2 mals, 36.6ms\n",
            "Speed: 3.4ms preprocess, 36.6ms inference, 1.9ms postprocess per image at shape (1, 3, 640, 640)\n"
          ]
        },
        {
          "output_type": "stream",
          "name": "stdout",
          "text": [
            "Yolo class 2, yolo conf 0.937057614326477, Hugs class 2\n",
            "/content/TESTdataset/326.jpg\n"
          ]
        },
        {
          "output_type": "stream",
          "name": "stderr",
          "text": [
            "WARNING ⚠️ 'Boxes.boxes' is deprecated. Use 'Boxes.data' instead.\n",
            "<ipython-input-60-051a0d118cd5>:8: FutureWarning: The frame.append method is deprecated and will be removed from pandas in a future version. Use pandas.concat instead.\n",
            "  SUBM.append({'name': filepath, 'class': clas}, ignore_index=True)\n",
            "\n",
            "0: 448x640 1 klikun, 29.0ms\n",
            "Speed: 2.7ms preprocess, 29.0ms inference, 2.1ms postprocess per image at shape (1, 3, 640, 640)\n"
          ]
        },
        {
          "output_type": "stream",
          "name": "stdout",
          "text": [
            "Yolo class 1, yolo conf 0.8024218082427979, Hugs class 0\n",
            "/content/TESTdataset/186.jpg\n"
          ]
        },
        {
          "output_type": "stream",
          "name": "stderr",
          "text": [
            "WARNING ⚠️ 'Boxes.boxes' is deprecated. Use 'Boxes.data' instead.\n",
            "<ipython-input-60-051a0d118cd5>:8: FutureWarning: The frame.append method is deprecated and will be removed from pandas in a future version. Use pandas.concat instead.\n",
            "  SUBM.append({'name': filepath, 'class': clas}, ignore_index=True)\n",
            "\n",
            "0: 448x640 1 klikun, 27.9ms\n",
            "Speed: 3.1ms preprocess, 27.9ms inference, 2.4ms postprocess per image at shape (1, 3, 640, 640)\n"
          ]
        },
        {
          "output_type": "stream",
          "name": "stdout",
          "text": [
            "Yolo class 0, yolo conf 0.515870213508606, Hugs class 2\n",
            "/content/TESTdataset/26.jpg\n"
          ]
        },
        {
          "output_type": "stream",
          "name": "stderr",
          "text": [
            "WARNING ⚠️ 'Boxes.boxes' is deprecated. Use 'Boxes.data' instead.\n",
            "<ipython-input-60-051a0d118cd5>:8: FutureWarning: The frame.append method is deprecated and will be removed from pandas in a future version. Use pandas.concat instead.\n",
            "  SUBM.append({'name': filepath, 'class': clas}, ignore_index=True)\n",
            "\n",
            "0: 480x640 1 klikun, 29.3ms\n",
            "Speed: 3.7ms preprocess, 29.3ms inference, 1.6ms postprocess per image at shape (1, 3, 640, 640)\n"
          ]
        },
        {
          "output_type": "stream",
          "name": "stdout",
          "text": [
            "Yolo class 0, yolo conf 0.4705449342727661, Hugs class 0\n",
            "/content/TESTdataset/357.jpg\n"
          ]
        },
        {
          "output_type": "stream",
          "name": "stderr",
          "text": [
            "WARNING ⚠️ 'Boxes.boxes' is deprecated. Use 'Boxes.data' instead.\n",
            "<ipython-input-60-051a0d118cd5>:8: FutureWarning: The frame.append method is deprecated and will be removed from pandas in a future version. Use pandas.concat instead.\n",
            "  SUBM.append({'name': filepath, 'class': clas}, ignore_index=True)\n",
            "\n",
            "0: 448x640 6 mals, 28.7ms\n",
            "Speed: 3.3ms preprocess, 28.7ms inference, 1.5ms postprocess per image at shape (1, 3, 640, 640)\n"
          ]
        },
        {
          "output_type": "stream",
          "name": "stdout",
          "text": [
            "Yolo class 0, yolo conf 0.8917353749275208, Hugs class 1\n",
            "/content/TESTdataset/120.jpg\n"
          ]
        },
        {
          "output_type": "stream",
          "name": "stderr",
          "text": [
            "WARNING ⚠️ 'Boxes.boxes' is deprecated. Use 'Boxes.data' instead.\n",
            "<ipython-input-60-051a0d118cd5>:8: FutureWarning: The frame.append method is deprecated and will be removed from pandas in a future version. Use pandas.concat instead.\n",
            "  SUBM.append({'name': filepath, 'class': clas}, ignore_index=True)\n",
            "\n"
          ]
        },
        {
          "output_type": "stream",
          "name": "stdout",
          "text": [
            "Yolo class 1, yolo conf 0.6097079912821451, Hugs class 0\n",
            "/content/TESTdataset/17.jpg\n"
          ]
        },
        {
          "output_type": "stream",
          "name": "stderr",
          "text": [
            "0: 416x640 2 ships, 36.7ms\n",
            "Speed: 4.1ms preprocess, 36.7ms inference, 1.9ms postprocess per image at shape (1, 3, 640, 640)\n",
            "WARNING ⚠️ 'Boxes.boxes' is deprecated. Use 'Boxes.data' instead.\n"
          ]
        },
        {
          "output_type": "stream",
          "name": "stdout",
          "text": [
            "Yolo class 2, yolo conf 0.46555905044078827, Hugs class 2\n",
            "/content/TESTdataset/260.jpg\n"
          ]
        },
        {
          "output_type": "stream",
          "name": "stderr",
          "text": [
            "<ipython-input-60-051a0d118cd5>:8: FutureWarning: The frame.append method is deprecated and will be removed from pandas in a future version. Use pandas.concat instead.\n",
            "  SUBM.append({'name': filepath, 'class': clas}, ignore_index=True)\n",
            "\n",
            "0: 480x640 2 mals, 29.4ms\n",
            "Speed: 6.5ms preprocess, 29.4ms inference, 1.9ms postprocess per image at shape (1, 3, 640, 640)\n",
            "WARNING ⚠️ 'Boxes.boxes' is deprecated. Use 'Boxes.data' instead.\n",
            "<ipython-input-60-051a0d118cd5>:8: FutureWarning: The frame.append method is deprecated and will be removed from pandas in a future version. Use pandas.concat instead.\n",
            "  SUBM.append({'name': filepath, 'class': clas}, ignore_index=True)\n",
            "\n",
            "0: 448x640 1 klikun, 1 mal, 28.6ms\n",
            "Speed: 3.1ms preprocess, 28.6ms inference, 1.4ms postprocess per image at shape (1, 3, 640, 640)\n",
            "WARNING ⚠️ 'Boxes.boxes' is deprecated. Use 'Boxes.data' instead.\n",
            "<ipython-input-60-051a0d118cd5>:8: FutureWarning: The frame.append method is deprecated and will be removed from pandas in a future version. Use pandas.concat instead.\n",
            "  SUBM.append({'name': filepath, 'class': clas}, ignore_index=True)\n",
            "\n",
            "0: 480x640 1 klikun, 28.9ms\n",
            "Speed: 3.1ms preprocess, 28.9ms inference, 1.4ms postprocess per image at shape (1, 3, 640, 640)\n"
          ]
        },
        {
          "output_type": "stream",
          "name": "stdout",
          "text": [
            "Yolo class 1, yolo conf 0.8058189749717712, Hugs class 0\n",
            "/content/TESTdataset/311.jpg\n",
            "HUGS FAILED ON /content/TESTdataset/311.jpg\n",
            "Yolo class 0, yolo conf 0.2444121390581131, Hugs class -1\n",
            "/content/TESTdataset/358.jpg\n"
          ]
        },
        {
          "output_type": "stream",
          "name": "stderr",
          "text": [
            "WARNING ⚠️ 'Boxes.boxes' is deprecated. Use 'Boxes.data' instead.\n",
            "<ipython-input-60-051a0d118cd5>:8: FutureWarning: The frame.append method is deprecated and will be removed from pandas in a future version. Use pandas.concat instead.\n",
            "  SUBM.append({'name': filepath, 'class': clas}, ignore_index=True)\n",
            "\n",
            "0: 544x640 1 klikun, 35.9ms\n",
            "Speed: 3.3ms preprocess, 35.9ms inference, 2.7ms postprocess per image at shape (1, 3, 640, 640)\n"
          ]
        },
        {
          "output_type": "stream",
          "name": "stdout",
          "text": [
            "Yolo class 0, yolo conf 0.861611008644104, Hugs class 1\n",
            "/content/TESTdataset/464.jpg\n"
          ]
        },
        {
          "output_type": "stream",
          "name": "stderr",
          "text": [
            "WARNING ⚠️ 'Boxes.boxes' is deprecated. Use 'Boxes.data' instead.\n",
            "<ipython-input-60-051a0d118cd5>:8: FutureWarning: The frame.append method is deprecated and will be removed from pandas in a future version. Use pandas.concat instead.\n",
            "  SUBM.append({'name': filepath, 'class': clas}, ignore_index=True)\n",
            "\n",
            "0: 480x640 2 mals, 2 ships, 29.0ms\n",
            "Speed: 3.4ms preprocess, 29.0ms inference, 1.5ms postprocess per image at shape (1, 3, 640, 640)\n"
          ]
        },
        {
          "output_type": "stream",
          "name": "stdout",
          "text": [
            "Yolo class 0, yolo conf 0.8778518438339233, Hugs class 0\n",
            "/content/TESTdataset/224.jpg\n"
          ]
        },
        {
          "output_type": "stream",
          "name": "stderr",
          "text": [
            "WARNING ⚠️ 'Boxes.boxes' is deprecated. Use 'Boxes.data' instead.\n",
            "<ipython-input-60-051a0d118cd5>:8: FutureWarning: The frame.append method is deprecated and will be removed from pandas in a future version. Use pandas.concat instead.\n",
            "  SUBM.append({'name': filepath, 'class': clas}, ignore_index=True)\n",
            "\n",
            "0: 416x640 1 mal, 28.3ms\n",
            "Speed: 3.4ms preprocess, 28.3ms inference, 1.4ms postprocess per image at shape (1, 3, 640, 640)\n"
          ]
        },
        {
          "output_type": "stream",
          "name": "stdout",
          "text": [
            "Yolo class 1, yolo conf 0.3167795464396477, Hugs class 0\n",
            "/content/TESTdataset/303.jpg\n"
          ]
        },
        {
          "output_type": "stream",
          "name": "stderr",
          "text": [
            "WARNING ⚠️ 'Boxes.boxes' is deprecated. Use 'Boxes.data' instead.\n",
            "<ipython-input-60-051a0d118cd5>:8: FutureWarning: The frame.append method is deprecated and will be removed from pandas in a future version. Use pandas.concat instead.\n",
            "  SUBM.append({'name': filepath, 'class': clas}, ignore_index=True)\n",
            "\n",
            "0: 512x640 1 mal, 29.4ms\n",
            "Speed: 3.6ms preprocess, 29.4ms inference, 1.5ms postprocess per image at shape (1, 3, 640, 640)\n",
            "WARNING ⚠️ 'Boxes.boxes' is deprecated. Use 'Boxes.data' instead.\n",
            "<ipython-input-60-051a0d118cd5>:8: FutureWarning: The frame.append method is deprecated and will be removed from pandas in a future version. Use pandas.concat instead.\n",
            "  SUBM.append({'name': filepath, 'class': clas}, ignore_index=True)\n",
            "\n"
          ]
        },
        {
          "output_type": "stream",
          "name": "stdout",
          "text": [
            "Yolo class 1, yolo conf 0.753152072429657, Hugs class 1\n",
            "/content/TESTdataset/178.jpg\n",
            "HUGS FAILED ON /content/TESTdataset/178.jpg\n",
            "Yolo class 1, yolo conf 0.8734428286552429, Hugs class -1\n",
            "/content/TESTdataset/367.jpg\n"
          ]
        },
        {
          "output_type": "stream",
          "name": "stderr",
          "text": [
            "0: 480x640 1 klikun, 30.2ms\n",
            "Speed: 3.3ms preprocess, 30.2ms inference, 1.9ms postprocess per image at shape (1, 3, 640, 640)\n",
            "WARNING ⚠️ 'Boxes.boxes' is deprecated. Use 'Boxes.data' instead.\n",
            "<ipython-input-60-051a0d118cd5>:8: FutureWarning: The frame.append method is deprecated and will be removed from pandas in a future version. Use pandas.concat instead.\n",
            "  SUBM.append({'name': filepath, 'class': clas}, ignore_index=True)\n",
            "\n",
            "0: 640x640 1 mal, 37.9ms\n",
            "Speed: 4.4ms preprocess, 37.9ms inference, 1.4ms postprocess per image at shape (1, 3, 640, 640)\n"
          ]
        },
        {
          "output_type": "stream",
          "name": "stdout",
          "text": [
            "Yolo class 0, yolo conf 0.8364747762680054, Hugs class 0\n",
            "/content/TESTdataset/556.jpg\n"
          ]
        },
        {
          "output_type": "stream",
          "name": "stderr",
          "text": [
            "WARNING ⚠️ 'Boxes.boxes' is deprecated. Use 'Boxes.data' instead.\n",
            "<ipython-input-60-051a0d118cd5>:8: FutureWarning: The frame.append method is deprecated and will be removed from pandas in a future version. Use pandas.concat instead.\n",
            "  SUBM.append({'name': filepath, 'class': clas}, ignore_index=True)\n",
            "\n",
            "0: 480x640 1 ship, 29.1ms\n",
            "Speed: 3.9ms preprocess, 29.1ms inference, 1.4ms postprocess per image at shape (1, 3, 640, 640)\n"
          ]
        },
        {
          "output_type": "stream",
          "name": "stdout",
          "text": [
            "Yolo class 1, yolo conf 0.8274953961372375, Hugs class 1\n",
            "/content/TESTdataset/442.jpg\n"
          ]
        },
        {
          "output_type": "stream",
          "name": "stderr",
          "text": [
            "WARNING ⚠️ 'Boxes.boxes' is deprecated. Use 'Boxes.data' instead.\n",
            "<ipython-input-60-051a0d118cd5>:8: FutureWarning: The frame.append method is deprecated and will be removed from pandas in a future version. Use pandas.concat instead.\n",
            "  SUBM.append({'name': filepath, 'class': clas}, ignore_index=True)\n",
            "\n",
            "0: 448x640 2 klikuns, 2 mals, 28.7ms\n",
            "Speed: 2.8ms preprocess, 28.7ms inference, 1.5ms postprocess per image at shape (1, 3, 640, 640)\n",
            "WARNING ⚠️ 'Boxes.boxes' is deprecated. Use 'Boxes.data' instead.\n",
            "<ipython-input-60-051a0d118cd5>:8: FutureWarning: The frame.append method is deprecated and will be removed from pandas in a future version. Use pandas.concat instead.\n",
            "  SUBM.append({'name': filepath, 'class': clas}, ignore_index=True)\n",
            "\n",
            "0: 448x640 2 ships, 27.9ms\n",
            "Speed: 2.7ms preprocess, 27.9ms inference, 1.6ms postprocess per image at shape (1, 3, 640, 640)\n"
          ]
        },
        {
          "output_type": "stream",
          "name": "stdout",
          "text": [
            "Yolo class 2, yolo conf 0.5131902098655701, Hugs class 2\n",
            "/content/TESTdataset/143.jpg\n",
            "HUGS FAILED ON /content/TESTdataset/143.jpg\n",
            "Yolo class 1, yolo conf 0.30646874010562897, Hugs class -1\n",
            "/content/TESTdataset/415.jpg\n"
          ]
        },
        {
          "output_type": "stream",
          "name": "stderr",
          "text": [
            "WARNING ⚠️ 'Boxes.boxes' is deprecated. Use 'Boxes.data' instead.\n",
            "<ipython-input-60-051a0d118cd5>:8: FutureWarning: The frame.append method is deprecated and will be removed from pandas in a future version. Use pandas.concat instead.\n",
            "  SUBM.append({'name': filepath, 'class': clas}, ignore_index=True)\n",
            "\n",
            "0: 480x640 1 ship, 29.2ms\n",
            "Speed: 3.3ms preprocess, 29.2ms inference, 1.4ms postprocess per image at shape (1, 3, 640, 640)\n"
          ]
        },
        {
          "output_type": "stream",
          "name": "stdout",
          "text": [
            "Yolo class 2, yolo conf 0.9078308641910553, Hugs class 2\n",
            "/content/TESTdataset/334.jpg\n"
          ]
        },
        {
          "output_type": "stream",
          "name": "stderr",
          "text": [
            "WARNING ⚠️ 'Boxes.boxes' is deprecated. Use 'Boxes.data' instead.\n",
            "<ipython-input-60-051a0d118cd5>:8: FutureWarning: The frame.append method is deprecated and will be removed from pandas in a future version. Use pandas.concat instead.\n",
            "  SUBM.append({'name': filepath, 'class': clas}, ignore_index=True)\n",
            "\n",
            "0: 480x640 1 mal, 28.2ms\n",
            "Speed: 3.3ms preprocess, 28.2ms inference, 2.2ms postprocess per image at shape (1, 3, 640, 640)\n"
          ]
        },
        {
          "output_type": "stream",
          "name": "stdout",
          "text": [
            "Yolo class 2, yolo conf 0.90971839427948, Hugs class 2\n",
            "/content/TESTdataset/514.jpg\n"
          ]
        },
        {
          "output_type": "stream",
          "name": "stderr",
          "text": [
            "WARNING ⚠️ 'Boxes.boxes' is deprecated. Use 'Boxes.data' instead.\n",
            "<ipython-input-60-051a0d118cd5>:8: FutureWarning: The frame.append method is deprecated and will be removed from pandas in a future version. Use pandas.concat instead.\n",
            "  SUBM.append({'name': filepath, 'class': clas}, ignore_index=True)\n",
            "\n",
            "0: 448x640 1 ship, 29.6ms\n",
            "Speed: 3.0ms preprocess, 29.6ms inference, 2.0ms postprocess per image at shape (1, 3, 640, 640)\n"
          ]
        },
        {
          "output_type": "stream",
          "name": "stdout",
          "text": [
            "Yolo class 1, yolo conf 0.9236848950386047, Hugs class 0\n",
            "/content/TESTdataset/213.jpg\n"
          ]
        },
        {
          "output_type": "stream",
          "name": "stderr",
          "text": [
            "WARNING ⚠️ 'Boxes.boxes' is deprecated. Use 'Boxes.data' instead.\n",
            "<ipython-input-60-051a0d118cd5>:8: FutureWarning: The frame.append method is deprecated and will be removed from pandas in a future version. Use pandas.concat instead.\n",
            "  SUBM.append({'name': filepath, 'class': clas}, ignore_index=True)\n",
            "\n",
            "0: 480x640 3 mals, 29.2ms\n",
            "Speed: 2.9ms preprocess, 29.2ms inference, 1.8ms postprocess per image at shape (1, 3, 640, 640)\n"
          ]
        },
        {
          "output_type": "stream",
          "name": "stdout",
          "text": [
            "Yolo class 2, yolo conf 0.46787169575691223, Hugs class 2\n",
            "/content/TESTdataset/430.jpg\n"
          ]
        },
        {
          "output_type": "stream",
          "name": "stderr",
          "text": [
            "WARNING ⚠️ 'Boxes.boxes' is deprecated. Use 'Boxes.data' instead.\n",
            "<ipython-input-60-051a0d118cd5>:8: FutureWarning: The frame.append method is deprecated and will be removed from pandas in a future version. Use pandas.concat instead.\n",
            "  SUBM.append({'name': filepath, 'class': clas}, ignore_index=True)\n",
            "\n",
            "0: 640x544 1 klikun, 36.5ms\n",
            "Speed: 2.9ms preprocess, 36.5ms inference, 1.8ms postprocess per image at shape (1, 3, 640, 640)\n"
          ]
        },
        {
          "output_type": "stream",
          "name": "stdout",
          "text": [
            "Yolo class 1, yolo conf 0.6758189896742502, Hugs class 0\n",
            "/content/TESTdataset/44.jpg\n"
          ]
        },
        {
          "output_type": "stream",
          "name": "stderr",
          "text": [
            "WARNING ⚠️ 'Boxes.boxes' is deprecated. Use 'Boxes.data' instead.\n",
            "<ipython-input-60-051a0d118cd5>:8: FutureWarning: The frame.append method is deprecated and will be removed from pandas in a future version. Use pandas.concat instead.\n",
            "  SUBM.append({'name': filepath, 'class': clas}, ignore_index=True)\n",
            "\n",
            "0: 480x640 2 mals, 29.4ms\n",
            "Speed: 3.0ms preprocess, 29.4ms inference, 2.6ms postprocess per image at shape (1, 3, 640, 640)\n"
          ]
        },
        {
          "output_type": "stream",
          "name": "stdout",
          "text": [
            "Yolo class 0, yolo conf 0.8256024718284607, Hugs class 1\n",
            "/content/TESTdataset/290.jpg\n"
          ]
        },
        {
          "output_type": "stream",
          "name": "stderr",
          "text": [
            "WARNING ⚠️ 'Boxes.boxes' is deprecated. Use 'Boxes.data' instead.\n",
            "<ipython-input-60-051a0d118cd5>:8: FutureWarning: The frame.append method is deprecated and will be removed from pandas in a future version. Use pandas.concat instead.\n",
            "  SUBM.append({'name': filepath, 'class': clas}, ignore_index=True)\n",
            "\n",
            "0: 480x640 3 mals, 28.8ms\n",
            "Speed: 6.6ms preprocess, 28.8ms inference, 2.5ms postprocess per image at shape (1, 3, 640, 640)\n"
          ]
        },
        {
          "output_type": "stream",
          "name": "stdout",
          "text": [
            "Yolo class 1, yolo conf 0.6637915968894958, Hugs class 0\n",
            "/content/TESTdataset/177.jpg\n"
          ]
        },
        {
          "output_type": "stream",
          "name": "stderr",
          "text": [
            "WARNING ⚠️ 'Boxes.boxes' is deprecated. Use 'Boxes.data' instead.\n",
            "<ipython-input-60-051a0d118cd5>:8: FutureWarning: The frame.append method is deprecated and will be removed from pandas in a future version. Use pandas.concat instead.\n",
            "  SUBM.append({'name': filepath, 'class': clas}, ignore_index=True)\n",
            "\n",
            "0: 640x480 1 ship, 29.4ms\n",
            "Speed: 3.2ms preprocess, 29.4ms inference, 2.1ms postprocess per image at shape (1, 3, 640, 640)\n"
          ]
        },
        {
          "output_type": "stream",
          "name": "stdout",
          "text": [
            "Yolo class 1, yolo conf 0.807738741238912, Hugs class 0\n",
            "/content/TESTdataset/3.jpg\n"
          ]
        },
        {
          "output_type": "stream",
          "name": "stderr",
          "text": [
            "WARNING ⚠️ 'Boxes.boxes' is deprecated. Use 'Boxes.data' instead.\n",
            "<ipython-input-60-051a0d118cd5>:8: FutureWarning: The frame.append method is deprecated and will be removed from pandas in a future version. Use pandas.concat instead.\n",
            "  SUBM.append({'name': filepath, 'class': clas}, ignore_index=True)\n",
            "\n",
            "0: 640x416 1 mal, 66.8ms\n",
            "Speed: 3.0ms preprocess, 66.8ms inference, 1.5ms postprocess per image at shape (1, 3, 640, 640)\n",
            "WARNING ⚠️ 'Boxes.boxes' is deprecated. Use 'Boxes.data' instead.\n",
            "<ipython-input-60-051a0d118cd5>:8: FutureWarning: The frame.append method is deprecated and will be removed from pandas in a future version. Use pandas.concat instead.\n",
            "  SUBM.append({'name': filepath, 'class': clas}, ignore_index=True)\n",
            "\n",
            "0: 480x640 3 mals, 28.9ms\n",
            "Speed: 3.0ms preprocess, 28.9ms inference, 1.6ms postprocess per image at shape (1, 3, 640, 640)\n"
          ]
        },
        {
          "output_type": "stream",
          "name": "stdout",
          "text": [
            "Yolo class 2, yolo conf 0.8687989115715027, Hugs class 2\n",
            "/content/TESTdataset/194.jpg\n",
            "HUGS FAILED ON /content/TESTdataset/194.jpg\n",
            "Yolo class 1, yolo conf 0.7908972501754761, Hugs class -1\n",
            "/content/TESTdataset/488.jpg\n"
          ]
        },
        {
          "output_type": "stream",
          "name": "stderr",
          "text": [
            "WARNING ⚠️ 'Boxes.boxes' is deprecated. Use 'Boxes.data' instead.\n",
            "<ipython-input-60-051a0d118cd5>:8: FutureWarning: The frame.append method is deprecated and will be removed from pandas in a future version. Use pandas.concat instead.\n",
            "  SUBM.append({'name': filepath, 'class': clas}, ignore_index=True)\n",
            "\n",
            "0: 448x640 1 klikun, 28.7ms\n",
            "Speed: 3.0ms preprocess, 28.7ms inference, 1.5ms postprocess per image at shape (1, 3, 640, 640)\n"
          ]
        },
        {
          "output_type": "stream",
          "name": "stdout",
          "text": [
            "Yolo class 1, yolo conf 0.7388721704483032, Hugs class 0\n",
            "/content/TESTdataset/593.jpg\n"
          ]
        },
        {
          "output_type": "stream",
          "name": "stderr",
          "text": [
            "WARNING ⚠️ 'Boxes.boxes' is deprecated. Use 'Boxes.data' instead.\n",
            "<ipython-input-60-051a0d118cd5>:8: FutureWarning: The frame.append method is deprecated and will be removed from pandas in a future version. Use pandas.concat instead.\n",
            "  SUBM.append({'name': filepath, 'class': clas}, ignore_index=True)\n",
            "\n",
            "0: 352x640 3 mals, 71.6ms\n",
            "Speed: 2.7ms preprocess, 71.6ms inference, 1.4ms postprocess per image at shape (1, 3, 640, 640)\n"
          ]
        },
        {
          "output_type": "stream",
          "name": "stdout",
          "text": [
            "Yolo class 0, yolo conf 0.5696214437484741, Hugs class 0\n",
            "/content/TESTdataset/521.jpg\n"
          ]
        },
        {
          "output_type": "stream",
          "name": "stderr",
          "text": [
            "WARNING ⚠️ 'Boxes.boxes' is deprecated. Use 'Boxes.data' instead.\n",
            "<ipython-input-60-051a0d118cd5>:8: FutureWarning: The frame.append method is deprecated and will be removed from pandas in a future version. Use pandas.concat instead.\n",
            "  SUBM.append({'name': filepath, 'class': clas}, ignore_index=True)\n",
            "\n",
            "0: 352x640 6 mals, 25.1ms\n",
            "Speed: 2.6ms preprocess, 25.1ms inference, 1.7ms postprocess per image at shape (1, 3, 640, 640)\n"
          ]
        },
        {
          "output_type": "stream",
          "name": "stdout",
          "text": [
            "Yolo class 1, yolo conf 0.8505425254503886, Hugs class 0\n",
            "/content/TESTdataset/48.jpg\n"
          ]
        },
        {
          "output_type": "stream",
          "name": "stderr",
          "text": [
            "WARNING ⚠️ 'Boxes.boxes' is deprecated. Use 'Boxes.data' instead.\n",
            "<ipython-input-60-051a0d118cd5>:8: FutureWarning: The frame.append method is deprecated and will be removed from pandas in a future version. Use pandas.concat instead.\n",
            "  SUBM.append({'name': filepath, 'class': clas}, ignore_index=True)\n",
            "\n",
            "0: 576x640 1 mal, 36.4ms\n",
            "Speed: 3.9ms preprocess, 36.4ms inference, 1.4ms postprocess per image at shape (1, 3, 640, 640)\n"
          ]
        },
        {
          "output_type": "stream",
          "name": "stdout",
          "text": [
            "Yolo class 1, yolo conf 0.6711233854293823, Hugs class 0\n",
            "/content/TESTdataset/4.jpg\n"
          ]
        },
        {
          "output_type": "stream",
          "name": "stderr",
          "text": [
            "WARNING ⚠️ 'Boxes.boxes' is deprecated. Use 'Boxes.data' instead.\n",
            "<ipython-input-60-051a0d118cd5>:8: FutureWarning: The frame.append method is deprecated and will be removed from pandas in a future version. Use pandas.concat instead.\n",
            "  SUBM.append({'name': filepath, 'class': clas}, ignore_index=True)\n",
            "\n",
            "0: 448x640 1 klikun, 28.7ms\n",
            "Speed: 3.2ms preprocess, 28.7ms inference, 1.4ms postprocess per image at shape (1, 3, 640, 640)\n"
          ]
        },
        {
          "output_type": "stream",
          "name": "stdout",
          "text": [
            "Yolo class 1, yolo conf 0.6334006190299988, Hugs class 0\n",
            "/content/TESTdataset/167.jpg\n"
          ]
        },
        {
          "output_type": "stream",
          "name": "stderr",
          "text": [
            "WARNING ⚠️ 'Boxes.boxes' is deprecated. Use 'Boxes.data' instead.\n",
            "<ipython-input-60-051a0d118cd5>:8: FutureWarning: The frame.append method is deprecated and will be removed from pandas in a future version. Use pandas.concat instead.\n",
            "  SUBM.append({'name': filepath, 'class': clas}, ignore_index=True)\n",
            "\n",
            "0: 352x640 1 ship, 26.1ms\n",
            "Speed: 2.4ms preprocess, 26.1ms inference, 1.5ms postprocess per image at shape (1, 3, 640, 640)\n"
          ]
        },
        {
          "output_type": "stream",
          "name": "stdout",
          "text": [
            "Yolo class 0, yolo conf 0.5801967978477478, Hugs class 1\n",
            "/content/TESTdataset/393.jpg\n"
          ]
        },
        {
          "output_type": "stream",
          "name": "stderr",
          "text": [
            "WARNING ⚠️ 'Boxes.boxes' is deprecated. Use 'Boxes.data' instead.\n",
            "<ipython-input-60-051a0d118cd5>:8: FutureWarning: The frame.append method is deprecated and will be removed from pandas in a future version. Use pandas.concat instead.\n",
            "  SUBM.append({'name': filepath, 'class': clas}, ignore_index=True)\n",
            "\n",
            "0: 512x640 1 ship, 29.3ms\n",
            "Speed: 3.4ms preprocess, 29.3ms inference, 1.5ms postprocess per image at shape (1, 3, 640, 640)\n"
          ]
        },
        {
          "output_type": "stream",
          "name": "stdout",
          "text": [
            "Yolo class 2, yolo conf 0.9177964329719543, Hugs class 2\n",
            "/content/TESTdataset/376.jpg\n"
          ]
        },
        {
          "output_type": "stream",
          "name": "stderr",
          "text": [
            "WARNING ⚠️ 'Boxes.boxes' is deprecated. Use 'Boxes.data' instead.\n",
            "<ipython-input-60-051a0d118cd5>:8: FutureWarning: The frame.append method is deprecated and will be removed from pandas in a future version. Use pandas.concat instead.\n",
            "  SUBM.append({'name': filepath, 'class': clas}, ignore_index=True)\n",
            "\n",
            "0: 448x640 2 klikuns, 31.0ms\n",
            "Speed: 3.3ms preprocess, 31.0ms inference, 1.7ms postprocess per image at shape (1, 3, 640, 640)\n"
          ]
        },
        {
          "output_type": "stream",
          "name": "stdout",
          "text": [
            "Yolo class 2, yolo conf 0.34387850761413574, Hugs class 0\n",
            "/content/TESTdataset/46.jpg\n"
          ]
        },
        {
          "output_type": "stream",
          "name": "stderr",
          "text": [
            "WARNING ⚠️ 'Boxes.boxes' is deprecated. Use 'Boxes.data' instead.\n",
            "<ipython-input-60-051a0d118cd5>:8: FutureWarning: The frame.append method is deprecated and will be removed from pandas in a future version. Use pandas.concat instead.\n",
            "  SUBM.append({'name': filepath, 'class': clas}, ignore_index=True)\n",
            "\n",
            "0: 640x544 1 klikun, 1 mal, 36.3ms\n",
            "Speed: 3.9ms preprocess, 36.3ms inference, 1.5ms postprocess per image at shape (1, 3, 640, 640)\n",
            "WARNING ⚠️ 'Boxes.boxes' is deprecated. Use 'Boxes.data' instead.\n",
            "<ipython-input-60-051a0d118cd5>:8: FutureWarning: The frame.append method is deprecated and will be removed from pandas in a future version. Use pandas.concat instead.\n",
            "  SUBM.append({'name': filepath, 'class': clas}, ignore_index=True)\n",
            "\n",
            "0: 448x640 2 klikuns, 2 mals, 28.6ms\n",
            "Speed: 2.8ms preprocess, 28.6ms inference, 1.4ms postprocess per image at shape (1, 3, 640, 640)\n"
          ]
        },
        {
          "output_type": "stream",
          "name": "stdout",
          "text": [
            "Yolo class 0, yolo conf 0.7474217116832733, Hugs class 1\n",
            "/content/TESTdataset/243.jpg\n",
            "HUGS FAILED ON /content/TESTdataset/243.jpg\n",
            "Yolo class 0, yolo conf 0.28825944662094116, Hugs class -1\n",
            "/content/TESTdataset/96.jpg\n"
          ]
        },
        {
          "output_type": "stream",
          "name": "stderr",
          "text": [
            "WARNING ⚠️ 'Boxes.boxes' is deprecated. Use 'Boxes.data' instead.\n",
            "<ipython-input-60-051a0d118cd5>:8: FutureWarning: The frame.append method is deprecated and will be removed from pandas in a future version. Use pandas.concat instead.\n",
            "  SUBM.append({'name': filepath, 'class': clas}, ignore_index=True)\n",
            "\n",
            "0: 480x640 1 klikun, 2 mals, 34.6ms\n",
            "Speed: 5.1ms preprocess, 34.6ms inference, 2.1ms postprocess per image at shape (1, 3, 640, 640)\n"
          ]
        },
        {
          "output_type": "stream",
          "name": "stdout",
          "text": [
            "Yolo class 1, yolo conf 0.2529311031103134, Hugs class 1\n",
            "/content/TESTdataset/168.jpg\n"
          ]
        },
        {
          "output_type": "stream",
          "name": "stderr",
          "text": [
            "WARNING ⚠️ 'Boxes.boxes' is deprecated. Use 'Boxes.data' instead.\n",
            "<ipython-input-60-051a0d118cd5>:8: FutureWarning: The frame.append method is deprecated and will be removed from pandas in a future version. Use pandas.concat instead.\n",
            "  SUBM.append({'name': filepath, 'class': clas}, ignore_index=True)\n",
            "\n",
            "0: 640x576 1 mal, 44.3ms\n",
            "Speed: 4.7ms preprocess, 44.3ms inference, 2.0ms postprocess per image at shape (1, 3, 640, 640)\n"
          ]
        },
        {
          "output_type": "stream",
          "name": "stdout",
          "text": [
            "Yolo class 1, yolo conf 0.5016876061757406, Hugs class 0\n",
            "/content/TESTdataset/317.jpg\n"
          ]
        },
        {
          "output_type": "stream",
          "name": "stderr",
          "text": [
            "WARNING ⚠️ 'Boxes.boxes' is deprecated. Use 'Boxes.data' instead.\n",
            "<ipython-input-60-051a0d118cd5>:8: FutureWarning: The frame.append method is deprecated and will be removed from pandas in a future version. Use pandas.concat instead.\n",
            "  SUBM.append({'name': filepath, 'class': clas}, ignore_index=True)\n",
            "\n",
            "0: 448x640 1 klikun, 28.8ms\n",
            "Speed: 3.1ms preprocess, 28.8ms inference, 1.8ms postprocess per image at shape (1, 3, 640, 640)\n"
          ]
        },
        {
          "output_type": "stream",
          "name": "stdout",
          "text": [
            "Yolo class 1, yolo conf 0.9366918206214905, Hugs class 0\n",
            "/content/TESTdataset/103.jpg\n"
          ]
        },
        {
          "output_type": "stream",
          "name": "stderr",
          "text": [
            "WARNING ⚠️ 'Boxes.boxes' is deprecated. Use 'Boxes.data' instead.\n",
            "<ipython-input-60-051a0d118cd5>:8: FutureWarning: The frame.append method is deprecated and will be removed from pandas in a future version. Use pandas.concat instead.\n",
            "  SUBM.append({'name': filepath, 'class': clas}, ignore_index=True)\n",
            "\n",
            "0: 448x640 1 klikun, 1 mal, 1 ship, 45.1ms\n",
            "Speed: 3.2ms preprocess, 45.1ms inference, 5.3ms postprocess per image at shape (1, 3, 640, 640)\n"
          ]
        },
        {
          "output_type": "stream",
          "name": "stdout",
          "text": [
            "Yolo class 0, yolo conf 0.6388094425201416, Hugs class 0\n",
            "/content/TESTdataset/476.jpg\n"
          ]
        },
        {
          "output_type": "stream",
          "name": "stderr",
          "text": [
            "WARNING ⚠️ 'Boxes.boxes' is deprecated. Use 'Boxes.data' instead.\n",
            "<ipython-input-60-051a0d118cd5>:8: FutureWarning: The frame.append method is deprecated and will be removed from pandas in a future version. Use pandas.concat instead.\n",
            "  SUBM.append({'name': filepath, 'class': clas}, ignore_index=True)\n",
            "\n"
          ]
        },
        {
          "output_type": "stream",
          "name": "stdout",
          "text": [
            "Yolo class 1, yolo conf 0.1192166010538737, Hugs class 1\n",
            "/content/TESTdataset/569.jpg\n"
          ]
        },
        {
          "output_type": "stream",
          "name": "stderr",
          "text": [
            "0: 640x640 1 mal, 55.9ms\n",
            "Speed: 14.8ms preprocess, 55.9ms inference, 15.0ms postprocess per image at shape (1, 3, 640, 640)\n",
            "WARNING ⚠️ 'Boxes.boxes' is deprecated. Use 'Boxes.data' instead.\n",
            "<ipython-input-60-051a0d118cd5>:8: FutureWarning: The frame.append method is deprecated and will be removed from pandas in a future version. Use pandas.concat instead.\n",
            "  SUBM.append({'name': filepath, 'class': clas}, ignore_index=True)\n"
          ]
        },
        {
          "output_type": "stream",
          "name": "stdout",
          "text": [
            "HUGS FAILED ON /content/TESTdataset/569.jpg\n",
            "Yolo class 1, yolo conf 0.8432369232177734, Hugs class -1\n",
            "/content/TESTdataset/459.jpg\n"
          ]
        },
        {
          "output_type": "stream",
          "name": "stderr",
          "text": [
            "\n",
            "0: 480x640 1 ship, 41.5ms\n",
            "Speed: 11.7ms preprocess, 41.5ms inference, 7.6ms postprocess per image at shape (1, 3, 640, 640)\n",
            "WARNING ⚠️ 'Boxes.boxes' is deprecated. Use 'Boxes.data' instead.\n",
            "<ipython-input-60-051a0d118cd5>:8: FutureWarning: The frame.append method is deprecated and will be removed from pandas in a future version. Use pandas.concat instead.\n",
            "  SUBM.append({'name': filepath, 'class': clas}, ignore_index=True)\n",
            "\n"
          ]
        },
        {
          "output_type": "stream",
          "name": "stdout",
          "text": [
            "Yolo class 2, yolo conf 0.8681939244270325, Hugs class 2\n",
            "/content/TESTdataset/272.jpg\n"
          ]
        },
        {
          "output_type": "stream",
          "name": "stderr",
          "text": [
            "0: 480x640 1 ship, 28.2ms\n",
            "Speed: 7.1ms preprocess, 28.2ms inference, 2.2ms postprocess per image at shape (1, 3, 640, 640)\n",
            "WARNING ⚠️ 'Boxes.boxes' is deprecated. Use 'Boxes.data' instead.\n",
            "<ipython-input-60-051a0d118cd5>:8: FutureWarning: The frame.append method is deprecated and will be removed from pandas in a future version. Use pandas.concat instead.\n",
            "  SUBM.append({'name': filepath, 'class': clas}, ignore_index=True)\n",
            "\n",
            "0: 448x640 1 klikun, 2 mals, 28.7ms\n",
            "Speed: 3.3ms preprocess, 28.7ms inference, 1.5ms postprocess per image at shape (1, 3, 640, 640)\n"
          ]
        },
        {
          "output_type": "stream",
          "name": "stdout",
          "text": [
            "Yolo class 2, yolo conf 0.8750497698783875, Hugs class 2\n",
            "/content/TESTdataset/82.jpg\n"
          ]
        },
        {
          "output_type": "stream",
          "name": "stderr",
          "text": [
            "WARNING ⚠️ 'Boxes.boxes' is deprecated. Use 'Boxes.data' instead.\n",
            "<ipython-input-60-051a0d118cd5>:8: FutureWarning: The frame.append method is deprecated and will be removed from pandas in a future version. Use pandas.concat instead.\n",
            "  SUBM.append({'name': filepath, 'class': clas}, ignore_index=True)\n",
            "\n",
            "0: 448x640 1 klikun, 28.4ms\n",
            "Speed: 2.4ms preprocess, 28.4ms inference, 1.7ms postprocess per image at shape (1, 3, 640, 640)\n"
          ]
        },
        {
          "output_type": "stream",
          "name": "stdout",
          "text": [
            "Yolo class 1, yolo conf 0.35950783888498944, Hugs class 0\n",
            "/content/TESTdataset/401.jpg\n"
          ]
        },
        {
          "output_type": "stream",
          "name": "stderr",
          "text": [
            "WARNING ⚠️ 'Boxes.boxes' is deprecated. Use 'Boxes.data' instead.\n",
            "<ipython-input-60-051a0d118cd5>:8: FutureWarning: The frame.append method is deprecated and will be removed from pandas in a future version. Use pandas.concat instead.\n",
            "  SUBM.append({'name': filepath, 'class': clas}, ignore_index=True)\n",
            "\n",
            "0: 512x640 4 ships, 29.3ms\n",
            "Speed: 3.2ms preprocess, 29.3ms inference, 1.4ms postprocess per image at shape (1, 3, 640, 640)\n"
          ]
        },
        {
          "output_type": "stream",
          "name": "stdout",
          "text": [
            "Yolo class 0, yolo conf 0.8721873164176941, Hugs class 1\n",
            "/content/TESTdataset/350.jpg\n"
          ]
        },
        {
          "output_type": "stream",
          "name": "stderr",
          "text": [
            "WARNING ⚠️ 'Boxes.boxes' is deprecated. Use 'Boxes.data' instead.\n",
            "<ipython-input-60-051a0d118cd5>:8: FutureWarning: The frame.append method is deprecated and will be removed from pandas in a future version. Use pandas.concat instead.\n",
            "  SUBM.append({'name': filepath, 'class': clas}, ignore_index=True)\n",
            "\n",
            "0: 448x640 7 klikuns, 1 ship, 28.5ms\n",
            "Speed: 3.4ms preprocess, 28.5ms inference, 1.4ms postprocess per image at shape (1, 3, 640, 640)\n"
          ]
        },
        {
          "output_type": "stream",
          "name": "stdout",
          "text": [
            "Yolo class 2, yolo conf 0.488178014755249, Hugs class 2\n",
            "/content/TESTdataset/191.jpg\n"
          ]
        },
        {
          "output_type": "stream",
          "name": "stderr",
          "text": [
            "WARNING ⚠️ 'Boxes.boxes' is deprecated. Use 'Boxes.data' instead.\n",
            "<ipython-input-60-051a0d118cd5>:8: FutureWarning: The frame.append method is deprecated and will be removed from pandas in a future version. Use pandas.concat instead.\n",
            "  SUBM.append({'name': filepath, 'class': clas}, ignore_index=True)\n",
            "\n",
            "0: 416x640 1 klikun, 1 mal, 28.3ms\n",
            "Speed: 3.1ms preprocess, 28.3ms inference, 1.4ms postprocess per image at shape (1, 3, 640, 640)\n"
          ]
        },
        {
          "output_type": "stream",
          "name": "stdout",
          "text": [
            "Yolo class 0, yolo conf 0.4027142934501171, Hugs class 1\n",
            "/content/TESTdataset/87.jpg\n"
          ]
        },
        {
          "output_type": "stream",
          "name": "stderr",
          "text": [
            "WARNING ⚠️ 'Boxes.boxes' is deprecated. Use 'Boxes.data' instead.\n",
            "<ipython-input-60-051a0d118cd5>:8: FutureWarning: The frame.append method is deprecated and will be removed from pandas in a future version. Use pandas.concat instead.\n",
            "  SUBM.append({'name': filepath, 'class': clas}, ignore_index=True)\n",
            "\n",
            "0: 480x640 4 mals, 29.0ms\n",
            "Speed: 2.9ms preprocess, 29.0ms inference, 1.4ms postprocess per image at shape (1, 3, 640, 640)\n"
          ]
        },
        {
          "output_type": "stream",
          "name": "stdout",
          "text": [
            "Yolo class 0, yolo conf 0.2902214825153351, Hugs class 1\n",
            "/content/TESTdataset/517.jpg\n"
          ]
        },
        {
          "output_type": "stream",
          "name": "stderr",
          "text": [
            "WARNING ⚠️ 'Boxes.boxes' is deprecated. Use 'Boxes.data' instead.\n",
            "<ipython-input-60-051a0d118cd5>:8: FutureWarning: The frame.append method is deprecated and will be removed from pandas in a future version. Use pandas.concat instead.\n",
            "  SUBM.append({'name': filepath, 'class': clas}, ignore_index=True)\n",
            "\n",
            "0: 448x640 4 ships, 28.6ms\n",
            "Speed: 2.9ms preprocess, 28.6ms inference, 1.5ms postprocess per image at shape (1, 3, 640, 640)\n"
          ]
        },
        {
          "output_type": "stream",
          "name": "stdout",
          "text": [
            "Yolo class 1, yolo conf 0.8879439234733582, Hugs class 0\n",
            "/content/TESTdataset/374.jpg\n"
          ]
        },
        {
          "output_type": "stream",
          "name": "stderr",
          "text": [
            "WARNING ⚠️ 'Boxes.boxes' is deprecated. Use 'Boxes.data' instead.\n",
            "<ipython-input-60-051a0d118cd5>:8: FutureWarning: The frame.append method is deprecated and will be removed from pandas in a future version. Use pandas.concat instead.\n",
            "  SUBM.append({'name': filepath, 'class': clas}, ignore_index=True)\n",
            "\n",
            "0: 640x640 1 mal, 38.1ms\n",
            "Speed: 4.0ms preprocess, 38.1ms inference, 1.5ms postprocess per image at shape (1, 3, 640, 640)\n"
          ]
        },
        {
          "output_type": "stream",
          "name": "stdout",
          "text": [
            "Yolo class 2, yolo conf 0.6185271814465523, Hugs class 2\n",
            "/content/TESTdataset/61.jpg\n"
          ]
        },
        {
          "output_type": "stream",
          "name": "stderr",
          "text": [
            "WARNING ⚠️ 'Boxes.boxes' is deprecated. Use 'Boxes.data' instead.\n",
            "<ipython-input-60-051a0d118cd5>:8: FutureWarning: The frame.append method is deprecated and will be removed from pandas in a future version. Use pandas.concat instead.\n",
            "  SUBM.append({'name': filepath, 'class': clas}, ignore_index=True)\n",
            "\n",
            "0: 544x640 1 mal, 35.8ms\n",
            "Speed: 3.8ms preprocess, 35.8ms inference, 1.4ms postprocess per image at shape (1, 3, 640, 640)\n"
          ]
        },
        {
          "output_type": "stream",
          "name": "stdout",
          "text": [
            "Yolo class 1, yolo conf 0.40972843766212463, Hugs class 0\n",
            "/content/TESTdataset/261.jpg\n"
          ]
        },
        {
          "output_type": "stream",
          "name": "stderr",
          "text": [
            "WARNING ⚠️ 'Boxes.boxes' is deprecated. Use 'Boxes.data' instead.\n",
            "<ipython-input-60-051a0d118cd5>:8: FutureWarning: The frame.append method is deprecated and will be removed from pandas in a future version. Use pandas.concat instead.\n",
            "  SUBM.append({'name': filepath, 'class': clas}, ignore_index=True)\n",
            "\n",
            "0: 640x640 1 klikun, 1 mal, 37.8ms\n",
            "Speed: 3.9ms preprocess, 37.8ms inference, 1.4ms postprocess per image at shape (1, 3, 640, 640)\n"
          ]
        },
        {
          "output_type": "stream",
          "name": "stdout",
          "text": [
            "Yolo class 1, yolo conf 0.772948682308197, Hugs class 1\n",
            "/content/TESTdataset/77.jpg\n"
          ]
        },
        {
          "output_type": "stream",
          "name": "stderr",
          "text": [
            "WARNING ⚠️ 'Boxes.boxes' is deprecated. Use 'Boxes.data' instead.\n",
            "<ipython-input-60-051a0d118cd5>:8: FutureWarning: The frame.append method is deprecated and will be removed from pandas in a future version. Use pandas.concat instead.\n",
            "  SUBM.append({'name': filepath, 'class': clas}, ignore_index=True)\n",
            "\n",
            "0: 512x640 1 mal, 29.3ms\n",
            "Speed: 3.1ms preprocess, 29.3ms inference, 1.4ms postprocess per image at shape (1, 3, 640, 640)\n"
          ]
        },
        {
          "output_type": "stream",
          "name": "stdout",
          "text": [
            "Yolo class 1, yolo conf 0.3334645926952362, Hugs class 1\n",
            "/content/TESTdataset/486.jpg\n"
          ]
        },
        {
          "output_type": "stream",
          "name": "stderr",
          "text": [
            "WARNING ⚠️ 'Boxes.boxes' is deprecated. Use 'Boxes.data' instead.\n",
            "<ipython-input-60-051a0d118cd5>:8: FutureWarning: The frame.append method is deprecated and will be removed from pandas in a future version. Use pandas.concat instead.\n",
            "  SUBM.append({'name': filepath, 'class': clas}, ignore_index=True)\n",
            "\n",
            "0: 448x640 1 klikun, 29.1ms\n",
            "Speed: 3.1ms preprocess, 29.1ms inference, 2.0ms postprocess per image at shape (1, 3, 640, 640)\n"
          ]
        },
        {
          "output_type": "stream",
          "name": "stdout",
          "text": [
            "Yolo class 1, yolo conf 0.7099215984344482, Hugs class 1\n",
            "/content/TESTdataset/185.jpg\n"
          ]
        },
        {
          "output_type": "stream",
          "name": "stderr",
          "text": [
            "WARNING ⚠️ 'Boxes.boxes' is deprecated. Use 'Boxes.data' instead.\n",
            "<ipython-input-60-051a0d118cd5>:8: FutureWarning: The frame.append method is deprecated and will be removed from pandas in a future version. Use pandas.concat instead.\n",
            "  SUBM.append({'name': filepath, 'class': clas}, ignore_index=True)\n",
            "\n",
            "0: 640x480 8 klikuns, 35.4ms\n",
            "Speed: 5.4ms preprocess, 35.4ms inference, 2.1ms postprocess per image at shape (1, 3, 640, 640)\n"
          ]
        },
        {
          "output_type": "stream",
          "name": "stdout",
          "text": [
            "Yolo class 0, yolo conf 0.782609760761261, Hugs class 1\n",
            "/content/TESTdataset/148.jpg\n"
          ]
        },
        {
          "output_type": "stream",
          "name": "stderr",
          "text": [
            "WARNING ⚠️ 'Boxes.boxes' is deprecated. Use 'Boxes.data' instead.\n",
            "<ipython-input-60-051a0d118cd5>:8: FutureWarning: The frame.append method is deprecated and will be removed from pandas in a future version. Use pandas.concat instead.\n",
            "  SUBM.append({'name': filepath, 'class': clas}, ignore_index=True)\n",
            "\n",
            "0: 480x640 2 ships, 28.9ms\n",
            "Speed: 2.9ms preprocess, 28.9ms inference, 1.5ms postprocess per image at shape (1, 3, 640, 640)\n"
          ]
        },
        {
          "output_type": "stream",
          "name": "stdout",
          "text": [
            "Yolo class 0, yolo conf 0.481690414249897, Hugs class 1\n",
            "/content/TESTdataset/318.jpg\n"
          ]
        },
        {
          "output_type": "stream",
          "name": "stderr",
          "text": [
            "WARNING ⚠️ 'Boxes.boxes' is deprecated. Use 'Boxes.data' instead.\n",
            "<ipython-input-60-051a0d118cd5>:8: FutureWarning: The frame.append method is deprecated and will be removed from pandas in a future version. Use pandas.concat instead.\n",
            "  SUBM.append({'name': filepath, 'class': clas}, ignore_index=True)\n",
            "\n",
            "0: 448x640 2 klikuns, 30.6ms\n",
            "Speed: 3.3ms preprocess, 30.6ms inference, 1.8ms postprocess per image at shape (1, 3, 640, 640)\n"
          ]
        },
        {
          "output_type": "stream",
          "name": "stdout",
          "text": [
            "Yolo class 2, yolo conf 0.7771334648132324, Hugs class 2\n",
            "/content/TESTdataset/162.jpg\n"
          ]
        },
        {
          "output_type": "stream",
          "name": "stderr",
          "text": [
            "WARNING ⚠️ 'Boxes.boxes' is deprecated. Use 'Boxes.data' instead.\n",
            "<ipython-input-60-051a0d118cd5>:8: FutureWarning: The frame.append method is deprecated and will be removed from pandas in a future version. Use pandas.concat instead.\n",
            "  SUBM.append({'name': filepath, 'class': clas}, ignore_index=True)\n",
            "\n",
            "0: 480x640 2 ships, 29.2ms\n",
            "Speed: 3.4ms preprocess, 29.2ms inference, 1.8ms postprocess per image at shape (1, 3, 640, 640)\n"
          ]
        },
        {
          "output_type": "stream",
          "name": "stdout",
          "text": [
            "Yolo class 0, yolo conf 0.7846864759922028, Hugs class 1\n",
            "/content/TESTdataset/180.jpg\n"
          ]
        },
        {
          "output_type": "stream",
          "name": "stderr",
          "text": [
            "WARNING ⚠️ 'Boxes.boxes' is deprecated. Use 'Boxes.data' instead.\n",
            "<ipython-input-60-051a0d118cd5>:8: FutureWarning: The frame.append method is deprecated and will be removed from pandas in a future version. Use pandas.concat instead.\n",
            "  SUBM.append({'name': filepath, 'class': clas}, ignore_index=True)\n",
            "\n",
            "0: 416x640 5 mals, 28.5ms\n",
            "Speed: 8.3ms preprocess, 28.5ms inference, 1.9ms postprocess per image at shape (1, 3, 640, 640)\n"
          ]
        },
        {
          "output_type": "stream",
          "name": "stdout",
          "text": [
            "Yolo class 2, yolo conf 0.848756343126297, Hugs class 2\n",
            "/content/TESTdataset/570.jpg\n"
          ]
        },
        {
          "output_type": "stream",
          "name": "stderr",
          "text": [
            "WARNING ⚠️ 'Boxes.boxes' is deprecated. Use 'Boxes.data' instead.\n",
            "<ipython-input-60-051a0d118cd5>:8: FutureWarning: The frame.append method is deprecated and will be removed from pandas in a future version. Use pandas.concat instead.\n",
            "  SUBM.append({'name': filepath, 'class': clas}, ignore_index=True)\n",
            "\n",
            "0: 480x640 1 ship, 29.5ms\n",
            "Speed: 3.3ms preprocess, 29.5ms inference, 2.2ms postprocess per image at shape (1, 3, 640, 640)\n"
          ]
        },
        {
          "output_type": "stream",
          "name": "stdout",
          "text": [
            "Yolo class 1, yolo conf 0.8100098729133606, Hugs class 0\n",
            "/content/TESTdataset/421.jpg\n"
          ]
        },
        {
          "output_type": "stream",
          "name": "stderr",
          "text": [
            "WARNING ⚠️ 'Boxes.boxes' is deprecated. Use 'Boxes.data' instead.\n",
            "<ipython-input-60-051a0d118cd5>:8: FutureWarning: The frame.append method is deprecated and will be removed from pandas in a future version. Use pandas.concat instead.\n",
            "  SUBM.append({'name': filepath, 'class': clas}, ignore_index=True)\n",
            "\n",
            "0: 480x640 1 klikun, 28.3ms\n",
            "Speed: 3.3ms preprocess, 28.3ms inference, 2.5ms postprocess per image at shape (1, 3, 640, 640)\n"
          ]
        },
        {
          "output_type": "stream",
          "name": "stdout",
          "text": [
            "Yolo class 2, yolo conf 0.9070634245872498, Hugs class 2\n",
            "/content/TESTdataset/511.jpg\n"
          ]
        },
        {
          "output_type": "stream",
          "name": "stderr",
          "text": [
            "WARNING ⚠️ 'Boxes.boxes' is deprecated. Use 'Boxes.data' instead.\n",
            "<ipython-input-60-051a0d118cd5>:8: FutureWarning: The frame.append method is deprecated and will be removed from pandas in a future version. Use pandas.concat instead.\n",
            "  SUBM.append({'name': filepath, 'class': clas}, ignore_index=True)\n",
            "\n",
            "0: 448x640 1 ship, 29.5ms\n",
            "Speed: 3.1ms preprocess, 29.5ms inference, 2.2ms postprocess per image at shape (1, 3, 640, 640)\n"
          ]
        },
        {
          "output_type": "stream",
          "name": "stdout",
          "text": [
            "Yolo class 0, yolo conf 0.7357101440429688, Hugs class 1\n",
            "/content/TESTdataset/275.jpg\n"
          ]
        },
        {
          "output_type": "stream",
          "name": "stderr",
          "text": [
            "WARNING ⚠️ 'Boxes.boxes' is deprecated. Use 'Boxes.data' instead.\n",
            "<ipython-input-60-051a0d118cd5>:8: FutureWarning: The frame.append method is deprecated and will be removed from pandas in a future version. Use pandas.concat instead.\n",
            "  SUBM.append({'name': filepath, 'class': clas}, ignore_index=True)\n",
            "\n",
            "0: 544x640 5 mals, 35.8ms\n",
            "Speed: 3.1ms preprocess, 35.8ms inference, 1.4ms postprocess per image at shape (1, 3, 640, 640)\n"
          ]
        },
        {
          "output_type": "stream",
          "name": "stdout",
          "text": [
            "Yolo class 2, yolo conf 0.8948704600334167, Hugs class 2\n",
            "/content/TESTdataset/347.jpg\n"
          ]
        },
        {
          "output_type": "stream",
          "name": "stderr",
          "text": [
            "WARNING ⚠️ 'Boxes.boxes' is deprecated. Use 'Boxes.data' instead.\n",
            "<ipython-input-60-051a0d118cd5>:8: FutureWarning: The frame.append method is deprecated and will be removed from pandas in a future version. Use pandas.concat instead.\n",
            "  SUBM.append({'name': filepath, 'class': clas}, ignore_index=True)\n",
            "\n",
            "0: 640x512 1 mal, 68.0ms\n",
            "Speed: 3.1ms preprocess, 68.0ms inference, 1.6ms postprocess per image at shape (1, 3, 640, 640)\n",
            "WARNING ⚠️ 'Boxes.boxes' is deprecated. Use 'Boxes.data' instead.\n",
            "<ipython-input-60-051a0d118cd5>:8: FutureWarning: The frame.append method is deprecated and will be removed from pandas in a future version. Use pandas.concat instead.\n",
            "  SUBM.append({'name': filepath, 'class': clas}, ignore_index=True)\n",
            "\n"
          ]
        },
        {
          "output_type": "stream",
          "name": "stdout",
          "text": [
            "Yolo class 1, yolo conf 0.7291123509407044, Hugs class 0\n",
            "/content/TESTdataset/359.jpg\n",
            "HUGS FAILED ON /content/TESTdataset/359.jpg\n",
            "Yolo class 1, yolo conf 0.9144182801246643, Hugs class -1\n",
            "/content/TESTdataset/189.jpg\n"
          ]
        },
        {
          "output_type": "stream",
          "name": "stderr",
          "text": [
            "0: 480x640 1 klikun, 30.2ms\n",
            "Speed: 3.8ms preprocess, 30.2ms inference, 1.9ms postprocess per image at shape (1, 3, 640, 640)\n",
            "WARNING ⚠️ 'Boxes.boxes' is deprecated. Use 'Boxes.data' instead.\n",
            "<ipython-input-60-051a0d118cd5>:8: FutureWarning: The frame.append method is deprecated and will be removed from pandas in a future version. Use pandas.concat instead.\n",
            "  SUBM.append({'name': filepath, 'class': clas}, ignore_index=True)\n",
            "\n",
            "0: 448x640 1 mal, 28.5ms\n",
            "Speed: 3.3ms preprocess, 28.5ms inference, 1.5ms postprocess per image at shape (1, 3, 640, 640)\n"
          ]
        },
        {
          "output_type": "stream",
          "name": "stdout",
          "text": [
            "Yolo class 0, yolo conf 0.8436212539672852, Hugs class 1\n",
            "/content/TESTdataset/351.jpg\n"
          ]
        },
        {
          "output_type": "stream",
          "name": "stderr",
          "text": [
            "WARNING ⚠️ 'Boxes.boxes' is deprecated. Use 'Boxes.data' instead.\n",
            "<ipython-input-60-051a0d118cd5>:8: FutureWarning: The frame.append method is deprecated and will be removed from pandas in a future version. Use pandas.concat instead.\n",
            "  SUBM.append({'name': filepath, 'class': clas}, ignore_index=True)\n",
            "\n",
            "0: 448x640 1 klikun, 27.8ms\n",
            "Speed: 2.6ms preprocess, 27.8ms inference, 1.6ms postprocess per image at shape (1, 3, 640, 640)\n"
          ]
        },
        {
          "output_type": "stream",
          "name": "stdout",
          "text": [
            "Yolo class 1, yolo conf 0.7119017243385315, Hugs class 0\n",
            "/content/TESTdataset/329.jpg\n"
          ]
        },
        {
          "output_type": "stream",
          "name": "stderr",
          "text": [
            "WARNING ⚠️ 'Boxes.boxes' is deprecated. Use 'Boxes.data' instead.\n",
            "<ipython-input-60-051a0d118cd5>:8: FutureWarning: The frame.append method is deprecated and will be removed from pandas in a future version. Use pandas.concat instead.\n",
            "  SUBM.append({'name': filepath, 'class': clas}, ignore_index=True)\n",
            "\n",
            "0: 640x384 1 klikun, 2 mals, 61.8ms\n",
            "Speed: 2.6ms preprocess, 61.8ms inference, 1.5ms postprocess per image at shape (1, 3, 640, 640)\n",
            "WARNING ⚠️ 'Boxes.boxes' is deprecated. Use 'Boxes.data' instead.\n",
            "<ipython-input-60-051a0d118cd5>:8: FutureWarning: The frame.append method is deprecated and will be removed from pandas in a future version. Use pandas.concat instead.\n",
            "  SUBM.append({'name': filepath, 'class': clas}, ignore_index=True)\n",
            "\n",
            "0: 416x640 2 mals, 28.5ms\n",
            "Speed: 3.0ms preprocess, 28.5ms inference, 1.6ms postprocess per image at shape (1, 3, 640, 640)\n"
          ]
        },
        {
          "output_type": "stream",
          "name": "stdout",
          "text": [
            "Yolo class 0, yolo conf 0.6830016374588013, Hugs class 0\n",
            "/content/TESTdataset/63.jpg\n",
            "HUGS FAILED ON /content/TESTdataset/63.jpg\n",
            "Yolo class 1, yolo conf 0.33436642090479535, Hugs class -1\n",
            "/content/TESTdataset/199.jpg\n"
          ]
        },
        {
          "output_type": "stream",
          "name": "stderr",
          "text": [
            "WARNING ⚠️ 'Boxes.boxes' is deprecated. Use 'Boxes.data' instead.\n",
            "<ipython-input-60-051a0d118cd5>:8: FutureWarning: The frame.append method is deprecated and will be removed from pandas in a future version. Use pandas.concat instead.\n",
            "  SUBM.append({'name': filepath, 'class': clas}, ignore_index=True)\n",
            "\n",
            "0: 448x640 2 klikuns, 1 ship, 29.0ms\n",
            "Speed: 3.2ms preprocess, 29.0ms inference, 1.7ms postprocess per image at shape (1, 3, 640, 640)\n"
          ]
        },
        {
          "output_type": "stream",
          "name": "stdout",
          "text": [
            "HUGS FAILED ON /content/TESTdataset/199.jpg\n",
            "Yolo class 1, yolo conf 0.9215155839920044, Hugs class -1\n",
            "/content/TESTdataset/193.jpg\n"
          ]
        },
        {
          "output_type": "stream",
          "name": "stderr",
          "text": [
            "WARNING ⚠️ 'Boxes.boxes' is deprecated. Use 'Boxes.data' instead.\n",
            "<ipython-input-60-051a0d118cd5>:8: FutureWarning: The frame.append method is deprecated and will be removed from pandas in a future version. Use pandas.concat instead.\n",
            "  SUBM.append({'name': filepath, 'class': clas}, ignore_index=True)\n",
            "\n",
            "0: 448x640 1 ship, 28.0ms\n",
            "Speed: 2.9ms preprocess, 28.0ms inference, 1.5ms postprocess per image at shape (1, 3, 640, 640)\n"
          ]
        },
        {
          "output_type": "stream",
          "name": "stdout",
          "text": [
            "Yolo class 0, yolo conf 0.3596504330635071, Hugs class 1\n",
            "/content/TESTdataset/389.jpg\n"
          ]
        },
        {
          "output_type": "stream",
          "name": "stderr",
          "text": [
            "WARNING ⚠️ 'Boxes.boxes' is deprecated. Use 'Boxes.data' instead.\n",
            "<ipython-input-60-051a0d118cd5>:8: FutureWarning: The frame.append method is deprecated and will be removed from pandas in a future version. Use pandas.concat instead.\n",
            "  SUBM.append({'name': filepath, 'class': clas}, ignore_index=True)\n",
            "\n",
            "0: 512x640 2 mals, 1 ship, 29.3ms\n",
            "Speed: 3.1ms preprocess, 29.3ms inference, 1.5ms postprocess per image at shape (1, 3, 640, 640)\n"
          ]
        },
        {
          "output_type": "stream",
          "name": "stdout",
          "text": [
            "Yolo class 2, yolo conf 0.8945426940917969, Hugs class 2\n",
            "/content/TESTdataset/452.jpg\n"
          ]
        },
        {
          "output_type": "stream",
          "name": "stderr",
          "text": [
            "WARNING ⚠️ 'Boxes.boxes' is deprecated. Use 'Boxes.data' instead.\n",
            "<ipython-input-60-051a0d118cd5>:8: FutureWarning: The frame.append method is deprecated and will be removed from pandas in a future version. Use pandas.concat instead.\n",
            "  SUBM.append({'name': filepath, 'class': clas}, ignore_index=True)\n",
            "\n",
            "0: 512x640 4 klikuns, 28.6ms\n",
            "Speed: 3.7ms preprocess, 28.6ms inference, 1.6ms postprocess per image at shape (1, 3, 640, 640)\n"
          ]
        },
        {
          "output_type": "stream",
          "name": "stdout",
          "text": [
            "Yolo class 1, yolo conf 0.511332114537557, Hugs class 0\n",
            "/content/TESTdataset/214.jpg\n"
          ]
        },
        {
          "output_type": "stream",
          "name": "stderr",
          "text": [
            "WARNING ⚠️ 'Boxes.boxes' is deprecated. Use 'Boxes.data' instead.\n",
            "<ipython-input-60-051a0d118cd5>:8: FutureWarning: The frame.append method is deprecated and will be removed from pandas in a future version. Use pandas.concat instead.\n",
            "  SUBM.append({'name': filepath, 'class': clas}, ignore_index=True)\n",
            "\n",
            "0: 480x640 1 ship, 29.1ms\n",
            "Speed: 5.0ms preprocess, 29.1ms inference, 1.5ms postprocess per image at shape (1, 3, 640, 640)\n",
            "WARNING ⚠️ 'Boxes.boxes' is deprecated. Use 'Boxes.data' instead.\n",
            "<ipython-input-60-051a0d118cd5>:8: FutureWarning: The frame.append method is deprecated and will be removed from pandas in a future version. Use pandas.concat instead.\n",
            "  SUBM.append({'name': filepath, 'class': clas}, ignore_index=True)\n",
            "\n",
            "0: 576x640 1 klikun, 36.3ms\n",
            "Speed: 3.3ms preprocess, 36.3ms inference, 1.5ms postprocess per image at shape (1, 3, 640, 640)\n"
          ]
        },
        {
          "output_type": "stream",
          "name": "stdout",
          "text": [
            "Yolo class 0, yolo conf 0.5147363170981407, Hugs class 1\n",
            "/content/TESTdataset/575.jpg\n",
            "HUGS FAILED ON /content/TESTdataset/575.jpg\n",
            "Yolo class 2, yolo conf 0.6736804246902466, Hugs class -1\n",
            "/content/TESTdataset/265.jpg\n"
          ]
        },
        {
          "output_type": "stream",
          "name": "stderr",
          "text": [
            "WARNING ⚠️ 'Boxes.boxes' is deprecated. Use 'Boxes.data' instead.\n",
            "<ipython-input-60-051a0d118cd5>:8: FutureWarning: The frame.append method is deprecated and will be removed from pandas in a future version. Use pandas.concat instead.\n",
            "  SUBM.append({'name': filepath, 'class': clas}, ignore_index=True)\n",
            "\n",
            "0: 384x640 3 mals, 28.4ms\n",
            "Speed: 2.4ms preprocess, 28.4ms inference, 1.4ms postprocess per image at shape (1, 3, 640, 640)\n"
          ]
        },
        {
          "output_type": "stream",
          "name": "stdout",
          "text": [
            "Yolo class 0, yolo conf 0.7902876734733582, Hugs class 2\n",
            "/content/TESTdataset/503.jpg\n"
          ]
        },
        {
          "output_type": "stream",
          "name": "stderr",
          "text": [
            "WARNING ⚠️ 'Boxes.boxes' is deprecated. Use 'Boxes.data' instead.\n",
            "<ipython-input-60-051a0d118cd5>:8: FutureWarning: The frame.append method is deprecated and will be removed from pandas in a future version. Use pandas.concat instead.\n",
            "  SUBM.append({'name': filepath, 'class': clas}, ignore_index=True)\n",
            "\n",
            "0: 512x640 4 mals, 31.5ms\n",
            "Speed: 3.4ms preprocess, 31.5ms inference, 1.4ms postprocess per image at shape (1, 3, 640, 640)\n"
          ]
        },
        {
          "output_type": "stream",
          "name": "stdout",
          "text": [
            "Yolo class 1, yolo conf 0.8094971776008606, Hugs class 0\n",
            "/content/TESTdataset/540.jpg\n"
          ]
        },
        {
          "output_type": "stream",
          "name": "stderr",
          "text": [
            "WARNING ⚠️ 'Boxes.boxes' is deprecated. Use 'Boxes.data' instead.\n",
            "<ipython-input-60-051a0d118cd5>:8: FutureWarning: The frame.append method is deprecated and will be removed from pandas in a future version. Use pandas.concat instead.\n",
            "  SUBM.append({'name': filepath, 'class': clas}, ignore_index=True)\n",
            "\n",
            "0: 448x640 1 klikun, 1 ship, 28.6ms\n",
            "Speed: 3.3ms preprocess, 28.6ms inference, 1.5ms postprocess per image at shape (1, 3, 640, 640)\n"
          ]
        },
        {
          "output_type": "stream",
          "name": "stdout",
          "text": [
            "Yolo class 1, yolo conf 0.7975113391876221, Hugs class 0\n",
            "/content/TESTdataset/368.jpg\n"
          ]
        },
        {
          "output_type": "stream",
          "name": "stderr",
          "text": [
            "WARNING ⚠️ 'Boxes.boxes' is deprecated. Use 'Boxes.data' instead.\n",
            "<ipython-input-60-051a0d118cd5>:8: FutureWarning: The frame.append method is deprecated and will be removed from pandas in a future version. Use pandas.concat instead.\n",
            "  SUBM.append({'name': filepath, 'class': clas}, ignore_index=True)\n",
            "\n",
            "0: 480x640 1 klikun, 30.1ms\n",
            "Speed: 3.2ms preprocess, 30.1ms inference, 1.8ms postprocess per image at shape (1, 3, 640, 640)\n"
          ]
        },
        {
          "output_type": "stream",
          "name": "stdout",
          "text": [
            "Yolo class 0, yolo conf 0.2256087064743042, Hugs class 1\n",
            "/content/TESTdataset/115.jpg\n"
          ]
        },
        {
          "output_type": "stream",
          "name": "stderr",
          "text": [
            "WARNING ⚠️ 'Boxes.boxes' is deprecated. Use 'Boxes.data' instead.\n",
            "<ipython-input-60-051a0d118cd5>:8: FutureWarning: The frame.append method is deprecated and will be removed from pandas in a future version. Use pandas.concat instead.\n",
            "  SUBM.append({'name': filepath, 'class': clas}, ignore_index=True)\n",
            "\n",
            "0: 448x640 1 mal, 28.7ms\n",
            "Speed: 3.5ms preprocess, 28.7ms inference, 1.5ms postprocess per image at shape (1, 3, 640, 640)\n"
          ]
        },
        {
          "output_type": "stream",
          "name": "stdout",
          "text": [
            "Yolo class 0, yolo conf 0.7747979760169983, Hugs class 0\n",
            "/content/TESTdataset/513.jpg\n"
          ]
        },
        {
          "output_type": "stream",
          "name": "stderr",
          "text": [
            "WARNING ⚠️ 'Boxes.boxes' is deprecated. Use 'Boxes.data' instead.\n",
            "<ipython-input-60-051a0d118cd5>:8: FutureWarning: The frame.append method is deprecated and will be removed from pandas in a future version. Use pandas.concat instead.\n",
            "  SUBM.append({'name': filepath, 'class': clas}, ignore_index=True)\n",
            "\n",
            "0: 448x640 1 ship, 27.9ms\n",
            "Speed: 3.5ms preprocess, 27.9ms inference, 2.3ms postprocess per image at shape (1, 3, 640, 640)\n"
          ]
        },
        {
          "output_type": "stream",
          "name": "stdout",
          "text": [
            "Yolo class 1, yolo conf 0.6978275775909424, Hugs class 0\n",
            "/content/TESTdataset/412.jpg\n"
          ]
        },
        {
          "output_type": "stream",
          "name": "stderr",
          "text": [
            "WARNING ⚠️ 'Boxes.boxes' is deprecated. Use 'Boxes.data' instead.\n",
            "<ipython-input-60-051a0d118cd5>:8: FutureWarning: The frame.append method is deprecated and will be removed from pandas in a future version. Use pandas.concat instead.\n",
            "  SUBM.append({'name': filepath, 'class': clas}, ignore_index=True)\n",
            "\n",
            "0: 640x544 1 mal, 38.4ms\n",
            "Speed: 3.3ms preprocess, 38.4ms inference, 1.8ms postprocess per image at shape (1, 3, 640, 640)\n",
            "WARNING ⚠️ 'Boxes.boxes' is deprecated. Use 'Boxes.data' instead.\n",
            "<ipython-input-60-051a0d118cd5>:8: FutureWarning: The frame.append method is deprecated and will be removed from pandas in a future version. Use pandas.concat instead.\n",
            "  SUBM.append({'name': filepath, 'class': clas}, ignore_index=True)\n",
            "\n"
          ]
        },
        {
          "output_type": "stream",
          "name": "stdout",
          "text": [
            "Yolo class 2, yolo conf 0.907202959060669, Hugs class 2\n",
            "/content/TESTdataset/483.jpg\n",
            "HUGS FAILED ON /content/TESTdataset/483.jpg\n",
            "Yolo class 1, yolo conf 0.8683751225471497, Hugs class -1\n",
            "/content/TESTdataset/24.jpg\n"
          ]
        },
        {
          "output_type": "stream",
          "name": "stderr",
          "text": [
            "0: 416x640 2 klikuns, 29.7ms\n",
            "Speed: 2.9ms preprocess, 29.7ms inference, 2.2ms postprocess per image at shape (1, 3, 640, 640)\n",
            "WARNING ⚠️ 'Boxes.boxes' is deprecated. Use 'Boxes.data' instead.\n",
            "<ipython-input-60-051a0d118cd5>:8: FutureWarning: The frame.append method is deprecated and will be removed from pandas in a future version. Use pandas.concat instead.\n",
            "  SUBM.append({'name': filepath, 'class': clas}, ignore_index=True)\n",
            "\n",
            "0: 416x640 5 mals, 27.6ms\n",
            "Speed: 3.0ms preprocess, 27.6ms inference, 2.4ms postprocess per image at shape (1, 3, 640, 640)\n"
          ]
        },
        {
          "output_type": "stream",
          "name": "stdout",
          "text": [
            "HUGS FAILED ON /content/TESTdataset/24.jpg\n",
            "Yolo class 0, yolo conf 0.34952495992183685, Hugs class -1\n",
            "/content/TESTdataset/165.jpg\n"
          ]
        },
        {
          "output_type": "stream",
          "name": "stderr",
          "text": [
            "WARNING ⚠️ 'Boxes.boxes' is deprecated. Use 'Boxes.data' instead.\n",
            "<ipython-input-60-051a0d118cd5>:8: FutureWarning: The frame.append method is deprecated and will be removed from pandas in a future version. Use pandas.concat instead.\n",
            "  SUBM.append({'name': filepath, 'class': clas}, ignore_index=True)\n",
            "\n",
            "0: 448x640 1 ship, 29.8ms\n",
            "Speed: 2.7ms preprocess, 29.8ms inference, 2.1ms postprocess per image at shape (1, 3, 640, 640)\n"
          ]
        },
        {
          "output_type": "stream",
          "name": "stdout",
          "text": [
            "Yolo class 1, yolo conf 0.5880361199378967, Hugs class 0\n",
            "/content/TESTdataset/576.jpg\n"
          ]
        },
        {
          "output_type": "stream",
          "name": "stderr",
          "text": [
            "WARNING ⚠️ 'Boxes.boxes' is deprecated. Use 'Boxes.data' instead.\n",
            "<ipython-input-60-051a0d118cd5>:8: FutureWarning: The frame.append method is deprecated and will be removed from pandas in a future version. Use pandas.concat instead.\n",
            "  SUBM.append({'name': filepath, 'class': clas}, ignore_index=True)\n",
            "\n",
            "0: 640x480 1 ship, 29.2ms\n",
            "Speed: 6.9ms preprocess, 29.2ms inference, 1.9ms postprocess per image at shape (1, 3, 640, 640)\n"
          ]
        },
        {
          "output_type": "stream",
          "name": "stdout",
          "text": [
            "Yolo class 2, yolo conf 0.9018244743347168, Hugs class 2\n",
            "/content/TESTdataset/463.jpg\n"
          ]
        },
        {
          "output_type": "stream",
          "name": "stderr",
          "text": [
            "WARNING ⚠️ 'Boxes.boxes' is deprecated. Use 'Boxes.data' instead.\n",
            "<ipython-input-60-051a0d118cd5>:8: FutureWarning: The frame.append method is deprecated and will be removed from pandas in a future version. Use pandas.concat instead.\n",
            "  SUBM.append({'name': filepath, 'class': clas}, ignore_index=True)\n",
            "\n",
            "0: 640x512 1 klikun, 29.3ms\n",
            "Speed: 2.7ms preprocess, 29.3ms inference, 2.1ms postprocess per image at shape (1, 3, 640, 640)\n"
          ]
        },
        {
          "output_type": "stream",
          "name": "stdout",
          "text": [
            "Yolo class 2, yolo conf 0.8107978105545044, Hugs class 2\n",
            "/content/TESTdataset/250.jpg\n"
          ]
        },
        {
          "output_type": "stream",
          "name": "stderr",
          "text": [
            "WARNING ⚠️ 'Boxes.boxes' is deprecated. Use 'Boxes.data' instead.\n",
            "<ipython-input-60-051a0d118cd5>:8: FutureWarning: The frame.append method is deprecated and will be removed from pandas in a future version. Use pandas.concat instead.\n",
            "  SUBM.append({'name': filepath, 'class': clas}, ignore_index=True)\n",
            "\n",
            "0: 480x640 1 klikun, 29.4ms\n",
            "Speed: 3.3ms preprocess, 29.4ms inference, 2.3ms postprocess per image at shape (1, 3, 640, 640)\n"
          ]
        },
        {
          "output_type": "stream",
          "name": "stdout",
          "text": [
            "Yolo class 0, yolo conf 0.8674298524856567, Hugs class 1\n",
            "/content/TESTdataset/174.jpg\n"
          ]
        },
        {
          "output_type": "stream",
          "name": "stderr",
          "text": [
            "WARNING ⚠️ 'Boxes.boxes' is deprecated. Use 'Boxes.data' instead.\n",
            "<ipython-input-60-051a0d118cd5>:8: FutureWarning: The frame.append method is deprecated and will be removed from pandas in a future version. Use pandas.concat instead.\n",
            "  SUBM.append({'name': filepath, 'class': clas}, ignore_index=True)\n",
            "\n",
            "0: 448x640 1 ship, 28.6ms\n",
            "Speed: 3.3ms preprocess, 28.6ms inference, 1.5ms postprocess per image at shape (1, 3, 640, 640)\n"
          ]
        },
        {
          "output_type": "stream",
          "name": "stdout",
          "text": [
            "Yolo class 0, yolo conf 0.5377547740936279, Hugs class 1\n",
            "/content/TESTdataset/391.jpg\n"
          ]
        },
        {
          "output_type": "stream",
          "name": "stderr",
          "text": [
            "WARNING ⚠️ 'Boxes.boxes' is deprecated. Use 'Boxes.data' instead.\n",
            "<ipython-input-60-051a0d118cd5>:8: FutureWarning: The frame.append method is deprecated and will be removed from pandas in a future version. Use pandas.concat instead.\n",
            "  SUBM.append({'name': filepath, 'class': clas}, ignore_index=True)\n",
            "\n",
            "0: 640x640 2 mals, 37.8ms\n",
            "Speed: 3.2ms preprocess, 37.8ms inference, 1.6ms postprocess per image at shape (1, 3, 640, 640)\n"
          ]
        },
        {
          "output_type": "stream",
          "name": "stdout",
          "text": [
            "Yolo class 2, yolo conf 0.9127973914146423, Hugs class 2\n",
            "/content/TESTdataset/262.jpg\n"
          ]
        },
        {
          "output_type": "stream",
          "name": "stderr",
          "text": [
            "WARNING ⚠️ 'Boxes.boxes' is deprecated. Use 'Boxes.data' instead.\n",
            "<ipython-input-60-051a0d118cd5>:8: FutureWarning: The frame.append method is deprecated and will be removed from pandas in a future version. Use pandas.concat instead.\n",
            "  SUBM.append({'name': filepath, 'class': clas}, ignore_index=True)\n",
            "\n",
            "0: 448x640 1 ship, 28.8ms\n",
            "Speed: 3.1ms preprocess, 28.8ms inference, 1.5ms postprocess per image at shape (1, 3, 640, 640)\n"
          ]
        },
        {
          "output_type": "stream",
          "name": "stdout",
          "text": [
            "Yolo class 1, yolo conf 0.723176121711731, Hugs class 1\n",
            "/content/TESTdataset/170.jpg\n"
          ]
        },
        {
          "output_type": "stream",
          "name": "stderr",
          "text": [
            "WARNING ⚠️ 'Boxes.boxes' is deprecated. Use 'Boxes.data' instead.\n",
            "<ipython-input-60-051a0d118cd5>:8: FutureWarning: The frame.append method is deprecated and will be removed from pandas in a future version. Use pandas.concat instead.\n",
            "  SUBM.append({'name': filepath, 'class': clas}, ignore_index=True)\n",
            "\n",
            "0: 448x640 4 mals, 27.9ms\n",
            "Speed: 3.0ms preprocess, 27.9ms inference, 1.5ms postprocess per image at shape (1, 3, 640, 640)\n"
          ]
        },
        {
          "output_type": "stream",
          "name": "stdout",
          "text": [
            "Yolo class 2, yolo conf 0.8803008794784546, Hugs class 2\n",
            "/content/TESTdataset/195.jpg\n"
          ]
        },
        {
          "output_type": "stream",
          "name": "stderr",
          "text": [
            "WARNING ⚠️ 'Boxes.boxes' is deprecated. Use 'Boxes.data' instead.\n",
            "<ipython-input-60-051a0d118cd5>:8: FutureWarning: The frame.append method is deprecated and will be removed from pandas in a future version. Use pandas.concat instead.\n",
            "  SUBM.append({'name': filepath, 'class': clas}, ignore_index=True)\n",
            "\n",
            "0: 448x640 1 ship, 28.1ms\n",
            "Speed: 2.9ms preprocess, 28.1ms inference, 1.5ms postprocess per image at shape (1, 3, 640, 640)\n"
          ]
        },
        {
          "output_type": "stream",
          "name": "stdout",
          "text": [
            "Yolo class 1, yolo conf 0.7841502875089645, Hugs class 0\n",
            "/content/TESTdataset/23.jpg\n"
          ]
        },
        {
          "output_type": "stream",
          "name": "stderr",
          "text": [
            "WARNING ⚠️ 'Boxes.boxes' is deprecated. Use 'Boxes.data' instead.\n",
            "<ipython-input-60-051a0d118cd5>:8: FutureWarning: The frame.append method is deprecated and will be removed from pandas in a future version. Use pandas.concat instead.\n",
            "  SUBM.append({'name': filepath, 'class': clas}, ignore_index=True)\n",
            "\n",
            "0: 480x640 1 ship, 29.4ms\n",
            "Speed: 3.5ms preprocess, 29.4ms inference, 1.5ms postprocess per image at shape (1, 3, 640, 640)\n"
          ]
        },
        {
          "output_type": "stream",
          "name": "stdout",
          "text": [
            "Yolo class 2, yolo conf 0.9182330369949341, Hugs class 2\n",
            "/content/TESTdataset/562.jpg\n"
          ]
        },
        {
          "output_type": "stream",
          "name": "stderr",
          "text": [
            "WARNING ⚠️ 'Boxes.boxes' is deprecated. Use 'Boxes.data' instead.\n",
            "<ipython-input-60-051a0d118cd5>:8: FutureWarning: The frame.append method is deprecated and will be removed from pandas in a future version. Use pandas.concat instead.\n",
            "  SUBM.append({'name': filepath, 'class': clas}, ignore_index=True)\n",
            "\n",
            "0: 544x640 4 mals, 35.8ms\n",
            "Speed: 3.2ms preprocess, 35.8ms inference, 1.5ms postprocess per image at shape (1, 3, 640, 640)\n"
          ]
        },
        {
          "output_type": "stream",
          "name": "stdout",
          "text": [
            "Yolo class 2, yolo conf 0.8087907433509827, Hugs class 2\n",
            "/content/TESTdataset/409.jpg\n"
          ]
        },
        {
          "output_type": "stream",
          "name": "stderr",
          "text": [
            "WARNING ⚠️ 'Boxes.boxes' is deprecated. Use 'Boxes.data' instead.\n",
            "<ipython-input-60-051a0d118cd5>:8: FutureWarning: The frame.append method is deprecated and will be removed from pandas in a future version. Use pandas.concat instead.\n",
            "  SUBM.append({'name': filepath, 'class': clas}, ignore_index=True)\n",
            "\n",
            "0: 448x640 1 klikun, 5 mals, 28.6ms\n",
            "Speed: 2.9ms preprocess, 28.6ms inference, 1.4ms postprocess per image at shape (1, 3, 640, 640)\n"
          ]
        },
        {
          "output_type": "stream",
          "name": "stdout",
          "text": [
            "Yolo class 1, yolo conf 0.8028269559144974, Hugs class 0\n",
            "/content/TESTdataset/114.jpg\n"
          ]
        },
        {
          "output_type": "stream",
          "name": "stderr",
          "text": [
            "WARNING ⚠️ 'Boxes.boxes' is deprecated. Use 'Boxes.data' instead.\n",
            "<ipython-input-60-051a0d118cd5>:8: FutureWarning: The frame.append method is deprecated and will be removed from pandas in a future version. Use pandas.concat instead.\n",
            "  SUBM.append({'name': filepath, 'class': clas}, ignore_index=True)\n",
            "\n",
            "0: 448x640 3 mals, 27.8ms\n",
            "Speed: 3.1ms preprocess, 27.8ms inference, 1.6ms postprocess per image at shape (1, 3, 640, 640)\n"
          ]
        },
        {
          "output_type": "stream",
          "name": "stdout",
          "text": [
            "Yolo class 1, yolo conf 0.36231810847918194, Hugs class 0\n",
            "/content/TESTdataset/289.jpg\n"
          ]
        },
        {
          "output_type": "stream",
          "name": "stderr",
          "text": [
            "WARNING ⚠️ 'Boxes.boxes' is deprecated. Use 'Boxes.data' instead.\n",
            "<ipython-input-60-051a0d118cd5>:8: FutureWarning: The frame.append method is deprecated and will be removed from pandas in a future version. Use pandas.concat instead.\n",
            "  SUBM.append({'name': filepath, 'class': clas}, ignore_index=True)\n",
            "\n",
            "0: 384x640 1 ship, 26.6ms\n",
            "Speed: 2.7ms preprocess, 26.6ms inference, 1.4ms postprocess per image at shape (1, 3, 640, 640)\n"
          ]
        },
        {
          "output_type": "stream",
          "name": "stdout",
          "text": [
            "Yolo class 1, yolo conf 0.6178422172864279, Hugs class 0\n",
            "/content/TESTdataset/151.jpg\n"
          ]
        },
        {
          "output_type": "stream",
          "name": "stderr",
          "text": [
            "WARNING ⚠️ 'Boxes.boxes' is deprecated. Use 'Boxes.data' instead.\n",
            "<ipython-input-60-051a0d118cd5>:8: FutureWarning: The frame.append method is deprecated and will be removed from pandas in a future version. Use pandas.concat instead.\n",
            "  SUBM.append({'name': filepath, 'class': clas}, ignore_index=True)\n",
            "\n",
            "0: 384x640 1 mal, 25.9ms\n",
            "Speed: 2.3ms preprocess, 25.9ms inference, 1.5ms postprocess per image at shape (1, 3, 640, 640)\n"
          ]
        },
        {
          "output_type": "stream",
          "name": "stdout",
          "text": [
            "Yolo class 2, yolo conf 0.7718608379364014, Hugs class 2\n",
            "/content/TESTdataset/50.jpg\n"
          ]
        },
        {
          "output_type": "stream",
          "name": "stderr",
          "text": [
            "WARNING ⚠️ 'Boxes.boxes' is deprecated. Use 'Boxes.data' instead.\n",
            "<ipython-input-60-051a0d118cd5>:8: FutureWarning: The frame.append method is deprecated and will be removed from pandas in a future version. Use pandas.concat instead.\n",
            "  SUBM.append({'name': filepath, 'class': clas}, ignore_index=True)\n",
            "\n",
            "0: 448x640 1 mal, 28.8ms\n",
            "Speed: 3.2ms preprocess, 28.8ms inference, 1.5ms postprocess per image at shape (1, 3, 640, 640)\n"
          ]
        },
        {
          "output_type": "stream",
          "name": "stdout",
          "text": [
            "Yolo class 1, yolo conf 0.6519004702568054, Hugs class 0\n",
            "/content/TESTdataset/561.jpg\n"
          ]
        },
        {
          "output_type": "stream",
          "name": "stderr",
          "text": [
            "WARNING ⚠️ 'Boxes.boxes' is deprecated. Use 'Boxes.data' instead.\n",
            "<ipython-input-60-051a0d118cd5>:8: FutureWarning: The frame.append method is deprecated and will be removed from pandas in a future version. Use pandas.concat instead.\n",
            "  SUBM.append({'name': filepath, 'class': clas}, ignore_index=True)\n",
            "\n",
            "0: 640x416 1 ship, 28.4ms\n",
            "Speed: 2.6ms preprocess, 28.4ms inference, 1.5ms postprocess per image at shape (1, 3, 640, 640)\n"
          ]
        },
        {
          "output_type": "stream",
          "name": "stdout",
          "text": [
            "Yolo class 1, yolo conf 0.575858473777771, Hugs class 1\n",
            "/content/TESTdataset/336.jpg\n"
          ]
        },
        {
          "output_type": "stream",
          "name": "stderr",
          "text": [
            "WARNING ⚠️ 'Boxes.boxes' is deprecated. Use 'Boxes.data' instead.\n",
            "<ipython-input-60-051a0d118cd5>:8: FutureWarning: The frame.append method is deprecated and will be removed from pandas in a future version. Use pandas.concat instead.\n",
            "  SUBM.append({'name': filepath, 'class': clas}, ignore_index=True)\n",
            "\n",
            "0: 640x544 2 mals, 36.3ms\n",
            "Speed: 3.5ms preprocess, 36.3ms inference, 1.5ms postprocess per image at shape (1, 3, 640, 640)\n",
            "WARNING ⚠️ 'Boxes.boxes' is deprecated. Use 'Boxes.data' instead.\n",
            "<ipython-input-60-051a0d118cd5>:8: FutureWarning: The frame.append method is deprecated and will be removed from pandas in a future version. Use pandas.concat instead.\n",
            "  SUBM.append({'name': filepath, 'class': clas}, ignore_index=True)\n",
            "\n",
            "0: 640x448 1 mal, 28.7ms\n",
            "Speed: 2.5ms preprocess, 28.7ms inference, 1.5ms postprocess per image at shape (1, 3, 640, 640)\n"
          ]
        },
        {
          "output_type": "stream",
          "name": "stdout",
          "text": [
            "Yolo class 2, yolo conf 0.7947927713394165, Hugs class 2\n",
            "/content/TESTdataset/94.jpg\n",
            "HUGS FAILED ON /content/TESTdataset/94.jpg\n",
            "Yolo class 1, yolo conf 0.8536390662193298, Hugs class -1\n",
            "/content/TESTdataset/13.jpg\n"
          ]
        },
        {
          "output_type": "stream",
          "name": "stderr",
          "text": [
            "WARNING ⚠️ 'Boxes.boxes' is deprecated. Use 'Boxes.data' instead.\n",
            "<ipython-input-60-051a0d118cd5>:8: FutureWarning: The frame.append method is deprecated and will be removed from pandas in a future version. Use pandas.concat instead.\n",
            "  SUBM.append({'name': filepath, 'class': clas}, ignore_index=True)\n",
            "\n",
            "0: 448x640 9 mals, 29.0ms\n",
            "Speed: 2.6ms preprocess, 29.0ms inference, 1.5ms postprocess per image at shape (1, 3, 640, 640)\n"
          ]
        },
        {
          "output_type": "stream",
          "name": "stdout",
          "text": [
            "Yolo class 1, yolo conf 0.8498111963272095, Hugs class 0\n",
            "/content/TESTdataset/420.jpg\n"
          ]
        },
        {
          "output_type": "stream",
          "name": "stderr",
          "text": [
            "WARNING ⚠️ 'Boxes.boxes' is deprecated. Use 'Boxes.data' instead.\n",
            "<ipython-input-60-051a0d118cd5>:8: FutureWarning: The frame.append method is deprecated and will be removed from pandas in a future version. Use pandas.concat instead.\n",
            "  SUBM.append({'name': filepath, 'class': clas}, ignore_index=True)\n",
            "\n",
            "0: 448x640 1 klikun, 27.9ms\n",
            "Speed: 3.4ms preprocess, 27.9ms inference, 1.5ms postprocess per image at shape (1, 3, 640, 640)\n"
          ]
        },
        {
          "output_type": "stream",
          "name": "stdout",
          "text": [
            "Yolo class 1, yolo conf 0.6555737257003784, Hugs class 0\n",
            "/content/TESTdataset/533.jpg\n"
          ]
        },
        {
          "output_type": "stream",
          "name": "stderr",
          "text": [
            "WARNING ⚠️ 'Boxes.boxes' is deprecated. Use 'Boxes.data' instead.\n",
            "<ipython-input-60-051a0d118cd5>:8: FutureWarning: The frame.append method is deprecated and will be removed from pandas in a future version. Use pandas.concat instead.\n",
            "  SUBM.append({'name': filepath, 'class': clas}, ignore_index=True)\n",
            "\n",
            "0: 480x640 1 klikun, 1 mal, 29.2ms\n",
            "Speed: 2.9ms preprocess, 29.2ms inference, 2.1ms postprocess per image at shape (1, 3, 640, 640)\n"
          ]
        },
        {
          "output_type": "stream",
          "name": "stdout",
          "text": [
            "Yolo class 0, yolo conf 0.9051992297172546, Hugs class 1\n",
            "/content/TESTdataset/497.jpg\n"
          ]
        },
        {
          "output_type": "stream",
          "name": "stderr",
          "text": [
            "WARNING ⚠️ 'Boxes.boxes' is deprecated. Use 'Boxes.data' instead.\n",
            "<ipython-input-60-051a0d118cd5>:8: FutureWarning: The frame.append method is deprecated and will be removed from pandas in a future version. Use pandas.concat instead.\n",
            "  SUBM.append({'name': filepath, 'class': clas}, ignore_index=True)\n",
            "\n",
            "0: 448x640 1 klikun, 1 ship, 28.8ms\n",
            "Speed: 3.0ms preprocess, 28.8ms inference, 1.8ms postprocess per image at shape (1, 3, 640, 640)\n"
          ]
        },
        {
          "output_type": "stream",
          "name": "stdout",
          "text": [
            "Yolo class 1, yolo conf 0.26888853311538696, Hugs class 1\n",
            "/content/TESTdataset/573.jpg\n"
          ]
        },
        {
          "output_type": "stream",
          "name": "stderr",
          "text": [
            "WARNING ⚠️ 'Boxes.boxes' is deprecated. Use 'Boxes.data' instead.\n",
            "<ipython-input-60-051a0d118cd5>:8: FutureWarning: The frame.append method is deprecated and will be removed from pandas in a future version. Use pandas.concat instead.\n",
            "  SUBM.append({'name': filepath, 'class': clas}, ignore_index=True)\n",
            "\n",
            "0: 384x640 1 klikun, 26.9ms\n",
            "Speed: 2.8ms preprocess, 26.9ms inference, 2.1ms postprocess per image at shape (1, 3, 640, 640)\n"
          ]
        },
        {
          "output_type": "stream",
          "name": "stdout",
          "text": [
            "Yolo class 2, yolo conf 0.23594120144844055, Hugs class 2\n",
            "/content/TESTdataset/288.jpg\n"
          ]
        },
        {
          "output_type": "stream",
          "name": "stderr",
          "text": [
            "WARNING ⚠️ 'Boxes.boxes' is deprecated. Use 'Boxes.data' instead.\n",
            "<ipython-input-60-051a0d118cd5>:8: FutureWarning: The frame.append method is deprecated and will be removed from pandas in a future version. Use pandas.concat instead.\n",
            "  SUBM.append({'name': filepath, 'class': clas}, ignore_index=True)\n",
            "\n",
            "0: 480x640 1 klikun, 32.6ms\n",
            "Speed: 2.7ms preprocess, 32.6ms inference, 2.2ms postprocess per image at shape (1, 3, 640, 640)\n"
          ]
        },
        {
          "output_type": "stream",
          "name": "stdout",
          "text": [
            "Yolo class 0, yolo conf 0.7948128581047058, Hugs class 1\n",
            "/content/TESTdataset/146.jpg\n"
          ]
        },
        {
          "output_type": "stream",
          "name": "stderr",
          "text": [
            "WARNING ⚠️ 'Boxes.boxes' is deprecated. Use 'Boxes.data' instead.\n",
            "<ipython-input-60-051a0d118cd5>:8: FutureWarning: The frame.append method is deprecated and will be removed from pandas in a future version. Use pandas.concat instead.\n",
            "  SUBM.append({'name': filepath, 'class': clas}, ignore_index=True)\n",
            "\n",
            "0: 448x640 1 ship, 29.3ms\n",
            "Speed: 2.8ms preprocess, 29.3ms inference, 2.1ms postprocess per image at shape (1, 3, 640, 640)\n"
          ]
        },
        {
          "output_type": "stream",
          "name": "stdout",
          "text": [
            "Yolo class 0, yolo conf 0.30565592646598816, Hugs class 0\n",
            "/content/TESTdataset/58.jpg\n"
          ]
        },
        {
          "output_type": "stream",
          "name": "stderr",
          "text": [
            "WARNING ⚠️ 'Boxes.boxes' is deprecated. Use 'Boxes.data' instead.\n",
            "<ipython-input-60-051a0d118cd5>:8: FutureWarning: The frame.append method is deprecated and will be removed from pandas in a future version. Use pandas.concat instead.\n",
            "  SUBM.append({'name': filepath, 'class': clas}, ignore_index=True)\n",
            "\n",
            "0: 480x640 2 ships, 29.4ms\n",
            "Speed: 3.7ms preprocess, 29.4ms inference, 2.3ms postprocess per image at shape (1, 3, 640, 640)\n"
          ]
        },
        {
          "output_type": "stream",
          "name": "stdout",
          "text": [
            "Yolo class 2, yolo conf 0.8934082984924316, Hugs class 2\n",
            "/content/TESTdataset/529.jpg\n"
          ]
        },
        {
          "output_type": "stream",
          "name": "stderr",
          "text": [
            "WARNING ⚠️ 'Boxes.boxes' is deprecated. Use 'Boxes.data' instead.\n",
            "<ipython-input-60-051a0d118cd5>:8: FutureWarning: The frame.append method is deprecated and will be removed from pandas in a future version. Use pandas.concat instead.\n",
            "  SUBM.append({'name': filepath, 'class': clas}, ignore_index=True)\n",
            "\n",
            "0: 480x640 1 klikun, 28.3ms\n",
            "Speed: 3.5ms preprocess, 28.3ms inference, 1.5ms postprocess per image at shape (1, 3, 640, 640)\n"
          ]
        },
        {
          "output_type": "stream",
          "name": "stdout",
          "text": [
            "Yolo class 2, yolo conf 0.6913749277591705, Hugs class 2\n",
            "/content/TESTdataset/282.jpg\n"
          ]
        },
        {
          "output_type": "stream",
          "name": "stderr",
          "text": [
            "WARNING ⚠️ 'Boxes.boxes' is deprecated. Use 'Boxes.data' instead.\n",
            "<ipython-input-60-051a0d118cd5>:8: FutureWarning: The frame.append method is deprecated and will be removed from pandas in a future version. Use pandas.concat instead.\n",
            "  SUBM.append({'name': filepath, 'class': clas}, ignore_index=True)\n",
            "\n",
            "0: 576x640 1 klikun, 37.1ms\n",
            "Speed: 3.6ms preprocess, 37.1ms inference, 2.2ms postprocess per image at shape (1, 3, 640, 640)\n"
          ]
        },
        {
          "output_type": "stream",
          "name": "stdout",
          "text": [
            "Yolo class 0, yolo conf 0.9017184972763062, Hugs class 1\n",
            "/content/TESTdataset/119.jpg\n"
          ]
        },
        {
          "output_type": "stream",
          "name": "stderr",
          "text": [
            "WARNING ⚠️ 'Boxes.boxes' is deprecated. Use 'Boxes.data' instead.\n",
            "<ipython-input-60-051a0d118cd5>:8: FutureWarning: The frame.append method is deprecated and will be removed from pandas in a future version. Use pandas.concat instead.\n",
            "  SUBM.append({'name': filepath, 'class': clas}, ignore_index=True)\n",
            "\n",
            "0: 480x640 1 mal, 28.9ms\n",
            "Speed: 3.4ms preprocess, 28.9ms inference, 1.4ms postprocess per image at shape (1, 3, 640, 640)\n"
          ]
        },
        {
          "output_type": "stream",
          "name": "stdout",
          "text": [
            "Yolo class 0, yolo conf 0.9030907154083252, Hugs class 1\n",
            "/content/TESTdataset/519.jpg\n"
          ]
        },
        {
          "output_type": "stream",
          "name": "stderr",
          "text": [
            "WARNING ⚠️ 'Boxes.boxes' is deprecated. Use 'Boxes.data' instead.\n",
            "<ipython-input-60-051a0d118cd5>:8: FutureWarning: The frame.append method is deprecated and will be removed from pandas in a future version. Use pandas.concat instead.\n",
            "  SUBM.append({'name': filepath, 'class': clas}, ignore_index=True)\n",
            "\n",
            "0: 448x640 1 ship, 28.7ms\n",
            "Speed: 3.2ms preprocess, 28.7ms inference, 1.4ms postprocess per image at shape (1, 3, 640, 640)\n"
          ]
        },
        {
          "output_type": "stream",
          "name": "stdout",
          "text": [
            "Yolo class 1, yolo conf 0.8570080995559692, Hugs class 0\n",
            "/content/TESTdataset/536.jpg\n"
          ]
        },
        {
          "output_type": "stream",
          "name": "stderr",
          "text": [
            "WARNING ⚠️ 'Boxes.boxes' is deprecated. Use 'Boxes.data' instead.\n",
            "<ipython-input-60-051a0d118cd5>:8: FutureWarning: The frame.append method is deprecated and will be removed from pandas in a future version. Use pandas.concat instead.\n",
            "  SUBM.append({'name': filepath, 'class': clas}, ignore_index=True)\n",
            "\n",
            "0: 448x640 1 klikun, 27.8ms\n",
            "Speed: 3.5ms preprocess, 27.8ms inference, 1.6ms postprocess per image at shape (1, 3, 640, 640)\n"
          ]
        },
        {
          "output_type": "stream",
          "name": "stdout",
          "text": [
            "Yolo class 2, yolo conf 0.33876529335975647, Hugs class 1\n",
            "/content/TESTdataset/335.jpg\n"
          ]
        },
        {
          "output_type": "stream",
          "name": "stderr",
          "text": [
            "WARNING ⚠️ 'Boxes.boxes' is deprecated. Use 'Boxes.data' instead.\n",
            "<ipython-input-60-051a0d118cd5>:8: FutureWarning: The frame.append method is deprecated and will be removed from pandas in a future version. Use pandas.concat instead.\n",
            "  SUBM.append({'name': filepath, 'class': clas}, ignore_index=True)\n",
            "\n",
            "0: 448x640 1 ship, 27.9ms\n",
            "Speed: 3.4ms preprocess, 27.9ms inference, 1.8ms postprocess per image at shape (1, 3, 640, 640)\n"
          ]
        },
        {
          "output_type": "stream",
          "name": "stdout",
          "text": [
            "Yolo class 0, yolo conf 0.7739648818969727, Hugs class 1\n",
            "/content/TESTdataset/172.jpg\n"
          ]
        },
        {
          "output_type": "stream",
          "name": "stderr",
          "text": [
            "WARNING ⚠️ 'Boxes.boxes' is deprecated. Use 'Boxes.data' instead.\n",
            "<ipython-input-60-051a0d118cd5>:8: FutureWarning: The frame.append method is deprecated and will be removed from pandas in a future version. Use pandas.concat instead.\n",
            "  SUBM.append({'name': filepath, 'class': clas}, ignore_index=True)\n",
            "\n",
            "0: 448x640 3 mals, 27.9ms\n",
            "Speed: 2.7ms preprocess, 27.9ms inference, 1.9ms postprocess per image at shape (1, 3, 640, 640)\n"
          ]
        },
        {
          "output_type": "stream",
          "name": "stdout",
          "text": [
            "Yolo class 2, yolo conf 0.606564462184906, Hugs class 2\n",
            "/content/TESTdataset/161.jpg\n"
          ]
        },
        {
          "output_type": "stream",
          "name": "stderr",
          "text": [
            "WARNING ⚠️ 'Boxes.boxes' is deprecated. Use 'Boxes.data' instead.\n",
            "<ipython-input-60-051a0d118cd5>:8: FutureWarning: The frame.append method is deprecated and will be removed from pandas in a future version. Use pandas.concat instead.\n",
            "  SUBM.append({'name': filepath, 'class': clas}, ignore_index=True)\n",
            "\n",
            "0: 512x640 1 ship, 29.4ms\n",
            "Speed: 3.4ms preprocess, 29.4ms inference, 1.6ms postprocess per image at shape (1, 3, 640, 640)\n"
          ]
        },
        {
          "output_type": "stream",
          "name": "stdout",
          "text": [
            "Yolo class 1, yolo conf 0.6328938603401184, Hugs class 0\n",
            "/content/TESTdataset/403.jpg\n"
          ]
        },
        {
          "output_type": "stream",
          "name": "stderr",
          "text": [
            "WARNING ⚠️ 'Boxes.boxes' is deprecated. Use 'Boxes.data' instead.\n",
            "<ipython-input-60-051a0d118cd5>:8: FutureWarning: The frame.append method is deprecated and will be removed from pandas in a future version. Use pandas.concat instead.\n",
            "  SUBM.append({'name': filepath, 'class': clas}, ignore_index=True)\n",
            "\n",
            "0: 640x640 1 ship, 37.8ms\n",
            "Speed: 4.3ms preprocess, 37.8ms inference, 1.5ms postprocess per image at shape (1, 3, 640, 640)\n"
          ]
        },
        {
          "output_type": "stream",
          "name": "stdout",
          "text": [
            "Yolo class 2, yolo conf 0.9103327393531799, Hugs class 2\n",
            "/content/TESTdataset/535.jpg\n"
          ]
        },
        {
          "output_type": "stream",
          "name": "stderr",
          "text": [
            "WARNING ⚠️ 'Boxes.boxes' is deprecated. Use 'Boxes.data' instead.\n",
            "<ipython-input-60-051a0d118cd5>:8: FutureWarning: The frame.append method is deprecated and will be removed from pandas in a future version. Use pandas.concat instead.\n",
            "  SUBM.append({'name': filepath, 'class': clas}, ignore_index=True)\n",
            "\n",
            "0: 640x640 1 ship, 37.0ms\n",
            "Speed: 4.4ms preprocess, 37.0ms inference, 1.5ms postprocess per image at shape (1, 3, 640, 640)\n"
          ]
        },
        {
          "output_type": "stream",
          "name": "stdout",
          "text": [
            "Yolo class 2, yolo conf 0.6547409892082214, Hugs class 0\n",
            "/content/TESTdataset/242.jpg\n"
          ]
        },
        {
          "output_type": "stream",
          "name": "stderr",
          "text": [
            "WARNING ⚠️ 'Boxes.boxes' is deprecated. Use 'Boxes.data' instead.\n",
            "<ipython-input-60-051a0d118cd5>:8: FutureWarning: The frame.append method is deprecated and will be removed from pandas in a future version. Use pandas.concat instead.\n",
            "  SUBM.append({'name': filepath, 'class': clas}, ignore_index=True)\n",
            "\n",
            "0: 448x640 1 klikun, 28.6ms\n",
            "Speed: 3.6ms preprocess, 28.6ms inference, 1.4ms postprocess per image at shape (1, 3, 640, 640)\n"
          ]
        },
        {
          "output_type": "stream",
          "name": "stdout",
          "text": [
            "Yolo class 2, yolo conf 0.8343567848205566, Hugs class 1\n",
            "/content/TESTdataset/465.jpg\n"
          ]
        },
        {
          "output_type": "stream",
          "name": "stderr",
          "text": [
            "WARNING ⚠️ 'Boxes.boxes' is deprecated. Use 'Boxes.data' instead.\n",
            "<ipython-input-60-051a0d118cd5>:8: FutureWarning: The frame.append method is deprecated and will be removed from pandas in a future version. Use pandas.concat instead.\n",
            "  SUBM.append({'name': filepath, 'class': clas}, ignore_index=True)\n",
            "\n",
            "0: 448x640 1 ship, 27.8ms\n",
            "Speed: 3.0ms preprocess, 27.8ms inference, 1.5ms postprocess per image at shape (1, 3, 640, 640)\n"
          ]
        },
        {
          "output_type": "stream",
          "name": "stdout",
          "text": [
            "Yolo class 0, yolo conf 0.6363617181777954, Hugs class 2\n",
            "/content/TESTdataset/207.jpg\n"
          ]
        },
        {
          "output_type": "stream",
          "name": "stderr",
          "text": [
            "WARNING ⚠️ 'Boxes.boxes' is deprecated. Use 'Boxes.data' instead.\n",
            "<ipython-input-60-051a0d118cd5>:8: FutureWarning: The frame.append method is deprecated and will be removed from pandas in a future version. Use pandas.concat instead.\n",
            "  SUBM.append({'name': filepath, 'class': clas}, ignore_index=True)\n",
            "\n",
            "0: 576x640 1 mal, 36.4ms\n",
            "Speed: 3.8ms preprocess, 36.4ms inference, 1.5ms postprocess per image at shape (1, 3, 640, 640)\n",
            "WARNING ⚠️ 'Boxes.boxes' is deprecated. Use 'Boxes.data' instead.\n",
            "<ipython-input-60-051a0d118cd5>:8: FutureWarning: The frame.append method is deprecated and will be removed from pandas in a future version. Use pandas.concat instead.\n",
            "  SUBM.append({'name': filepath, 'class': clas}, ignore_index=True)\n",
            "\n",
            "0: 352x640 3 mals, 25.8ms\n",
            "Speed: 2.8ms preprocess, 25.8ms inference, 1.4ms postprocess per image at shape (1, 3, 640, 640)\n"
          ]
        },
        {
          "output_type": "stream",
          "name": "stdout",
          "text": [
            "Yolo class 2, yolo conf 0.7919130325317383, Hugs class 2\n",
            "/content/TESTdataset/473.jpg\n",
            "HUGS FAILED ON /content/TESTdataset/473.jpg\n",
            "Yolo class 1, yolo conf 0.827683687210083, Hugs class -1\n",
            "/content/TESTdataset/10.jpg\n"
          ]
        },
        {
          "output_type": "stream",
          "name": "stderr",
          "text": [
            "WARNING ⚠️ 'Boxes.boxes' is deprecated. Use 'Boxes.data' instead.\n",
            "<ipython-input-60-051a0d118cd5>:8: FutureWarning: The frame.append method is deprecated and will be removed from pandas in a future version. Use pandas.concat instead.\n",
            "  SUBM.append({'name': filepath, 'class': clas}, ignore_index=True)\n",
            "\n",
            "0: 448x640 1 ship, 28.6ms\n",
            "Speed: 3.3ms preprocess, 28.6ms inference, 1.4ms postprocess per image at shape (1, 3, 640, 640)\n"
          ]
        },
        {
          "output_type": "stream",
          "name": "stdout",
          "text": [
            "Yolo class 1, yolo conf 0.7307382027308146, Hugs class 0\n",
            "/content/TESTdataset/386.jpg\n"
          ]
        },
        {
          "output_type": "stream",
          "name": "stderr",
          "text": [
            "WARNING ⚠️ 'Boxes.boxes' is deprecated. Use 'Boxes.data' instead.\n",
            "<ipython-input-60-051a0d118cd5>:8: FutureWarning: The frame.append method is deprecated and will be removed from pandas in a future version. Use pandas.concat instead.\n",
            "  SUBM.append({'name': filepath, 'class': clas}, ignore_index=True)\n",
            "\n",
            "0: 512x640 1 klikun, 29.3ms\n",
            "Speed: 3.4ms preprocess, 29.3ms inference, 1.5ms postprocess per image at shape (1, 3, 640, 640)\n"
          ]
        },
        {
          "output_type": "stream",
          "name": "stdout",
          "text": [
            "Yolo class 2, yolo conf 0.8164618015289307, Hugs class 1\n",
            "/content/TESTdataset/551.jpg\n"
          ]
        },
        {
          "output_type": "stream",
          "name": "stderr",
          "text": [
            "WARNING ⚠️ 'Boxes.boxes' is deprecated. Use 'Boxes.data' instead.\n",
            "<ipython-input-60-051a0d118cd5>:8: FutureWarning: The frame.append method is deprecated and will be removed from pandas in a future version. Use pandas.concat instead.\n",
            "  SUBM.append({'name': filepath, 'class': clas}, ignore_index=True)\n",
            "\n",
            "0: 480x640 4 mals, 29.3ms\n",
            "Speed: 2.8ms preprocess, 29.3ms inference, 1.9ms postprocess per image at shape (1, 3, 640, 640)\n",
            "WARNING ⚠️ 'Boxes.boxes' is deprecated. Use 'Boxes.data' instead.\n",
            "<ipython-input-60-051a0d118cd5>:8: FutureWarning: The frame.append method is deprecated and will be removed from pandas in a future version. Use pandas.concat instead.\n",
            "  SUBM.append({'name': filepath, 'class': clas}, ignore_index=True)\n",
            "\n",
            "0: 608x640 1 klikun, 37.6ms\n",
            "Speed: 3.7ms preprocess, 37.6ms inference, 2.1ms postprocess per image at shape (1, 3, 640, 640)\n"
          ]
        },
        {
          "output_type": "stream",
          "name": "stdout",
          "text": [
            "Yolo class 0, yolo conf 0.5110064744949341, Hugs class 1\n",
            "/content/TESTdataset/192.jpg\n",
            "HUGS FAILED ON /content/TESTdataset/192.jpg\n",
            "Yolo class 1, yolo conf 0.6865846589207649, Hugs class -1\n",
            "/content/TESTdataset/493.jpg\n"
          ]
        },
        {
          "output_type": "stream",
          "name": "stderr",
          "text": [
            "WARNING ⚠️ 'Boxes.boxes' is deprecated. Use 'Boxes.data' instead.\n",
            "<ipython-input-60-051a0d118cd5>:8: FutureWarning: The frame.append method is deprecated and will be removed from pandas in a future version. Use pandas.concat instead.\n",
            "  SUBM.append({'name': filepath, 'class': clas}, ignore_index=True)\n",
            "\n",
            "0: 480x640 1 klikun, 29.2ms\n",
            "Speed: 3.1ms preprocess, 29.2ms inference, 1.8ms postprocess per image at shape (1, 3, 640, 640)\n"
          ]
        },
        {
          "output_type": "stream",
          "name": "stdout",
          "text": [
            "HUGS FAILED ON /content/TESTdataset/493.jpg\n",
            "Yolo class 0, yolo conf 0.8007866144180298, Hugs class -1\n",
            "/content/TESTdataset/229.jpg\n"
          ]
        },
        {
          "output_type": "stream",
          "name": "stderr",
          "text": [
            "WARNING ⚠️ 'Boxes.boxes' is deprecated. Use 'Boxes.data' instead.\n",
            "<ipython-input-60-051a0d118cd5>:8: FutureWarning: The frame.append method is deprecated and will be removed from pandas in a future version. Use pandas.concat instead.\n",
            "  SUBM.append({'name': filepath, 'class': clas}, ignore_index=True)\n",
            "\n",
            "0: 448x640 3 ships, 36.9ms\n",
            "Speed: 3.0ms preprocess, 36.9ms inference, 2.0ms postprocess per image at shape (1, 3, 640, 640)\n"
          ]
        },
        {
          "output_type": "stream",
          "name": "stdout",
          "text": [
            "Yolo class 0, yolo conf 0.6751495003700256, Hugs class 0\n",
            "/content/TESTdataset/380.jpg\n"
          ]
        },
        {
          "output_type": "stream",
          "name": "stderr",
          "text": [
            "WARNING ⚠️ 'Boxes.boxes' is deprecated. Use 'Boxes.data' instead.\n",
            "<ipython-input-60-051a0d118cd5>:8: FutureWarning: The frame.append method is deprecated and will be removed from pandas in a future version. Use pandas.concat instead.\n",
            "  SUBM.append({'name': filepath, 'class': clas}, ignore_index=True)\n",
            "\n",
            "0: 480x640 1 klikun, 29.6ms\n",
            "Speed: 4.6ms preprocess, 29.6ms inference, 1.9ms postprocess per image at shape (1, 3, 640, 640)\n"
          ]
        },
        {
          "output_type": "stream",
          "name": "stdout",
          "text": [
            "Yolo class 2, yolo conf 0.5121512611707052, Hugs class 2\n",
            "/content/TESTdataset/136.jpg\n"
          ]
        },
        {
          "output_type": "stream",
          "name": "stderr",
          "text": [
            "WARNING ⚠️ 'Boxes.boxes' is deprecated. Use 'Boxes.data' instead.\n",
            "<ipython-input-60-051a0d118cd5>:8: FutureWarning: The frame.append method is deprecated and will be removed from pandas in a future version. Use pandas.concat instead.\n",
            "  SUBM.append({'name': filepath, 'class': clas}, ignore_index=True)\n",
            "\n",
            "0: 448x640 1 klikun, 28.9ms\n",
            "Speed: 3.1ms preprocess, 28.9ms inference, 1.9ms postprocess per image at shape (1, 3, 640, 640)\n"
          ]
        },
        {
          "output_type": "stream",
          "name": "stdout",
          "text": [
            "Yolo class 0, yolo conf 0.8614906668663025, Hugs class 1\n",
            "/content/TESTdataset/147.jpg\n"
          ]
        },
        {
          "output_type": "stream",
          "name": "stderr",
          "text": [
            "WARNING ⚠️ 'Boxes.boxes' is deprecated. Use 'Boxes.data' instead.\n",
            "<ipython-input-60-051a0d118cd5>:8: FutureWarning: The frame.append method is deprecated and will be removed from pandas in a future version. Use pandas.concat instead.\n",
            "  SUBM.append({'name': filepath, 'class': clas}, ignore_index=True)\n",
            "\n",
            "0: 448x640 2 ships, 27.9ms\n",
            "Speed: 2.9ms preprocess, 27.9ms inference, 3.5ms postprocess per image at shape (1, 3, 640, 640)\n"
          ]
        },
        {
          "output_type": "stream",
          "name": "stdout",
          "text": [
            "Yolo class 0, yolo conf 0.8941196203231812, Hugs class 1\n",
            "/content/TESTdataset/283.jpg\n"
          ]
        },
        {
          "output_type": "stream",
          "name": "stderr",
          "text": [
            "WARNING ⚠️ 'Boxes.boxes' is deprecated. Use 'Boxes.data' instead.\n",
            "<ipython-input-60-051a0d118cd5>:8: FutureWarning: The frame.append method is deprecated and will be removed from pandas in a future version. Use pandas.concat instead.\n",
            "  SUBM.append({'name': filepath, 'class': clas}, ignore_index=True)\n",
            "\n",
            "0: 448x640 1 klikun, 1 mal, 27.9ms\n",
            "Speed: 2.9ms preprocess, 27.9ms inference, 2.5ms postprocess per image at shape (1, 3, 640, 640)\n"
          ]
        },
        {
          "output_type": "stream",
          "name": "stdout",
          "text": [
            "Yolo class 2, yolo conf 0.7801674604415894, Hugs class 2\n",
            "/content/TESTdataset/270.jpg\n"
          ]
        },
        {
          "output_type": "stream",
          "name": "stderr",
          "text": [
            "WARNING ⚠️ 'Boxes.boxes' is deprecated. Use 'Boxes.data' instead.\n",
            "<ipython-input-60-051a0d118cd5>:8: FutureWarning: The frame.append method is deprecated and will be removed from pandas in a future version. Use pandas.concat instead.\n",
            "  SUBM.append({'name': filepath, 'class': clas}, ignore_index=True)\n",
            "\n",
            "0: 448x640 3 ships, 27.9ms\n",
            "Speed: 3.4ms preprocess, 27.9ms inference, 1.5ms postprocess per image at shape (1, 3, 640, 640)\n"
          ]
        },
        {
          "output_type": "stream",
          "name": "stdout",
          "text": [
            "Yolo class 1, yolo conf 0.14898620545864105, Hugs class 1\n",
            "/content/TESTdataset/226.jpg\n"
          ]
        },
        {
          "output_type": "stream",
          "name": "stderr",
          "text": [
            "WARNING ⚠️ 'Boxes.boxes' is deprecated. Use 'Boxes.data' instead.\n",
            "<ipython-input-60-051a0d118cd5>:8: FutureWarning: The frame.append method is deprecated and will be removed from pandas in a future version. Use pandas.concat instead.\n",
            "  SUBM.append({'name': filepath, 'class': clas}, ignore_index=True)\n",
            "\n",
            "0: 480x640 2 mals, 28.9ms\n",
            "Speed: 3.3ms preprocess, 28.9ms inference, 1.4ms postprocess per image at shape (1, 3, 640, 640)\n"
          ]
        },
        {
          "output_type": "stream",
          "name": "stdout",
          "text": [
            "Yolo class 2, yolo conf 0.7779363989830017, Hugs class 2\n",
            "/content/TESTdataset/84.jpg\n"
          ]
        },
        {
          "output_type": "stream",
          "name": "stderr",
          "text": [
            "WARNING ⚠️ 'Boxes.boxes' is deprecated. Use 'Boxes.data' instead.\n",
            "<ipython-input-60-051a0d118cd5>:8: FutureWarning: The frame.append method is deprecated and will be removed from pandas in a future version. Use pandas.concat instead.\n",
            "  SUBM.append({'name': filepath, 'class': clas}, ignore_index=True)\n",
            "\n",
            "0: 480x640 1 ship, 28.3ms\n",
            "Speed: 3.3ms preprocess, 28.3ms inference, 2.3ms postprocess per image at shape (1, 3, 640, 640)\n"
          ]
        },
        {
          "output_type": "stream",
          "name": "stdout",
          "text": [
            "Yolo class 1, yolo conf 0.848480224609375, Hugs class 0\n",
            "/content/TESTdataset/580.jpg\n"
          ]
        },
        {
          "output_type": "stream",
          "name": "stderr",
          "text": [
            "WARNING ⚠️ 'Boxes.boxes' is deprecated. Use 'Boxes.data' instead.\n",
            "<ipython-input-60-051a0d118cd5>:8: FutureWarning: The frame.append method is deprecated and will be removed from pandas in a future version. Use pandas.concat instead.\n",
            "  SUBM.append({'name': filepath, 'class': clas}, ignore_index=True)\n",
            "\n",
            "0: 640x608 1 mal, 37.2ms\n",
            "Speed: 3.4ms preprocess, 37.2ms inference, 1.5ms postprocess per image at shape (1, 3, 640, 640)\n",
            "WARNING ⚠️ 'Boxes.boxes' is deprecated. Use 'Boxes.data' instead.\n"
          ]
        },
        {
          "output_type": "stream",
          "name": "stdout",
          "text": [
            "Yolo class 2, yolo conf 0.9247655868530273, Hugs class 2\n",
            "/content/TESTdataset/433.jpg\n",
            "HUGS FAILED ON /content/TESTdataset/433.jpg\n",
            "Yolo class 1, yolo conf 0.8739417195320129, Hugs class -1\n",
            "/content/TESTdataset/462.jpg\n"
          ]
        },
        {
          "output_type": "stream",
          "name": "stderr",
          "text": [
            "<ipython-input-60-051a0d118cd5>:8: FutureWarning: The frame.append method is deprecated and will be removed from pandas in a future version. Use pandas.concat instead.\n",
            "  SUBM.append({'name': filepath, 'class': clas}, ignore_index=True)\n",
            "\n",
            "0: 640x480 1 ship, 29.0ms\n",
            "Speed: 3.4ms preprocess, 29.0ms inference, 1.4ms postprocess per image at shape (1, 3, 640, 640)\n",
            "WARNING ⚠️ 'Boxes.boxes' is deprecated. Use 'Boxes.data' instead.\n",
            "<ipython-input-60-051a0d118cd5>:8: FutureWarning: The frame.append method is deprecated and will be removed from pandas in a future version. Use pandas.concat instead.\n",
            "  SUBM.append({'name': filepath, 'class': clas}, ignore_index=True)\n",
            "\n",
            "0: 480x640 1 klikun, 29.3ms\n",
            "Speed: 3.8ms preprocess, 29.3ms inference, 1.5ms postprocess per image at shape (1, 3, 640, 640)\n"
          ]
        },
        {
          "output_type": "stream",
          "name": "stdout",
          "text": [
            "Yolo class 2, yolo conf 0.9132516384124756, Hugs class 2\n",
            "/content/TESTdataset/108.jpg\n"
          ]
        },
        {
          "output_type": "stream",
          "name": "stderr",
          "text": [
            "WARNING ⚠️ 'Boxes.boxes' is deprecated. Use 'Boxes.data' instead.\n",
            "<ipython-input-60-051a0d118cd5>:8: FutureWarning: The frame.append method is deprecated and will be removed from pandas in a future version. Use pandas.concat instead.\n",
            "  SUBM.append({'name': filepath, 'class': clas}, ignore_index=True)\n",
            "\n",
            "0: 640x448 1 ship, 29.0ms\n",
            "Speed: 3.4ms preprocess, 29.0ms inference, 1.8ms postprocess per image at shape (1, 3, 640, 640)\n"
          ]
        },
        {
          "output_type": "stream",
          "name": "stdout",
          "text": [
            "Yolo class 0, yolo conf 0.7673894762992859, Hugs class 1\n",
            "/content/TESTdataset/142.jpg\n"
          ]
        },
        {
          "output_type": "stream",
          "name": "stderr",
          "text": [
            "WARNING ⚠️ 'Boxes.boxes' is deprecated. Use 'Boxes.data' instead.\n",
            "<ipython-input-60-051a0d118cd5>:8: FutureWarning: The frame.append method is deprecated and will be removed from pandas in a future version. Use pandas.concat instead.\n",
            "  SUBM.append({'name': filepath, 'class': clas}, ignore_index=True)\n",
            "\n",
            "0: 480x640 1 klikun, 28.9ms\n",
            "Speed: 3.3ms preprocess, 28.9ms inference, 1.4ms postprocess per image at shape (1, 3, 640, 640)\n"
          ]
        },
        {
          "output_type": "stream",
          "name": "stdout",
          "text": [
            "Yolo class 2, yolo conf 0.8487992882728577, Hugs class 2\n",
            "/content/TESTdataset/460.jpg\n"
          ]
        },
        {
          "output_type": "stream",
          "name": "stderr",
          "text": [
            "WARNING ⚠️ 'Boxes.boxes' is deprecated. Use 'Boxes.data' instead.\n",
            "<ipython-input-60-051a0d118cd5>:8: FutureWarning: The frame.append method is deprecated and will be removed from pandas in a future version. Use pandas.concat instead.\n",
            "  SUBM.append({'name': filepath, 'class': clas}, ignore_index=True)\n",
            "\n",
            "0: 480x640 1 ship, 28.2ms\n",
            "Speed: 3.1ms preprocess, 28.2ms inference, 1.5ms postprocess per image at shape (1, 3, 640, 640)\n"
          ]
        },
        {
          "output_type": "stream",
          "name": "stdout",
          "text": [
            "Yolo class 0, yolo conf 0.7477008700370789, Hugs class 1\n",
            "/content/TESTdataset/155.jpg\n"
          ]
        },
        {
          "output_type": "stream",
          "name": "stderr",
          "text": [
            "WARNING ⚠️ 'Boxes.boxes' is deprecated. Use 'Boxes.data' instead.\n",
            "<ipython-input-60-051a0d118cd5>:8: FutureWarning: The frame.append method is deprecated and will be removed from pandas in a future version. Use pandas.concat instead.\n",
            "  SUBM.append({'name': filepath, 'class': clas}, ignore_index=True)\n",
            "\n",
            "0: 480x640 2 klikuns, 2 mals, 28.3ms\n",
            "Speed: 3.1ms preprocess, 28.3ms inference, 1.7ms postprocess per image at shape (1, 3, 640, 640)\n"
          ]
        },
        {
          "output_type": "stream",
          "name": "stdout",
          "text": [
            "Yolo class 2, yolo conf 0.9211612939834595, Hugs class 2\n",
            "/content/TESTdataset/328.jpg\n"
          ]
        },
        {
          "output_type": "stream",
          "name": "stderr",
          "text": [
            "WARNING ⚠️ 'Boxes.boxes' is deprecated. Use 'Boxes.data' instead.\n",
            "<ipython-input-60-051a0d118cd5>:8: FutureWarning: The frame.append method is deprecated and will be removed from pandas in a future version. Use pandas.concat instead.\n",
            "  SUBM.append({'name': filepath, 'class': clas}, ignore_index=True)\n",
            "\n",
            "0: 448x640 2 klikuns, 28.8ms\n",
            "Speed: 2.7ms preprocess, 28.8ms inference, 1.5ms postprocess per image at shape (1, 3, 640, 640)\n"
          ]
        },
        {
          "output_type": "stream",
          "name": "stdout",
          "text": [
            "Yolo class 0, yolo conf 0.16123369336128235, Hugs class 0\n",
            "/content/TESTdataset/424.jpg\n"
          ]
        },
        {
          "output_type": "stream",
          "name": "stderr",
          "text": [
            "WARNING ⚠️ 'Boxes.boxes' is deprecated. Use 'Boxes.data' instead.\n",
            "<ipython-input-60-051a0d118cd5>:8: FutureWarning: The frame.append method is deprecated and will be removed from pandas in a future version. Use pandas.concat instead.\n",
            "  SUBM.append({'name': filepath, 'class': clas}, ignore_index=True)\n",
            "\n",
            "0: 288x640 1 klikun, 1 ship, 22.9ms\n",
            "Speed: 2.8ms preprocess, 22.9ms inference, 1.5ms postprocess per image at shape (1, 3, 640, 640)\n"
          ]
        },
        {
          "output_type": "stream",
          "name": "stdout",
          "text": [
            "Yolo class 0, yolo conf 0.9284227788448334, Hugs class 1\n",
            "/content/TESTdataset/545.jpg\n"
          ]
        },
        {
          "output_type": "stream",
          "name": "stderr",
          "text": [
            "WARNING ⚠️ 'Boxes.boxes' is deprecated. Use 'Boxes.data' instead.\n",
            "<ipython-input-60-051a0d118cd5>:8: FutureWarning: The frame.append method is deprecated and will be removed from pandas in a future version. Use pandas.concat instead.\n",
            "  SUBM.append({'name': filepath, 'class': clas}, ignore_index=True)\n",
            "\n",
            "0: 448x640 1 klikun, 28.6ms\n",
            "Speed: 2.9ms preprocess, 28.6ms inference, 1.4ms postprocess per image at shape (1, 3, 640, 640)\n"
          ]
        },
        {
          "output_type": "stream",
          "name": "stdout",
          "text": [
            "Yolo class 2, yolo conf 0.24302081763744354, Hugs class 1\n",
            "/content/TESTdataset/316.jpg\n"
          ]
        },
        {
          "output_type": "stream",
          "name": "stderr",
          "text": [
            "WARNING ⚠️ 'Boxes.boxes' is deprecated. Use 'Boxes.data' instead.\n",
            "<ipython-input-60-051a0d118cd5>:8: FutureWarning: The frame.append method is deprecated and will be removed from pandas in a future version. Use pandas.concat instead.\n",
            "  SUBM.append({'name': filepath, 'class': clas}, ignore_index=True)\n",
            "\n",
            "0: 640x480 3 mals, 28.9ms\n",
            "Speed: 3.2ms preprocess, 28.9ms inference, 1.4ms postprocess per image at shape (1, 3, 640, 640)\n"
          ]
        },
        {
          "output_type": "stream",
          "name": "stdout",
          "text": [
            "Yolo class 0, yolo conf 0.6724720001220703, Hugs class 1\n",
            "/content/TESTdataset/321.jpg\n"
          ]
        },
        {
          "output_type": "stream",
          "name": "stderr",
          "text": [
            "WARNING ⚠️ 'Boxes.boxes' is deprecated. Use 'Boxes.data' instead.\n",
            "<ipython-input-60-051a0d118cd5>:8: FutureWarning: The frame.append method is deprecated and will be removed from pandas in a future version. Use pandas.concat instead.\n",
            "  SUBM.append({'name': filepath, 'class': clas}, ignore_index=True)\n",
            "\n",
            "0: 640x640 1 klikun, 1 mal, 38.0ms\n",
            "Speed: 3.0ms preprocess, 38.0ms inference, 2.2ms postprocess per image at shape (1, 3, 640, 640)\n"
          ]
        },
        {
          "output_type": "stream",
          "name": "stdout",
          "text": [
            "Yolo class 1, yolo conf 0.48707737525304157, Hugs class 0\n",
            "/content/TESTdataset/92.jpg\n"
          ]
        },
        {
          "output_type": "stream",
          "name": "stderr",
          "text": [
            "WARNING ⚠️ 'Boxes.boxes' is deprecated. Use 'Boxes.data' instead.\n",
            "<ipython-input-60-051a0d118cd5>:8: FutureWarning: The frame.append method is deprecated and will be removed from pandas in a future version. Use pandas.concat instead.\n",
            "  SUBM.append({'name': filepath, 'class': clas}, ignore_index=True)\n",
            "\n",
            "0: 640x480 2 mals, 29.0ms\n",
            "Speed: 3.1ms preprocess, 29.0ms inference, 1.4ms postprocess per image at shape (1, 3, 640, 640)\n",
            "WARNING ⚠️ 'Boxes.boxes' is deprecated. Use 'Boxes.data' instead.\n",
            "<ipython-input-60-051a0d118cd5>:8: FutureWarning: The frame.append method is deprecated and will be removed from pandas in a future version. Use pandas.concat instead.\n",
            "  SUBM.append({'name': filepath, 'class': clas}, ignore_index=True)\n",
            "\n",
            "0: 640x640 1 ship, 38.2ms\n",
            "Speed: 3.9ms preprocess, 38.2ms inference, 2.1ms postprocess per image at shape (1, 3, 640, 640)\n"
          ]
        },
        {
          "output_type": "stream",
          "name": "stdout",
          "text": [
            "Yolo class 0, yolo conf 0.2630677819252014, Hugs class 1\n",
            "/content/TESTdataset/181.jpg\n",
            "HUGS FAILED ON /content/TESTdataset/181.jpg\n",
            "Yolo class 1, yolo conf 0.6591870784759521, Hugs class -1\n",
            "/content/TESTdataset/481.jpg\n"
          ]
        },
        {
          "output_type": "stream",
          "name": "stderr",
          "text": [
            "WARNING ⚠️ 'Boxes.boxes' is deprecated. Use 'Boxes.data' instead.\n",
            "<ipython-input-60-051a0d118cd5>:8: FutureWarning: The frame.append method is deprecated and will be removed from pandas in a future version. Use pandas.concat instead.\n",
            "  SUBM.append({'name': filepath, 'class': clas}, ignore_index=True)\n",
            "\n",
            "0: 480x640 1 mal, 29.5ms\n",
            "Speed: 4.5ms preprocess, 29.5ms inference, 1.9ms postprocess per image at shape (1, 3, 640, 640)\n"
          ]
        },
        {
          "output_type": "stream",
          "name": "stdout",
          "text": [
            "Yolo class 2, yolo conf 0.8739704489707947, Hugs class 2\n",
            "/content/TESTdataset/173.jpg\n"
          ]
        },
        {
          "output_type": "stream",
          "name": "stderr",
          "text": [
            "WARNING ⚠️ 'Boxes.boxes' is deprecated. Use 'Boxes.data' instead.\n",
            "<ipython-input-60-051a0d118cd5>:8: FutureWarning: The frame.append method is deprecated and will be removed from pandas in a future version. Use pandas.concat instead.\n",
            "  SUBM.append({'name': filepath, 'class': clas}, ignore_index=True)\n",
            "\n",
            "0: 448x640 1 ship, 29.2ms\n",
            "Speed: 3.2ms preprocess, 29.2ms inference, 1.9ms postprocess per image at shape (1, 3, 640, 640)\n"
          ]
        },
        {
          "output_type": "stream",
          "name": "stdout",
          "text": [
            "Yolo class 1, yolo conf 0.8956655263900757, Hugs class 0\n",
            "/content/TESTdataset/360.jpg\n"
          ]
        },
        {
          "output_type": "stream",
          "name": "stderr",
          "text": [
            "WARNING ⚠️ 'Boxes.boxes' is deprecated. Use 'Boxes.data' instead.\n",
            "<ipython-input-60-051a0d118cd5>:8: FutureWarning: The frame.append method is deprecated and will be removed from pandas in a future version. Use pandas.concat instead.\n",
            "  SUBM.append({'name': filepath, 'class': clas}, ignore_index=True)\n",
            "\n",
            "0: 480x640 1 klikun, 1 mal, 29.2ms\n",
            "Speed: 2.8ms preprocess, 29.2ms inference, 2.0ms postprocess per image at shape (1, 3, 640, 640)\n"
          ]
        },
        {
          "output_type": "stream",
          "name": "stdout",
          "text": [
            "Yolo class 2, yolo conf 0.915338933467865, Hugs class 2\n",
            "/content/TESTdataset/371.jpg\n"
          ]
        },
        {
          "output_type": "stream",
          "name": "stderr",
          "text": [
            "WARNING ⚠️ 'Boxes.boxes' is deprecated. Use 'Boxes.data' instead.\n",
            "<ipython-input-60-051a0d118cd5>:8: FutureWarning: The frame.append method is deprecated and will be removed from pandas in a future version. Use pandas.concat instead.\n",
            "  SUBM.append({'name': filepath, 'class': clas}, ignore_index=True)\n",
            "\n",
            "0: 480x640 1 mal, 1 ship, 28.4ms\n",
            "Speed: 3.2ms preprocess, 28.4ms inference, 2.3ms postprocess per image at shape (1, 3, 640, 640)\n"
          ]
        },
        {
          "output_type": "stream",
          "name": "stdout",
          "text": [
            "Yolo class 0, yolo conf 0.3170337677001953, Hugs class 1\n",
            "/content/TESTdataset/225.jpg\n"
          ]
        },
        {
          "output_type": "stream",
          "name": "stderr",
          "text": [
            "WARNING ⚠️ 'Boxes.boxes' is deprecated. Use 'Boxes.data' instead.\n",
            "<ipython-input-60-051a0d118cd5>:8: FutureWarning: The frame.append method is deprecated and will be removed from pandas in a future version. Use pandas.concat instead.\n",
            "  SUBM.append({'name': filepath, 'class': clas}, ignore_index=True)\n",
            "\n",
            "0: 448x640 1 klikun, 29.1ms\n",
            "Speed: 3.0ms preprocess, 29.1ms inference, 2.3ms postprocess per image at shape (1, 3, 640, 640)\n"
          ]
        },
        {
          "output_type": "stream",
          "name": "stdout",
          "text": [
            "Yolo class 2, yolo conf 0.4156918227672577, Hugs class 0\n",
            "/content/TESTdataset/301.jpg\n"
          ]
        },
        {
          "output_type": "stream",
          "name": "stderr",
          "text": [
            "WARNING ⚠️ 'Boxes.boxes' is deprecated. Use 'Boxes.data' instead.\n",
            "<ipython-input-60-051a0d118cd5>:8: FutureWarning: The frame.append method is deprecated and will be removed from pandas in a future version. Use pandas.concat instead.\n",
            "  SUBM.append({'name': filepath, 'class': clas}, ignore_index=True)\n",
            "\n",
            "0: 480x640 1 klikun, 3 ships, 31.2ms\n",
            "Speed: 4.9ms preprocess, 31.2ms inference, 2.1ms postprocess per image at shape (1, 3, 640, 640)\n"
          ]
        },
        {
          "output_type": "stream",
          "name": "stdout",
          "text": [
            "Yolo class 0, yolo conf 0.8439493775367737, Hugs class 1\n",
            "/content/TESTdataset/287.jpg\n"
          ]
        },
        {
          "output_type": "stream",
          "name": "stderr",
          "text": [
            "WARNING ⚠️ 'Boxes.boxes' is deprecated. Use 'Boxes.data' instead.\n",
            "<ipython-input-60-051a0d118cd5>:8: FutureWarning: The frame.append method is deprecated and will be removed from pandas in a future version. Use pandas.concat instead.\n",
            "  SUBM.append({'name': filepath, 'class': clas}, ignore_index=True)\n",
            "\n",
            "0: 448x640 1 klikun, 28.6ms\n",
            "Speed: 3.4ms preprocess, 28.6ms inference, 1.4ms postprocess per image at shape (1, 3, 640, 640)\n"
          ]
        },
        {
          "output_type": "stream",
          "name": "stdout",
          "text": [
            "Yolo class 2, yolo conf 0.44232044368982315, Hugs class 0\n",
            "/content/TESTdataset/49.jpg\n"
          ]
        },
        {
          "output_type": "stream",
          "name": "stderr",
          "text": [
            "WARNING ⚠️ 'Boxes.boxes' is deprecated. Use 'Boxes.data' instead.\n",
            "<ipython-input-60-051a0d118cd5>:8: FutureWarning: The frame.append method is deprecated and will be removed from pandas in a future version. Use pandas.concat instead.\n",
            "  SUBM.append({'name': filepath, 'class': clas}, ignore_index=True)\n",
            "\n",
            "0: 544x640 1 klikun, 35.8ms\n",
            "Speed: 6.5ms preprocess, 35.8ms inference, 1.4ms postprocess per image at shape (1, 3, 640, 640)\n"
          ]
        },
        {
          "output_type": "stream",
          "name": "stdout",
          "text": [
            "Yolo class 0, yolo conf 0.86882084608078, Hugs class 1\n",
            "/content/TESTdataset/453.jpg\n"
          ]
        },
        {
          "output_type": "stream",
          "name": "stderr",
          "text": [
            "WARNING ⚠️ 'Boxes.boxes' is deprecated. Use 'Boxes.data' instead.\n",
            "<ipython-input-60-051a0d118cd5>:8: FutureWarning: The frame.append method is deprecated and will be removed from pandas in a future version. Use pandas.concat instead.\n",
            "  SUBM.append({'name': filepath, 'class': clas}, ignore_index=True)\n",
            "\n",
            "0: 416x640 2 mals, 28.4ms\n",
            "Speed: 2.7ms preprocess, 28.4ms inference, 1.6ms postprocess per image at shape (1, 3, 640, 640)\n"
          ]
        },
        {
          "output_type": "stream",
          "name": "stdout",
          "text": [
            "Yolo class 0, yolo conf 0.8553203344345093, Hugs class 1\n",
            "/content/TESTdataset/522.jpg\n"
          ]
        },
        {
          "output_type": "stream",
          "name": "stderr",
          "text": [
            "WARNING ⚠️ 'Boxes.boxes' is deprecated. Use 'Boxes.data' instead.\n",
            "<ipython-input-60-051a0d118cd5>:8: FutureWarning: The frame.append method is deprecated and will be removed from pandas in a future version. Use pandas.concat instead.\n",
            "  SUBM.append({'name': filepath, 'class': clas}, ignore_index=True)\n",
            "\n",
            "0: 512x640 1 mal, 29.4ms\n",
            "Speed: 3.3ms preprocess, 29.4ms inference, 2.0ms postprocess per image at shape (1, 3, 640, 640)\n"
          ]
        },
        {
          "output_type": "stream",
          "name": "stdout",
          "text": [
            "Yolo class 1, yolo conf 0.9155765771865845, Hugs class 0\n",
            "/content/TESTdataset/187.jpg\n"
          ]
        },
        {
          "output_type": "stream",
          "name": "stderr",
          "text": [
            "WARNING ⚠️ 'Boxes.boxes' is deprecated. Use 'Boxes.data' instead.\n",
            "<ipython-input-60-051a0d118cd5>:8: FutureWarning: The frame.append method is deprecated and will be removed from pandas in a future version. Use pandas.concat instead.\n",
            "  SUBM.append({'name': filepath, 'class': clas}, ignore_index=True)\n",
            "\n",
            "0: 480x640 1 mal, 29.3ms\n",
            "Speed: 3.8ms preprocess, 29.3ms inference, 1.8ms postprocess per image at shape (1, 3, 640, 640)\n"
          ]
        },
        {
          "output_type": "stream",
          "name": "stdout",
          "text": [
            "Yolo class 1, yolo conf 0.7256993055343628, Hugs class 0\n",
            "/content/TESTdataset/379.jpg\n"
          ]
        },
        {
          "output_type": "stream",
          "name": "stderr",
          "text": [
            "WARNING ⚠️ 'Boxes.boxes' is deprecated. Use 'Boxes.data' instead.\n",
            "<ipython-input-60-051a0d118cd5>:8: FutureWarning: The frame.append method is deprecated and will be removed from pandas in a future version. Use pandas.concat instead.\n",
            "  SUBM.append({'name': filepath, 'class': clas}, ignore_index=True)\n",
            "\n",
            "0: 352x640 1 klikun, 26.1ms\n",
            "Speed: 2.4ms preprocess, 26.1ms inference, 1.6ms postprocess per image at shape (1, 3, 640, 640)\n",
            "WARNING ⚠️ 'Boxes.boxes' is deprecated. Use 'Boxes.data' instead.\n",
            "<ipython-input-60-051a0d118cd5>:8: FutureWarning: The frame.append method is deprecated and will be removed from pandas in a future version. Use pandas.concat instead.\n",
            "  SUBM.append({'name': filepath, 'class': clas}, ignore_index=True)\n",
            "\n",
            "0: 512x640 1 ship, 29.4ms\n",
            "Speed: 3.0ms preprocess, 29.4ms inference, 1.7ms postprocess per image at shape (1, 3, 640, 640)\n"
          ]
        },
        {
          "output_type": "stream",
          "name": "stdout",
          "text": [
            "Yolo class 1, yolo conf 0.7080079317092896, Hugs class 1\n",
            "/content/TESTdataset/110.jpg\n",
            "HUGS FAILED ON /content/TESTdataset/110.jpg\n",
            "Yolo class 0, yolo conf 0.6552703976631165, Hugs class -1\n",
            "/content/TESTdataset/313.jpg\n"
          ]
        },
        {
          "output_type": "stream",
          "name": "stderr",
          "text": [
            "WARNING ⚠️ 'Boxes.boxes' is deprecated. Use 'Boxes.data' instead.\n",
            "<ipython-input-60-051a0d118cd5>:8: FutureWarning: The frame.append method is deprecated and will be removed from pandas in a future version. Use pandas.concat instead.\n",
            "  SUBM.append({'name': filepath, 'class': clas}, ignore_index=True)\n",
            "\n",
            "0: 640x640 2 klikuns, 1 mal, 37.8ms\n",
            "Speed: 4.4ms preprocess, 37.8ms inference, 1.7ms postprocess per image at shape (1, 3, 640, 640)\n"
          ]
        },
        {
          "output_type": "stream",
          "name": "stdout",
          "text": [
            "Yolo class 2, yolo conf 0.8965609669685364, Hugs class 2\n",
            "/content/TESTdataset/455.jpg\n"
          ]
        },
        {
          "output_type": "stream",
          "name": "stderr",
          "text": [
            "WARNING ⚠️ 'Boxes.boxes' is deprecated. Use 'Boxes.data' instead.\n",
            "<ipython-input-60-051a0d118cd5>:8: FutureWarning: The frame.append method is deprecated and will be removed from pandas in a future version. Use pandas.concat instead.\n",
            "  SUBM.append({'name': filepath, 'class': clas}, ignore_index=True)\n",
            "\n",
            "0: 448x640 1 ship, 28.6ms\n",
            "Speed: 2.7ms preprocess, 28.6ms inference, 1.4ms postprocess per image at shape (1, 3, 640, 640)\n"
          ]
        },
        {
          "output_type": "stream",
          "name": "stdout",
          "text": [
            "Yolo class 0, yolo conf 0.5442396203676859, Hugs class 1\n",
            "/content/TESTdataset/215.jpg\n"
          ]
        },
        {
          "output_type": "stream",
          "name": "stderr",
          "text": [
            "WARNING ⚠️ 'Boxes.boxes' is deprecated. Use 'Boxes.data' instead.\n",
            "<ipython-input-60-051a0d118cd5>:8: FutureWarning: The frame.append method is deprecated and will be removed from pandas in a future version. Use pandas.concat instead.\n",
            "  SUBM.append({'name': filepath, 'class': clas}, ignore_index=True)\n",
            "\n",
            "0: 480x640 2 ships, 29.4ms\n",
            "Speed: 4.2ms preprocess, 29.4ms inference, 2.0ms postprocess per image at shape (1, 3, 640, 640)\n"
          ]
        },
        {
          "output_type": "stream",
          "name": "stdout",
          "text": [
            "Yolo class 2, yolo conf 0.7850168347358704, Hugs class 0\n",
            "/content/TESTdataset/54.jpg\n"
          ]
        },
        {
          "output_type": "stream",
          "name": "stderr",
          "text": [
            "WARNING ⚠️ 'Boxes.boxes' is deprecated. Use 'Boxes.data' instead.\n",
            "<ipython-input-60-051a0d118cd5>:8: FutureWarning: The frame.append method is deprecated and will be removed from pandas in a future version. Use pandas.concat instead.\n",
            "  SUBM.append({'name': filepath, 'class': clas}, ignore_index=True)\n",
            "\n",
            "0: 448x640 1 klikun, 1 mal, 28.7ms\n",
            "Speed: 3.0ms preprocess, 28.7ms inference, 1.4ms postprocess per image at shape (1, 3, 640, 640)\n"
          ]
        },
        {
          "output_type": "stream",
          "name": "stdout",
          "text": [
            "Yolo class 2, yolo conf 0.4893430024385452, Hugs class 2\n",
            "/content/TESTdataset/60.jpg\n"
          ]
        },
        {
          "output_type": "stream",
          "name": "stderr",
          "text": [
            "WARNING ⚠️ 'Boxes.boxes' is deprecated. Use 'Boxes.data' instead.\n",
            "<ipython-input-60-051a0d118cd5>:8: FutureWarning: The frame.append method is deprecated and will be removed from pandas in a future version. Use pandas.concat instead.\n",
            "  SUBM.append({'name': filepath, 'class': clas}, ignore_index=True)\n",
            "\n",
            "0: 640x608 2 mals, 37.5ms\n",
            "Speed: 3.6ms preprocess, 37.5ms inference, 1.4ms postprocess per image at shape (1, 3, 640, 640)\n",
            "WARNING ⚠️ 'Boxes.boxes' is deprecated. Use 'Boxes.data' instead.\n",
            "<ipython-input-60-051a0d118cd5>:8: FutureWarning: The frame.append method is deprecated and will be removed from pandas in a future version. Use pandas.concat instead.\n",
            "  SUBM.append({'name': filepath, 'class': clas}, ignore_index=True)\n",
            "\n"
          ]
        },
        {
          "output_type": "stream",
          "name": "stdout",
          "text": [
            "Yolo class 0, yolo conf 0.22482027113437653, Hugs class 1\n",
            "/content/TESTdataset/42.jpg\n",
            "HUGS FAILED ON /content/TESTdataset/42.jpg\n",
            "Yolo class 1, yolo conf 0.8779297769069672, Hugs class -1\n",
            "/content/TESTdataset/32.jpg\n"
          ]
        },
        {
          "output_type": "stream",
          "name": "stderr",
          "text": [
            "0: 448x640 1 klikun, 28.8ms\n",
            "Speed: 3.4ms preprocess, 28.8ms inference, 1.5ms postprocess per image at shape (1, 3, 640, 640)\n",
            "WARNING ⚠️ 'Boxes.boxes' is deprecated. Use 'Boxes.data' instead.\n",
            "<ipython-input-60-051a0d118cd5>:8: FutureWarning: The frame.append method is deprecated and will be removed from pandas in a future version. Use pandas.concat instead.\n",
            "  SUBM.append({'name': filepath, 'class': clas}, ignore_index=True)\n",
            "\n",
            "0: 416x640 1 mal, 28.4ms\n",
            "Speed: 3.5ms preprocess, 28.4ms inference, 1.5ms postprocess per image at shape (1, 3, 640, 640)\n"
          ]
        },
        {
          "output_type": "stream",
          "name": "stdout",
          "text": [
            "Yolo class 0, yolo conf 0.7736525535583496, Hugs class 1\n",
            "/content/TESTdataset/470.jpg\n"
          ]
        },
        {
          "output_type": "stream",
          "name": "stderr",
          "text": [
            "WARNING ⚠️ 'Boxes.boxes' is deprecated. Use 'Boxes.data' instead.\n",
            "<ipython-input-60-051a0d118cd5>:8: FutureWarning: The frame.append method is deprecated and will be removed from pandas in a future version. Use pandas.concat instead.\n",
            "  SUBM.append({'name': filepath, 'class': clas}, ignore_index=True)\n",
            "\n",
            "0: 448x640 4 ships, 28.7ms\n",
            "Speed: 3.1ms preprocess, 28.7ms inference, 1.6ms postprocess per image at shape (1, 3, 640, 640)\n"
          ]
        },
        {
          "output_type": "stream",
          "name": "stdout",
          "text": [
            "Yolo class 1, yolo conf 0.7647794485092163, Hugs class 0\n",
            "/content/TESTdataset/406.jpg\n"
          ]
        },
        {
          "output_type": "stream",
          "name": "stderr",
          "text": [
            "WARNING ⚠️ 'Boxes.boxes' is deprecated. Use 'Boxes.data' instead.\n",
            "<ipython-input-60-051a0d118cd5>:8: FutureWarning: The frame.append method is deprecated and will be removed from pandas in a future version. Use pandas.concat instead.\n",
            "  SUBM.append({'name': filepath, 'class': clas}, ignore_index=True)\n",
            "\n",
            "0: 512x640 1 ship, 29.6ms\n",
            "Speed: 2.7ms preprocess, 29.6ms inference, 1.6ms postprocess per image at shape (1, 3, 640, 640)\n"
          ]
        },
        {
          "output_type": "stream",
          "name": "stdout",
          "text": [
            "Yolo class 2, yolo conf 0.7059004604816437, Hugs class 2\n",
            "/content/TESTdataset/130.jpg\n"
          ]
        },
        {
          "output_type": "stream",
          "name": "stderr",
          "text": [
            "WARNING ⚠️ 'Boxes.boxes' is deprecated. Use 'Boxes.data' instead.\n",
            "<ipython-input-60-051a0d118cd5>:8: FutureWarning: The frame.append method is deprecated and will be removed from pandas in a future version. Use pandas.concat instead.\n",
            "  SUBM.append({'name': filepath, 'class': clas}, ignore_index=True)\n",
            "\n",
            "0: 640x640 1 ship, 38.0ms\n",
            "Speed: 4.1ms preprocess, 38.0ms inference, 1.9ms postprocess per image at shape (1, 3, 640, 640)\n"
          ]
        },
        {
          "output_type": "stream",
          "name": "stdout",
          "text": [
            "Yolo class 2, yolo conf 0.8340274691581726, Hugs class 2\n",
            "/content/TESTdataset/86.jpg\n"
          ]
        },
        {
          "output_type": "stream",
          "name": "stderr",
          "text": [
            "WARNING ⚠️ 'Boxes.boxes' is deprecated. Use 'Boxes.data' instead.\n",
            "<ipython-input-60-051a0d118cd5>:8: FutureWarning: The frame.append method is deprecated and will be removed from pandas in a future version. Use pandas.concat instead.\n",
            "  SUBM.append({'name': filepath, 'class': clas}, ignore_index=True)\n",
            "\n",
            "0: 448x640 2 mals, 31.4ms\n",
            "Speed: 2.7ms preprocess, 31.4ms inference, 2.0ms postprocess per image at shape (1, 3, 640, 640)\n"
          ]
        },
        {
          "output_type": "stream",
          "name": "stdout",
          "text": [
            "Yolo class 2, yolo conf 0.5241563320159912, Hugs class 2\n",
            "/content/TESTdataset/294.jpg\n"
          ]
        },
        {
          "output_type": "stream",
          "name": "stderr",
          "text": [
            "WARNING ⚠️ 'Boxes.boxes' is deprecated. Use 'Boxes.data' instead.\n",
            "<ipython-input-60-051a0d118cd5>:8: FutureWarning: The frame.append method is deprecated and will be removed from pandas in a future version. Use pandas.concat instead.\n",
            "  SUBM.append({'name': filepath, 'class': clas}, ignore_index=True)\n",
            "\n",
            "0: 448x640 1 ship, 27.9ms\n",
            "Speed: 5.4ms preprocess, 27.9ms inference, 2.0ms postprocess per image at shape (1, 3, 640, 640)\n"
          ]
        },
        {
          "output_type": "stream",
          "name": "stdout",
          "text": [
            "Yolo class 1, yolo conf 0.7422461211681366, Hugs class 0\n",
            "/content/TESTdataset/6.jpg\n"
          ]
        },
        {
          "output_type": "stream",
          "name": "stderr",
          "text": [
            "WARNING ⚠️ 'Boxes.boxes' is deprecated. Use 'Boxes.data' instead.\n",
            "<ipython-input-60-051a0d118cd5>:8: FutureWarning: The frame.append method is deprecated and will be removed from pandas in a future version. Use pandas.concat instead.\n",
            "  SUBM.append({'name': filepath, 'class': clas}, ignore_index=True)\n",
            "\n",
            "0: 448x640 1 klikun, 1 mal, 29.9ms\n",
            "Speed: 2.8ms preprocess, 29.9ms inference, 1.9ms postprocess per image at shape (1, 3, 640, 640)\n"
          ]
        },
        {
          "output_type": "stream",
          "name": "stdout",
          "text": [
            "Yolo class 2, yolo conf 0.9031534790992737, Hugs class 2\n",
            "/content/TESTdataset/515.jpg\n"
          ]
        },
        {
          "output_type": "stream",
          "name": "stderr",
          "text": [
            "WARNING ⚠️ 'Boxes.boxes' is deprecated. Use 'Boxes.data' instead.\n",
            "<ipython-input-60-051a0d118cd5>:8: FutureWarning: The frame.append method is deprecated and will be removed from pandas in a future version. Use pandas.concat instead.\n",
            "  SUBM.append({'name': filepath, 'class': clas}, ignore_index=True)\n",
            "\n",
            "0: 640x544 1 klikun, 2 mals, 37.7ms\n",
            "Speed: 3.6ms preprocess, 37.7ms inference, 2.6ms postprocess per image at shape (1, 3, 640, 640)\n",
            "WARNING ⚠️ 'Boxes.boxes' is deprecated. Use 'Boxes.data' instead.\n",
            "<ipython-input-60-051a0d118cd5>:8: FutureWarning: The frame.append method is deprecated and will be removed from pandas in a future version. Use pandas.concat instead.\n",
            "  SUBM.append({'name': filepath, 'class': clas}, ignore_index=True)\n",
            "\n"
          ]
        },
        {
          "output_type": "stream",
          "name": "stdout",
          "text": [
            "Yolo class 1, yolo conf 0.23898927867412567, Hugs class 0\n",
            "/content/TESTdataset/315.jpg\n",
            "HUGS FAILED ON /content/TESTdataset/315.jpg\n",
            "Yolo class 1, yolo conf 0.3561466336250305, Hugs class -1\n",
            "/content/TESTdataset/100.jpg\n"
          ]
        },
        {
          "output_type": "stream",
          "name": "stderr",
          "text": [
            "0: 576x640 1 klikun, 36.7ms\n",
            "Speed: 3.5ms preprocess, 36.7ms inference, 2.1ms postprocess per image at shape (1, 3, 640, 640)\n",
            "WARNING ⚠️ 'Boxes.boxes' is deprecated. Use 'Boxes.data' instead.\n",
            "<ipython-input-60-051a0d118cd5>:8: FutureWarning: The frame.append method is deprecated and will be removed from pandas in a future version. Use pandas.concat instead.\n",
            "  SUBM.append({'name': filepath, 'class': clas}, ignore_index=True)\n",
            "\n",
            "0: 544x640 1 klikun, 3 mals, 36.4ms\n",
            "Speed: 5.3ms preprocess, 36.4ms inference, 2.1ms postprocess per image at shape (1, 3, 640, 640)\n"
          ]
        },
        {
          "output_type": "stream",
          "name": "stdout",
          "text": [
            "HUGS FAILED ON /content/TESTdataset/100.jpg\n",
            "Yolo class 0, yolo conf 0.34358644485473633, Hugs class -1\n",
            "/content/TESTdataset/126.jpg\n"
          ]
        },
        {
          "output_type": "stream",
          "name": "stderr",
          "text": [
            "WARNING ⚠️ 'Boxes.boxes' is deprecated. Use 'Boxes.data' instead.\n",
            "<ipython-input-60-051a0d118cd5>:8: FutureWarning: The frame.append method is deprecated and will be removed from pandas in a future version. Use pandas.concat instead.\n",
            "  SUBM.append({'name': filepath, 'class': clas}, ignore_index=True)\n",
            "\n",
            "0: 640x480 1 ship, 32.2ms\n",
            "Speed: 3.4ms preprocess, 32.2ms inference, 2.2ms postprocess per image at shape (1, 3, 640, 640)\n"
          ]
        },
        {
          "output_type": "stream",
          "name": "stdout",
          "text": [
            "Yolo class 1, yolo conf 0.5229460746049881, Hugs class 1\n",
            "/content/TESTdataset/457.jpg\n"
          ]
        },
        {
          "output_type": "stream",
          "name": "stderr",
          "text": [
            "WARNING ⚠️ 'Boxes.boxes' is deprecated. Use 'Boxes.data' instead.\n",
            "<ipython-input-60-051a0d118cd5>:8: FutureWarning: The frame.append method is deprecated and will be removed from pandas in a future version. Use pandas.concat instead.\n",
            "  SUBM.append({'name': filepath, 'class': clas}, ignore_index=True)\n",
            "\n",
            "0: 480x640 1 ship, 29.2ms\n",
            "Speed: 3.4ms preprocess, 29.2ms inference, 1.4ms postprocess per image at shape (1, 3, 640, 640)\n"
          ]
        },
        {
          "output_type": "stream",
          "name": "stdout",
          "text": [
            "Yolo class 2, yolo conf 0.6326425671577454, Hugs class 2\n",
            "/content/TESTdataset/299.jpg\n"
          ]
        },
        {
          "output_type": "stream",
          "name": "stderr",
          "text": [
            "WARNING ⚠️ 'Boxes.boxes' is deprecated. Use 'Boxes.data' instead.\n",
            "<ipython-input-60-051a0d118cd5>:8: FutureWarning: The frame.append method is deprecated and will be removed from pandas in a future version. Use pandas.concat instead.\n",
            "  SUBM.append({'name': filepath, 'class': clas}, ignore_index=True)\n",
            "\n",
            "0: 384x640 1 ship, 26.7ms\n",
            "Speed: 2.5ms preprocess, 26.7ms inference, 1.4ms postprocess per image at shape (1, 3, 640, 640)\n"
          ]
        },
        {
          "output_type": "stream",
          "name": "stdout",
          "text": [
            "Yolo class 2, yolo conf 0.9136813282966614, Hugs class 2\n",
            "/content/TESTdataset/104.jpg\n"
          ]
        },
        {
          "output_type": "stream",
          "name": "stderr",
          "text": [
            "WARNING ⚠️ 'Boxes.boxes' is deprecated. Use 'Boxes.data' instead.\n",
            "<ipython-input-60-051a0d118cd5>:8: FutureWarning: The frame.append method is deprecated and will be removed from pandas in a future version. Use pandas.concat instead.\n",
            "  SUBM.append({'name': filepath, 'class': clas}, ignore_index=True)\n",
            "\n",
            "0: 480x640 1 ship, 29.0ms\n",
            "Speed: 4.0ms preprocess, 29.0ms inference, 1.5ms postprocess per image at shape (1, 3, 640, 640)\n"
          ]
        },
        {
          "output_type": "stream",
          "name": "stdout",
          "text": [
            "Yolo class 2, yolo conf 0.8875475525856018, Hugs class 2\n",
            "/content/TESTdataset/306.jpg\n"
          ]
        },
        {
          "output_type": "stream",
          "name": "stderr",
          "text": [
            "WARNING ⚠️ 'Boxes.boxes' is deprecated. Use 'Boxes.data' instead.\n",
            "<ipython-input-60-051a0d118cd5>:8: FutureWarning: The frame.append method is deprecated and will be removed from pandas in a future version. Use pandas.concat instead.\n",
            "  SUBM.append({'name': filepath, 'class': clas}, ignore_index=True)\n",
            "\n",
            "0: 640x448 2 klikuns, 29.7ms\n",
            "Speed: 3.6ms preprocess, 29.7ms inference, 1.5ms postprocess per image at shape (1, 3, 640, 640)\n"
          ]
        },
        {
          "output_type": "stream",
          "name": "stdout",
          "text": [
            "Yolo class 2, yolo conf 0.8518227934837341, Hugs class 2\n",
            "/content/TESTdataset/12.jpg\n"
          ]
        },
        {
          "output_type": "stream",
          "name": "stderr",
          "text": [
            "WARNING ⚠️ 'Boxes.boxes' is deprecated. Use 'Boxes.data' instead.\n",
            "<ipython-input-60-051a0d118cd5>:8: FutureWarning: The frame.append method is deprecated and will be removed from pandas in a future version. Use pandas.concat instead.\n",
            "  SUBM.append({'name': filepath, 'class': clas}, ignore_index=True)\n",
            "\n",
            "0: 480x640 3 mals, 29.0ms\n",
            "Speed: 2.9ms preprocess, 29.0ms inference, 1.4ms postprocess per image at shape (1, 3, 640, 640)\n"
          ]
        },
        {
          "output_type": "stream",
          "name": "stdout",
          "text": [
            "Yolo class 0, yolo conf 0.697266012430191, Hugs class 1\n",
            "/content/TESTdataset/574.jpg\n"
          ]
        },
        {
          "output_type": "stream",
          "name": "stderr",
          "text": [
            "WARNING ⚠️ 'Boxes.boxes' is deprecated. Use 'Boxes.data' instead.\n",
            "<ipython-input-60-051a0d118cd5>:8: FutureWarning: The frame.append method is deprecated and will be removed from pandas in a future version. Use pandas.concat instead.\n",
            "  SUBM.append({'name': filepath, 'class': clas}, ignore_index=True)\n",
            "\n",
            "0: 640x576 1 mal, 36.5ms\n",
            "Speed: 2.8ms preprocess, 36.5ms inference, 1.5ms postprocess per image at shape (1, 3, 640, 640)\n",
            "WARNING ⚠️ 'Boxes.boxes' is deprecated. Use 'Boxes.data' instead.\n",
            "<ipython-input-60-051a0d118cd5>:8: FutureWarning: The frame.append method is deprecated and will be removed from pandas in a future version. Use pandas.concat instead.\n",
            "  SUBM.append({'name': filepath, 'class': clas}, ignore_index=True)\n",
            "\n",
            "0: 416x640 2 klikuns, 28.3ms\n",
            "Speed: 2.7ms preprocess, 28.3ms inference, 1.4ms postprocess per image at shape (1, 3, 640, 640)\n"
          ]
        },
        {
          "output_type": "stream",
          "name": "stdout",
          "text": [
            "Yolo class 1, yolo conf 0.6854219635327657, Hugs class 0\n",
            "/content/TESTdataset/544.jpg\n",
            "HUGS FAILED ON /content/TESTdataset/544.jpg\n",
            "Yolo class 1, yolo conf 0.8631336092948914, Hugs class -1\n",
            "/content/TESTdataset/591.jpg\n"
          ]
        },
        {
          "output_type": "stream",
          "name": "stderr",
          "text": [
            "WARNING ⚠️ 'Boxes.boxes' is deprecated. Use 'Boxes.data' instead.\n",
            "<ipython-input-60-051a0d118cd5>:8: FutureWarning: The frame.append method is deprecated and will be removed from pandas in a future version. Use pandas.concat instead.\n",
            "  SUBM.append({'name': filepath, 'class': clas}, ignore_index=True)\n",
            "\n",
            "0: 448x640 1 ship, 28.5ms\n",
            "Speed: 6.2ms preprocess, 28.5ms inference, 1.4ms postprocess per image at shape (1, 3, 640, 640)\n"
          ]
        },
        {
          "output_type": "stream",
          "name": "stdout",
          "text": [
            "Yolo class 0, yolo conf 0.42799006402492523, Hugs class 0\n",
            "/content/TESTdataset/484.jpg\n"
          ]
        },
        {
          "output_type": "stream",
          "name": "stderr",
          "text": [
            "WARNING ⚠️ 'Boxes.boxes' is deprecated. Use 'Boxes.data' instead.\n",
            "<ipython-input-60-051a0d118cd5>:8: FutureWarning: The frame.append method is deprecated and will be removed from pandas in a future version. Use pandas.concat instead.\n",
            "  SUBM.append({'name': filepath, 'class': clas}, ignore_index=True)\n",
            "\n",
            "0: 480x640 1 klikun, 1 mal, 29.4ms\n",
            "Speed: 3.3ms preprocess, 29.4ms inference, 1.5ms postprocess per image at shape (1, 3, 640, 640)\n"
          ]
        },
        {
          "output_type": "stream",
          "name": "stdout",
          "text": [
            "Yolo class 2, yolo conf 0.9128223061561584, Hugs class 2\n",
            "/content/TESTdataset/554.jpg\n"
          ]
        },
        {
          "output_type": "stream",
          "name": "stderr",
          "text": [
            "WARNING ⚠️ 'Boxes.boxes' is deprecated. Use 'Boxes.data' instead.\n",
            "<ipython-input-60-051a0d118cd5>:8: FutureWarning: The frame.append method is deprecated and will be removed from pandas in a future version. Use pandas.concat instead.\n",
            "  SUBM.append({'name': filepath, 'class': clas}, ignore_index=True)\n",
            "\n",
            "0: 640x480 1 klikun, 1 mal, 28.9ms\n",
            "Speed: 2.6ms preprocess, 28.9ms inference, 1.4ms postprocess per image at shape (1, 3, 640, 640)\n",
            "WARNING ⚠️ 'Boxes.boxes' is deprecated. Use 'Boxes.data' instead.\n",
            "<ipython-input-60-051a0d118cd5>:8: FutureWarning: The frame.append method is deprecated and will be removed from pandas in a future version. Use pandas.concat instead.\n",
            "  SUBM.append({'name': filepath, 'class': clas}, ignore_index=True)\n",
            "\n",
            "0: 640x640 1 ship, 37.8ms\n",
            "Speed: 4.3ms preprocess, 37.8ms inference, 1.5ms postprocess per image at shape (1, 3, 640, 640)\n"
          ]
        },
        {
          "output_type": "stream",
          "name": "stdout",
          "text": [
            "Yolo class 1, yolo conf 0.35649681091308594, Hugs class 1\n",
            "/content/TESTdataset/327.jpg\n",
            "HUGS FAILED ON /content/TESTdataset/327.jpg\n",
            "Yolo class 1, yolo conf 0.342043399810791, Hugs class -1\n",
            "/content/TESTdataset/107.jpg\n"
          ]
        },
        {
          "output_type": "stream",
          "name": "stderr",
          "text": [
            "WARNING ⚠️ 'Boxes.boxes' is deprecated. Use 'Boxes.data' instead.\n",
            "<ipython-input-60-051a0d118cd5>:8: FutureWarning: The frame.append method is deprecated and will be removed from pandas in a future version. Use pandas.concat instead.\n",
            "  SUBM.append({'name': filepath, 'class': clas}, ignore_index=True)\n",
            "\n",
            "0: 544x640 1 mal, 35.9ms\n",
            "Speed: 3.8ms preprocess, 35.9ms inference, 1.6ms postprocess per image at shape (1, 3, 640, 640)\n",
            "WARNING ⚠️ 'Boxes.boxes' is deprecated. Use 'Boxes.data' instead.\n",
            "<ipython-input-60-051a0d118cd5>:8: FutureWarning: The frame.append method is deprecated and will be removed from pandas in a future version. Use pandas.concat instead.\n",
            "  SUBM.append({'name': filepath, 'class': clas}, ignore_index=True)\n",
            "\n",
            "0: 480x640 1 klikun, 29.0ms\n",
            "Speed: 3.2ms preprocess, 29.0ms inference, 1.5ms postprocess per image at shape (1, 3, 640, 640)\n"
          ]
        },
        {
          "output_type": "stream",
          "name": "stdout",
          "text": [
            "Yolo class 2, yolo conf 0.7026134133338928, Hugs class 0\n",
            "/content/TESTdataset/64.jpg\n",
            "HUGS FAILED ON /content/TESTdataset/64.jpg\n",
            "Yolo class 1, yolo conf 0.9044175744056702, Hugs class -1\n",
            "/content/TESTdataset/468.jpg\n"
          ]
        },
        {
          "output_type": "stream",
          "name": "stderr",
          "text": [
            "WARNING ⚠️ 'Boxes.boxes' is deprecated. Use 'Boxes.data' instead.\n",
            "<ipython-input-60-051a0d118cd5>:8: FutureWarning: The frame.append method is deprecated and will be removed from pandas in a future version. Use pandas.concat instead.\n",
            "  SUBM.append({'name': filepath, 'class': clas}, ignore_index=True)\n",
            "\n",
            "0: 480x640 3 ships, 28.3ms\n",
            "Speed: 3.4ms preprocess, 28.3ms inference, 1.6ms postprocess per image at shape (1, 3, 640, 640)\n"
          ]
        },
        {
          "output_type": "stream",
          "name": "stdout",
          "text": [
            "Yolo class 0, yolo conf 0.7679839730262756, Hugs class 1\n",
            "/content/TESTdataset/355.jpg\n"
          ]
        },
        {
          "output_type": "stream",
          "name": "stderr",
          "text": [
            "WARNING ⚠️ 'Boxes.boxes' is deprecated. Use 'Boxes.data' instead.\n",
            "<ipython-input-60-051a0d118cd5>:8: FutureWarning: The frame.append method is deprecated and will be removed from pandas in a future version. Use pandas.concat instead.\n",
            "  SUBM.append({'name': filepath, 'class': clas}, ignore_index=True)\n",
            "\n",
            "0: 480x640 3 ships, 28.3ms\n",
            "Speed: 3.4ms preprocess, 28.3ms inference, 1.8ms postprocess per image at shape (1, 3, 640, 640)\n"
          ]
        },
        {
          "output_type": "stream",
          "name": "stdout",
          "text": [
            "Yolo class 2, yolo conf 0.503416528304418, Hugs class 0\n",
            "/content/TESTdataset/417.jpg\n"
          ]
        },
        {
          "output_type": "stream",
          "name": "stderr",
          "text": [
            "WARNING ⚠️ 'Boxes.boxes' is deprecated. Use 'Boxes.data' instead.\n",
            "<ipython-input-60-051a0d118cd5>:8: FutureWarning: The frame.append method is deprecated and will be removed from pandas in a future version. Use pandas.concat instead.\n",
            "  SUBM.append({'name': filepath, 'class': clas}, ignore_index=True)\n",
            "\n",
            "0: 480x640 1 klikun, 28.3ms\n",
            "Speed: 3.5ms preprocess, 28.3ms inference, 1.5ms postprocess per image at shape (1, 3, 640, 640)\n"
          ]
        },
        {
          "output_type": "stream",
          "name": "stdout",
          "text": [
            "Yolo class 2, yolo conf 0.40412232279777527, Hugs class 0\n",
            "/content/TESTdataset/113.jpg\n"
          ]
        },
        {
          "output_type": "stream",
          "name": "stderr",
          "text": [
            "WARNING ⚠️ 'Boxes.boxes' is deprecated. Use 'Boxes.data' instead.\n",
            "<ipython-input-60-051a0d118cd5>:8: FutureWarning: The frame.append method is deprecated and will be removed from pandas in a future version. Use pandas.concat instead.\n",
            "  SUBM.append({'name': filepath, 'class': clas}, ignore_index=True)\n",
            "\n",
            "0: 480x640 1 klikun, 2 mals, 28.4ms\n",
            "Speed: 3.3ms preprocess, 28.4ms inference, 1.5ms postprocess per image at shape (1, 3, 640, 640)\n"
          ]
        },
        {
          "output_type": "stream",
          "name": "stdout",
          "text": [
            "Yolo class 0, yolo conf 0.7774431705474854, Hugs class 1\n",
            "/content/TESTdataset/248.jpg\n"
          ]
        },
        {
          "output_type": "stream",
          "name": "stderr",
          "text": [
            "WARNING ⚠️ 'Boxes.boxes' is deprecated. Use 'Boxes.data' instead.\n",
            "<ipython-input-60-051a0d118cd5>:8: FutureWarning: The frame.append method is deprecated and will be removed from pandas in a future version. Use pandas.concat instead.\n",
            "  SUBM.append({'name': filepath, 'class': clas}, ignore_index=True)\n",
            "\n",
            "0: 480x640 1 ship, 28.3ms\n",
            "Speed: 3.9ms preprocess, 28.3ms inference, 1.6ms postprocess per image at shape (1, 3, 640, 640)\n"
          ]
        },
        {
          "output_type": "stream",
          "name": "stdout",
          "text": [
            "Yolo class 1, yolo conf 0.3430982530117035, Hugs class 0\n",
            "/content/TESTdataset/254.jpg\n"
          ]
        },
        {
          "output_type": "stream",
          "name": "stderr",
          "text": [
            "WARNING ⚠️ 'Boxes.boxes' is deprecated. Use 'Boxes.data' instead.\n",
            "<ipython-input-60-051a0d118cd5>:8: FutureWarning: The frame.append method is deprecated and will be removed from pandas in a future version. Use pandas.concat instead.\n",
            "  SUBM.append({'name': filepath, 'class': clas}, ignore_index=True)\n",
            "\n",
            "0: 480x640 1 ship, 30.1ms\n"
          ]
        },
        {
          "output_type": "stream",
          "name": "stdout",
          "text": [
            "Yolo class 2, yolo conf 0.8799824714660645, Hugs class 2\n",
            "/content/TESTdataset/337.jpg\n"
          ]
        },
        {
          "output_type": "stream",
          "name": "stderr",
          "text": [
            "Speed: 3.7ms preprocess, 30.1ms inference, 2.0ms postprocess per image at shape (1, 3, 640, 640)\n",
            "WARNING ⚠️ 'Boxes.boxes' is deprecated. Use 'Boxes.data' instead.\n",
            "<ipython-input-60-051a0d118cd5>:8: FutureWarning: The frame.append method is deprecated and will be removed from pandas in a future version. Use pandas.concat instead.\n",
            "  SUBM.append({'name': filepath, 'class': clas}, ignore_index=True)\n",
            "\n",
            "0: 480x640 1 klikun, 1 ship, 28.2ms\n",
            "Speed: 3.1ms preprocess, 28.2ms inference, 2.1ms postprocess per image at shape (1, 3, 640, 640)\n"
          ]
        },
        {
          "output_type": "stream",
          "name": "stdout",
          "text": [
            "Yolo class 2, yolo conf 0.7862438559532166, Hugs class 2\n",
            "/content/TESTdataset/467.jpg\n"
          ]
        },
        {
          "output_type": "stream",
          "name": "stderr",
          "text": [
            "WARNING ⚠️ 'Boxes.boxes' is deprecated. Use 'Boxes.data' instead.\n",
            "<ipython-input-60-051a0d118cd5>:8: FutureWarning: The frame.append method is deprecated and will be removed from pandas in a future version. Use pandas.concat instead.\n",
            "  SUBM.append({'name': filepath, 'class': clas}, ignore_index=True)\n",
            "\n",
            "0: 448x640 2 ships, 28.9ms\n",
            "Speed: 3.2ms preprocess, 28.9ms inference, 2.1ms postprocess per image at shape (1, 3, 640, 640)\n"
          ]
        },
        {
          "output_type": "stream",
          "name": "stdout",
          "text": [
            "Yolo class 0, yolo conf 0.3346722424030304, Hugs class 1\n",
            "/content/TESTdataset/33.jpg\n"
          ]
        },
        {
          "output_type": "stream",
          "name": "stderr",
          "text": [
            "WARNING ⚠️ 'Boxes.boxes' is deprecated. Use 'Boxes.data' instead.\n",
            "<ipython-input-60-051a0d118cd5>:8: FutureWarning: The frame.append method is deprecated and will be removed from pandas in a future version. Use pandas.concat instead.\n",
            "  SUBM.append({'name': filepath, 'class': clas}, ignore_index=True)\n",
            "\n",
            "0: 448x640 2 mals, 27.8ms\n",
            "Speed: 4.0ms preprocess, 27.8ms inference, 2.0ms postprocess per image at shape (1, 3, 640, 640)\n"
          ]
        },
        {
          "output_type": "stream",
          "name": "stdout",
          "text": [
            "Yolo class 2, yolo conf 0.3891982138156891, Hugs class 2\n",
            "/content/TESTdataset/295.jpg\n"
          ]
        },
        {
          "output_type": "stream",
          "name": "stderr",
          "text": [
            "WARNING ⚠️ 'Boxes.boxes' is deprecated. Use 'Boxes.data' instead.\n",
            "<ipython-input-60-051a0d118cd5>:8: FutureWarning: The frame.append method is deprecated and will be removed from pandas in a future version. Use pandas.concat instead.\n",
            "  SUBM.append({'name': filepath, 'class': clas}, ignore_index=True)\n",
            "\n",
            "0: 480x640 1 klikun, 1 mal, 31.0ms\n",
            "Speed: 9.0ms preprocess, 31.0ms inference, 2.2ms postprocess per image at shape (1, 3, 640, 640)\n"
          ]
        },
        {
          "output_type": "stream",
          "name": "stdout",
          "text": [
            "Yolo class 1, yolo conf 0.5589311718940735, Hugs class 0\n",
            "/content/TESTdataset/308.jpg\n"
          ]
        },
        {
          "output_type": "stream",
          "name": "stderr",
          "text": [
            "WARNING ⚠️ 'Boxes.boxes' is deprecated. Use 'Boxes.data' instead.\n",
            "<ipython-input-60-051a0d118cd5>:8: FutureWarning: The frame.append method is deprecated and will be removed from pandas in a future version. Use pandas.concat instead.\n",
            "  SUBM.append({'name': filepath, 'class': clas}, ignore_index=True)\n",
            "\n",
            "0: 384x640 1 klikun, 31.6ms\n",
            "Speed: 2.5ms preprocess, 31.6ms inference, 2.2ms postprocess per image at shape (1, 3, 640, 640)\n"
          ]
        },
        {
          "output_type": "stream",
          "name": "stdout",
          "text": [
            "Yolo class 1, yolo conf 0.3026520311832428, Hugs class 1\n",
            "/content/TESTdataset/255.jpg\n"
          ]
        },
        {
          "output_type": "stream",
          "name": "stderr",
          "text": [
            "WARNING ⚠️ 'Boxes.boxes' is deprecated. Use 'Boxes.data' instead.\n",
            "<ipython-input-60-051a0d118cd5>:8: FutureWarning: The frame.append method is deprecated and will be removed from pandas in a future version. Use pandas.concat instead.\n",
            "  SUBM.append({'name': filepath, 'class': clas}, ignore_index=True)\n",
            "\n",
            "0: 480x640 1 ship, 29.1ms\n",
            "Speed: 5.5ms preprocess, 29.1ms inference, 1.4ms postprocess per image at shape (1, 3, 640, 640)\n"
          ]
        },
        {
          "output_type": "stream",
          "name": "stdout",
          "text": [
            "Yolo class 0, yolo conf 0.8586174249649048, Hugs class 1\n",
            "/content/TESTdataset/52.jpg\n"
          ]
        },
        {
          "output_type": "stream",
          "name": "stderr",
          "text": [
            "WARNING ⚠️ 'Boxes.boxes' is deprecated. Use 'Boxes.data' instead.\n",
            "<ipython-input-60-051a0d118cd5>:8: FutureWarning: The frame.append method is deprecated and will be removed from pandas in a future version. Use pandas.concat instead.\n",
            "  SUBM.append({'name': filepath, 'class': clas}, ignore_index=True)\n",
            "\n",
            "0: 480x640 4 mals, 28.4ms\n",
            "Speed: 3.7ms preprocess, 28.4ms inference, 1.7ms postprocess per image at shape (1, 3, 640, 640)\n"
          ]
        },
        {
          "output_type": "stream",
          "name": "stdout",
          "text": [
            "Yolo class 2, yolo conf 0.8516944646835327, Hugs class 2\n",
            "/content/TESTdataset/159.jpg\n"
          ]
        },
        {
          "output_type": "stream",
          "name": "stderr",
          "text": [
            "WARNING ⚠️ 'Boxes.boxes' is deprecated. Use 'Boxes.data' instead.\n",
            "<ipython-input-60-051a0d118cd5>:8: FutureWarning: The frame.append method is deprecated and will be removed from pandas in a future version. Use pandas.concat instead.\n",
            "  SUBM.append({'name': filepath, 'class': clas}, ignore_index=True)\n",
            "\n",
            "0: 640x480 2 ships, 29.0ms\n",
            "Speed: 3.5ms preprocess, 29.0ms inference, 1.5ms postprocess per image at shape (1, 3, 640, 640)\n"
          ]
        },
        {
          "output_type": "stream",
          "name": "stdout",
          "text": [
            "Yolo class 1, yolo conf 0.8128441274166107, Hugs class 0\n",
            "/content/TESTdataset/587.jpg\n"
          ]
        },
        {
          "output_type": "stream",
          "name": "stderr",
          "text": [
            "WARNING ⚠️ 'Boxes.boxes' is deprecated. Use 'Boxes.data' instead.\n",
            "<ipython-input-60-051a0d118cd5>:8: FutureWarning: The frame.append method is deprecated and will be removed from pandas in a future version. Use pandas.concat instead.\n",
            "  SUBM.append({'name': filepath, 'class': clas}, ignore_index=True)\n",
            "\n",
            "0: 480x640 1 klikun, 1 mal, 29.4ms\n",
            "Speed: 3.0ms preprocess, 29.4ms inference, 2.2ms postprocess per image at shape (1, 3, 640, 640)\n"
          ]
        },
        {
          "output_type": "stream",
          "name": "stdout",
          "text": [
            "Yolo class 2, yolo conf 0.8824087381362915, Hugs class 2\n",
            "/content/TESTdataset/78.jpg\n"
          ]
        },
        {
          "output_type": "stream",
          "name": "stderr",
          "text": [
            "WARNING ⚠️ 'Boxes.boxes' is deprecated. Use 'Boxes.data' instead.\n",
            "<ipython-input-60-051a0d118cd5>:8: FutureWarning: The frame.append method is deprecated and will be removed from pandas in a future version. Use pandas.concat instead.\n",
            "  SUBM.append({'name': filepath, 'class': clas}, ignore_index=True)\n",
            "\n",
            "0: 448x640 1 ship, 28.6ms\n",
            "Speed: 3.5ms preprocess, 28.6ms inference, 1.4ms postprocess per image at shape (1, 3, 640, 640)\n"
          ]
        },
        {
          "output_type": "stream",
          "name": "stdout",
          "text": [
            "Yolo class 1, yolo conf 0.2264838069677353, Hugs class 0\n",
            "/content/TESTdataset/296.jpg\n"
          ]
        },
        {
          "output_type": "stream",
          "name": "stderr",
          "text": [
            "WARNING ⚠️ 'Boxes.boxes' is deprecated. Use 'Boxes.data' instead.\n",
            "<ipython-input-60-051a0d118cd5>:8: FutureWarning: The frame.append method is deprecated and will be removed from pandas in a future version. Use pandas.concat instead.\n",
            "  SUBM.append({'name': filepath, 'class': clas}, ignore_index=True)\n",
            "\n",
            "0: 480x640 1 mal, 28.9ms\n",
            "Speed: 2.7ms preprocess, 28.9ms inference, 1.5ms postprocess per image at shape (1, 3, 640, 640)\n"
          ]
        },
        {
          "output_type": "stream",
          "name": "stdout",
          "text": [
            "Yolo class 2, yolo conf 0.8702050447463989, Hugs class 2\n",
            "/content/TESTdataset/184.jpg\n"
          ]
        },
        {
          "output_type": "stream",
          "name": "stderr",
          "text": [
            "WARNING ⚠️ 'Boxes.boxes' is deprecated. Use 'Boxes.data' instead.\n",
            "<ipython-input-60-051a0d118cd5>:8: FutureWarning: The frame.append method is deprecated and will be removed from pandas in a future version. Use pandas.concat instead.\n",
            "  SUBM.append({'name': filepath, 'class': clas}, ignore_index=True)\n",
            "\n",
            "0: 448x640 1 mal, 28.9ms\n",
            "Speed: 2.7ms preprocess, 28.9ms inference, 1.5ms postprocess per image at shape (1, 3, 640, 640)\n"
          ]
        },
        {
          "output_type": "stream",
          "name": "stdout",
          "text": [
            "Yolo class 1, yolo conf 0.8561984896659851, Hugs class 0\n",
            "/content/TESTdataset/581.jpg\n"
          ]
        },
        {
          "output_type": "stream",
          "name": "stderr",
          "text": [
            "WARNING ⚠️ 'Boxes.boxes' is deprecated. Use 'Boxes.data' instead.\n",
            "<ipython-input-60-051a0d118cd5>:8: FutureWarning: The frame.append method is deprecated and will be removed from pandas in a future version. Use pandas.concat instead.\n",
            "  SUBM.append({'name': filepath, 'class': clas}, ignore_index=True)\n",
            "\n",
            "0: 384x640 1 klikun, 1 ship, 26.6ms\n",
            "Speed: 3.2ms preprocess, 26.6ms inference, 1.4ms postprocess per image at shape (1, 3, 640, 640)\n"
          ]
        },
        {
          "output_type": "stream",
          "name": "stdout",
          "text": [
            "Yolo class 1, yolo conf 0.6351379156112671, Hugs class 0\n",
            "/content/TESTdataset/450.jpg\n"
          ]
        },
        {
          "output_type": "stream",
          "name": "stderr",
          "text": [
            "WARNING ⚠️ 'Boxes.boxes' is deprecated. Use 'Boxes.data' instead.\n",
            "<ipython-input-60-051a0d118cd5>:8: FutureWarning: The frame.append method is deprecated and will be removed from pandas in a future version. Use pandas.concat instead.\n",
            "  SUBM.append({'name': filepath, 'class': clas}, ignore_index=True)\n",
            "\n",
            "0: 448x640 1 klikun, 29.2ms\n",
            "Speed: 2.9ms preprocess, 29.2ms inference, 3.5ms postprocess per image at shape (1, 3, 640, 640)\n"
          ]
        },
        {
          "output_type": "stream",
          "name": "stdout",
          "text": [
            "Yolo class 0, yolo conf 0.22343137860298157, Hugs class 1\n",
            "/content/TESTdataset/95.jpg\n"
          ]
        },
        {
          "output_type": "stream",
          "name": "stderr",
          "text": [
            "WARNING ⚠️ 'Boxes.boxes' is deprecated. Use 'Boxes.data' instead.\n",
            "<ipython-input-60-051a0d118cd5>:8: FutureWarning: The frame.append method is deprecated and will be removed from pandas in a future version. Use pandas.concat instead.\n",
            "  SUBM.append({'name': filepath, 'class': clas}, ignore_index=True)\n",
            "\n",
            "0: 512x640 1 ship, 29.5ms\n",
            "Speed: 3.5ms preprocess, 29.5ms inference, 1.5ms postprocess per image at shape (1, 3, 640, 640)\n"
          ]
        },
        {
          "output_type": "stream",
          "name": "stdout",
          "text": [
            "Yolo class 0, yolo conf 0.8465103507041931, Hugs class 1\n",
            "/content/TESTdataset/446.jpg\n"
          ]
        },
        {
          "output_type": "stream",
          "name": "stderr",
          "text": [
            "WARNING ⚠️ 'Boxes.boxes' is deprecated. Use 'Boxes.data' instead.\n",
            "<ipython-input-60-051a0d118cd5>:8: FutureWarning: The frame.append method is deprecated and will be removed from pandas in a future version. Use pandas.concat instead.\n",
            "  SUBM.append({'name': filepath, 'class': clas}, ignore_index=True)\n",
            "\n",
            "0: 640x544 1 ship, 36.3ms\n",
            "Speed: 3.3ms preprocess, 36.3ms inference, 1.5ms postprocess per image at shape (1, 3, 640, 640)\n",
            "WARNING ⚠️ 'Boxes.boxes' is deprecated. Use 'Boxes.data' instead.\n",
            "<ipython-input-60-051a0d118cd5>:8: FutureWarning: The frame.append method is deprecated and will be removed from pandas in a future version. Use pandas.concat instead.\n",
            "  SUBM.append({'name': filepath, 'class': clas}, ignore_index=True)\n",
            "\n",
            "0: 448x640 1 klikun, 28.7ms\n",
            "Speed: 2.9ms preprocess, 28.7ms inference, 1.4ms postprocess per image at shape (1, 3, 640, 640)\n"
          ]
        },
        {
          "output_type": "stream",
          "name": "stdout",
          "text": [
            "Yolo class 2, yolo conf 0.835769772529602, Hugs class 2\n",
            "/content/TESTdataset/285.jpg\n",
            "HUGS FAILED ON /content/TESTdataset/285.jpg\n",
            "Yolo class 2, yolo conf 0.7702724933624268, Hugs class -1\n",
            "/content/TESTdataset/65.jpg\n"
          ]
        },
        {
          "output_type": "stream",
          "name": "stderr",
          "text": [
            "WARNING ⚠️ 'Boxes.boxes' is deprecated. Use 'Boxes.data' instead.\n",
            "<ipython-input-60-051a0d118cd5>:8: FutureWarning: The frame.append method is deprecated and will be removed from pandas in a future version. Use pandas.concat instead.\n",
            "  SUBM.append({'name': filepath, 'class': clas}, ignore_index=True)\n",
            "\n",
            "0: 640x640 1 mal, 37.8ms\n",
            "Speed: 4.0ms preprocess, 37.8ms inference, 1.4ms postprocess per image at shape (1, 3, 640, 640)\n",
            "WARNING ⚠️ 'Boxes.boxes' is deprecated. Use 'Boxes.data' instead.\n",
            "<ipython-input-60-051a0d118cd5>:8: FutureWarning: The frame.append method is deprecated and will be removed from pandas in a future version. Use pandas.concat instead.\n",
            "  SUBM.append({'name': filepath, 'class': clas}, ignore_index=True)\n",
            "\n"
          ]
        },
        {
          "output_type": "stream",
          "name": "stdout",
          "text": [
            "Yolo class 0, yolo conf 0.5486505627632141, Hugs class 0\n",
            "/content/TESTdataset/547.jpg\n",
            "HUGS FAILED ON /content/TESTdataset/547.jpg\n",
            "Yolo class 1, yolo conf 0.7203160524368286, Hugs class -1\n",
            "/content/TESTdataset/97.jpg\n"
          ]
        },
        {
          "output_type": "stream",
          "name": "stderr",
          "text": [
            "0: 480x640 1 ship, 29.2ms\n",
            "Speed: 3.3ms preprocess, 29.2ms inference, 1.6ms postprocess per image at shape (1, 3, 640, 640)\n",
            "WARNING ⚠️ 'Boxes.boxes' is deprecated. Use 'Boxes.data' instead.\n",
            "<ipython-input-60-051a0d118cd5>:8: FutureWarning: The frame.append method is deprecated and will be removed from pandas in a future version. Use pandas.concat instead.\n",
            "  SUBM.append({'name': filepath, 'class': clas}, ignore_index=True)\n",
            "\n",
            "0: 448x640 2 klikuns, 1 ship, 28.7ms\n",
            "Speed: 3.7ms preprocess, 28.7ms inference, 1.5ms postprocess per image at shape (1, 3, 640, 640)\n"
          ]
        },
        {
          "output_type": "stream",
          "name": "stdout",
          "text": [
            "Yolo class 2, yolo conf 0.8925821781158447, Hugs class 2\n",
            "/content/TESTdataset/39.jpg\n"
          ]
        },
        {
          "output_type": "stream",
          "name": "stderr",
          "text": [
            "WARNING ⚠️ 'Boxes.boxes' is deprecated. Use 'Boxes.data' instead.\n",
            "<ipython-input-60-051a0d118cd5>:8: FutureWarning: The frame.append method is deprecated and will be removed from pandas in a future version. Use pandas.concat instead.\n",
            "  SUBM.append({'name': filepath, 'class': clas}, ignore_index=True)\n",
            "\n",
            "0: 640x640 1 mal, 1 ship, 38.0ms\n",
            "Speed: 4.8ms preprocess, 38.0ms inference, 1.5ms postprocess per image at shape (1, 3, 640, 640)\n"
          ]
        },
        {
          "output_type": "stream",
          "name": "stdout",
          "text": [
            "Yolo class 0, yolo conf 0.441311518351237, Hugs class 1\n",
            "/content/TESTdataset/398.jpg\n"
          ]
        },
        {
          "output_type": "stream",
          "name": "stderr",
          "text": [
            "WARNING ⚠️ 'Boxes.boxes' is deprecated. Use 'Boxes.data' instead.\n",
            "<ipython-input-60-051a0d118cd5>:8: FutureWarning: The frame.append method is deprecated and will be removed from pandas in a future version. Use pandas.concat instead.\n",
            "  SUBM.append({'name': filepath, 'class': clas}, ignore_index=True)\n",
            "\n",
            "0: 448x640 2 ships, 29.0ms\n",
            "Speed: 2.9ms preprocess, 29.0ms inference, 1.7ms postprocess per image at shape (1, 3, 640, 640)\n"
          ]
        },
        {
          "output_type": "stream",
          "name": "stdout",
          "text": [
            "Yolo class 2, yolo conf 0.41209521889686584, Hugs class 2\n",
            "/content/TESTdataset/354.jpg\n"
          ]
        },
        {
          "output_type": "stream",
          "name": "stderr",
          "text": [
            "WARNING ⚠️ 'Boxes.boxes' is deprecated. Use 'Boxes.data' instead.\n",
            "<ipython-input-60-051a0d118cd5>:8: FutureWarning: The frame.append method is deprecated and will be removed from pandas in a future version. Use pandas.concat instead.\n",
            "  SUBM.append({'name': filepath, 'class': clas}, ignore_index=True)\n",
            "\n",
            "0: 448x640 1 ship, 27.8ms\n",
            "Speed: 3.5ms preprocess, 27.8ms inference, 2.1ms postprocess per image at shape (1, 3, 640, 640)\n"
          ]
        },
        {
          "output_type": "stream",
          "name": "stdout",
          "text": [
            "Yolo class 2, yolo conf 0.5369067490100861, Hugs class 2\n",
            "/content/TESTdataset/307.jpg\n"
          ]
        },
        {
          "output_type": "stream",
          "name": "stderr",
          "text": [
            "WARNING ⚠️ 'Boxes.boxes' is deprecated. Use 'Boxes.data' instead.\n",
            "<ipython-input-60-051a0d118cd5>:8: FutureWarning: The frame.append method is deprecated and will be removed from pandas in a future version. Use pandas.concat instead.\n",
            "  SUBM.append({'name': filepath, 'class': clas}, ignore_index=True)\n",
            "\n",
            "0: 640x480 1 klikun, 29.5ms\n",
            "Speed: 7.5ms preprocess, 29.5ms inference, 2.0ms postprocess per image at shape (1, 3, 640, 640)\n"
          ]
        },
        {
          "output_type": "stream",
          "name": "stdout",
          "text": [
            "Yolo class 2, yolo conf 0.8998320698738098, Hugs class 2\n",
            "/content/TESTdataset/5.jpg\n"
          ]
        },
        {
          "output_type": "stream",
          "name": "stderr",
          "text": [
            "WARNING ⚠️ 'Boxes.boxes' is deprecated. Use 'Boxes.data' instead.\n",
            "<ipython-input-60-051a0d118cd5>:8: FutureWarning: The frame.append method is deprecated and will be removed from pandas in a future version. Use pandas.concat instead.\n",
            "  SUBM.append({'name': filepath, 'class': clas}, ignore_index=True)\n",
            "\n",
            "0: 448x640 1 klikun, 1 ship, 33.0ms\n",
            "Speed: 4.0ms preprocess, 33.0ms inference, 2.1ms postprocess per image at shape (1, 3, 640, 640)\n"
          ]
        },
        {
          "output_type": "stream",
          "name": "stdout",
          "text": [
            "Yolo class 0, yolo conf 0.901301920413971, Hugs class 0\n",
            "/content/TESTdataset/105.jpg\n"
          ]
        },
        {
          "output_type": "stream",
          "name": "stderr",
          "text": [
            "WARNING ⚠️ 'Boxes.boxes' is deprecated. Use 'Boxes.data' instead.\n",
            "<ipython-input-60-051a0d118cd5>:8: FutureWarning: The frame.append method is deprecated and will be removed from pandas in a future version. Use pandas.concat instead.\n",
            "  SUBM.append({'name': filepath, 'class': clas}, ignore_index=True)\n",
            "\n",
            "0: 480x640 1 klikun, 29.4ms\n",
            "Speed: 2.8ms preprocess, 29.4ms inference, 2.2ms postprocess per image at shape (1, 3, 640, 640)\n"
          ]
        },
        {
          "output_type": "stream",
          "name": "stdout",
          "text": [
            "Yolo class 2, yolo conf 0.23649358749389648, Hugs class 2\n",
            "/content/TESTdataset/564.jpg\n"
          ]
        },
        {
          "output_type": "stream",
          "name": "stderr",
          "text": [
            "WARNING ⚠️ 'Boxes.boxes' is deprecated. Use 'Boxes.data' instead.\n",
            "<ipython-input-60-051a0d118cd5>:8: FutureWarning: The frame.append method is deprecated and will be removed from pandas in a future version. Use pandas.concat instead.\n",
            "  SUBM.append({'name': filepath, 'class': clas}, ignore_index=True)\n",
            "\n",
            "0: 480x640 1 mal, 28.2ms\n",
            "Speed: 3.0ms preprocess, 28.2ms inference, 5.4ms postprocess per image at shape (1, 3, 640, 640)\n"
          ]
        },
        {
          "output_type": "stream",
          "name": "stdout",
          "text": [
            "Yolo class 0, yolo conf 0.3456369638442993, Hugs class 2\n",
            "/content/TESTdataset/102.jpg\n"
          ]
        },
        {
          "output_type": "stream",
          "name": "stderr",
          "text": [
            "WARNING ⚠️ 'Boxes.boxes' is deprecated. Use 'Boxes.data' instead.\n",
            "<ipython-input-60-051a0d118cd5>:8: FutureWarning: The frame.append method is deprecated and will be removed from pandas in a future version. Use pandas.concat instead.\n",
            "  SUBM.append({'name': filepath, 'class': clas}, ignore_index=True)\n",
            "\n",
            "0: 480x640 2 klikuns, 2 ships, 28.3ms\n",
            "Speed: 3.6ms preprocess, 28.3ms inference, 1.6ms postprocess per image at shape (1, 3, 640, 640)\n"
          ]
        },
        {
          "output_type": "stream",
          "name": "stdout",
          "text": [
            "Yolo class 1, yolo conf 0.4629695415496826, Hugs class 2\n",
            "/content/TESTdataset/560.jpg\n"
          ]
        },
        {
          "output_type": "stream",
          "name": "stderr",
          "text": [
            "WARNING ⚠️ 'Boxes.boxes' is deprecated. Use 'Boxes.data' instead.\n",
            "<ipython-input-60-051a0d118cd5>:8: FutureWarning: The frame.append method is deprecated and will be removed from pandas in a future version. Use pandas.concat instead.\n",
            "  SUBM.append({'name': filepath, 'class': clas}, ignore_index=True)\n",
            "\n",
            "0: 480x640 2 klikuns, 1 mal, 28.3ms\n",
            "Speed: 4.0ms preprocess, 28.3ms inference, 1.4ms postprocess per image at shape (1, 3, 640, 640)\n"
          ]
        },
        {
          "output_type": "stream",
          "name": "stdout",
          "text": [
            "Yolo class 2, yolo conf 0.3393556624650955, Hugs class 1\n",
            "/content/TESTdataset/22.jpg\n"
          ]
        },
        {
          "output_type": "stream",
          "name": "stderr",
          "text": [
            "WARNING ⚠️ 'Boxes.boxes' is deprecated. Use 'Boxes.data' instead.\n",
            "<ipython-input-60-051a0d118cd5>:8: FutureWarning: The frame.append method is deprecated and will be removed from pandas in a future version. Use pandas.concat instead.\n",
            "  SUBM.append({'name': filepath, 'class': clas}, ignore_index=True)\n",
            "\n",
            "0: 448x640 1 ship, 28.6ms\n",
            "Speed: 3.5ms preprocess, 28.6ms inference, 1.4ms postprocess per image at shape (1, 3, 640, 640)\n"
          ]
        },
        {
          "output_type": "stream",
          "name": "stdout",
          "text": [
            "Yolo class 0, yolo conf 0.2984048128128052, Hugs class 1\n",
            "/content/TESTdataset/392.jpg\n"
          ]
        },
        {
          "output_type": "stream",
          "name": "stderr",
          "text": [
            "WARNING ⚠️ 'Boxes.boxes' is deprecated. Use 'Boxes.data' instead.\n",
            "<ipython-input-60-051a0d118cd5>:8: FutureWarning: The frame.append method is deprecated and will be removed from pandas in a future version. Use pandas.concat instead.\n",
            "  SUBM.append({'name': filepath, 'class': clas}, ignore_index=True)\n",
            "\n",
            "0: 512x640 1 klikun, 29.3ms\n",
            "Speed: 3.3ms preprocess, 29.3ms inference, 1.5ms postprocess per image at shape (1, 3, 640, 640)\n"
          ]
        },
        {
          "output_type": "stream",
          "name": "stdout",
          "text": [
            "Yolo class 2, yolo conf 0.8251558542251587, Hugs class 2\n",
            "/content/TESTdataset/414.jpg\n"
          ]
        },
        {
          "output_type": "stream",
          "name": "stderr",
          "text": [
            "WARNING ⚠️ 'Boxes.boxes' is deprecated. Use 'Boxes.data' instead.\n",
            "<ipython-input-60-051a0d118cd5>:8: FutureWarning: The frame.append method is deprecated and will be removed from pandas in a future version. Use pandas.concat instead.\n",
            "  SUBM.append({'name': filepath, 'class': clas}, ignore_index=True)\n",
            "\n",
            "0: 448x640 1 klikun, 29.1ms\n",
            "Speed: 3.1ms preprocess, 29.1ms inference, 2.2ms postprocess per image at shape (1, 3, 640, 640)\n"
          ]
        },
        {
          "output_type": "stream",
          "name": "stdout",
          "text": [
            "Yolo class 0, yolo conf 0.7445226907730103, Hugs class 1\n",
            "/content/TESTdataset/166.jpg\n"
          ]
        },
        {
          "output_type": "stream",
          "name": "stderr",
          "text": [
            "WARNING ⚠️ 'Boxes.boxes' is deprecated. Use 'Boxes.data' instead.\n",
            "<ipython-input-60-051a0d118cd5>:8: FutureWarning: The frame.append method is deprecated and will be removed from pandas in a future version. Use pandas.concat instead.\n",
            "  SUBM.append({'name': filepath, 'class': clas}, ignore_index=True)\n",
            "\n",
            "0: 448x640 1 ship, 27.9ms\n",
            "Speed: 3.5ms preprocess, 27.9ms inference, 1.6ms postprocess per image at shape (1, 3, 640, 640)\n"
          ]
        },
        {
          "output_type": "stream",
          "name": "stdout",
          "text": [
            "Yolo class 0, yolo conf 0.9139834046363831, Hugs class 0\n",
            "/content/TESTdataset/293.jpg\n"
          ]
        },
        {
          "output_type": "stream",
          "name": "stderr",
          "text": [
            "WARNING ⚠️ 'Boxes.boxes' is deprecated. Use 'Boxes.data' instead.\n",
            "<ipython-input-60-051a0d118cd5>:8: FutureWarning: The frame.append method is deprecated and will be removed from pandas in a future version. Use pandas.concat instead.\n",
            "  SUBM.append({'name': filepath, 'class': clas}, ignore_index=True)\n",
            "\n",
            "0: 384x640 1 klikun, 1 ship, 27.0ms\n",
            "Speed: 2.4ms preprocess, 27.0ms inference, 2.1ms postprocess per image at shape (1, 3, 640, 640)\n"
          ]
        },
        {
          "output_type": "stream",
          "name": "stdout",
          "text": [
            "Yolo class 2, yolo conf 0.907604992389679, Hugs class 2\n",
            "/content/TESTdataset/340.jpg\n"
          ]
        },
        {
          "output_type": "stream",
          "name": "stderr",
          "text": [
            "WARNING ⚠️ 'Boxes.boxes' is deprecated. Use 'Boxes.data' instead.\n",
            "<ipython-input-60-051a0d118cd5>:8: FutureWarning: The frame.append method is deprecated and will be removed from pandas in a future version. Use pandas.concat instead.\n",
            "  SUBM.append({'name': filepath, 'class': clas}, ignore_index=True)\n",
            "\n",
            "0: 448x640 1 ship, 29.4ms\n",
            "Speed: 3.1ms preprocess, 29.4ms inference, 2.2ms postprocess per image at shape (1, 3, 640, 640)\n"
          ]
        },
        {
          "output_type": "stream",
          "name": "stdout",
          "text": [
            "Yolo class 2, yolo conf 0.23099792003631592, Hugs class 2\n",
            "/content/TESTdataset/356.jpg\n"
          ]
        },
        {
          "output_type": "stream",
          "name": "stderr",
          "text": [
            "WARNING ⚠️ 'Boxes.boxes' is deprecated. Use 'Boxes.data' instead.\n",
            "<ipython-input-60-051a0d118cd5>:8: FutureWarning: The frame.append method is deprecated and will be removed from pandas in a future version. Use pandas.concat instead.\n",
            "  SUBM.append({'name': filepath, 'class': clas}, ignore_index=True)\n",
            "\n",
            "0: 480x640 1 mal, 28.9ms\n",
            "Speed: 3.0ms preprocess, 28.9ms inference, 1.4ms postprocess per image at shape (1, 3, 640, 640)\n"
          ]
        },
        {
          "output_type": "stream",
          "name": "stdout",
          "text": [
            "Yolo class 2, yolo conf 0.9343673586845398, Hugs class 2\n",
            "/content/TESTdataset/277.jpg\n"
          ]
        },
        {
          "output_type": "stream",
          "name": "stderr",
          "text": [
            "WARNING ⚠️ 'Boxes.boxes' is deprecated. Use 'Boxes.data' instead.\n",
            "<ipython-input-60-051a0d118cd5>:8: FutureWarning: The frame.append method is deprecated and will be removed from pandas in a future version. Use pandas.concat instead.\n",
            "  SUBM.append({'name': filepath, 'class': clas}, ignore_index=True)\n",
            "\n",
            "0: 416x640 2 mals, 28.6ms\n",
            "Speed: 2.9ms preprocess, 28.6ms inference, 1.6ms postprocess per image at shape (1, 3, 640, 640)\n"
          ]
        },
        {
          "output_type": "stream",
          "name": "stdout",
          "text": [
            "Yolo class 1, yolo conf 0.9076562523841858, Hugs class 0\n",
            "/content/TESTdataset/509.jpg\n"
          ]
        },
        {
          "output_type": "stream",
          "name": "stderr",
          "text": [
            "WARNING ⚠️ 'Boxes.boxes' is deprecated. Use 'Boxes.data' instead.\n",
            "<ipython-input-60-051a0d118cd5>:8: FutureWarning: The frame.append method is deprecated and will be removed from pandas in a future version. Use pandas.concat instead.\n",
            "  SUBM.append({'name': filepath, 'class': clas}, ignore_index=True)\n",
            "\n",
            "0: 448x640 1 klikun, 28.6ms\n",
            "Speed: 3.1ms preprocess, 28.6ms inference, 1.4ms postprocess per image at shape (1, 3, 640, 640)\n"
          ]
        },
        {
          "output_type": "stream",
          "name": "stdout",
          "text": [
            "Yolo class 1, yolo conf 0.7865420281887054, Hugs class 0\n",
            "/content/TESTdataset/281.jpg\n"
          ]
        },
        {
          "output_type": "stream",
          "name": "stderr",
          "text": [
            "WARNING ⚠️ 'Boxes.boxes' is deprecated. Use 'Boxes.data' instead.\n",
            "<ipython-input-60-051a0d118cd5>:8: FutureWarning: The frame.append method is deprecated and will be removed from pandas in a future version. Use pandas.concat instead.\n",
            "  SUBM.append({'name': filepath, 'class': clas}, ignore_index=True)\n",
            "\n",
            "0: 512x640 2 mals, 29.4ms\n",
            "Speed: 3.4ms preprocess, 29.4ms inference, 1.5ms postprocess per image at shape (1, 3, 640, 640)\n"
          ]
        },
        {
          "output_type": "stream",
          "name": "stdout",
          "text": [
            "Yolo class 0, yolo conf 0.905166506767273, Hugs class 1\n",
            "/content/TESTdataset/387.jpg\n"
          ]
        },
        {
          "output_type": "stream",
          "name": "stderr",
          "text": [
            "WARNING ⚠️ 'Boxes.boxes' is deprecated. Use 'Boxes.data' instead.\n",
            "<ipython-input-60-051a0d118cd5>:8: FutureWarning: The frame.append method is deprecated and will be removed from pandas in a future version. Use pandas.concat instead.\n",
            "  SUBM.append({'name': filepath, 'class': clas}, ignore_index=True)\n",
            "\n",
            "0: 640x480 1 ship, 29.4ms\n",
            "Speed: 3.7ms preprocess, 29.4ms inference, 1.4ms postprocess per image at shape (1, 3, 640, 640)\n"
          ]
        },
        {
          "output_type": "stream",
          "name": "stdout",
          "text": [
            "Yolo class 1, yolo conf 0.6394411325454712, Hugs class 0\n",
            "/content/TESTdataset/365.jpg\n"
          ]
        },
        {
          "output_type": "stream",
          "name": "stderr",
          "text": [
            "WARNING ⚠️ 'Boxes.boxes' is deprecated. Use 'Boxes.data' instead.\n",
            "<ipython-input-60-051a0d118cd5>:8: FutureWarning: The frame.append method is deprecated and will be removed from pandas in a future version. Use pandas.concat instead.\n",
            "  SUBM.append({'name': filepath, 'class': clas}, ignore_index=True)\n",
            "\n",
            "0: 416x640 4 klikuns, 28.5ms\n",
            "Speed: 4.2ms preprocess, 28.5ms inference, 1.5ms postprocess per image at shape (1, 3, 640, 640)\n"
          ]
        },
        {
          "output_type": "stream",
          "name": "stdout",
          "text": [
            "Yolo class 2, yolo conf 0.7865643501281738, Hugs class 2\n",
            "/content/TESTdataset/190.jpg\n"
          ]
        },
        {
          "output_type": "stream",
          "name": "stderr",
          "text": [
            "WARNING ⚠️ 'Boxes.boxes' is deprecated. Use 'Boxes.data' instead.\n",
            "<ipython-input-60-051a0d118cd5>:8: FutureWarning: The frame.append method is deprecated and will be removed from pandas in a future version. Use pandas.concat instead.\n",
            "  SUBM.append({'name': filepath, 'class': clas}, ignore_index=True)\n",
            "\n",
            "0: 448x640 9 mals, 28.9ms\n",
            "Speed: 3.0ms preprocess, 28.9ms inference, 1.5ms postprocess per image at shape (1, 3, 640, 640)\n"
          ]
        },
        {
          "output_type": "stream",
          "name": "stdout",
          "text": [
            "Yolo class 0, yolo conf 0.7328416630625725, Hugs class 1\n",
            "/content/TESTdataset/474.jpg\n"
          ]
        },
        {
          "output_type": "stream",
          "name": "stderr",
          "text": [
            "WARNING ⚠️ 'Boxes.boxes' is deprecated. Use 'Boxes.data' instead.\n",
            "<ipython-input-60-051a0d118cd5>:8: FutureWarning: The frame.append method is deprecated and will be removed from pandas in a future version. Use pandas.concat instead.\n",
            "  SUBM.append({'name': filepath, 'class': clas}, ignore_index=True)\n",
            "\n",
            "0: 480x640 1 klikun, 1 mal, 29.3ms\n",
            "Speed: 3.0ms preprocess, 29.3ms inference, 1.8ms postprocess per image at shape (1, 3, 640, 640)\n"
          ]
        },
        {
          "output_type": "stream",
          "name": "stdout",
          "text": [
            "Yolo class 1, yolo conf 0.45808396074506974, Hugs class 0\n",
            "/content/TESTdataset/578.jpg\n"
          ]
        },
        {
          "output_type": "stream",
          "name": "stderr",
          "text": [
            "WARNING ⚠️ 'Boxes.boxes' is deprecated. Use 'Boxes.data' instead.\n",
            "<ipython-input-60-051a0d118cd5>:8: FutureWarning: The frame.append method is deprecated and will be removed from pandas in a future version. Use pandas.concat instead.\n",
            "  SUBM.append({'name': filepath, 'class': clas}, ignore_index=True)\n",
            "\n",
            "0: 640x640 1 ship, 38.2ms\n",
            "Speed: 6.2ms preprocess, 38.2ms inference, 1.9ms postprocess per image at shape (1, 3, 640, 640)\n"
          ]
        },
        {
          "output_type": "stream",
          "name": "stdout",
          "text": [
            "Yolo class 0, yolo conf 0.43312549591064453, Hugs class 1\n",
            "/content/TESTdataset/30.jpg\n"
          ]
        },
        {
          "output_type": "stream",
          "name": "stderr",
          "text": [
            "WARNING ⚠️ 'Boxes.boxes' is deprecated. Use 'Boxes.data' instead.\n",
            "<ipython-input-60-051a0d118cd5>:8: FutureWarning: The frame.append method is deprecated and will be removed from pandas in a future version. Use pandas.concat instead.\n",
            "  SUBM.append({'name': filepath, 'class': clas}, ignore_index=True)\n",
            "\n",
            "0: 416x640 1 klikun, 28.8ms\n",
            "Speed: 5.4ms preprocess, 28.8ms inference, 2.4ms postprocess per image at shape (1, 3, 640, 640)\n"
          ]
        },
        {
          "output_type": "stream",
          "name": "stdout",
          "text": [
            "Yolo class 2, yolo conf 0.8792450428009033, Hugs class 2\n",
            "/content/TESTdataset/128.jpg\n"
          ]
        },
        {
          "output_type": "stream",
          "name": "stderr",
          "text": [
            "WARNING ⚠️ 'Boxes.boxes' is deprecated. Use 'Boxes.data' instead.\n",
            "<ipython-input-60-051a0d118cd5>:8: FutureWarning: The frame.append method is deprecated and will be removed from pandas in a future version. Use pandas.concat instead.\n",
            "  SUBM.append({'name': filepath, 'class': clas}, ignore_index=True)\n",
            "\n",
            "0: 640x640 2 klikuns, 40.3ms\n",
            "Speed: 4.5ms preprocess, 40.3ms inference, 2.0ms postprocess per image at shape (1, 3, 640, 640)\n"
          ]
        },
        {
          "output_type": "stream",
          "name": "stdout",
          "text": [
            "Yolo class 0, yolo conf 0.6072518229484558, Hugs class 0\n",
            "/content/TESTdataset/309.jpg\n"
          ]
        },
        {
          "output_type": "stream",
          "name": "stderr",
          "text": [
            "WARNING ⚠️ 'Boxes.boxes' is deprecated. Use 'Boxes.data' instead.\n",
            "<ipython-input-60-051a0d118cd5>:8: FutureWarning: The frame.append method is deprecated and will be removed from pandas in a future version. Use pandas.concat instead.\n",
            "  SUBM.append({'name': filepath, 'class': clas}, ignore_index=True)\n",
            "\n",
            "0: 448x640 1 mal, 28.8ms\n",
            "Speed: 2.9ms preprocess, 28.8ms inference, 2.3ms postprocess per image at shape (1, 3, 640, 640)\n"
          ]
        },
        {
          "output_type": "stream",
          "name": "stdout",
          "text": [
            "Yolo class 0, yolo conf 0.7758045494556427, Hugs class 1\n",
            "/content/TESTdataset/171.jpg\n"
          ]
        },
        {
          "output_type": "stream",
          "name": "stderr",
          "text": [
            "WARNING ⚠️ 'Boxes.boxes' is deprecated. Use 'Boxes.data' instead.\n",
            "<ipython-input-60-051a0d118cd5>:8: FutureWarning: The frame.append method is deprecated and will be removed from pandas in a future version. Use pandas.concat instead.\n",
            "  SUBM.append({'name': filepath, 'class': clas}, ignore_index=True)\n",
            "\n",
            "0: 640x640 1 mal, 1 ship, 38.2ms\n",
            "Speed: 6.8ms preprocess, 38.2ms inference, 2.3ms postprocess per image at shape (1, 3, 640, 640)\n"
          ]
        },
        {
          "output_type": "stream",
          "name": "stdout",
          "text": [
            "Yolo class 1, yolo conf 0.5844032764434814, Hugs class 0\n",
            "/content/TESTdataset/445.jpg\n"
          ]
        },
        {
          "output_type": "stream",
          "name": "stderr",
          "text": [
            "WARNING ⚠️ 'Boxes.boxes' is deprecated. Use 'Boxes.data' instead.\n",
            "<ipython-input-60-051a0d118cd5>:8: FutureWarning: The frame.append method is deprecated and will be removed from pandas in a future version. Use pandas.concat instead.\n",
            "  SUBM.append({'name': filepath, 'class': clas}, ignore_index=True)\n",
            "\n",
            "0: 448x640 2 mals, 30.4ms\n",
            "Speed: 3.0ms preprocess, 30.4ms inference, 1.4ms postprocess per image at shape (1, 3, 640, 640)\n"
          ]
        },
        {
          "output_type": "stream",
          "name": "stdout",
          "text": [
            "Yolo class 1, yolo conf 0.21713154017925262, Hugs class 2\n",
            "/content/TESTdataset/267.jpg\n"
          ]
        },
        {
          "output_type": "stream",
          "name": "stderr",
          "text": [
            "WARNING ⚠️ 'Boxes.boxes' is deprecated. Use 'Boxes.data' instead.\n",
            "<ipython-input-60-051a0d118cd5>:8: FutureWarning: The frame.append method is deprecated and will be removed from pandas in a future version. Use pandas.concat instead.\n",
            "  SUBM.append({'name': filepath, 'class': clas}, ignore_index=True)\n",
            "\n",
            "0: 448x640 1 ship, 27.9ms\n",
            "Speed: 3.1ms preprocess, 27.9ms inference, 1.7ms postprocess per image at shape (1, 3, 640, 640)\n"
          ]
        },
        {
          "output_type": "stream",
          "name": "stdout",
          "text": [
            "Yolo class 1, yolo conf 0.5033704340457916, Hugs class 0\n",
            "/content/TESTdataset/55.jpg\n"
          ]
        },
        {
          "output_type": "stream",
          "name": "stderr",
          "text": [
            "WARNING ⚠️ 'Boxes.boxes' is deprecated. Use 'Boxes.data' instead.\n",
            "<ipython-input-60-051a0d118cd5>:8: FutureWarning: The frame.append method is deprecated and will be removed from pandas in a future version. Use pandas.concat instead.\n",
            "  SUBM.append({'name': filepath, 'class': clas}, ignore_index=True)\n",
            "\n",
            "0: 384x640 2 klikuns, 26.6ms\n",
            "Speed: 2.9ms preprocess, 26.6ms inference, 1.5ms postprocess per image at shape (1, 3, 640, 640)\n"
          ]
        },
        {
          "output_type": "stream",
          "name": "stdout",
          "text": [
            "Yolo class 2, yolo conf 0.9198586940765381, Hugs class 2\n",
            "/content/TESTdataset/203.jpg\n"
          ]
        },
        {
          "output_type": "stream",
          "name": "stderr",
          "text": [
            "WARNING ⚠️ 'Boxes.boxes' is deprecated. Use 'Boxes.data' instead.\n",
            "<ipython-input-60-051a0d118cd5>:8: FutureWarning: The frame.append method is deprecated and will be removed from pandas in a future version. Use pandas.concat instead.\n",
            "  SUBM.append({'name': filepath, 'class': clas}, ignore_index=True)\n",
            "\n",
            "0: 448x640 1 ship, 28.9ms\n",
            "Speed: 3.0ms preprocess, 28.9ms inference, 1.9ms postprocess per image at shape (1, 3, 640, 640)\n"
          ]
        },
        {
          "output_type": "stream",
          "name": "stdout",
          "text": [
            "Yolo class 0, yolo conf 0.45608536899089813, Hugs class 0\n",
            "/content/TESTdataset/407.jpg\n"
          ]
        },
        {
          "output_type": "stream",
          "name": "stderr",
          "text": [
            "WARNING ⚠️ 'Boxes.boxes' is deprecated. Use 'Boxes.data' instead.\n",
            "<ipython-input-60-051a0d118cd5>:8: FutureWarning: The frame.append method is deprecated and will be removed from pandas in a future version. Use pandas.concat instead.\n",
            "  SUBM.append({'name': filepath, 'class': clas}, ignore_index=True)\n",
            "\n",
            "0: 448x640 1 ship, 27.8ms\n",
            "Speed: 3.5ms preprocess, 27.8ms inference, 1.6ms postprocess per image at shape (1, 3, 640, 640)\n"
          ]
        },
        {
          "output_type": "stream",
          "name": "stdout",
          "text": [
            "Yolo class 2, yolo conf 0.3907628059387207, Hugs class 2\n",
            "/content/TESTdataset/565.jpg\n"
          ]
        },
        {
          "output_type": "stream",
          "name": "stderr",
          "text": [
            "WARNING ⚠️ 'Boxes.boxes' is deprecated. Use 'Boxes.data' instead.\n",
            "<ipython-input-60-051a0d118cd5>:8: FutureWarning: The frame.append method is deprecated and will be removed from pandas in a future version. Use pandas.concat instead.\n",
            "  SUBM.append({'name': filepath, 'class': clas}, ignore_index=True)\n",
            "\n",
            "0: 480x640 1 klikun, 29.1ms\n",
            "Speed: 4.0ms preprocess, 29.1ms inference, 1.5ms postprocess per image at shape (1, 3, 640, 640)\n"
          ]
        },
        {
          "output_type": "stream",
          "name": "stdout",
          "text": [
            "Yolo class 2, yolo conf 0.8649887442588806, Hugs class 1\n",
            "/content/TESTdataset/505.jpg\n"
          ]
        },
        {
          "output_type": "stream",
          "name": "stderr",
          "text": [
            "WARNING ⚠️ 'Boxes.boxes' is deprecated. Use 'Boxes.data' instead.\n",
            "<ipython-input-60-051a0d118cd5>:8: FutureWarning: The frame.append method is deprecated and will be removed from pandas in a future version. Use pandas.concat instead.\n",
            "  SUBM.append({'name': filepath, 'class': clas}, ignore_index=True)\n",
            "\n",
            "0: 448x640 1 ship, 28.7ms\n",
            "Speed: 3.5ms preprocess, 28.7ms inference, 1.5ms postprocess per image at shape (1, 3, 640, 640)\n"
          ]
        },
        {
          "output_type": "stream",
          "name": "stdout",
          "text": [
            "Yolo class 0, yolo conf 0.7724242210388184, Hugs class 1\n",
            "/content/TESTdataset/400.jpg\n"
          ]
        },
        {
          "output_type": "stream",
          "name": "stderr",
          "text": [
            "WARNING ⚠️ 'Boxes.boxes' is deprecated. Use 'Boxes.data' instead.\n",
            "<ipython-input-60-051a0d118cd5>:8: FutureWarning: The frame.append method is deprecated and will be removed from pandas in a future version. Use pandas.concat instead.\n",
            "  SUBM.append({'name': filepath, 'class': clas}, ignore_index=True)\n",
            "\n",
            "0: 480x640 1 ship, 28.9ms\n",
            "Speed: 3.6ms preprocess, 28.9ms inference, 1.5ms postprocess per image at shape (1, 3, 640, 640)\n"
          ]
        },
        {
          "output_type": "stream",
          "name": "stdout",
          "text": [
            "Yolo class 2, yolo conf 0.9146031141281128, Hugs class 2\n",
            "/content/TESTdataset/439.jpg\n"
          ]
        },
        {
          "output_type": "stream",
          "name": "stderr",
          "text": [
            "WARNING ⚠️ 'Boxes.boxes' is deprecated. Use 'Boxes.data' instead.\n",
            "<ipython-input-60-051a0d118cd5>:8: FutureWarning: The frame.append method is deprecated and will be removed from pandas in a future version. Use pandas.concat instead.\n",
            "  SUBM.append({'name': filepath, 'class': clas}, ignore_index=True)\n",
            "\n",
            "0: 480x640 1 ship, 28.2ms\n",
            "Speed: 3.4ms preprocess, 28.2ms inference, 1.8ms postprocess per image at shape (1, 3, 640, 640)\n"
          ]
        },
        {
          "output_type": "stream",
          "name": "stdout",
          "text": [
            "Yolo class 2, yolo conf 0.842691957950592, Hugs class 2\n",
            "/content/TESTdataset/490.jpg\n"
          ]
        },
        {
          "output_type": "stream",
          "name": "stderr",
          "text": [
            "WARNING ⚠️ 'Boxes.boxes' is deprecated. Use 'Boxes.data' instead.\n",
            "<ipython-input-60-051a0d118cd5>:8: FutureWarning: The frame.append method is deprecated and will be removed from pandas in a future version. Use pandas.concat instead.\n",
            "  SUBM.append({'name': filepath, 'class': clas}, ignore_index=True)\n",
            "\n",
            "0: 416x640 1 ship, 28.4ms\n",
            "Speed: 3.0ms preprocess, 28.4ms inference, 1.4ms postprocess per image at shape (1, 3, 640, 640)\n"
          ]
        },
        {
          "output_type": "stream",
          "name": "stdout",
          "text": [
            "Yolo class 2, yolo conf 0.2578544020652771, Hugs class 0\n",
            "/content/TESTdataset/501.jpg\n"
          ]
        },
        {
          "output_type": "stream",
          "name": "stderr",
          "text": [
            "WARNING ⚠️ 'Boxes.boxes' is deprecated. Use 'Boxes.data' instead.\n",
            "<ipython-input-60-051a0d118cd5>:8: FutureWarning: The frame.append method is deprecated and will be removed from pandas in a future version. Use pandas.concat instead.\n",
            "  SUBM.append({'name': filepath, 'class': clas}, ignore_index=True)\n",
            "\n",
            "0: 480x640 2 klikuns, 28.9ms\n",
            "Speed: 3.7ms preprocess, 28.9ms inference, 1.4ms postprocess per image at shape (1, 3, 640, 640)\n"
          ]
        },
        {
          "output_type": "stream",
          "name": "stdout",
          "text": [
            "Yolo class 2, yolo conf 0.9099870324134827, Hugs class 2\n",
            "/content/TESTdataset/66.jpg\n"
          ]
        },
        {
          "output_type": "stream",
          "name": "stderr",
          "text": [
            "WARNING ⚠️ 'Boxes.boxes' is deprecated. Use 'Boxes.data' instead.\n",
            "<ipython-input-60-051a0d118cd5>:8: FutureWarning: The frame.append method is deprecated and will be removed from pandas in a future version. Use pandas.concat instead.\n",
            "  SUBM.append({'name': filepath, 'class': clas}, ignore_index=True)\n",
            "\n",
            "0: 448x640 1 klikun, 28.7ms\n",
            "Speed: 3.5ms preprocess, 28.7ms inference, 1.4ms postprocess per image at shape (1, 3, 640, 640)\n"
          ]
        },
        {
          "output_type": "stream",
          "name": "stdout",
          "text": [
            "Yolo class 0, yolo conf 0.7933071255683899, Hugs class 1\n",
            "/content/TESTdataset/397.jpg\n"
          ]
        },
        {
          "output_type": "stream",
          "name": "stderr",
          "text": [
            "WARNING ⚠️ 'Boxes.boxes' is deprecated. Use 'Boxes.data' instead.\n",
            "<ipython-input-60-051a0d118cd5>:8: FutureWarning: The frame.append method is deprecated and will be removed from pandas in a future version. Use pandas.concat instead.\n",
            "  SUBM.append({'name': filepath, 'class': clas}, ignore_index=True)\n",
            "\n",
            "0: 512x640 1 klikun, 29.3ms\n",
            "Speed: 4.5ms preprocess, 29.3ms inference, 1.5ms postprocess per image at shape (1, 3, 640, 640)\n"
          ]
        },
        {
          "output_type": "stream",
          "name": "stdout",
          "text": [
            "Yolo class 0, yolo conf 0.9040431380271912, Hugs class 1\n",
            "/content/TESTdataset/528.jpg\n"
          ]
        },
        {
          "output_type": "stream",
          "name": "stderr",
          "text": [
            "WARNING ⚠️ 'Boxes.boxes' is deprecated. Use 'Boxes.data' instead.\n",
            "<ipython-input-60-051a0d118cd5>:8: FutureWarning: The frame.append method is deprecated and will be removed from pandas in a future version. Use pandas.concat instead.\n",
            "  SUBM.append({'name': filepath, 'class': clas}, ignore_index=True)\n",
            "\n",
            "0: 480x640 1 klikun, 29.1ms\n",
            "Speed: 3.2ms preprocess, 29.1ms inference, 1.4ms postprocess per image at shape (1, 3, 640, 640)\n"
          ]
        },
        {
          "output_type": "stream",
          "name": "stdout",
          "text": [
            "Yolo class 0, yolo conf 0.8920300602912903, Hugs class 1\n",
            "/content/TESTdataset/98.jpg\n"
          ]
        },
        {
          "output_type": "stream",
          "name": "stderr",
          "text": [
            "WARNING ⚠️ 'Boxes.boxes' is deprecated. Use 'Boxes.data' instead.\n",
            "<ipython-input-60-051a0d118cd5>:8: FutureWarning: The frame.append method is deprecated and will be removed from pandas in a future version. Use pandas.concat instead.\n",
            "  SUBM.append({'name': filepath, 'class': clas}, ignore_index=True)\n",
            "\n",
            "0: 448x640 1 mal, 29.3ms\n",
            "Speed: 3.5ms preprocess, 29.3ms inference, 2.1ms postprocess per image at shape (1, 3, 640, 640)\n"
          ]
        },
        {
          "output_type": "stream",
          "name": "stdout",
          "text": [
            "Yolo class 0, yolo conf 0.7599853873252869, Hugs class 0\n",
            "/content/TESTdataset/438.jpg\n"
          ]
        },
        {
          "output_type": "stream",
          "name": "stderr",
          "text": [
            "WARNING ⚠️ 'Boxes.boxes' is deprecated. Use 'Boxes.data' instead.\n",
            "<ipython-input-60-051a0d118cd5>:8: FutureWarning: The frame.append method is deprecated and will be removed from pandas in a future version. Use pandas.concat instead.\n",
            "  SUBM.append({'name': filepath, 'class': clas}, ignore_index=True)\n",
            "\n",
            "0: 448x640 2 ships, 27.9ms\n",
            "Speed: 3.1ms preprocess, 27.9ms inference, 2.1ms postprocess per image at shape (1, 3, 640, 640)\n"
          ]
        },
        {
          "output_type": "stream",
          "name": "stdout",
          "text": [
            "Yolo class 1, yolo conf 0.8405056595802307, Hugs class 0\n",
            "/content/TESTdataset/69.jpg\n"
          ]
        },
        {
          "output_type": "stream",
          "name": "stderr",
          "text": [
            "WARNING ⚠️ 'Boxes.boxes' is deprecated. Use 'Boxes.data' instead.\n",
            "<ipython-input-60-051a0d118cd5>:8: FutureWarning: The frame.append method is deprecated and will be removed from pandas in a future version. Use pandas.concat instead.\n",
            "  SUBM.append({'name': filepath, 'class': clas}, ignore_index=True)\n",
            "\n",
            "0: 448x640 1 ship, 27.9ms\n",
            "Speed: 3.0ms preprocess, 27.9ms inference, 1.9ms postprocess per image at shape (1, 3, 640, 640)\n"
          ]
        },
        {
          "output_type": "stream",
          "name": "stdout",
          "text": [
            "Yolo class 2, yolo conf 0.8023311495780945, Hugs class 2\n",
            "/content/TESTdataset/202.jpg\n"
          ]
        },
        {
          "output_type": "stream",
          "name": "stderr",
          "text": [
            "WARNING ⚠️ 'Boxes.boxes' is deprecated. Use 'Boxes.data' instead.\n",
            "<ipython-input-60-051a0d118cd5>:8: FutureWarning: The frame.append method is deprecated and will be removed from pandas in a future version. Use pandas.concat instead.\n",
            "  SUBM.append({'name': filepath, 'class': clas}, ignore_index=True)\n",
            "\n",
            "0: 544x640 2 mals, 36.2ms\n",
            "Speed: 3.4ms preprocess, 36.2ms inference, 2.0ms postprocess per image at shape (1, 3, 640, 640)\n"
          ]
        },
        {
          "output_type": "stream",
          "name": "stdout",
          "text": [
            "Yolo class 2, yolo conf 0.9312120676040649, Hugs class 2\n",
            "/content/TESTdataset/523.jpg\n"
          ]
        },
        {
          "output_type": "stream",
          "name": "stderr",
          "text": [
            "WARNING ⚠️ 'Boxes.boxes' is deprecated. Use 'Boxes.data' instead.\n",
            "<ipython-input-60-051a0d118cd5>:8: FutureWarning: The frame.append method is deprecated and will be removed from pandas in a future version. Use pandas.concat instead.\n",
            "  SUBM.append({'name': filepath, 'class': clas}, ignore_index=True)\n",
            "\n",
            "0: 448x640 2 ships, 30.0ms\n",
            "Speed: 4.8ms preprocess, 30.0ms inference, 5.1ms postprocess per image at shape (1, 3, 640, 640)\n"
          ]
        },
        {
          "output_type": "stream",
          "name": "stdout",
          "text": [
            "Yolo class 1, yolo conf 0.8884080052375793, Hugs class 0\n",
            "/content/TESTdataset/150.jpg\n"
          ]
        },
        {
          "output_type": "stream",
          "name": "stderr",
          "text": [
            "WARNING ⚠️ 'Boxes.boxes' is deprecated. Use 'Boxes.data' instead.\n",
            "<ipython-input-60-051a0d118cd5>:8: FutureWarning: The frame.append method is deprecated and will be removed from pandas in a future version. Use pandas.concat instead.\n",
            "  SUBM.append({'name': filepath, 'class': clas}, ignore_index=True)\n",
            "\n",
            "0: 448x640 2 klikuns, 27.9ms\n",
            "Speed: 8.6ms preprocess, 27.9ms inference, 2.2ms postprocess per image at shape (1, 3, 640, 640)\n"
          ]
        },
        {
          "output_type": "stream",
          "name": "stdout",
          "text": [
            "Yolo class 2, yolo conf 0.7106949985027313, Hugs class 2\n",
            "/content/TESTdataset/538.jpg\n"
          ]
        },
        {
          "output_type": "stream",
          "name": "stderr",
          "text": [
            "WARNING ⚠️ 'Boxes.boxes' is deprecated. Use 'Boxes.data' instead.\n",
            "<ipython-input-60-051a0d118cd5>:8: FutureWarning: The frame.append method is deprecated and will be removed from pandas in a future version. Use pandas.concat instead.\n",
            "  SUBM.append({'name': filepath, 'class': clas}, ignore_index=True)\n",
            "\n",
            "0: 480x640 2 klikuns, 29.4ms\n",
            "Speed: 4.1ms preprocess, 29.4ms inference, 2.1ms postprocess per image at shape (1, 3, 640, 640)\n"
          ]
        },
        {
          "output_type": "stream",
          "name": "stdout",
          "text": [
            "Yolo class 0, yolo conf 0.7386232316493988, Hugs class 1\n",
            "/content/TESTdataset/369.jpg\n"
          ]
        },
        {
          "output_type": "stream",
          "name": "stderr",
          "text": [
            "WARNING ⚠️ 'Boxes.boxes' is deprecated. Use 'Boxes.data' instead.\n",
            "<ipython-input-60-051a0d118cd5>:8: FutureWarning: The frame.append method is deprecated and will be removed from pandas in a future version. Use pandas.concat instead.\n",
            "  SUBM.append({'name': filepath, 'class': clas}, ignore_index=True)\n",
            "\n",
            "0: 448x640 1 ship, 28.9ms\n",
            "Speed: 3.3ms preprocess, 28.9ms inference, 1.9ms postprocess per image at shape (1, 3, 640, 640)\n"
          ]
        },
        {
          "output_type": "stream",
          "name": "stdout",
          "text": [
            "Yolo class 0, yolo conf 0.706759124994278, Hugs class 1\n",
            "/content/TESTdataset/584.jpg\n"
          ]
        },
        {
          "output_type": "stream",
          "name": "stderr",
          "text": [
            "WARNING ⚠️ 'Boxes.boxes' is deprecated. Use 'Boxes.data' instead.\n",
            "<ipython-input-60-051a0d118cd5>:8: FutureWarning: The frame.append method is deprecated and will be removed from pandas in a future version. Use pandas.concat instead.\n",
            "  SUBM.append({'name': filepath, 'class': clas}, ignore_index=True)\n",
            "\n",
            "0: 448x640 1 klikun, 27.8ms\n",
            "Speed: 2.8ms preprocess, 27.8ms inference, 1.5ms postprocess per image at shape (1, 3, 640, 640)\n"
          ]
        },
        {
          "output_type": "stream",
          "name": "stdout",
          "text": [
            "Yolo class 2, yolo conf 0.8138480186462402, Hugs class 2\n",
            "/content/TESTdataset/127.jpg\n"
          ]
        },
        {
          "output_type": "stream",
          "name": "stderr",
          "text": [
            "WARNING ⚠️ 'Boxes.boxes' is deprecated. Use 'Boxes.data' instead.\n",
            "<ipython-input-60-051a0d118cd5>:8: FutureWarning: The frame.append method is deprecated and will be removed from pandas in a future version. Use pandas.concat instead.\n",
            "  SUBM.append({'name': filepath, 'class': clas}, ignore_index=True)\n",
            "\n",
            "0: 608x640 2 mals, 37.1ms\n",
            "Speed: 3.6ms preprocess, 37.1ms inference, 1.5ms postprocess per image at shape (1, 3, 640, 640)\n",
            "WARNING ⚠️ 'Boxes.boxes' is deprecated. Use 'Boxes.data' instead.\n",
            "<ipython-input-60-051a0d118cd5>:8: FutureWarning: The frame.append method is deprecated and will be removed from pandas in a future version. Use pandas.concat instead.\n",
            "  SUBM.append({'name': filepath, 'class': clas}, ignore_index=True)\n",
            "\n",
            "0: 448x640 1 klikun, 1 ship, 28.6ms\n",
            "Speed: 2.3ms preprocess, 28.6ms inference, 1.4ms postprocess per image at shape (1, 3, 640, 640)\n"
          ]
        },
        {
          "output_type": "stream",
          "name": "stdout",
          "text": [
            "Yolo class 0, yolo conf 0.5542168021202087, Hugs class 1\n",
            "/content/TESTdataset/160.jpg\n",
            "HUGS FAILED ON /content/TESTdataset/160.jpg\n",
            "Yolo class 1, yolo conf 0.6572774946689606, Hugs class -1\n",
            "/content/TESTdataset/75.jpg\n"
          ]
        },
        {
          "output_type": "stream",
          "name": "stderr",
          "text": [
            "WARNING ⚠️ 'Boxes.boxes' is deprecated. Use 'Boxes.data' instead.\n",
            "<ipython-input-60-051a0d118cd5>:8: FutureWarning: The frame.append method is deprecated and will be removed from pandas in a future version. Use pandas.concat instead.\n",
            "  SUBM.append({'name': filepath, 'class': clas}, ignore_index=True)\n",
            "\n",
            "0: 640x576 1 mal, 36.7ms\n",
            "Speed: 3.8ms preprocess, 36.7ms inference, 1.4ms postprocess per image at shape (1, 3, 640, 640)\n"
          ]
        },
        {
          "output_type": "stream",
          "name": "stdout",
          "text": [
            "Yolo class 2, yolo conf 0.2393382340669632, Hugs class 1\n",
            "/content/TESTdataset/164.jpg\n"
          ]
        },
        {
          "output_type": "stream",
          "name": "stderr",
          "text": [
            "WARNING ⚠️ 'Boxes.boxes' is deprecated. Use 'Boxes.data' instead.\n",
            "<ipython-input-60-051a0d118cd5>:8: FutureWarning: The frame.append method is deprecated and will be removed from pandas in a future version. Use pandas.concat instead.\n",
            "  SUBM.append({'name': filepath, 'class': clas}, ignore_index=True)\n",
            "\n",
            "0: 448x640 1 klikun, 1 mal, 29.1ms\n",
            "Speed: 2.3ms preprocess, 29.1ms inference, 2.1ms postprocess per image at shape (1, 3, 640, 640)\n"
          ]
        },
        {
          "output_type": "stream",
          "name": "stdout",
          "text": [
            "Yolo class 1, yolo conf 0.6760775446891785, Hugs class 0\n",
            "/content/TESTdataset/211.jpg\n"
          ]
        },
        {
          "output_type": "stream",
          "name": "stderr",
          "text": [
            "WARNING ⚠️ 'Boxes.boxes' is deprecated. Use 'Boxes.data' instead.\n",
            "<ipython-input-60-051a0d118cd5>:8: FutureWarning: The frame.append method is deprecated and will be removed from pandas in a future version. Use pandas.concat instead.\n",
            "  SUBM.append({'name': filepath, 'class': clas}, ignore_index=True)\n",
            "\n",
            "0: 480x640 4 mals, 31.5ms\n",
            "Speed: 2.9ms preprocess, 31.5ms inference, 2.2ms postprocess per image at shape (1, 3, 640, 640)\n"
          ]
        },
        {
          "output_type": "stream",
          "name": "stdout",
          "text": [
            "Yolo class 1, yolo conf 0.24872571229934692, Hugs class 1\n",
            "/content/TESTdataset/247.jpg\n"
          ]
        },
        {
          "output_type": "stream",
          "name": "stderr",
          "text": [
            "WARNING ⚠️ 'Boxes.boxes' is deprecated. Use 'Boxes.data' instead.\n",
            "<ipython-input-60-051a0d118cd5>:8: FutureWarning: The frame.append method is deprecated and will be removed from pandas in a future version. Use pandas.concat instead.\n",
            "  SUBM.append({'name': filepath, 'class': clas}, ignore_index=True)\n",
            "\n",
            "0: 480x640 2 mals, 28.2ms\n",
            "Speed: 2.7ms preprocess, 28.2ms inference, 2.4ms postprocess per image at shape (1, 3, 640, 640)\n"
          ]
        },
        {
          "output_type": "stream",
          "name": "stdout",
          "text": [
            "Yolo class 1, yolo conf 0.7702445983886719, Hugs class 0\n",
            "/content/TESTdataset/471.jpg\n"
          ]
        },
        {
          "output_type": "stream",
          "name": "stderr",
          "text": [
            "WARNING ⚠️ 'Boxes.boxes' is deprecated. Use 'Boxes.data' instead.\n",
            "<ipython-input-60-051a0d118cd5>:8: FutureWarning: The frame.append method is deprecated and will be removed from pandas in a future version. Use pandas.concat instead.\n",
            "  SUBM.append({'name': filepath, 'class': clas}, ignore_index=True)\n",
            "\n",
            "0: 448x640 2 klikuns, 28.7ms\n",
            "Speed: 3.4ms preprocess, 28.7ms inference, 1.5ms postprocess per image at shape (1, 3, 640, 640)\n"
          ]
        },
        {
          "output_type": "stream",
          "name": "stdout",
          "text": [
            "Yolo class 1, yolo conf 0.908812552690506, Hugs class 0\n",
            "/content/TESTdataset/245.jpg\n"
          ]
        },
        {
          "output_type": "stream",
          "name": "stderr",
          "text": [
            "WARNING ⚠️ 'Boxes.boxes' is deprecated. Use 'Boxes.data' instead.\n",
            "<ipython-input-60-051a0d118cd5>:8: FutureWarning: The frame.append method is deprecated and will be removed from pandas in a future version. Use pandas.concat instead.\n",
            "  SUBM.append({'name': filepath, 'class': clas}, ignore_index=True)\n",
            "\n",
            "0: 384x640 1 mal, 26.7ms\n",
            "Speed: 2.7ms preprocess, 26.7ms inference, 1.6ms postprocess per image at shape (1, 3, 640, 640)\n"
          ]
        },
        {
          "output_type": "stream",
          "name": "stdout",
          "text": [
            "Yolo class 0, yolo conf 0.9182706773281097, Hugs class 1\n",
            "/content/TESTdataset/426.jpg\n"
          ]
        },
        {
          "output_type": "stream",
          "name": "stderr",
          "text": [
            "WARNING ⚠️ 'Boxes.boxes' is deprecated. Use 'Boxes.data' instead.\n",
            "<ipython-input-60-051a0d118cd5>:8: FutureWarning: The frame.append method is deprecated and will be removed from pandas in a future version. Use pandas.concat instead.\n",
            "  SUBM.append({'name': filepath, 'class': clas}, ignore_index=True)\n",
            "\n",
            "0: 640x480 1 mal, 29.7ms\n",
            "Speed: 3.1ms preprocess, 29.7ms inference, 1.5ms postprocess per image at shape (1, 3, 640, 640)\n",
            "WARNING ⚠️ 'Boxes.boxes' is deprecated. Use 'Boxes.data' instead.\n",
            "<ipython-input-60-051a0d118cd5>:8: FutureWarning: The frame.append method is deprecated and will be removed from pandas in a future version. Use pandas.concat instead.\n",
            "  SUBM.append({'name': filepath, 'class': clas}, ignore_index=True)\n",
            "\n",
            "0: 448x640 1 klikun, 1 ship, 30.6ms\n",
            "Speed: 3.8ms preprocess, 30.6ms inference, 1.4ms postprocess per image at shape (1, 3, 640, 640)\n"
          ]
        },
        {
          "output_type": "stream",
          "name": "stdout",
          "text": [
            "Yolo class 1, yolo conf 0.8308846950531006, Hugs class 0\n",
            "/content/TESTdataset/278.jpg\n",
            "HUGS FAILED ON /content/TESTdataset/278.jpg\n",
            "Yolo class 1, yolo conf 0.5252881050109863, Hugs class -1\n",
            "/content/TESTdataset/418.jpg\n"
          ]
        },
        {
          "output_type": "stream",
          "name": "stderr",
          "text": [
            "WARNING ⚠️ 'Boxes.boxes' is deprecated. Use 'Boxes.data' instead.\n",
            "<ipython-input-60-051a0d118cd5>:8: FutureWarning: The frame.append method is deprecated and will be removed from pandas in a future version. Use pandas.concat instead.\n",
            "  SUBM.append({'name': filepath, 'class': clas}, ignore_index=True)\n",
            "\n",
            "0: 480x640 1 mal, 29.0ms\n",
            "Speed: 5.2ms preprocess, 29.0ms inference, 1.5ms postprocess per image at shape (1, 3, 640, 640)\n"
          ]
        },
        {
          "output_type": "stream",
          "name": "stdout",
          "text": [
            "Yolo class 2, yolo conf 0.4047622084617615, Hugs class 1\n",
            "/content/TESTdataset/83.jpg\n"
          ]
        },
        {
          "output_type": "stream",
          "name": "stderr",
          "text": [
            "WARNING ⚠️ 'Boxes.boxes' is deprecated. Use 'Boxes.data' instead.\n",
            "<ipython-input-60-051a0d118cd5>:8: FutureWarning: The frame.append method is deprecated and will be removed from pandas in a future version. Use pandas.concat instead.\n",
            "  SUBM.append({'name': filepath, 'class': clas}, ignore_index=True)\n",
            "\n",
            "0: 640x352 2 klikuns, 67.3ms\n",
            "Speed: 2.8ms preprocess, 67.3ms inference, 1.5ms postprocess per image at shape (1, 3, 640, 640)\n"
          ]
        },
        {
          "output_type": "stream",
          "name": "stdout",
          "text": [
            "Yolo class 1, yolo conf 0.9160032868385315, Hugs class 0\n",
            "/content/TESTdataset/425.jpg\n"
          ]
        },
        {
          "output_type": "stream",
          "name": "stderr",
          "text": [
            "WARNING ⚠️ 'Boxes.boxes' is deprecated. Use 'Boxes.data' instead.\n",
            "<ipython-input-60-051a0d118cd5>:8: FutureWarning: The frame.append method is deprecated and will be removed from pandas in a future version. Use pandas.concat instead.\n",
            "  SUBM.append({'name': filepath, 'class': clas}, ignore_index=True)\n",
            "\n",
            "0: 448x640 1 klikun, 28.7ms\n",
            "Speed: 3.3ms preprocess, 28.7ms inference, 1.4ms postprocess per image at shape (1, 3, 640, 640)\n"
          ]
        },
        {
          "output_type": "stream",
          "name": "stdout",
          "text": [
            "Yolo class 0, yolo conf 0.7446630597114563, Hugs class 1\n",
            "/content/TESTdataset/423.jpg\n"
          ]
        },
        {
          "output_type": "stream",
          "name": "stderr",
          "text": [
            "WARNING ⚠️ 'Boxes.boxes' is deprecated. Use 'Boxes.data' instead.\n",
            "<ipython-input-60-051a0d118cd5>:8: FutureWarning: The frame.append method is deprecated and will be removed from pandas in a future version. Use pandas.concat instead.\n",
            "  SUBM.append({'name': filepath, 'class': clas}, ignore_index=True)\n",
            "\n",
            "0: 448x640 2 klikuns, 27.8ms\n",
            "Speed: 3.2ms preprocess, 27.8ms inference, 1.5ms postprocess per image at shape (1, 3, 640, 640)\n"
          ]
        },
        {
          "output_type": "stream",
          "name": "stdout",
          "text": [
            "Yolo class 0, yolo conf 0.7800539135932922, Hugs class 1\n",
            "/content/TESTdataset/269.jpg\n"
          ]
        },
        {
          "output_type": "stream",
          "name": "stderr",
          "text": [
            "WARNING ⚠️ 'Boxes.boxes' is deprecated. Use 'Boxes.data' instead.\n",
            "<ipython-input-60-051a0d118cd5>:8: FutureWarning: The frame.append method is deprecated and will be removed from pandas in a future version. Use pandas.concat instead.\n",
            "  SUBM.append({'name': filepath, 'class': clas}, ignore_index=True)\n",
            "\n",
            "0: 448x640 1 ship, 27.8ms\n",
            "Speed: 2.4ms preprocess, 27.8ms inference, 1.9ms postprocess per image at shape (1, 3, 640, 640)\n"
          ]
        },
        {
          "output_type": "stream",
          "name": "stdout",
          "text": [
            "Yolo class 0, yolo conf 0.7841277718544006, Hugs class 1\n",
            "/content/TESTdataset/475.jpg\n"
          ]
        },
        {
          "output_type": "stream",
          "name": "stderr",
          "text": [
            "WARNING ⚠️ 'Boxes.boxes' is deprecated. Use 'Boxes.data' instead.\n",
            "<ipython-input-60-051a0d118cd5>:8: FutureWarning: The frame.append method is deprecated and will be removed from pandas in a future version. Use pandas.concat instead.\n",
            "  SUBM.append({'name': filepath, 'class': clas}, ignore_index=True)\n",
            "\n",
            "0: 448x640 3 klikuns, 28.1ms\n",
            "Speed: 3.4ms preprocess, 28.1ms inference, 1.9ms postprocess per image at shape (1, 3, 640, 640)\n"
          ]
        },
        {
          "output_type": "stream",
          "name": "stdout",
          "text": [
            "Yolo class 2, yolo conf 0.9313662648200989, Hugs class 2\n",
            "/content/TESTdataset/492.jpg\n"
          ]
        },
        {
          "output_type": "stream",
          "name": "stderr",
          "text": [
            "WARNING ⚠️ 'Boxes.boxes' is deprecated. Use 'Boxes.data' instead.\n",
            "<ipython-input-60-051a0d118cd5>:8: FutureWarning: The frame.append method is deprecated and will be removed from pandas in a future version. Use pandas.concat instead.\n",
            "  SUBM.append({'name': filepath, 'class': clas}, ignore_index=True)\n",
            "\n",
            "0: 448x640 1 klikun, 27.8ms\n",
            "Speed: 4.7ms preprocess, 27.8ms inference, 2.1ms postprocess per image at shape (1, 3, 640, 640)\n"
          ]
        },
        {
          "output_type": "stream",
          "name": "stdout",
          "text": [
            "Yolo class 0, yolo conf 0.5380551815032959, Hugs class 1\n",
            "/content/TESTdataset/149.jpg\n"
          ]
        },
        {
          "output_type": "stream",
          "name": "stderr",
          "text": [
            "WARNING ⚠️ 'Boxes.boxes' is deprecated. Use 'Boxes.data' instead.\n",
            "<ipython-input-60-051a0d118cd5>:8: FutureWarning: The frame.append method is deprecated and will be removed from pandas in a future version. Use pandas.concat instead.\n",
            "  SUBM.append({'name': filepath, 'class': clas}, ignore_index=True)\n",
            "\n",
            "0: 480x640 1 ship, 32.5ms\n",
            "Speed: 3.5ms preprocess, 32.5ms inference, 2.0ms postprocess per image at shape (1, 3, 640, 640)\n"
          ]
        },
        {
          "output_type": "stream",
          "name": "stdout",
          "text": [
            "Yolo class 0, yolo conf 0.6279741525650024, Hugs class 1\n",
            "/content/TESTdataset/227.jpg\n"
          ]
        },
        {
          "output_type": "stream",
          "name": "stderr",
          "text": [
            "WARNING ⚠️ 'Boxes.boxes' is deprecated. Use 'Boxes.data' instead.\n",
            "<ipython-input-60-051a0d118cd5>:8: FutureWarning: The frame.append method is deprecated and will be removed from pandas in a future version. Use pandas.concat instead.\n",
            "  SUBM.append({'name': filepath, 'class': clas}, ignore_index=True)\n",
            "\n",
            "0: 384x640 1 klikun, 27.0ms\n",
            "Speed: 2.6ms preprocess, 27.0ms inference, 2.1ms postprocess per image at shape (1, 3, 640, 640)\n"
          ]
        },
        {
          "output_type": "stream",
          "name": "stdout",
          "text": [
            "Yolo class 2, yolo conf 0.8908748030662537, Hugs class 0\n",
            "/content/TESTdataset/370.jpg\n"
          ]
        },
        {
          "output_type": "stream",
          "name": "stderr",
          "text": [
            "WARNING ⚠️ 'Boxes.boxes' is deprecated. Use 'Boxes.data' instead.\n",
            "<ipython-input-60-051a0d118cd5>:8: FutureWarning: The frame.append method is deprecated and will be removed from pandas in a future version. Use pandas.concat instead.\n",
            "  SUBM.append({'name': filepath, 'class': clas}, ignore_index=True)\n",
            "\n",
            "0: 448x640 1 klikun, 29.2ms\n",
            "Speed: 3.8ms preprocess, 29.2ms inference, 2.2ms postprocess per image at shape (1, 3, 640, 640)\n"
          ]
        },
        {
          "output_type": "stream",
          "name": "stdout",
          "text": [
            "Yolo class 0, yolo conf 0.5906479954719543, Hugs class 1\n",
            "/content/TESTdataset/577.jpg\n"
          ]
        },
        {
          "output_type": "stream",
          "name": "stderr",
          "text": [
            "WARNING ⚠️ 'Boxes.boxes' is deprecated. Use 'Boxes.data' instead.\n",
            "<ipython-input-60-051a0d118cd5>:8: FutureWarning: The frame.append method is deprecated and will be removed from pandas in a future version. Use pandas.concat instead.\n",
            "  SUBM.append({'name': filepath, 'class': clas}, ignore_index=True)\n",
            "\n",
            "0: 640x480 1 ship, 31.1ms\n",
            "Speed: 3.4ms preprocess, 31.1ms inference, 2.2ms postprocess per image at shape (1, 3, 640, 640)\n"
          ]
        },
        {
          "output_type": "stream",
          "name": "stdout",
          "text": [
            "Yolo class 0, yolo conf 0.896680474281311, Hugs class 1\n",
            "/content/TESTdataset/300.jpg\n"
          ]
        },
        {
          "output_type": "stream",
          "name": "stderr",
          "text": [
            "WARNING ⚠️ 'Boxes.boxes' is deprecated. Use 'Boxes.data' instead.\n",
            "<ipython-input-60-051a0d118cd5>:8: FutureWarning: The frame.append method is deprecated and will be removed from pandas in a future version. Use pandas.concat instead.\n",
            "  SUBM.append({'name': filepath, 'class': clas}, ignore_index=True)\n",
            "\n",
            "0: 416x640 1 ship, 28.3ms\n",
            "Speed: 3.4ms preprocess, 28.3ms inference, 1.4ms postprocess per image at shape (1, 3, 640, 640)\n"
          ]
        },
        {
          "output_type": "stream",
          "name": "stdout",
          "text": [
            "Yolo class 2, yolo conf 0.8590343594551086, Hugs class 2\n",
            "/content/TESTdataset/216.jpg\n"
          ]
        },
        {
          "output_type": "stream",
          "name": "stderr",
          "text": [
            "WARNING ⚠️ 'Boxes.boxes' is deprecated. Use 'Boxes.data' instead.\n",
            "<ipython-input-60-051a0d118cd5>:8: FutureWarning: The frame.append method is deprecated and will be removed from pandas in a future version. Use pandas.concat instead.\n",
            "  SUBM.append({'name': filepath, 'class': clas}, ignore_index=True)\n",
            "\n",
            "0: 480x640 1 klikun, 29.4ms\n",
            "Speed: 3.4ms preprocess, 29.4ms inference, 1.7ms postprocess per image at shape (1, 3, 640, 640)\n"
          ]
        },
        {
          "output_type": "stream",
          "name": "stdout",
          "text": [
            "Yolo class 2, yolo conf 0.3978804051876068, Hugs class 1\n",
            "/content/TESTdataset/579.jpg\n"
          ]
        },
        {
          "output_type": "stream",
          "name": "stderr",
          "text": [
            "WARNING ⚠️ 'Boxes.boxes' is deprecated. Use 'Boxes.data' instead.\n",
            "<ipython-input-60-051a0d118cd5>:8: FutureWarning: The frame.append method is deprecated and will be removed from pandas in a future version. Use pandas.concat instead.\n",
            "  SUBM.append({'name': filepath, 'class': clas}, ignore_index=True)\n",
            "\n",
            "0: 448x640 1 ship, 28.7ms\n",
            "Speed: 3.7ms preprocess, 28.7ms inference, 1.5ms postprocess per image at shape (1, 3, 640, 640)\n"
          ]
        },
        {
          "output_type": "stream",
          "name": "stdout",
          "text": [
            "Yolo class 0, yolo conf 0.7685957551002502, Hugs class 1\n",
            "/content/TESTdataset/80.jpg\n"
          ]
        },
        {
          "output_type": "stream",
          "name": "stderr",
          "text": [
            "WARNING ⚠️ 'Boxes.boxes' is deprecated. Use 'Boxes.data' instead.\n",
            "<ipython-input-60-051a0d118cd5>:8: FutureWarning: The frame.append method is deprecated and will be removed from pandas in a future version. Use pandas.concat instead.\n",
            "  SUBM.append({'name': filepath, 'class': clas}, ignore_index=True)\n",
            "\n",
            "0: 448x640 1 klikun, 27.9ms\n",
            "Speed: 3.6ms preprocess, 27.9ms inference, 2.1ms postprocess per image at shape (1, 3, 640, 640)\n"
          ]
        },
        {
          "output_type": "stream",
          "name": "stdout",
          "text": [
            "Yolo class 2, yolo conf 0.9138511419296265, Hugs class 2\n",
            "/content/TESTdataset/124.jpg\n"
          ]
        },
        {
          "output_type": "stream",
          "name": "stderr",
          "text": [
            "WARNING ⚠️ 'Boxes.boxes' is deprecated. Use 'Boxes.data' instead.\n",
            "<ipython-input-60-051a0d118cd5>:8: FutureWarning: The frame.append method is deprecated and will be removed from pandas in a future version. Use pandas.concat instead.\n",
            "  SUBM.append({'name': filepath, 'class': clas}, ignore_index=True)\n",
            "\n",
            "0: 480x640 1 mal, 29.4ms\n",
            "Speed: 3.0ms preprocess, 29.4ms inference, 2.0ms postprocess per image at shape (1, 3, 640, 640)\n"
          ]
        },
        {
          "output_type": "stream",
          "name": "stdout",
          "text": [
            "Yolo class 0, yolo conf 0.5622372627258301, Hugs class 1\n",
            "/content/TESTdataset/525.jpg\n"
          ]
        },
        {
          "output_type": "stream",
          "name": "stderr",
          "text": [
            "WARNING ⚠️ 'Boxes.boxes' is deprecated. Use 'Boxes.data' instead.\n",
            "<ipython-input-60-051a0d118cd5>:8: FutureWarning: The frame.append method is deprecated and will be removed from pandas in a future version. Use pandas.concat instead.\n",
            "  SUBM.append({'name': filepath, 'class': clas}, ignore_index=True)\n",
            "\n",
            "0: 480x640 1 ship, 28.2ms\n",
            "Speed: 3.6ms preprocess, 28.2ms inference, 1.5ms postprocess per image at shape (1, 3, 640, 640)\n"
          ]
        },
        {
          "output_type": "stream",
          "name": "stdout",
          "text": [
            "Yolo class 1, yolo conf 0.8904143571853638, Hugs class 1\n",
            "/content/TESTdataset/72.jpg\n"
          ]
        },
        {
          "output_type": "stream",
          "name": "stderr",
          "text": [
            "WARNING ⚠️ 'Boxes.boxes' is deprecated. Use 'Boxes.data' instead.\n",
            "<ipython-input-60-051a0d118cd5>:8: FutureWarning: The frame.append method is deprecated and will be removed from pandas in a future version. Use pandas.concat instead.\n",
            "  SUBM.append({'name': filepath, 'class': clas}, ignore_index=True)\n",
            "\n",
            "0: 416x640 1 mal, 28.8ms\n",
            "Speed: 3.1ms preprocess, 28.8ms inference, 1.5ms postprocess per image at shape (1, 3, 640, 640)\n",
            "WARNING ⚠️ 'Boxes.boxes' is deprecated. Use 'Boxes.data' instead.\n",
            "<ipython-input-60-051a0d118cd5>:8: FutureWarning: The frame.append method is deprecated and will be removed from pandas in a future version. Use pandas.concat instead.\n",
            "  SUBM.append({'name': filepath, 'class': clas}, ignore_index=True)\n",
            "\n",
            "0: 640x480 1 klikun, 28.9ms\n",
            "Speed: 3.2ms preprocess, 28.9ms inference, 1.4ms postprocess per image at shape (1, 3, 640, 640)\n"
          ]
        },
        {
          "output_type": "stream",
          "name": "stdout",
          "text": [
            "Yolo class 2, yolo conf 0.8761019706726074, Hugs class 2\n",
            "/content/TESTdataset/431.jpg\n",
            "HUGS FAILED ON /content/TESTdataset/431.jpg\n",
            "Yolo class 1, yolo conf 0.5622270703315735, Hugs class -1\n",
            "/content/TESTdataset/93.jpg\n"
          ]
        },
        {
          "output_type": "stream",
          "name": "stderr",
          "text": [
            "WARNING ⚠️ 'Boxes.boxes' is deprecated. Use 'Boxes.data' instead.\n",
            "<ipython-input-60-051a0d118cd5>:8: FutureWarning: The frame.append method is deprecated and will be removed from pandas in a future version. Use pandas.concat instead.\n",
            "  SUBM.append({'name': filepath, 'class': clas}, ignore_index=True)\n",
            "\n",
            "0: 640x608 1 klikun, 37.5ms\n",
            "Speed: 4.7ms preprocess, 37.5ms inference, 1.6ms postprocess per image at shape (1, 3, 640, 640)\n"
          ]
        },
        {
          "output_type": "stream",
          "name": "stdout",
          "text": [
            "Yolo class 0, yolo conf 0.832496702671051, Hugs class 1\n",
            "/content/TESTdataset/305.jpg\n"
          ]
        },
        {
          "output_type": "stream",
          "name": "stderr",
          "text": [
            "WARNING ⚠️ 'Boxes.boxes' is deprecated. Use 'Boxes.data' instead.\n",
            "<ipython-input-60-051a0d118cd5>:8: FutureWarning: The frame.append method is deprecated and will be removed from pandas in a future version. Use pandas.concat instead.\n",
            "  SUBM.append({'name': filepath, 'class': clas}, ignore_index=True)\n",
            "\n",
            "0: 448x640 1 ship, 28.6ms\n",
            "Speed: 4.6ms preprocess, 28.6ms inference, 1.5ms postprocess per image at shape (1, 3, 640, 640)\n"
          ]
        },
        {
          "output_type": "stream",
          "name": "stdout",
          "text": [
            "Yolo class 0, yolo conf 0.8762295246124268, Hugs class 1\n",
            "/content/TESTdataset/268.jpg\n"
          ]
        },
        {
          "output_type": "stream",
          "name": "stderr",
          "text": [
            "WARNING ⚠️ 'Boxes.boxes' is deprecated. Use 'Boxes.data' instead.\n",
            "<ipython-input-60-051a0d118cd5>:8: FutureWarning: The frame.append method is deprecated and will be removed from pandas in a future version. Use pandas.concat instead.\n",
            "  SUBM.append({'name': filepath, 'class': clas}, ignore_index=True)\n",
            "\n",
            "0: 480x640 6 ships, 30.2ms\n",
            "Speed: 4.0ms preprocess, 30.2ms inference, 1.5ms postprocess per image at shape (1, 3, 640, 640)\n"
          ]
        },
        {
          "output_type": "stream",
          "name": "stdout",
          "text": [
            "Yolo class 2, yolo conf 0.9215772151947021, Hugs class 2\n",
            "/content/TESTdataset/251.jpg\n"
          ]
        },
        {
          "output_type": "stream",
          "name": "stderr",
          "text": [
            "WARNING ⚠️ 'Boxes.boxes' is deprecated. Use 'Boxes.data' instead.\n",
            "<ipython-input-60-051a0d118cd5>:8: FutureWarning: The frame.append method is deprecated and will be removed from pandas in a future version. Use pandas.concat instead.\n",
            "  SUBM.append({'name': filepath, 'class': clas}, ignore_index=True)\n",
            "\n",
            "0: 448x640 1 klikun, 28.8ms\n",
            "Speed: 2.9ms preprocess, 28.8ms inference, 1.5ms postprocess per image at shape (1, 3, 640, 640)\n"
          ]
        },
        {
          "output_type": "stream",
          "name": "stdout",
          "text": [
            "Yolo class 2, yolo conf 0.6725257535775503, Hugs class 2\n",
            "/content/TESTdataset/212.jpg\n"
          ]
        },
        {
          "output_type": "stream",
          "name": "stderr",
          "text": [
            "WARNING ⚠️ 'Boxes.boxes' is deprecated. Use 'Boxes.data' instead.\n",
            "<ipython-input-60-051a0d118cd5>:8: FutureWarning: The frame.append method is deprecated and will be removed from pandas in a future version. Use pandas.concat instead.\n",
            "  SUBM.append({'name': filepath, 'class': clas}, ignore_index=True)\n",
            "\n",
            "0: 480x640 2 klikuns, 29.1ms\n",
            "Speed: 3.3ms preprocess, 29.1ms inference, 1.5ms postprocess per image at shape (1, 3, 640, 640)\n"
          ]
        },
        {
          "output_type": "stream",
          "name": "stdout",
          "text": [
            "Yolo class 0, yolo conf 0.7442651391029358, Hugs class 0\n",
            "/content/TESTdataset/68.jpg\n"
          ]
        },
        {
          "output_type": "stream",
          "name": "stderr",
          "text": [
            "WARNING ⚠️ 'Boxes.boxes' is deprecated. Use 'Boxes.data' instead.\n",
            "<ipython-input-60-051a0d118cd5>:8: FutureWarning: The frame.append method is deprecated and will be removed from pandas in a future version. Use pandas.concat instead.\n",
            "  SUBM.append({'name': filepath, 'class': clas}, ignore_index=True)\n",
            "\n",
            "0: 640x576 1 klikun, 36.9ms\n",
            "Speed: 4.5ms preprocess, 36.9ms inference, 1.4ms postprocess per image at shape (1, 3, 640, 640)\n",
            "WARNING ⚠️ 'Boxes.boxes' is deprecated. Use 'Boxes.data' instead.\n",
            "<ipython-input-60-051a0d118cd5>:8: FutureWarning: The frame.append method is deprecated and will be removed from pandas in a future version. Use pandas.concat instead.\n",
            "  SUBM.append({'name': filepath, 'class': clas}, ignore_index=True)\n",
            "\n"
          ]
        },
        {
          "output_type": "stream",
          "name": "stdout",
          "text": [
            "Yolo class 0, yolo conf 0.7408266961574554, Hugs class 0\n",
            "/content/TESTdataset/298.jpg\n",
            "HUGS FAILED ON /content/TESTdataset/298.jpg\n",
            "Yolo class 0, yolo conf 0.6626374125480652, Hugs class -1\n",
            "/content/TESTdataset/385.jpg\n"
          ]
        },
        {
          "output_type": "stream",
          "name": "stderr",
          "text": [
            "0: 640x480 1 ship, 30.2ms\n",
            "Speed: 3.4ms preprocess, 30.2ms inference, 2.1ms postprocess per image at shape (1, 3, 640, 640)\n",
            "WARNING ⚠️ 'Boxes.boxes' is deprecated. Use 'Boxes.data' instead.\n",
            "<ipython-input-60-051a0d118cd5>:8: FutureWarning: The frame.append method is deprecated and will be removed from pandas in a future version. Use pandas.concat instead.\n",
            "  SUBM.append({'name': filepath, 'class': clas}, ignore_index=True)\n",
            "\n",
            "0: 480x640 1 mal, 29.4ms\n",
            "Speed: 3.5ms preprocess, 29.4ms inference, 2.0ms postprocess per image at shape (1, 3, 640, 640)\n",
            "WARNING ⚠️ 'Boxes.boxes' is deprecated. Use 'Boxes.data' instead.\n",
            "<ipython-input-60-051a0d118cd5>:8: FutureWarning: The frame.append method is deprecated and will be removed from pandas in a future version. Use pandas.concat instead.\n",
            "  SUBM.append({'name': filepath, 'class': clas}, ignore_index=True)\n",
            "\n",
            "0: 512x640 1 klikun, 29.4ms\n",
            "Speed: 3.0ms preprocess, 29.4ms inference, 1.6ms postprocess per image at shape (1, 3, 640, 640)\n"
          ]
        },
        {
          "output_type": "stream",
          "name": "stdout",
          "text": [
            "Yolo class 2, yolo conf 0.8967925310134888, Hugs class 2\n",
            "/content/TESTdataset/567.jpg\n",
            "HUGS FAILED ON /content/TESTdataset/567.jpg\n",
            "Yolo class 1, yolo conf 0.8311286568641663, Hugs class -1\n",
            "/content/TESTdataset/210.jpg\n",
            "HUGS FAILED ON /content/TESTdataset/210.jpg\n",
            "Yolo class 0, yolo conf 0.6386745572090149, Hugs class -1\n"
          ]
        },
        {
          "output_type": "stream",
          "name": "stderr",
          "text": [
            "WARNING ⚠️ 'Boxes.boxes' is deprecated. Use 'Boxes.data' instead.\n",
            "<ipython-input-60-051a0d118cd5>:8: FutureWarning: The frame.append method is deprecated and will be removed from pandas in a future version. Use pandas.concat instead.\n",
            "  SUBM.append({'name': filepath, 'class': clas}, ignore_index=True)\n",
            "\n",
            "0: 384x640 2 ships, 28.9ms\n",
            "Speed: 2.4ms preprocess, 28.9ms inference, 2.6ms postprocess per image at shape (1, 3, 640, 640)\n"
          ]
        },
        {
          "output_type": "stream",
          "name": "stdout",
          "text": [
            "/content/TESTdataset/590.jpg\n"
          ]
        },
        {
          "output_type": "stream",
          "name": "stderr",
          "text": [
            "WARNING ⚠️ 'Boxes.boxes' is deprecated. Use 'Boxes.data' instead.\n",
            "<ipython-input-60-051a0d118cd5>:8: FutureWarning: The frame.append method is deprecated and will be removed from pandas in a future version. Use pandas.concat instead.\n",
            "  SUBM.append({'name': filepath, 'class': clas}, ignore_index=True)\n",
            "\n",
            "0: 640x640 1 ship, 38.1ms\n",
            "Speed: 6.1ms preprocess, 38.1ms inference, 1.9ms postprocess per image at shape (1, 3, 640, 640)\n"
          ]
        },
        {
          "output_type": "stream",
          "name": "stdout",
          "text": [
            "Yolo class 2, yolo conf 0.6022182703018188, Hugs class 0\n",
            "/content/TESTdataset/542.jpg\n"
          ]
        },
        {
          "output_type": "stream",
          "name": "stderr",
          "text": [
            "WARNING ⚠️ 'Boxes.boxes' is deprecated. Use 'Boxes.data' instead.\n",
            "<ipython-input-60-051a0d118cd5>:8: FutureWarning: The frame.append method is deprecated and will be removed from pandas in a future version. Use pandas.concat instead.\n",
            "  SUBM.append({'name': filepath, 'class': clas}, ignore_index=True)\n",
            "\n",
            "0: 640x640 1 ship, 37.0ms\n",
            "Speed: 3.9ms preprocess, 37.0ms inference, 2.4ms postprocess per image at shape (1, 3, 640, 640)\n"
          ]
        },
        {
          "output_type": "stream",
          "name": "stdout",
          "text": [
            "Yolo class 2, yolo conf 0.7838528752326965, Hugs class 2\n",
            "/content/TESTdataset/559.jpg\n"
          ]
        },
        {
          "output_type": "stream",
          "name": "stderr",
          "text": [
            "WARNING ⚠️ 'Boxes.boxes' is deprecated. Use 'Boxes.data' instead.\n",
            "<ipython-input-60-051a0d118cd5>:8: FutureWarning: The frame.append method is deprecated and will be removed from pandas in a future version. Use pandas.concat instead.\n",
            "  SUBM.append({'name': filepath, 'class': clas}, ignore_index=True)\n",
            "\n",
            "0: 480x640 4 mals, 29.5ms\n",
            "Speed: 3.1ms preprocess, 29.5ms inference, 1.8ms postprocess per image at shape (1, 3, 640, 640)\n"
          ]
        },
        {
          "output_type": "stream",
          "name": "stdout",
          "text": [
            "Yolo class 2, yolo conf 0.6029285788536072, Hugs class 1\n",
            "/content/TESTdataset/537.jpg\n"
          ]
        },
        {
          "output_type": "stream",
          "name": "stderr",
          "text": [
            "WARNING ⚠️ 'Boxes.boxes' is deprecated. Use 'Boxes.data' instead.\n",
            "<ipython-input-60-051a0d118cd5>:8: FutureWarning: The frame.append method is deprecated and will be removed from pandas in a future version. Use pandas.concat instead.\n",
            "  SUBM.append({'name': filepath, 'class': clas}, ignore_index=True)\n",
            "\n",
            "0: 640x448 1 mal, 29.1ms\n",
            "Speed: 4.0ms preprocess, 29.1ms inference, 2.2ms postprocess per image at shape (1, 3, 640, 640)\n"
          ]
        },
        {
          "output_type": "stream",
          "name": "stdout",
          "text": [
            "Yolo class 1, yolo conf 0.6987065374851227, Hugs class 0\n",
            "/content/TESTdataset/240.jpg\n"
          ]
        },
        {
          "output_type": "stream",
          "name": "stderr",
          "text": [
            "WARNING ⚠️ 'Boxes.boxes' is deprecated. Use 'Boxes.data' instead.\n",
            "<ipython-input-60-051a0d118cd5>:8: FutureWarning: The frame.append method is deprecated and will be removed from pandas in a future version. Use pandas.concat instead.\n",
            "  SUBM.append({'name': filepath, 'class': clas}, ignore_index=True)\n",
            "\n",
            "0: 448x640 2 klikuns, 29.1ms\n",
            "Speed: 3.2ms preprocess, 29.1ms inference, 2.2ms postprocess per image at shape (1, 3, 640, 640)\n"
          ]
        },
        {
          "output_type": "stream",
          "name": "stdout",
          "text": [
            "Yolo class 1, yolo conf 0.8594971299171448, Hugs class 0\n",
            "/content/TESTdataset/14.jpg\n"
          ]
        },
        {
          "output_type": "stream",
          "name": "stderr",
          "text": [
            "WARNING ⚠️ 'Boxes.boxes' is deprecated. Use 'Boxes.data' instead.\n",
            "<ipython-input-60-051a0d118cd5>:8: FutureWarning: The frame.append method is deprecated and will be removed from pandas in a future version. Use pandas.concat instead.\n",
            "  SUBM.append({'name': filepath, 'class': clas}, ignore_index=True)\n",
            "\n",
            "0: 640x480 1 mal, 29.9ms\n",
            "Speed: 3.0ms preprocess, 29.9ms inference, 2.3ms postprocess per image at shape (1, 3, 640, 640)\n"
          ]
        },
        {
          "output_type": "stream",
          "name": "stdout",
          "text": [
            "Yolo class 0, yolo conf 0.8862427473068237, Hugs class 1\n",
            "/content/TESTdataset/132.jpg\n"
          ]
        },
        {
          "output_type": "stream",
          "name": "stderr",
          "text": [
            "WARNING ⚠️ 'Boxes.boxes' is deprecated. Use 'Boxes.data' instead.\n",
            "<ipython-input-60-051a0d118cd5>:8: FutureWarning: The frame.append method is deprecated and will be removed from pandas in a future version. Use pandas.concat instead.\n",
            "  SUBM.append({'name': filepath, 'class': clas}, ignore_index=True)\n",
            "\n",
            "0: 448x640 2 mals, 29.0ms\n",
            "Speed: 2.9ms preprocess, 29.0ms inference, 1.9ms postprocess per image at shape (1, 3, 640, 640)\n",
            "WARNING ⚠️ 'Boxes.boxes' is deprecated. Use 'Boxes.data' instead.\n",
            "<ipython-input-60-051a0d118cd5>:8: FutureWarning: The frame.append method is deprecated and will be removed from pandas in a future version. Use pandas.concat instead.\n",
            "  SUBM.append({'name': filepath, 'class': clas}, ignore_index=True)\n",
            "\n",
            "0: 480x640 1 ship, 29.0ms\n",
            "Speed: 3.7ms preprocess, 29.0ms inference, 1.4ms postprocess per image at shape (1, 3, 640, 640)\n"
          ]
        },
        {
          "output_type": "stream",
          "name": "stdout",
          "text": [
            "Yolo class 1, yolo conf 0.9188394546508789, Hugs class 0\n",
            "/content/TESTdataset/70.jpg\n",
            "HUGS FAILED ON /content/TESTdataset/70.jpg\n",
            "Yolo class 1, yolo conf 0.8364739716053009, Hugs class -1\n",
            "/content/TESTdataset/332.jpg\n"
          ]
        },
        {
          "output_type": "stream",
          "name": "stderr",
          "text": [
            "WARNING ⚠️ 'Boxes.boxes' is deprecated. Use 'Boxes.data' instead.\n",
            "<ipython-input-60-051a0d118cd5>:8: FutureWarning: The frame.append method is deprecated and will be removed from pandas in a future version. Use pandas.concat instead.\n",
            "  SUBM.append({'name': filepath, 'class': clas}, ignore_index=True)\n",
            "\n",
            "0: 480x640 2 ships, 28.2ms\n",
            "Speed: 3.6ms preprocess, 28.2ms inference, 1.7ms postprocess per image at shape (1, 3, 640, 640)\n"
          ]
        },
        {
          "output_type": "stream",
          "name": "stdout",
          "text": [
            "Yolo class 2, yolo conf 0.9422483444213867, Hugs class 2\n",
            "/content/TESTdataset/131.jpg\n"
          ]
        },
        {
          "output_type": "stream",
          "name": "stderr",
          "text": [
            "WARNING ⚠️ 'Boxes.boxes' is deprecated. Use 'Boxes.data' instead.\n",
            "<ipython-input-60-051a0d118cd5>:8: FutureWarning: The frame.append method is deprecated and will be removed from pandas in a future version. Use pandas.concat instead.\n",
            "  SUBM.append({'name': filepath, 'class': clas}, ignore_index=True)\n",
            "\n",
            "0: 480x640 2 mals, 28.2ms\n",
            "Speed: 2.7ms preprocess, 28.2ms inference, 4.5ms postprocess per image at shape (1, 3, 640, 640)\n"
          ]
        },
        {
          "output_type": "stream",
          "name": "stdout",
          "text": [
            "Yolo class 2, yolo conf 0.7747255861759186, Hugs class 2\n",
            "/content/TESTdataset/109.jpg\n"
          ]
        },
        {
          "output_type": "stream",
          "name": "stderr",
          "text": [
            "WARNING ⚠️ 'Boxes.boxes' is deprecated. Use 'Boxes.data' instead.\n",
            "<ipython-input-60-051a0d118cd5>:8: FutureWarning: The frame.append method is deprecated and will be removed from pandas in a future version. Use pandas.concat instead.\n",
            "  SUBM.append({'name': filepath, 'class': clas}, ignore_index=True)\n",
            "\n",
            "0: 480x640 1 ship, 28.2ms\n",
            "Speed: 3.6ms preprocess, 28.2ms inference, 1.9ms postprocess per image at shape (1, 3, 640, 640)\n"
          ]
        },
        {
          "output_type": "stream",
          "name": "stdout",
          "text": [
            "Yolo class 1, yolo conf 0.8945730030536652, Hugs class 0\n",
            "/content/TESTdataset/208.jpg\n"
          ]
        },
        {
          "output_type": "stream",
          "name": "stderr",
          "text": [
            "WARNING ⚠️ 'Boxes.boxes' is deprecated. Use 'Boxes.data' instead.\n",
            "<ipython-input-60-051a0d118cd5>:8: FutureWarning: The frame.append method is deprecated and will be removed from pandas in a future version. Use pandas.concat instead.\n",
            "  SUBM.append({'name': filepath, 'class': clas}, ignore_index=True)\n",
            "\n",
            "0: 448x640 1 ship, 28.7ms\n",
            "Speed: 4.0ms preprocess, 28.7ms inference, 1.5ms postprocess per image at shape (1, 3, 640, 640)\n"
          ]
        },
        {
          "output_type": "stream",
          "name": "stdout",
          "text": [
            "Yolo class 2, yolo conf 0.8776547908782959, Hugs class 2\n",
            "/content/TESTdataset/258.jpg\n"
          ]
        },
        {
          "output_type": "stream",
          "name": "stderr",
          "text": [
            "WARNING ⚠️ 'Boxes.boxes' is deprecated. Use 'Boxes.data' instead.\n",
            "<ipython-input-60-051a0d118cd5>:8: FutureWarning: The frame.append method is deprecated and will be removed from pandas in a future version. Use pandas.concat instead.\n",
            "  SUBM.append({'name': filepath, 'class': clas}, ignore_index=True)\n",
            "\n",
            "0: 640x448 1 mal, 30.5ms\n",
            "Speed: 3.0ms preprocess, 30.5ms inference, 1.9ms postprocess per image at shape (1, 3, 640, 640)\n",
            "WARNING ⚠️ 'Boxes.boxes' is deprecated. Use 'Boxes.data' instead.\n",
            "<ipython-input-60-051a0d118cd5>:8: FutureWarning: The frame.append method is deprecated and will be removed from pandas in a future version. Use pandas.concat instead.\n",
            "  SUBM.append({'name': filepath, 'class': clas}, ignore_index=True)\n",
            "\n",
            "0: 448x640 1 ship, 28.5ms\n",
            "Speed: 2.8ms preprocess, 28.5ms inference, 1.4ms postprocess per image at shape (1, 3, 640, 640)\n"
          ]
        },
        {
          "output_type": "stream",
          "name": "stdout",
          "text": [
            "Yolo class 2, yolo conf 0.807048499584198, Hugs class 2\n",
            "/content/TESTdataset/256.jpg\n",
            "HUGS FAILED ON /content/TESTdataset/256.jpg\n",
            "Yolo class 1, yolo conf 0.7416162490844727, Hugs class -1\n",
            "/content/TESTdataset/383.jpg\n"
          ]
        },
        {
          "output_type": "stream",
          "name": "stderr",
          "text": [
            "WARNING ⚠️ 'Boxes.boxes' is deprecated. Use 'Boxes.data' instead.\n",
            "<ipython-input-60-051a0d118cd5>:8: FutureWarning: The frame.append method is deprecated and will be removed from pandas in a future version. Use pandas.concat instead.\n",
            "  SUBM.append({'name': filepath, 'class': clas}, ignore_index=True)\n",
            "\n",
            "0: 448x640 1 klikun, 27.9ms\n",
            "Speed: 3.6ms preprocess, 27.9ms inference, 2.0ms postprocess per image at shape (1, 3, 640, 640)\n"
          ]
        },
        {
          "output_type": "stream",
          "name": "stdout",
          "text": [
            "Yolo class 2, yolo conf 0.904546320438385, Hugs class 2\n",
            "/content/TESTdataset/156.jpg\n"
          ]
        },
        {
          "output_type": "stream",
          "name": "stderr",
          "text": [
            "WARNING ⚠️ 'Boxes.boxes' is deprecated. Use 'Boxes.data' instead.\n",
            "<ipython-input-60-051a0d118cd5>:8: FutureWarning: The frame.append method is deprecated and will be removed from pandas in a future version. Use pandas.concat instead.\n",
            "  SUBM.append({'name': filepath, 'class': clas}, ignore_index=True)\n",
            "\n",
            "0: 256x640 2 mals, 80.1ms\n",
            "Speed: 2.6ms preprocess, 80.1ms inference, 1.4ms postprocess per image at shape (1, 3, 640, 640)\n"
          ]
        },
        {
          "output_type": "stream",
          "name": "stdout",
          "text": [
            "Yolo class 0, yolo conf 0.6484650373458862, Hugs class 1\n",
            "/content/TESTdataset/494.jpg\n"
          ]
        },
        {
          "output_type": "stream",
          "name": "stderr",
          "text": [
            "WARNING ⚠️ 'Boxes.boxes' is deprecated. Use 'Boxes.data' instead.\n",
            "<ipython-input-60-051a0d118cd5>:8: FutureWarning: The frame.append method is deprecated and will be removed from pandas in a future version. Use pandas.concat instead.\n",
            "  SUBM.append({'name': filepath, 'class': clas}, ignore_index=True)\n",
            "\n",
            "0: 288x640 1 klikun, 22.8ms\n",
            "Speed: 2.0ms preprocess, 22.8ms inference, 2.2ms postprocess per image at shape (1, 3, 640, 640)\n",
            "WARNING ⚠️ 'Boxes.boxes' is deprecated. Use 'Boxes.data' instead.\n",
            "<ipython-input-60-051a0d118cd5>:8: FutureWarning: The frame.append method is deprecated and will be removed from pandas in a future version. Use pandas.concat instead.\n",
            "  SUBM.append({'name': filepath, 'class': clas}, ignore_index=True)\n",
            "\n",
            "0: 480x640 1 ship, 28.9ms\n",
            "Speed: 3.3ms preprocess, 28.9ms inference, 1.4ms postprocess per image at shape (1, 3, 640, 640)\n"
          ]
        },
        {
          "output_type": "stream",
          "name": "stdout",
          "text": [
            "Yolo class 1, yolo conf 0.6732167899608612, Hugs class 0\n",
            "/content/TESTdataset/25.jpg\n",
            "HUGS FAILED ON /content/TESTdataset/25.jpg\n",
            "Yolo class 0, yolo conf 0.5812145471572876, Hugs class -1\n",
            "/content/TESTdataset/252.jpg\n"
          ]
        },
        {
          "output_type": "stream",
          "name": "stderr",
          "text": [
            "WARNING ⚠️ 'Boxes.boxes' is deprecated. Use 'Boxes.data' instead.\n",
            "<ipython-input-60-051a0d118cd5>:8: FutureWarning: The frame.append method is deprecated and will be removed from pandas in a future version. Use pandas.concat instead.\n",
            "  SUBM.append({'name': filepath, 'class': clas}, ignore_index=True)\n",
            "\n",
            "0: 480x640 1 ship, 28.3ms\n",
            "Speed: 5.2ms preprocess, 28.3ms inference, 2.8ms postprocess per image at shape (1, 3, 640, 640)\n"
          ]
        },
        {
          "output_type": "stream",
          "name": "stdout",
          "text": [
            "Yolo class 2, yolo conf 0.9190047979354858, Hugs class 2\n",
            "/content/TESTdataset/0.jpg\n"
          ]
        },
        {
          "output_type": "stream",
          "name": "stderr",
          "text": [
            "WARNING ⚠️ 'Boxes.boxes' is deprecated. Use 'Boxes.data' instead.\n",
            "<ipython-input-60-051a0d118cd5>:8: FutureWarning: The frame.append method is deprecated and will be removed from pandas in a future version. Use pandas.concat instead.\n",
            "  SUBM.append({'name': filepath, 'class': clas}, ignore_index=True)\n",
            "\n",
            "0: 448x640 1 mal, 29.0ms\n",
            "Speed: 2.8ms preprocess, 29.0ms inference, 2.1ms postprocess per image at shape (1, 3, 640, 640)\n"
          ]
        },
        {
          "output_type": "stream",
          "name": "stdout",
          "text": [
            "Yolo class 2, yolo conf 0.8984687328338623, Hugs class 2\n",
            "/content/TESTdataset/375.jpg\n"
          ]
        },
        {
          "output_type": "stream",
          "name": "stderr",
          "text": [
            "WARNING ⚠️ 'Boxes.boxes' is deprecated. Use 'Boxes.data' instead.\n",
            "<ipython-input-60-051a0d118cd5>:8: FutureWarning: The frame.append method is deprecated and will be removed from pandas in a future version. Use pandas.concat instead.\n",
            "  SUBM.append({'name': filepath, 'class': clas}, ignore_index=True)\n",
            "\n",
            "0: 448x640 1 klikun, 27.9ms\n",
            "Speed: 3.0ms preprocess, 27.9ms inference, 1.6ms postprocess per image at shape (1, 3, 640, 640)\n"
          ]
        },
        {
          "output_type": "stream",
          "name": "stdout",
          "text": [
            "Yolo class 1, yolo conf 0.7251125574111938, Hugs class 0\n",
            "/content/TESTdataset/228.jpg\n"
          ]
        },
        {
          "output_type": "stream",
          "name": "stderr",
          "text": [
            "WARNING ⚠️ 'Boxes.boxes' is deprecated. Use 'Boxes.data' instead.\n",
            "<ipython-input-60-051a0d118cd5>:8: FutureWarning: The frame.append method is deprecated and will be removed from pandas in a future version. Use pandas.concat instead.\n",
            "  SUBM.append({'name': filepath, 'class': clas}, ignore_index=True)\n",
            "\n",
            "0: 480x640 1 mal, 29.0ms\n",
            "Speed: 3.1ms preprocess, 29.0ms inference, 1.4ms postprocess per image at shape (1, 3, 640, 640)\n"
          ]
        },
        {
          "output_type": "stream",
          "name": "stdout",
          "text": [
            "Yolo class 0, yolo conf 0.9517003893852234, Hugs class 1\n",
            "/content/TESTdataset/448.jpg\n"
          ]
        },
        {
          "output_type": "stream",
          "name": "stderr",
          "text": [
            "WARNING ⚠️ 'Boxes.boxes' is deprecated. Use 'Boxes.data' instead.\n",
            "<ipython-input-60-051a0d118cd5>:8: FutureWarning: The frame.append method is deprecated and will be removed from pandas in a future version. Use pandas.concat instead.\n",
            "  SUBM.append({'name': filepath, 'class': clas}, ignore_index=True)\n",
            "\n",
            "0: 416x640 4 klikuns, 1 mal, 28.4ms\n",
            "Speed: 3.4ms preprocess, 28.4ms inference, 1.4ms postprocess per image at shape (1, 3, 640, 640)\n"
          ]
        },
        {
          "output_type": "stream",
          "name": "stdout",
          "text": [
            "Yolo class 1, yolo conf 0.7195489406585693, Hugs class 0\n",
            "/content/TESTdataset/491.jpg\n"
          ]
        },
        {
          "output_type": "stream",
          "name": "stderr",
          "text": [
            "WARNING ⚠️ 'Boxes.boxes' is deprecated. Use 'Boxes.data' instead.\n",
            "<ipython-input-60-051a0d118cd5>:8: FutureWarning: The frame.append method is deprecated and will be removed from pandas in a future version. Use pandas.concat instead.\n",
            "  SUBM.append({'name': filepath, 'class': clas}, ignore_index=True)\n",
            "\n",
            "0: 480x640 1 klikun, 29.2ms\n",
            "Speed: 7.7ms preprocess, 29.2ms inference, 1.8ms postprocess per image at shape (1, 3, 640, 640)\n"
          ]
        },
        {
          "output_type": "stream",
          "name": "stdout",
          "text": [
            "Yolo class 0, yolo conf 0.33872349858283995, Hugs class 0\n",
            "/content/TESTdataset/121.jpg\n"
          ]
        },
        {
          "output_type": "stream",
          "name": "stderr",
          "text": [
            "WARNING ⚠️ 'Boxes.boxes' is deprecated. Use 'Boxes.data' instead.\n",
            "<ipython-input-60-051a0d118cd5>:8: FutureWarning: The frame.append method is deprecated and will be removed from pandas in a future version. Use pandas.concat instead.\n",
            "  SUBM.append({'name': filepath, 'class': clas}, ignore_index=True)\n",
            "\n",
            "0: 512x640 1 ship, 29.5ms\n",
            "Speed: 4.6ms preprocess, 29.5ms inference, 1.7ms postprocess per image at shape (1, 3, 640, 640)\n"
          ]
        },
        {
          "output_type": "stream",
          "name": "stdout",
          "text": [
            "Yolo class 0, yolo conf 0.8320841193199158, Hugs class 1\n",
            "/content/TESTdataset/524.jpg\n"
          ]
        },
        {
          "output_type": "stream",
          "name": "stderr",
          "text": [
            "WARNING ⚠️ 'Boxes.boxes' is deprecated. Use 'Boxes.data' instead.\n",
            "<ipython-input-60-051a0d118cd5>:8: FutureWarning: The frame.append method is deprecated and will be removed from pandas in a future version. Use pandas.concat instead.\n",
            "  SUBM.append({'name': filepath, 'class': clas}, ignore_index=True)\n",
            "\n",
            "0: 512x640 1 klikun, 2 mals, 28.7ms\n",
            "Speed: 3.4ms preprocess, 28.7ms inference, 2.1ms postprocess per image at shape (1, 3, 640, 640)\n",
            "WARNING ⚠️ 'Boxes.boxes' is deprecated. Use 'Boxes.data' instead.\n",
            "<ipython-input-60-051a0d118cd5>:8: FutureWarning: The frame.append method is deprecated and will be removed from pandas in a future version. Use pandas.concat instead.\n",
            "  SUBM.append({'name': filepath, 'class': clas}, ignore_index=True)\n",
            "\n"
          ]
        },
        {
          "output_type": "stream",
          "name": "stdout",
          "text": [
            "Yolo class 2, yolo conf 0.9194589257240295, Hugs class 2\n",
            "/content/TESTdataset/284.jpg\n",
            "HUGS FAILED ON /content/TESTdataset/284.jpg\n",
            "Yolo class 1, yolo conf 0.3599577148755391, Hugs class -1\n",
            "/content/TESTdataset/489.jpg\n"
          ]
        },
        {
          "output_type": "stream",
          "name": "stderr",
          "text": [
            "0: 416x640 5 mals, 29.9ms\n",
            "Speed: 2.6ms preprocess, 29.9ms inference, 2.1ms postprocess per image at shape (1, 3, 640, 640)\n",
            "WARNING ⚠️ 'Boxes.boxes' is deprecated. Use 'Boxes.data' instead.\n",
            "<ipython-input-60-051a0d118cd5>:8: FutureWarning: The frame.append method is deprecated and will be removed from pandas in a future version. Use pandas.concat instead.\n",
            "  SUBM.append({'name': filepath, 'class': clas}, ignore_index=True)\n",
            "\n",
            "0: 640x640 1 ship, 38.4ms\n",
            "Speed: 7.4ms preprocess, 38.4ms inference, 2.0ms postprocess per image at shape (1, 3, 640, 640)\n"
          ]
        },
        {
          "output_type": "stream",
          "name": "stdout",
          "text": [
            "Yolo class 1, yolo conf 0.41448646783828735, Hugs class 0\n",
            "/content/TESTdataset/41.jpg\n"
          ]
        },
        {
          "output_type": "stream",
          "name": "stderr",
          "text": [
            "WARNING ⚠️ 'Boxes.boxes' is deprecated. Use 'Boxes.data' instead.\n",
            "<ipython-input-60-051a0d118cd5>:8: FutureWarning: The frame.append method is deprecated and will be removed from pandas in a future version. Use pandas.concat instead.\n",
            "  SUBM.append({'name': filepath, 'class': clas}, ignore_index=True)\n",
            "\n",
            "0: 448x640 1 ship, 29.5ms\n",
            "Speed: 2.4ms preprocess, 29.5ms inference, 2.2ms postprocess per image at shape (1, 3, 640, 640)\n"
          ]
        },
        {
          "output_type": "stream",
          "name": "stdout",
          "text": [
            "Yolo class 2, yolo conf 0.8915612697601318, Hugs class 2\n",
            "/content/TESTdataset/530.jpg\n"
          ]
        },
        {
          "output_type": "stream",
          "name": "stderr",
          "text": [
            "WARNING ⚠️ 'Boxes.boxes' is deprecated. Use 'Boxes.data' instead.\n",
            "<ipython-input-60-051a0d118cd5>:8: FutureWarning: The frame.append method is deprecated and will be removed from pandas in a future version. Use pandas.concat instead.\n",
            "  SUBM.append({'name': filepath, 'class': clas}, ignore_index=True)\n",
            "\n",
            "0: 480x640 1 klikun, 1 ship, 30.2ms\n",
            "Speed: 7.6ms preprocess, 30.2ms inference, 6.0ms postprocess per image at shape (1, 3, 640, 640)\n"
          ]
        },
        {
          "output_type": "stream",
          "name": "stdout",
          "text": [
            "Yolo class 2, yolo conf 0.9307777881622314, Hugs class 2\n",
            "/content/TESTdataset/512.jpg\n"
          ]
        },
        {
          "output_type": "stream",
          "name": "stderr",
          "text": [
            "WARNING ⚠️ 'Boxes.boxes' is deprecated. Use 'Boxes.data' instead.\n",
            "<ipython-input-60-051a0d118cd5>:8: FutureWarning: The frame.append method is deprecated and will be removed from pandas in a future version. Use pandas.concat instead.\n",
            "  SUBM.append({'name': filepath, 'class': clas}, ignore_index=True)\n",
            "\n",
            "0: 448x640 1 klikun, 1 ship, 29.3ms\n",
            "Speed: 3.1ms preprocess, 29.3ms inference, 2.0ms postprocess per image at shape (1, 3, 640, 640)\n"
          ]
        },
        {
          "output_type": "stream",
          "name": "stdout",
          "text": [
            "Yolo class 0, yolo conf 0.311552494764328, Hugs class 2\n",
            "/content/TESTdataset/487.jpg\n"
          ]
        },
        {
          "output_type": "stream",
          "name": "stderr",
          "text": [
            "WARNING ⚠️ 'Boxes.boxes' is deprecated. Use 'Boxes.data' instead.\n",
            "<ipython-input-60-051a0d118cd5>:8: FutureWarning: The frame.append method is deprecated and will be removed from pandas in a future version. Use pandas.concat instead.\n",
            "  SUBM.append({'name': filepath, 'class': clas}, ignore_index=True)\n",
            "\n",
            "0: 640x480 1 ship, 29.0ms\n",
            "Speed: 3.4ms preprocess, 29.0ms inference, 1.6ms postprocess per image at shape (1, 3, 640, 640)\n"
          ]
        },
        {
          "output_type": "stream",
          "name": "stdout",
          "text": [
            "Yolo class 0, yolo conf 0.32314521074295044, Hugs class 1\n",
            "/content/TESTdataset/330.jpg\n"
          ]
        },
        {
          "output_type": "stream",
          "name": "stderr",
          "text": [
            "WARNING ⚠️ 'Boxes.boxes' is deprecated. Use 'Boxes.data' instead.\n",
            "<ipython-input-60-051a0d118cd5>:8: FutureWarning: The frame.append method is deprecated and will be removed from pandas in a future version. Use pandas.concat instead.\n",
            "  SUBM.append({'name': filepath, 'class': clas}, ignore_index=True)\n",
            "\n",
            "0: 512x640 1 klikun, 29.4ms\n",
            "Speed: 3.4ms preprocess, 29.4ms inference, 1.5ms postprocess per image at shape (1, 3, 640, 640)\n"
          ]
        },
        {
          "output_type": "stream",
          "name": "stdout",
          "text": [
            "Yolo class 2, yolo conf 0.8769998550415039, Hugs class 2\n",
            "/content/TESTdataset/411.jpg\n"
          ]
        },
        {
          "output_type": "stream",
          "name": "stderr",
          "text": [
            "WARNING ⚠️ 'Boxes.boxes' is deprecated. Use 'Boxes.data' instead.\n",
            "<ipython-input-60-051a0d118cd5>:8: FutureWarning: The frame.append method is deprecated and will be removed from pandas in a future version. Use pandas.concat instead.\n",
            "  SUBM.append({'name': filepath, 'class': clas}, ignore_index=True)\n",
            "\n",
            "0: 640x448 1 mal, 29.0ms\n",
            "Speed: 2.5ms preprocess, 29.0ms inference, 2.1ms postprocess per image at shape (1, 3, 640, 640)\n",
            "WARNING ⚠️ 'Boxes.boxes' is deprecated. Use 'Boxes.data' instead.\n",
            "<ipython-input-60-051a0d118cd5>:8: FutureWarning: The frame.append method is deprecated and will be removed from pandas in a future version. Use pandas.concat instead.\n",
            "  SUBM.append({'name': filepath, 'class': clas}, ignore_index=True)\n",
            "\n",
            "0: 480x640 1 mal, 29.0ms\n",
            "Speed: 4.0ms preprocess, 29.0ms inference, 1.4ms postprocess per image at shape (1, 3, 640, 640)\n"
          ]
        },
        {
          "output_type": "stream",
          "name": "stdout",
          "text": [
            "Yolo class 0, yolo conf 0.9176245331764221, Hugs class 1\n",
            "/content/TESTdataset/111.jpg\n",
            "HUGS FAILED ON /content/TESTdataset/111.jpg\n",
            "Yolo class 1, yolo conf 0.8462786674499512, Hugs class -1\n",
            "/content/TESTdataset/297.jpg\n",
            "HUGS FAILED ON /content/TESTdataset/297.jpg\n",
            "Yolo class 1, yolo conf 0.8139611482620239, Hugs class -1\n"
          ]
        },
        {
          "output_type": "stream",
          "name": "stderr",
          "text": [
            "WARNING ⚠️ 'Boxes.boxes' is deprecated. Use 'Boxes.data' instead.\n",
            "<ipython-input-60-051a0d118cd5>:8: FutureWarning: The frame.append method is deprecated and will be removed from pandas in a future version. Use pandas.concat instead.\n",
            "  SUBM.append({'name': filepath, 'class': clas}, ignore_index=True)\n",
            "\n",
            "0: 640x640 2 mals, 37.9ms\n",
            "Speed: 3.6ms preprocess, 37.9ms inference, 1.6ms postprocess per image at shape (1, 3, 640, 640)\n"
          ]
        },
        {
          "output_type": "stream",
          "name": "stdout",
          "text": [
            "/content/TESTdataset/117.jpg\n"
          ]
        },
        {
          "output_type": "stream",
          "name": "stderr",
          "text": [
            "WARNING ⚠️ 'Boxes.boxes' is deprecated. Use 'Boxes.data' instead.\n",
            "<ipython-input-60-051a0d118cd5>:8: FutureWarning: The frame.append method is deprecated and will be removed from pandas in a future version. Use pandas.concat instead.\n",
            "  SUBM.append({'name': filepath, 'class': clas}, ignore_index=True)\n",
            "\n",
            "0: 640x608 1 klikun, 37.3ms\n",
            "Speed: 4.1ms preprocess, 37.3ms inference, 1.4ms postprocess per image at shape (1, 3, 640, 640)\n"
          ]
        },
        {
          "output_type": "stream",
          "name": "stdout",
          "text": [
            "Yolo class 1, yolo conf 0.38977497816085815, Hugs class 0\n",
            "/content/TESTdataset/461.jpg\n"
          ]
        },
        {
          "output_type": "stream",
          "name": "stderr",
          "text": [
            "WARNING ⚠️ 'Boxes.boxes' is deprecated. Use 'Boxes.data' instead.\n",
            "<ipython-input-60-051a0d118cd5>:8: FutureWarning: The frame.append method is deprecated and will be removed from pandas in a future version. Use pandas.concat instead.\n",
            "  SUBM.append({'name': filepath, 'class': clas}, ignore_index=True)\n",
            "\n",
            "0: 480x640 3 mals, 29.2ms\n",
            "Speed: 3.2ms preprocess, 29.2ms inference, 1.8ms postprocess per image at shape (1, 3, 640, 640)\n"
          ]
        },
        {
          "output_type": "stream",
          "name": "stdout",
          "text": [
            "Yolo class 0, yolo conf 0.9072422981262207, Hugs class 1\n",
            "/content/TESTdataset/594.jpg\n"
          ]
        },
        {
          "output_type": "stream",
          "name": "stderr",
          "text": [
            "WARNING ⚠️ 'Boxes.boxes' is deprecated. Use 'Boxes.data' instead.\n",
            "<ipython-input-60-051a0d118cd5>:8: FutureWarning: The frame.append method is deprecated and will be removed from pandas in a future version. Use pandas.concat instead.\n",
            "  SUBM.append({'name': filepath, 'class': clas}, ignore_index=True)\n",
            "\n",
            "0: 480x640 3 mals, 28.3ms\n",
            "Speed: 3.3ms preprocess, 28.3ms inference, 2.0ms postprocess per image at shape (1, 3, 640, 640)\n"
          ]
        },
        {
          "output_type": "stream",
          "name": "stdout",
          "text": [
            "Yolo class 1, yolo conf 0.609365185101827, Hugs class 0\n",
            "/content/TESTdataset/458.jpg\n"
          ]
        },
        {
          "output_type": "stream",
          "name": "stderr",
          "text": [
            "WARNING ⚠️ 'Boxes.boxes' is deprecated. Use 'Boxes.data' instead.\n",
            "<ipython-input-60-051a0d118cd5>:8: FutureWarning: The frame.append method is deprecated and will be removed from pandas in a future version. Use pandas.concat instead.\n",
            "  SUBM.append({'name': filepath, 'class': clas}, ignore_index=True)\n",
            "\n",
            "0: 448x640 5 klikuns, 28.6ms\n",
            "Speed: 3.4ms preprocess, 28.6ms inference, 1.6ms postprocess per image at shape (1, 3, 640, 640)\n"
          ]
        },
        {
          "output_type": "stream",
          "name": "stdout",
          "text": [
            "Yolo class 1, yolo conf 0.7977692484855652, Hugs class 0\n",
            "/content/TESTdataset/405.jpg\n"
          ]
        },
        {
          "output_type": "stream",
          "name": "stderr",
          "text": [
            "WARNING ⚠️ 'Boxes.boxes' is deprecated. Use 'Boxes.data' instead.\n",
            "<ipython-input-60-051a0d118cd5>:8: FutureWarning: The frame.append method is deprecated and will be removed from pandas in a future version. Use pandas.concat instead.\n",
            "  SUBM.append({'name': filepath, 'class': clas}, ignore_index=True)\n",
            "\n",
            "0: 448x640 1 klikun, 2 mals, 27.9ms\n",
            "Speed: 9.4ms preprocess, 27.9ms inference, 1.5ms postprocess per image at shape (1, 3, 640, 640)\n"
          ]
        },
        {
          "output_type": "stream",
          "name": "stdout",
          "text": [
            "Yolo class 0, yolo conf 0.4341689109802246, Hugs class 1\n",
            "/content/TESTdataset/197.jpg\n"
          ]
        },
        {
          "output_type": "stream",
          "name": "stderr",
          "text": [
            "WARNING ⚠️ 'Boxes.boxes' is deprecated. Use 'Boxes.data' instead.\n",
            "<ipython-input-60-051a0d118cd5>:8: FutureWarning: The frame.append method is deprecated and will be removed from pandas in a future version. Use pandas.concat instead.\n",
            "  SUBM.append({'name': filepath, 'class': clas}, ignore_index=True)\n",
            "\n",
            "0: 480x640 1 ship, 29.5ms\n",
            "Speed: 3.8ms preprocess, 29.5ms inference, 2.8ms postprocess per image at shape (1, 3, 640, 640)\n"
          ]
        },
        {
          "output_type": "stream",
          "name": "stdout",
          "text": [
            "Yolo class 1, yolo conf 0.3832532862822215, Hugs class 0\n",
            "/content/TESTdataset/434.jpg\n"
          ]
        },
        {
          "output_type": "stream",
          "name": "stderr",
          "text": [
            "WARNING ⚠️ 'Boxes.boxes' is deprecated. Use 'Boxes.data' instead.\n",
            "<ipython-input-60-051a0d118cd5>:8: FutureWarning: The frame.append method is deprecated and will be removed from pandas in a future version. Use pandas.concat instead.\n",
            "  SUBM.append({'name': filepath, 'class': clas}, ignore_index=True)\n",
            "\n",
            "0: 448x640 1 klikun, 1 mal, 28.9ms\n",
            "Speed: 2.9ms preprocess, 28.9ms inference, 2.0ms postprocess per image at shape (1, 3, 640, 640)\n"
          ]
        },
        {
          "output_type": "stream",
          "name": "stdout",
          "text": [
            "Yolo class 2, yolo conf 0.8708053231239319, Hugs class 2\n",
            "/content/TESTdataset/231.jpg\n"
          ]
        },
        {
          "output_type": "stream",
          "name": "stderr",
          "text": [
            "WARNING ⚠️ 'Boxes.boxes' is deprecated. Use 'Boxes.data' instead.\n",
            "<ipython-input-60-051a0d118cd5>:8: FutureWarning: The frame.append method is deprecated and will be removed from pandas in a future version. Use pandas.concat instead.\n",
            "  SUBM.append({'name': filepath, 'class': clas}, ignore_index=True)\n",
            "\n",
            "0: 448x640 1 klikun, 27.8ms\n",
            "Speed: 3.2ms preprocess, 27.8ms inference, 1.8ms postprocess per image at shape (1, 3, 640, 640)\n"
          ]
        },
        {
          "output_type": "stream",
          "name": "stdout",
          "text": [
            "Yolo class 1, yolo conf 0.24321669340133667, Hugs class 2\n",
            "/content/TESTdataset/74.jpg\n"
          ]
        },
        {
          "output_type": "stream",
          "name": "stderr",
          "text": [
            "WARNING ⚠️ 'Boxes.boxes' is deprecated. Use 'Boxes.data' instead.\n",
            "<ipython-input-60-051a0d118cd5>:8: FutureWarning: The frame.append method is deprecated and will be removed from pandas in a future version. Use pandas.concat instead.\n",
            "  SUBM.append({'name': filepath, 'class': clas}, ignore_index=True)\n",
            "\n",
            "0: 480x640 1 ship, 29.3ms\n",
            "Speed: 3.1ms preprocess, 29.3ms inference, 2.0ms postprocess per image at shape (1, 3, 640, 640)\n"
          ]
        },
        {
          "output_type": "stream",
          "name": "stdout",
          "text": [
            "Yolo class 0, yolo conf 0.8333725333213806, Hugs class 0\n",
            "/content/TESTdataset/85.jpg\n"
          ]
        },
        {
          "output_type": "stream",
          "name": "stderr",
          "text": [
            "WARNING ⚠️ 'Boxes.boxes' is deprecated. Use 'Boxes.data' instead.\n",
            "<ipython-input-60-051a0d118cd5>:8: FutureWarning: The frame.append method is deprecated and will be removed from pandas in a future version. Use pandas.concat instead.\n",
            "  SUBM.append({'name': filepath, 'class': clas}, ignore_index=True)\n",
            "\n",
            "0: 480x640 1 klikun, 1 ship, 28.2ms\n",
            "Speed: 4.1ms preprocess, 28.2ms inference, 2.0ms postprocess per image at shape (1, 3, 640, 640)\n"
          ]
        },
        {
          "output_type": "stream",
          "name": "stdout",
          "text": [
            "Yolo class 2, yolo conf 0.8385819792747498, Hugs class 2\n",
            "/content/TESTdataset/582.jpg\n"
          ]
        },
        {
          "output_type": "stream",
          "name": "stderr",
          "text": [
            "WARNING ⚠️ 'Boxes.boxes' is deprecated. Use 'Boxes.data' instead.\n",
            "<ipython-input-60-051a0d118cd5>:8: FutureWarning: The frame.append method is deprecated and will be removed from pandas in a future version. Use pandas.concat instead.\n",
            "  SUBM.append({'name': filepath, 'class': clas}, ignore_index=True)\n",
            "\n",
            "0: 480x640 1 klikun, 28.2ms\n",
            "Speed: 2.9ms preprocess, 28.2ms inference, 2.4ms postprocess per image at shape (1, 3, 640, 640)\n"
          ]
        },
        {
          "output_type": "stream",
          "name": "stdout",
          "text": [
            "Yolo class 2, yolo conf 0.36407291889190674, Hugs class 1\n",
            "/content/TESTdataset/320.jpg\n"
          ]
        },
        {
          "output_type": "stream",
          "name": "stderr",
          "text": [
            "WARNING ⚠️ 'Boxes.boxes' is deprecated. Use 'Boxes.data' instead.\n",
            "<ipython-input-60-051a0d118cd5>:8: FutureWarning: The frame.append method is deprecated and will be removed from pandas in a future version. Use pandas.concat instead.\n",
            "  SUBM.append({'name': filepath, 'class': clas}, ignore_index=True)\n",
            "\n",
            "0: 448x640 6 mals, 31.8ms\n",
            "Speed: 2.8ms preprocess, 31.8ms inference, 1.8ms postprocess per image at shape (1, 3, 640, 640)\n"
          ]
        },
        {
          "output_type": "stream",
          "name": "stdout",
          "text": [
            "Yolo class 0, yolo conf 0.5226223468780518, Hugs class 2\n",
            "/content/TESTdataset/236.jpg\n"
          ]
        },
        {
          "output_type": "stream",
          "name": "stderr",
          "text": [
            "WARNING ⚠️ 'Boxes.boxes' is deprecated. Use 'Boxes.data' instead.\n",
            "<ipython-input-60-051a0d118cd5>:8: FutureWarning: The frame.append method is deprecated and will be removed from pandas in a future version. Use pandas.concat instead.\n",
            "  SUBM.append({'name': filepath, 'class': clas}, ignore_index=True)\n",
            "\n",
            "0: 448x640 2 ships, 27.9ms\n",
            "Speed: 3.2ms preprocess, 27.9ms inference, 2.2ms postprocess per image at shape (1, 3, 640, 640)\n"
          ]
        },
        {
          "output_type": "stream",
          "name": "stdout",
          "text": [
            "Yolo class 1, yolo conf 0.5500865578651428, Hugs class 0\n",
            "/content/TESTdataset/472.jpg\n"
          ]
        },
        {
          "output_type": "stream",
          "name": "stderr",
          "text": [
            "WARNING ⚠️ 'Boxes.boxes' is deprecated. Use 'Boxes.data' instead.\n",
            "<ipython-input-60-051a0d118cd5>:8: FutureWarning: The frame.append method is deprecated and will be removed from pandas in a future version. Use pandas.concat instead.\n",
            "  SUBM.append({'name': filepath, 'class': clas}, ignore_index=True)\n",
            "\n",
            "0: 480x640 2 ships, 31.3ms\n",
            "Speed: 3.3ms preprocess, 31.3ms inference, 5.8ms postprocess per image at shape (1, 3, 640, 640)\n"
          ]
        },
        {
          "output_type": "stream",
          "name": "stdout",
          "text": [
            "Yolo class 2, yolo conf 0.46245671808719635, Hugs class 2\n",
            "/content/TESTdataset/91.jpg\n"
          ]
        },
        {
          "output_type": "stream",
          "name": "stderr",
          "text": [
            "WARNING ⚠️ 'Boxes.boxes' is deprecated. Use 'Boxes.data' instead.\n",
            "<ipython-input-60-051a0d118cd5>:8: FutureWarning: The frame.append method is deprecated and will be removed from pandas in a future version. Use pandas.concat instead.\n",
            "  SUBM.append({'name': filepath, 'class': clas}, ignore_index=True)\n",
            "\n",
            "0: 480x640 2 mals, 28.2ms\n",
            "Speed: 3.2ms preprocess, 28.2ms inference, 6.2ms postprocess per image at shape (1, 3, 640, 640)\n"
          ]
        },
        {
          "output_type": "stream",
          "name": "stdout",
          "text": [
            "Yolo class 2, yolo conf 0.4986698627471924, Hugs class 2\n",
            "/content/TESTdataset/568.jpg\n"
          ]
        },
        {
          "output_type": "stream",
          "name": "stderr",
          "text": [
            "WARNING ⚠️ 'Boxes.boxes' is deprecated. Use 'Boxes.data' instead.\n",
            "<ipython-input-60-051a0d118cd5>:8: FutureWarning: The frame.append method is deprecated and will be removed from pandas in a future version. Use pandas.concat instead.\n",
            "  SUBM.append({'name': filepath, 'class': clas}, ignore_index=True)\n",
            "\n",
            "0: 448x640 1 klikun, 32.1ms\n",
            "Speed: 7.1ms preprocess, 32.1ms inference, 2.2ms postprocess per image at shape (1, 3, 640, 640)\n"
          ]
        },
        {
          "output_type": "stream",
          "name": "stdout",
          "text": [
            "Yolo class 1, yolo conf 0.5407595336437225, Hugs class 0\n",
            "/content/TESTdataset/76.jpg\n"
          ]
        },
        {
          "output_type": "stream",
          "name": "stderr",
          "text": [
            "WARNING ⚠️ 'Boxes.boxes' is deprecated. Use 'Boxes.data' instead.\n",
            "<ipython-input-60-051a0d118cd5>:8: FutureWarning: The frame.append method is deprecated and will be removed from pandas in a future version. Use pandas.concat instead.\n",
            "  SUBM.append({'name': filepath, 'class': clas}, ignore_index=True)\n",
            "\n",
            "0: 352x640 1 klikun, 27.2ms\n",
            "Speed: 6.2ms preprocess, 27.2ms inference, 2.1ms postprocess per image at shape (1, 3, 640, 640)\n",
            "WARNING ⚠️ 'Boxes.boxes' is deprecated. Use 'Boxes.data' instead.\n",
            "<ipython-input-60-051a0d118cd5>:8: FutureWarning: The frame.append method is deprecated and will be removed from pandas in a future version. Use pandas.concat instead.\n",
            "  SUBM.append({'name': filepath, 'class': clas}, ignore_index=True)\n",
            "\n"
          ]
        },
        {
          "output_type": "stream",
          "name": "stdout",
          "text": [
            "Yolo class 0, yolo conf 0.7206118106842041, Hugs class 0\n",
            "/content/TESTdataset/399.jpg\n",
            "HUGS FAILED ON /content/TESTdataset/399.jpg\n",
            "Yolo class 0, yolo conf 0.7131409049034119, Hugs class -1\n",
            "/content/TESTdataset/237.jpg\n"
          ]
        },
        {
          "output_type": "stream",
          "name": "stderr",
          "text": [
            "0: 448x640 1 mal, 29.3ms\n",
            "Speed: 3.1ms preprocess, 29.3ms inference, 3.5ms postprocess per image at shape (1, 3, 640, 640)\n",
            "WARNING ⚠️ 'Boxes.boxes' is deprecated. Use 'Boxes.data' instead.\n",
            "<ipython-input-60-051a0d118cd5>:8: FutureWarning: The frame.append method is deprecated and will be removed from pandas in a future version. Use pandas.concat instead.\n",
            "  SUBM.append({'name': filepath, 'class': clas}, ignore_index=True)\n",
            "\n",
            "0: 448x640 3 klikuns, 29.7ms\n",
            "Speed: 5.0ms preprocess, 29.7ms inference, 2.5ms postprocess per image at shape (1, 3, 640, 640)\n"
          ]
        },
        {
          "output_type": "stream",
          "name": "stdout",
          "text": [
            "Yolo class 1, yolo conf 0.7866664528846741, Hugs class 1\n",
            "/content/TESTdataset/158.jpg\n"
          ]
        },
        {
          "output_type": "stream",
          "name": "stderr",
          "text": [
            "WARNING ⚠️ 'Boxes.boxes' is deprecated. Use 'Boxes.data' instead.\n",
            "<ipython-input-60-051a0d118cd5>:8: FutureWarning: The frame.append method is deprecated and will be removed from pandas in a future version. Use pandas.concat instead.\n",
            "  SUBM.append({'name': filepath, 'class': clas}, ignore_index=True)\n",
            "\n",
            "0: 448x640 1 klikun, 1 mal, 27.8ms\n",
            "Speed: 2.9ms preprocess, 27.8ms inference, 2.9ms postprocess per image at shape (1, 3, 640, 640)\n"
          ]
        },
        {
          "output_type": "stream",
          "name": "stdout",
          "text": [
            "Yolo class 0, yolo conf 0.5844941933949789, Hugs class 1\n",
            "/content/TESTdataset/239.jpg\n"
          ]
        },
        {
          "output_type": "stream",
          "name": "stderr",
          "text": [
            "WARNING ⚠️ 'Boxes.boxes' is deprecated. Use 'Boxes.data' instead.\n",
            "<ipython-input-60-051a0d118cd5>:8: FutureWarning: The frame.append method is deprecated and will be removed from pandas in a future version. Use pandas.concat instead.\n",
            "  SUBM.append({'name': filepath, 'class': clas}, ignore_index=True)\n",
            "\n",
            "0: 480x640 1 klikun, 1 mal, 29.4ms\n",
            "Speed: 3.1ms preprocess, 29.4ms inference, 1.9ms postprocess per image at shape (1, 3, 640, 640)\n"
          ]
        },
        {
          "output_type": "stream",
          "name": "stdout",
          "text": [
            "Yolo class 1, yolo conf 0.2700413465499878, Hugs class 0\n",
            "/content/TESTdataset/241.jpg\n"
          ]
        },
        {
          "output_type": "stream",
          "name": "stderr",
          "text": [
            "WARNING ⚠️ 'Boxes.boxes' is deprecated. Use 'Boxes.data' instead.\n",
            "<ipython-input-60-051a0d118cd5>:8: FutureWarning: The frame.append method is deprecated and will be removed from pandas in a future version. Use pandas.concat instead.\n",
            "  SUBM.append({'name': filepath, 'class': clas}, ignore_index=True)\n",
            "\n",
            "0: 480x640 2 ships, 28.3ms\n",
            "Speed: 3.7ms preprocess, 28.3ms inference, 1.7ms postprocess per image at shape (1, 3, 640, 640)\n"
          ]
        },
        {
          "output_type": "stream",
          "name": "stdout",
          "text": [
            "Yolo class 0, yolo conf 0.20712421834468842, Hugs class 1\n",
            "/content/TESTdataset/539.jpg\n"
          ]
        },
        {
          "output_type": "stream",
          "name": "stderr",
          "text": [
            "WARNING ⚠️ 'Boxes.boxes' is deprecated. Use 'Boxes.data' instead.\n",
            "<ipython-input-60-051a0d118cd5>:8: FutureWarning: The frame.append method is deprecated and will be removed from pandas in a future version. Use pandas.concat instead.\n",
            "  SUBM.append({'name': filepath, 'class': clas}, ignore_index=True)\n",
            "\n",
            "0: 640x640 1 klikun, 3 mals, 3 ships, 38.2ms\n",
            "Speed: 4.6ms preprocess, 38.2ms inference, 1.5ms postprocess per image at shape (1, 3, 640, 640)\n"
          ]
        },
        {
          "output_type": "stream",
          "name": "stdout",
          "text": [
            "Yolo class 2, yolo conf 0.8288891017436981, Hugs class 2\n",
            "/content/TESTdataset/276.jpg\n"
          ]
        },
        {
          "output_type": "stream",
          "name": "stderr",
          "text": [
            "WARNING ⚠️ 'Boxes.boxes' is deprecated. Use 'Boxes.data' instead.\n",
            "<ipython-input-60-051a0d118cd5>:8: FutureWarning: The frame.append method is deprecated and will be removed from pandas in a future version. Use pandas.concat instead.\n",
            "  SUBM.append({'name': filepath, 'class': clas}, ignore_index=True)\n",
            "\n",
            "0: 512x640 1 ship, 29.8ms\n",
            "Speed: 3.4ms preprocess, 29.8ms inference, 1.9ms postprocess per image at shape (1, 3, 640, 640)\n"
          ]
        },
        {
          "output_type": "stream",
          "name": "stdout",
          "text": [
            "Yolo class 2, yolo conf 0.2511135297162192, Hugs class 2\n",
            "/content/TESTdataset/34.jpg\n"
          ]
        },
        {
          "output_type": "stream",
          "name": "stderr",
          "text": [
            "WARNING ⚠️ 'Boxes.boxes' is deprecated. Use 'Boxes.data' instead.\n",
            "<ipython-input-60-051a0d118cd5>:8: FutureWarning: The frame.append method is deprecated and will be removed from pandas in a future version. Use pandas.concat instead.\n",
            "  SUBM.append({'name': filepath, 'class': clas}, ignore_index=True)\n",
            "\n",
            "0: 288x640 1 mal, 23.9ms\n",
            "Speed: 2.1ms preprocess, 23.9ms inference, 2.1ms postprocess per image at shape (1, 3, 640, 640)\n",
            "WARNING ⚠️ 'Boxes.boxes' is deprecated. Use 'Boxes.data' instead.\n",
            "<ipython-input-60-051a0d118cd5>:8: FutureWarning: The frame.append method is deprecated and will be removed from pandas in a future version. Use pandas.concat instead.\n",
            "  SUBM.append({'name': filepath, 'class': clas}, ignore_index=True)\n",
            "\n",
            "0: 448x640 1 klikun, 28.7ms\n",
            "Speed: 5.6ms preprocess, 28.7ms inference, 1.5ms postprocess per image at shape (1, 3, 640, 640)\n"
          ]
        },
        {
          "output_type": "stream",
          "name": "stdout",
          "text": [
            "Yolo class 2, yolo conf 0.8573974967002869, Hugs class 2\n",
            "/content/TESTdataset/21.jpg\n",
            "HUGS FAILED ON /content/TESTdataset/21.jpg\n",
            "Yolo class 1, yolo conf 0.8556482791900635, Hugs class -1\n",
            "/content/TESTdataset/339.jpg\n"
          ]
        },
        {
          "output_type": "stream",
          "name": "stderr",
          "text": [
            "WARNING ⚠️ 'Boxes.boxes' is deprecated. Use 'Boxes.data' instead.\n",
            "<ipython-input-60-051a0d118cd5>:8: FutureWarning: The frame.append method is deprecated and will be removed from pandas in a future version. Use pandas.concat instead.\n",
            "  SUBM.append({'name': filepath, 'class': clas}, ignore_index=True)\n",
            "\n",
            "0: 512x640 1 mal, 30.0ms\n",
            "Speed: 3.2ms preprocess, 30.0ms inference, 2.1ms postprocess per image at shape (1, 3, 640, 640)\n"
          ]
        },
        {
          "output_type": "stream",
          "name": "stdout",
          "text": [
            "Yolo class 0, yolo conf 0.49793171882629395, Hugs class 2\n",
            "/content/TESTdataset/106.jpg\n"
          ]
        },
        {
          "output_type": "stream",
          "name": "stderr",
          "text": [
            "WARNING ⚠️ 'Boxes.boxes' is deprecated. Use 'Boxes.data' instead.\n",
            "<ipython-input-60-051a0d118cd5>:8: FutureWarning: The frame.append method is deprecated and will be removed from pandas in a future version. Use pandas.concat instead.\n",
            "  SUBM.append({'name': filepath, 'class': clas}, ignore_index=True)\n",
            "\n",
            "0: 480x640 2 mals, 29.5ms\n",
            "Speed: 3.0ms preprocess, 29.5ms inference, 2.0ms postprocess per image at shape (1, 3, 640, 640)\n"
          ]
        },
        {
          "output_type": "stream",
          "name": "stdout",
          "text": [
            "Yolo class 1, yolo conf 0.9205179214477539, Hugs class 0\n",
            "/content/TESTdataset/373.jpg\n"
          ]
        },
        {
          "output_type": "stream",
          "name": "stderr",
          "text": [
            "WARNING ⚠️ 'Boxes.boxes' is deprecated. Use 'Boxes.data' instead.\n",
            "<ipython-input-60-051a0d118cd5>:8: FutureWarning: The frame.append method is deprecated and will be removed from pandas in a future version. Use pandas.concat instead.\n",
            "  SUBM.append({'name': filepath, 'class': clas}, ignore_index=True)\n",
            "\n",
            "0: 448x640 4 klikuns, 1 mal, 28.8ms\n",
            "Speed: 4.0ms preprocess, 28.8ms inference, 1.5ms postprocess per image at shape (1, 3, 640, 640)\n"
          ]
        },
        {
          "output_type": "stream",
          "name": "stdout",
          "text": [
            "Yolo class 1, yolo conf 0.5915934145450592, Hugs class 0\n",
            "/content/TESTdataset/101.jpg\n"
          ]
        },
        {
          "output_type": "stream",
          "name": "stderr",
          "text": [
            "WARNING ⚠️ 'Boxes.boxes' is deprecated. Use 'Boxes.data' instead.\n",
            "<ipython-input-60-051a0d118cd5>:8: FutureWarning: The frame.append method is deprecated and will be removed from pandas in a future version. Use pandas.concat instead.\n",
            "  SUBM.append({'name': filepath, 'class': clas}, ignore_index=True)\n",
            "\n",
            "0: 448x640 1 klikun, 27.8ms\n",
            "Speed: 3.2ms preprocess, 27.8ms inference, 1.5ms postprocess per image at shape (1, 3, 640, 640)\n"
          ]
        },
        {
          "output_type": "stream",
          "name": "stdout",
          "text": [
            "Yolo class 0, yolo conf 0.569924384355545, Hugs class 1\n",
            "/content/TESTdataset/333.jpg\n"
          ]
        },
        {
          "output_type": "stream",
          "name": "stderr",
          "text": [
            "WARNING ⚠️ 'Boxes.boxes' is deprecated. Use 'Boxes.data' instead.\n",
            "<ipython-input-60-051a0d118cd5>:8: FutureWarning: The frame.append method is deprecated and will be removed from pandas in a future version. Use pandas.concat instead.\n",
            "  SUBM.append({'name': filepath, 'class': clas}, ignore_index=True)\n",
            "\n",
            "0: 640x480 1 ship, 28.9ms\n",
            "Speed: 3.3ms preprocess, 28.9ms inference, 1.5ms postprocess per image at shape (1, 3, 640, 640)\n"
          ]
        },
        {
          "output_type": "stream",
          "name": "stdout",
          "text": [
            "Yolo class 0, yolo conf 0.9181020855903625, Hugs class 1\n",
            "/content/TESTdataset/480.jpg\n"
          ]
        },
        {
          "output_type": "stream",
          "name": "stderr",
          "text": [
            "WARNING ⚠️ 'Boxes.boxes' is deprecated. Use 'Boxes.data' instead.\n",
            "<ipython-input-60-051a0d118cd5>:8: FutureWarning: The frame.append method is deprecated and will be removed from pandas in a future version. Use pandas.concat instead.\n",
            "  SUBM.append({'name': filepath, 'class': clas}, ignore_index=True)\n",
            "\n",
            "0: 640x640 1 ship, 37.9ms\n",
            "Speed: 3.5ms preprocess, 37.9ms inference, 1.5ms postprocess per image at shape (1, 3, 640, 640)\n",
            "WARNING ⚠️ 'Boxes.boxes' is deprecated. Use 'Boxes.data' instead.\n",
            "<ipython-input-60-051a0d118cd5>:8: FutureWarning: The frame.append method is deprecated and will be removed from pandas in a future version. Use pandas.concat instead.\n",
            "  SUBM.append({'name': filepath, 'class': clas}, ignore_index=True)\n",
            "\n",
            "0: 448x640 1 ship, 28.7ms\n",
            "Speed: 4.4ms preprocess, 28.7ms inference, 1.5ms postprocess per image at shape (1, 3, 640, 640)\n"
          ]
        },
        {
          "output_type": "stream",
          "name": "stdout",
          "text": [
            "Yolo class 2, yolo conf 0.9224495887756348, Hugs class 2\n",
            "/content/TESTdataset/292.jpg\n",
            "HUGS FAILED ON /content/TESTdataset/292.jpg\n",
            "Yolo class 2, yolo conf 0.5992253422737122, Hugs class -1\n",
            "/content/TESTdataset/279.jpg\n"
          ]
        },
        {
          "output_type": "stream",
          "name": "stderr",
          "text": [
            "WARNING ⚠️ 'Boxes.boxes' is deprecated. Use 'Boxes.data' instead.\n",
            "<ipython-input-60-051a0d118cd5>:8: FutureWarning: The frame.append method is deprecated and will be removed from pandas in a future version. Use pandas.concat instead.\n",
            "  SUBM.append({'name': filepath, 'class': clas}, ignore_index=True)\n",
            "\n",
            "0: 480x640 1 ship, 29.2ms\n",
            "Speed: 2.9ms preprocess, 29.2ms inference, 1.8ms postprocess per image at shape (1, 3, 640, 640)\n"
          ]
        },
        {
          "output_type": "stream",
          "name": "stdout",
          "text": [
            "Yolo class 2, yolo conf 0.7298344969749451, Hugs class 0\n",
            "/content/TESTdataset/440.jpg\n"
          ]
        },
        {
          "output_type": "stream",
          "name": "stderr",
          "text": [
            "WARNING ⚠️ 'Boxes.boxes' is deprecated. Use 'Boxes.data' instead.\n",
            "<ipython-input-60-051a0d118cd5>:8: FutureWarning: The frame.append method is deprecated and will be removed from pandas in a future version. Use pandas.concat instead.\n",
            "  SUBM.append({'name': filepath, 'class': clas}, ignore_index=True)\n",
            "\n",
            "0: 480x640 1 klikun, 1 mal, 28.7ms\n",
            "Speed: 3.0ms preprocess, 28.7ms inference, 5.8ms postprocess per image at shape (1, 3, 640, 640)\n"
          ]
        },
        {
          "output_type": "stream",
          "name": "stdout",
          "text": [
            "Yolo class 2, yolo conf 0.8606894612312317, Hugs class 2\n",
            "/content/TESTdataset/516.jpg\n"
          ]
        },
        {
          "output_type": "stream",
          "name": "stderr",
          "text": [
            "WARNING ⚠️ 'Boxes.boxes' is deprecated. Use 'Boxes.data' instead.\n",
            "<ipython-input-60-051a0d118cd5>:8: FutureWarning: The frame.append method is deprecated and will be removed from pandas in a future version. Use pandas.concat instead.\n",
            "  SUBM.append({'name': filepath, 'class': clas}, ignore_index=True)\n",
            "\n",
            "0: 640x512 1 klikun, 1 mal, 29.4ms\n",
            "Speed: 3.8ms preprocess, 29.4ms inference, 2.0ms postprocess per image at shape (1, 3, 640, 640)\n"
          ]
        },
        {
          "output_type": "stream",
          "name": "stdout",
          "text": [
            "Yolo class 0, yolo conf 0.30013707280158997, Hugs class 0\n",
            "/content/TESTdataset/235.jpg\n"
          ]
        },
        {
          "output_type": "stream",
          "name": "stderr",
          "text": [
            "WARNING ⚠️ 'Boxes.boxes' is deprecated. Use 'Boxes.data' instead.\n",
            "<ipython-input-60-051a0d118cd5>:8: FutureWarning: The frame.append method is deprecated and will be removed from pandas in a future version. Use pandas.concat instead.\n",
            "  SUBM.append({'name': filepath, 'class': clas}, ignore_index=True)\n",
            "\n",
            "0: 640x640 1 klikun, 38.0ms\n",
            "Speed: 4.1ms preprocess, 38.0ms inference, 1.9ms postprocess per image at shape (1, 3, 640, 640)\n"
          ]
        },
        {
          "output_type": "stream",
          "name": "stdout",
          "text": [
            "Yolo class 1, yolo conf 0.19544871151447296, Hugs class 2\n",
            "/content/TESTdataset/436.jpg\n"
          ]
        },
        {
          "output_type": "stream",
          "name": "stderr",
          "text": [
            "WARNING ⚠️ 'Boxes.boxes' is deprecated. Use 'Boxes.data' instead.\n",
            "<ipython-input-60-051a0d118cd5>:8: FutureWarning: The frame.append method is deprecated and will be removed from pandas in a future version. Use pandas.concat instead.\n",
            "  SUBM.append({'name': filepath, 'class': clas}, ignore_index=True)\n",
            "\n",
            "0: 448x640 1 mal, 28.9ms\n",
            "Speed: 2.9ms preprocess, 28.9ms inference, 1.9ms postprocess per image at shape (1, 3, 640, 640)\n"
          ]
        },
        {
          "output_type": "stream",
          "name": "stdout",
          "text": [
            "Yolo class 0, yolo conf 0.8044408559799194, Hugs class 1\n",
            "/content/TESTdataset/244.jpg\n"
          ]
        },
        {
          "output_type": "stream",
          "name": "stderr",
          "text": [
            "WARNING ⚠️ 'Boxes.boxes' is deprecated. Use 'Boxes.data' instead.\n",
            "<ipython-input-60-051a0d118cd5>:8: FutureWarning: The frame.append method is deprecated and will be removed from pandas in a future version. Use pandas.concat instead.\n",
            "  SUBM.append({'name': filepath, 'class': clas}, ignore_index=True)\n",
            "\n",
            "0: 448x640 1 ship, 29.4ms\n",
            "Speed: 3.0ms preprocess, 29.4ms inference, 1.9ms postprocess per image at shape (1, 3, 640, 640)\n"
          ]
        },
        {
          "output_type": "stream",
          "name": "stdout",
          "text": [
            "Yolo class 1, yolo conf 0.7735790610313416, Hugs class 2\n",
            "/content/TESTdataset/428.jpg\n"
          ]
        },
        {
          "output_type": "stream",
          "name": "stderr",
          "text": [
            "WARNING ⚠️ 'Boxes.boxes' is deprecated. Use 'Boxes.data' instead.\n",
            "<ipython-input-60-051a0d118cd5>:8: FutureWarning: The frame.append method is deprecated and will be removed from pandas in a future version. Use pandas.concat instead.\n",
            "  SUBM.append({'name': filepath, 'class': clas}, ignore_index=True)\n",
            "\n",
            "0: 480x640 2 mals, 29.4ms\n",
            "Speed: 3.0ms preprocess, 29.4ms inference, 2.2ms postprocess per image at shape (1, 3, 640, 640)\n",
            "WARNING ⚠️ 'Boxes.boxes' is deprecated. Use 'Boxes.data' instead.\n",
            "<ipython-input-60-051a0d118cd5>:8: FutureWarning: The frame.append method is deprecated and will be removed from pandas in a future version. Use pandas.concat instead.\n",
            "  SUBM.append({'name': filepath, 'class': clas}, ignore_index=True)\n",
            "\n",
            "0: 416x640 2 mals, 30.9ms\n",
            "Speed: 3.0ms preprocess, 30.9ms inference, 2.3ms postprocess per image at shape (1, 3, 640, 640)\n"
          ]
        },
        {
          "output_type": "stream",
          "name": "stdout",
          "text": [
            "Yolo class 2, yolo conf 0.885834276676178, Hugs class 2\n",
            "/content/TESTdataset/485.jpg\n",
            "HUGS FAILED ON /content/TESTdataset/485.jpg\n",
            "Yolo class 1, yolo conf 0.6116735190153122, Hugs class -1\n",
            "/content/TESTdataset/549.jpg\n"
          ]
        },
        {
          "output_type": "stream",
          "name": "stderr",
          "text": [
            "WARNING ⚠️ 'Boxes.boxes' is deprecated. Use 'Boxes.data' instead.\n",
            "<ipython-input-60-051a0d118cd5>:8: FutureWarning: The frame.append method is deprecated and will be removed from pandas in a future version. Use pandas.concat instead.\n",
            "  SUBM.append({'name': filepath, 'class': clas}, ignore_index=True)\n",
            "\n",
            "0: 448x640 1 ship, 31.4ms\n",
            "Speed: 3.2ms preprocess, 31.4ms inference, 2.1ms postprocess per image at shape (1, 3, 640, 640)\n"
          ]
        },
        {
          "output_type": "stream",
          "name": "stdout",
          "text": [
            "Yolo class 1, yolo conf 0.7766452133655548, Hugs class 0\n",
            "/content/TESTdataset/325.jpg\n"
          ]
        },
        {
          "output_type": "stream",
          "name": "stderr",
          "text": [
            "WARNING ⚠️ 'Boxes.boxes' is deprecated. Use 'Boxes.data' instead.\n",
            "<ipython-input-60-051a0d118cd5>:8: FutureWarning: The frame.append method is deprecated and will be removed from pandas in a future version. Use pandas.concat instead.\n",
            "  SUBM.append({'name': filepath, 'class': clas}, ignore_index=True)\n",
            "\n",
            "0: 640x384 1 klikun, 1 mal, 27.1ms\n",
            "Speed: 3.9ms preprocess, 27.1ms inference, 1.9ms postprocess per image at shape (1, 3, 640, 640)\n",
            "WARNING ⚠️ 'Boxes.boxes' is deprecated. Use 'Boxes.data' instead.\n"
          ]
        },
        {
          "output_type": "stream",
          "name": "stdout",
          "text": [
            "Yolo class 2, yolo conf 0.8909472823143005, Hugs class 2\n",
            "/content/TESTdataset/363.jpg\n",
            "HUGS FAILED ON /content/TESTdataset/363.jpg\n",
            "Yolo class 1, yolo conf 0.26461318135261536, Hugs class -1\n",
            "/content/TESTdataset/404.jpg\n"
          ]
        },
        {
          "output_type": "stream",
          "name": "stderr",
          "text": [
            "<ipython-input-60-051a0d118cd5>:8: FutureWarning: The frame.append method is deprecated and will be removed from pandas in a future version. Use pandas.concat instead.\n",
            "  SUBM.append({'name': filepath, 'class': clas}, ignore_index=True)\n",
            "\n",
            "0: 448x640 1 klikun, 28.8ms\n",
            "Speed: 4.0ms preprocess, 28.8ms inference, 1.9ms postprocess per image at shape (1, 3, 640, 640)\n",
            "WARNING ⚠️ 'Boxes.boxes' is deprecated. Use 'Boxes.data' instead.\n",
            "<ipython-input-60-051a0d118cd5>:8: FutureWarning: The frame.append method is deprecated and will be removed from pandas in a future version. Use pandas.concat instead.\n",
            "  SUBM.append({'name': filepath, 'class': clas}, ignore_index=True)\n",
            "\n",
            "0: 352x640 1 klikun, 1 ship, 26.3ms\n",
            "Speed: 2.7ms preprocess, 26.3ms inference, 1.9ms postprocess per image at shape (1, 3, 640, 640)\n"
          ]
        },
        {
          "output_type": "stream",
          "name": "stdout",
          "text": [
            "Yolo class 0, yolo conf 0.8908975124359131, Hugs class 1\n",
            "/content/TESTdataset/144.jpg\n"
          ]
        },
        {
          "output_type": "stream",
          "name": "stderr",
          "text": [
            "WARNING ⚠️ 'Boxes.boxes' is deprecated. Use 'Boxes.data' instead.\n",
            "<ipython-input-60-051a0d118cd5>:8: FutureWarning: The frame.append method is deprecated and will be removed from pandas in a future version. Use pandas.concat instead.\n",
            "  SUBM.append({'name': filepath, 'class': clas}, ignore_index=True)\n",
            "\n",
            "0: 640x480 1 ship, 31.4ms\n",
            "Speed: 3.4ms preprocess, 31.4ms inference, 1.7ms postprocess per image at shape (1, 3, 640, 640)\n"
          ]
        },
        {
          "output_type": "stream",
          "name": "stdout",
          "text": [
            "Yolo class 2, yolo conf 0.19798217713832855, Hugs class 2\n",
            "/content/TESTdataset/219.jpg\n"
          ]
        },
        {
          "output_type": "stream",
          "name": "stderr",
          "text": [
            "WARNING ⚠️ 'Boxes.boxes' is deprecated. Use 'Boxes.data' instead.\n",
            "<ipython-input-60-051a0d118cd5>:8: FutureWarning: The frame.append method is deprecated and will be removed from pandas in a future version. Use pandas.concat instead.\n",
            "  SUBM.append({'name': filepath, 'class': clas}, ignore_index=True)\n",
            "\n",
            "0: 448x640 1 klikun, 28.7ms\n",
            "Speed: 3.2ms preprocess, 28.7ms inference, 1.5ms postprocess per image at shape (1, 3, 640, 640)\n"
          ]
        },
        {
          "output_type": "stream",
          "name": "stdout",
          "text": [
            "Yolo class 2, yolo conf 0.2791014313697815, Hugs class 2\n",
            "/content/TESTdataset/90.jpg\n"
          ]
        },
        {
          "output_type": "stream",
          "name": "stderr",
          "text": [
            "WARNING ⚠️ 'Boxes.boxes' is deprecated. Use 'Boxes.data' instead.\n",
            "<ipython-input-60-051a0d118cd5>:8: FutureWarning: The frame.append method is deprecated and will be removed from pandas in a future version. Use pandas.concat instead.\n",
            "  SUBM.append({'name': filepath, 'class': clas}, ignore_index=True)\n",
            "\n",
            "0: 448x640 1 klikun, 27.9ms\n",
            "Speed: 3.5ms preprocess, 27.9ms inference, 1.5ms postprocess per image at shape (1, 3, 640, 640)\n"
          ]
        },
        {
          "output_type": "stream",
          "name": "stdout",
          "text": [
            "Yolo class 0, yolo conf 0.4211803674697876, Hugs class 1\n",
            "/content/TESTdataset/152.jpg\n"
          ]
        },
        {
          "output_type": "stream",
          "name": "stderr",
          "text": [
            "WARNING ⚠️ 'Boxes.boxes' is deprecated. Use 'Boxes.data' instead.\n",
            "<ipython-input-60-051a0d118cd5>:8: FutureWarning: The frame.append method is deprecated and will be removed from pandas in a future version. Use pandas.concat instead.\n",
            "  SUBM.append({'name': filepath, 'class': clas}, ignore_index=True)\n",
            "\n",
            "0: 480x640 1 klikun, 1 mal, 29.2ms\n",
            "Speed: 2.9ms preprocess, 29.2ms inference, 2.1ms postprocess per image at shape (1, 3, 640, 640)\n"
          ]
        },
        {
          "output_type": "stream",
          "name": "stdout",
          "text": [
            "Yolo class 0, yolo conf 0.9305341243743896, Hugs class 1\n",
            "/content/TESTdataset/341.jpg\n"
          ]
        },
        {
          "output_type": "stream",
          "name": "stderr",
          "text": [
            "WARNING ⚠️ 'Boxes.boxes' is deprecated. Use 'Boxes.data' instead.\n",
            "<ipython-input-60-051a0d118cd5>:8: FutureWarning: The frame.append method is deprecated and will be removed from pandas in a future version. Use pandas.concat instead.\n",
            "  SUBM.append({'name': filepath, 'class': clas}, ignore_index=True)\n",
            "\n",
            "0: 480x640 1 ship, 28.3ms\n",
            "Speed: 3.8ms preprocess, 28.3ms inference, 1.6ms postprocess per image at shape (1, 3, 640, 640)\n"
          ]
        },
        {
          "output_type": "stream",
          "name": "stdout",
          "text": [
            "Yolo class 1, yolo conf 0.3416531980037689, Hugs class 1\n",
            "/content/TESTdataset/73.jpg\n"
          ]
        },
        {
          "output_type": "stream",
          "name": "stderr",
          "text": [
            "WARNING ⚠️ 'Boxes.boxes' is deprecated. Use 'Boxes.data' instead.\n",
            "<ipython-input-60-051a0d118cd5>:8: FutureWarning: The frame.append method is deprecated and will be removed from pandas in a future version. Use pandas.concat instead.\n",
            "  SUBM.append({'name': filepath, 'class': clas}, ignore_index=True)\n",
            "\n",
            "0: 608x640 1 klikun, 1 mal, 37.2ms\n",
            "Speed: 3.7ms preprocess, 37.2ms inference, 1.5ms postprocess per image at shape (1, 3, 640, 640)\n"
          ]
        },
        {
          "output_type": "stream",
          "name": "stdout",
          "text": [
            "Yolo class 2, yolo conf 0.9164677262306213, Hugs class 2\n",
            "/content/TESTdataset/349.jpg\n"
          ]
        },
        {
          "output_type": "stream",
          "name": "stderr",
          "text": [
            "WARNING ⚠️ 'Boxes.boxes' is deprecated. Use 'Boxes.data' instead.\n",
            "<ipython-input-60-051a0d118cd5>:8: FutureWarning: The frame.append method is deprecated and will be removed from pandas in a future version. Use pandas.concat instead.\n",
            "  SUBM.append({'name': filepath, 'class': clas}, ignore_index=True)\n",
            "\n",
            "0: 640x640 1 klikun, 37.8ms\n",
            "Speed: 4.1ms preprocess, 37.8ms inference, 1.4ms postprocess per image at shape (1, 3, 640, 640)\n"
          ]
        },
        {
          "output_type": "stream",
          "name": "stdout",
          "text": [
            "Yolo class 0, yolo conf 0.24582462012767792, Hugs class 0\n",
            "/content/TESTdataset/395.jpg\n"
          ]
        },
        {
          "output_type": "stream",
          "name": "stderr",
          "text": [
            "WARNING ⚠️ 'Boxes.boxes' is deprecated. Use 'Boxes.data' instead.\n",
            "<ipython-input-60-051a0d118cd5>:8: FutureWarning: The frame.append method is deprecated and will be removed from pandas in a future version. Use pandas.concat instead.\n",
            "  SUBM.append({'name': filepath, 'class': clas}, ignore_index=True)\n",
            "\n",
            "0: 384x640 2 ships, 26.9ms\n",
            "Speed: 2.6ms preprocess, 26.9ms inference, 1.9ms postprocess per image at shape (1, 3, 640, 640)\n"
          ]
        },
        {
          "output_type": "stream",
          "name": "stdout",
          "text": [
            "Yolo class 0, yolo conf 0.9158867001533508, Hugs class 1\n",
            "/content/TESTdataset/135.jpg\n"
          ]
        },
        {
          "output_type": "stream",
          "name": "stderr",
          "text": [
            "WARNING ⚠️ 'Boxes.boxes' is deprecated. Use 'Boxes.data' instead.\n",
            "<ipython-input-60-051a0d118cd5>:8: FutureWarning: The frame.append method is deprecated and will be removed from pandas in a future version. Use pandas.concat instead.\n",
            "  SUBM.append({'name': filepath, 'class': clas}, ignore_index=True)\n",
            "\n",
            "0: 448x640 4 mals, 28.9ms\n",
            "Speed: 2.7ms preprocess, 28.9ms inference, 2.0ms postprocess per image at shape (1, 3, 640, 640)\n"
          ]
        },
        {
          "output_type": "stream",
          "name": "stdout",
          "text": [
            "Yolo class 2, yolo conf 0.8529798686504364, Hugs class 2\n",
            "/content/TESTdataset/81.jpg\n"
          ]
        },
        {
          "output_type": "stream",
          "name": "stderr",
          "text": [
            "WARNING ⚠️ 'Boxes.boxes' is deprecated. Use 'Boxes.data' instead.\n",
            "<ipython-input-60-051a0d118cd5>:8: FutureWarning: The frame.append method is deprecated and will be removed from pandas in a future version. Use pandas.concat instead.\n",
            "  SUBM.append({'name': filepath, 'class': clas}, ignore_index=True)\n",
            "\n",
            "0: 320x640 1 mal, 80.2ms\n",
            "Speed: 2.0ms preprocess, 80.2ms inference, 1.5ms postprocess per image at shape (1, 3, 640, 640)\n"
          ]
        },
        {
          "output_type": "stream",
          "name": "stdout",
          "text": [
            "Yolo class 1, yolo conf 0.5949498116970062, Hugs class 0\n",
            "/content/TESTdataset/504.jpg\n"
          ]
        },
        {
          "output_type": "stream",
          "name": "stderr",
          "text": [
            "WARNING ⚠️ 'Boxes.boxes' is deprecated. Use 'Boxes.data' instead.\n",
            "<ipython-input-60-051a0d118cd5>:8: FutureWarning: The frame.append method is deprecated and will be removed from pandas in a future version. Use pandas.concat instead.\n",
            "  SUBM.append({'name': filepath, 'class': clas}, ignore_index=True)\n",
            "\n",
            "0: 640x640 1 ship, 37.8ms\n",
            "Speed: 2.5ms preprocess, 37.8ms inference, 1.5ms postprocess per image at shape (1, 3, 640, 640)\n"
          ]
        },
        {
          "output_type": "stream",
          "name": "stdout",
          "text": [
            "Yolo class 1, yolo conf 0.6460180878639221, Hugs class 1\n",
            "/content/TESTdataset/422.jpg\n"
          ]
        },
        {
          "output_type": "stream",
          "name": "stderr",
          "text": [
            "WARNING ⚠️ 'Boxes.boxes' is deprecated. Use 'Boxes.data' instead.\n",
            "<ipython-input-60-051a0d118cd5>:8: FutureWarning: The frame.append method is deprecated and will be removed from pandas in a future version. Use pandas.concat instead.\n",
            "  SUBM.append({'name': filepath, 'class': clas}, ignore_index=True)\n",
            "\n",
            "0: 480x640 1 klikun, 29.5ms\n",
            "Speed: 3.4ms preprocess, 29.5ms inference, 2.2ms postprocess per image at shape (1, 3, 640, 640)\n"
          ]
        },
        {
          "output_type": "stream",
          "name": "stdout",
          "text": [
            "Yolo class 2, yolo conf 0.908401370048523, Hugs class 2\n",
            "/content/TESTdataset/402.jpg\n"
          ]
        },
        {
          "output_type": "stream",
          "name": "stderr",
          "text": [
            "WARNING ⚠️ 'Boxes.boxes' is deprecated. Use 'Boxes.data' instead.\n",
            "<ipython-input-60-051a0d118cd5>:8: FutureWarning: The frame.append method is deprecated and will be removed from pandas in a future version. Use pandas.concat instead.\n",
            "  SUBM.append({'name': filepath, 'class': clas}, ignore_index=True)\n",
            "\n",
            "0: 640x640 1 ship, 37.8ms\n",
            "Speed: 4.6ms preprocess, 37.8ms inference, 1.4ms postprocess per image at shape (1, 3, 640, 640)\n"
          ]
        },
        {
          "output_type": "stream",
          "name": "stdout",
          "text": [
            "Yolo class 0, yolo conf 0.5106185674667358, Hugs class 0\n",
            "/content/TESTdataset/221.jpg\n"
          ]
        },
        {
          "output_type": "stream",
          "name": "stderr",
          "text": [
            "WARNING ⚠️ 'Boxes.boxes' is deprecated. Use 'Boxes.data' instead.\n",
            "<ipython-input-60-051a0d118cd5>:8: FutureWarning: The frame.append method is deprecated and will be removed from pandas in a future version. Use pandas.concat instead.\n",
            "  SUBM.append({'name': filepath, 'class': clas}, ignore_index=True)\n",
            "\n",
            "0: 544x640 1 mal, 36.6ms\n",
            "Speed: 3.6ms preprocess, 36.6ms inference, 1.8ms postprocess per image at shape (1, 3, 640, 640)\n"
          ]
        },
        {
          "output_type": "stream",
          "name": "stdout",
          "text": [
            "Yolo class 2, yolo conf 0.6345103979110718, Hugs class 2\n",
            "/content/TESTdataset/495.jpg\n"
          ]
        },
        {
          "output_type": "stream",
          "name": "stderr",
          "text": [
            "WARNING ⚠️ 'Boxes.boxes' is deprecated. Use 'Boxes.data' instead.\n",
            "<ipython-input-60-051a0d118cd5>:8: FutureWarning: The frame.append method is deprecated and will be removed from pandas in a future version. Use pandas.concat instead.\n",
            "  SUBM.append({'name': filepath, 'class': clas}, ignore_index=True)\n",
            "\n",
            "0: 448x640 1 klikun, 29.0ms\n",
            "Speed: 3.3ms preprocess, 29.0ms inference, 2.3ms postprocess per image at shape (1, 3, 640, 640)\n"
          ]
        },
        {
          "output_type": "stream",
          "name": "stdout",
          "text": [
            "Yolo class 1, yolo conf 0.6950818300247192, Hugs class 0\n",
            "/content/TESTdataset/479.jpg\n"
          ]
        },
        {
          "output_type": "stream",
          "name": "stderr",
          "text": [
            "WARNING ⚠️ 'Boxes.boxes' is deprecated. Use 'Boxes.data' instead.\n",
            "<ipython-input-60-051a0d118cd5>:8: FutureWarning: The frame.append method is deprecated and will be removed from pandas in a future version. Use pandas.concat instead.\n",
            "  SUBM.append({'name': filepath, 'class': clas}, ignore_index=True)\n",
            "\n",
            "0: 576x640 1 ship, 36.6ms\n",
            "Speed: 7.0ms preprocess, 36.6ms inference, 1.9ms postprocess per image at shape (1, 3, 640, 640)\n"
          ]
        },
        {
          "output_type": "stream",
          "name": "stdout",
          "text": [
            "Yolo class 0, yolo conf 0.8712782859802246, Hugs class 1\n",
            "/content/TESTdataset/506.jpg\n"
          ]
        },
        {
          "output_type": "stream",
          "name": "stderr",
          "text": [
            "WARNING ⚠️ 'Boxes.boxes' is deprecated. Use 'Boxes.data' instead.\n",
            "<ipython-input-60-051a0d118cd5>:8: FutureWarning: The frame.append method is deprecated and will be removed from pandas in a future version. Use pandas.concat instead.\n",
            "  SUBM.append({'name': filepath, 'class': clas}, ignore_index=True)\n",
            "\n",
            "0: 416x640 1 mal, 28.5ms\n",
            "Speed: 2.2ms preprocess, 28.5ms inference, 2.4ms postprocess per image at shape (1, 3, 640, 640)\n"
          ]
        },
        {
          "output_type": "stream",
          "name": "stdout",
          "text": [
            "Yolo class 2, yolo conf 0.5146042704582214, Hugs class 2\n",
            "/content/TESTdataset/563.jpg\n"
          ]
        },
        {
          "output_type": "stream",
          "name": "stderr",
          "text": [
            "WARNING ⚠️ 'Boxes.boxes' is deprecated. Use 'Boxes.data' instead.\n",
            "<ipython-input-60-051a0d118cd5>:8: FutureWarning: The frame.append method is deprecated and will be removed from pandas in a future version. Use pandas.concat instead.\n",
            "  SUBM.append({'name': filepath, 'class': clas}, ignore_index=True)\n",
            "\n",
            "0: 480x640 1 ship, 29.4ms\n",
            "Speed: 3.2ms preprocess, 29.4ms inference, 2.2ms postprocess per image at shape (1, 3, 640, 640)\n"
          ]
        },
        {
          "output_type": "stream",
          "name": "stdout",
          "text": [
            "Yolo class 1, yolo conf 0.4670694172382355, Hugs class 1\n",
            "/content/TESTdataset/89.jpg\n"
          ]
        },
        {
          "output_type": "stream",
          "name": "stderr",
          "text": [
            "WARNING ⚠️ 'Boxes.boxes' is deprecated. Use 'Boxes.data' instead.\n",
            "<ipython-input-60-051a0d118cd5>:8: FutureWarning: The frame.append method is deprecated and will be removed from pandas in a future version. Use pandas.concat instead.\n",
            "  SUBM.append({'name': filepath, 'class': clas}, ignore_index=True)\n",
            "\n",
            "0: 480x640 1 ship, 28.2ms\n",
            "Speed: 3.0ms preprocess, 28.2ms inference, 2.1ms postprocess per image at shape (1, 3, 640, 640)\n"
          ]
        },
        {
          "output_type": "stream",
          "name": "stdout",
          "text": [
            "Yolo class 2, yolo conf 0.9303010106086731, Hugs class 2\n",
            "/content/TESTdataset/163.jpg\n"
          ]
        },
        {
          "output_type": "stream",
          "name": "stderr",
          "text": [
            "WARNING ⚠️ 'Boxes.boxes' is deprecated. Use 'Boxes.data' instead.\n",
            "<ipython-input-60-051a0d118cd5>:8: FutureWarning: The frame.append method is deprecated and will be removed from pandas in a future version. Use pandas.concat instead.\n",
            "  SUBM.append({'name': filepath, 'class': clas}, ignore_index=True)\n",
            "\n",
            "0: 640x640 1 klikun, 2 mals, 40.9ms\n",
            "Speed: 2.8ms preprocess, 40.9ms inference, 2.1ms postprocess per image at shape (1, 3, 640, 640)\n"
          ]
        },
        {
          "output_type": "stream",
          "name": "stdout",
          "text": [
            "Yolo class 2, yolo conf 0.9094865918159485, Hugs class 2\n",
            "/content/TESTdataset/16.jpg\n"
          ]
        },
        {
          "output_type": "stream",
          "name": "stderr",
          "text": [
            "WARNING ⚠️ 'Boxes.boxes' is deprecated. Use 'Boxes.data' instead.\n",
            "<ipython-input-60-051a0d118cd5>:8: FutureWarning: The frame.append method is deprecated and will be removed from pandas in a future version. Use pandas.concat instead.\n",
            "  SUBM.append({'name': filepath, 'class': clas}, ignore_index=True)\n",
            "\n",
            "0: 448x640 4 klikuns, 29.1ms\n",
            "Speed: 3.0ms preprocess, 29.1ms inference, 2.2ms postprocess per image at shape (1, 3, 640, 640)\n"
          ]
        },
        {
          "output_type": "stream",
          "name": "stdout",
          "text": [
            "Yolo class 1, yolo conf 0.4175782998402913, Hugs class 1\n",
            "/content/TESTdataset/62.jpg\n"
          ]
        },
        {
          "output_type": "stream",
          "name": "stderr",
          "text": [
            "WARNING ⚠️ 'Boxes.boxes' is deprecated. Use 'Boxes.data' instead.\n",
            "<ipython-input-60-051a0d118cd5>:8: FutureWarning: The frame.append method is deprecated and will be removed from pandas in a future version. Use pandas.concat instead.\n",
            "  SUBM.append({'name': filepath, 'class': clas}, ignore_index=True)\n",
            "\n",
            "0: 448x640 1 klikun, 27.8ms\n",
            "Speed: 3.2ms preprocess, 27.8ms inference, 1.9ms postprocess per image at shape (1, 3, 640, 640)\n"
          ]
        },
        {
          "output_type": "stream",
          "name": "stdout",
          "text": [
            "Yolo class 0, yolo conf 0.6940669938921928, Hugs class 1\n",
            "/content/TESTdataset/183.jpg\n"
          ]
        },
        {
          "output_type": "stream",
          "name": "stderr",
          "text": [
            "WARNING ⚠️ 'Boxes.boxes' is deprecated. Use 'Boxes.data' instead.\n",
            "<ipython-input-60-051a0d118cd5>:8: FutureWarning: The frame.append method is deprecated and will be removed from pandas in a future version. Use pandas.concat instead.\n",
            "  SUBM.append({'name': filepath, 'class': clas}, ignore_index=True)\n",
            "\n",
            "0: 640x480 2 ships, 29.0ms\n",
            "Speed: 3.3ms preprocess, 29.0ms inference, 1.4ms postprocess per image at shape (1, 3, 640, 640)\n"
          ]
        },
        {
          "output_type": "stream",
          "name": "stdout",
          "text": [
            "Yolo class 0, yolo conf 0.4594458341598511, Hugs class 0\n",
            "/content/TESTdataset/588.jpg\n"
          ]
        },
        {
          "output_type": "stream",
          "name": "stderr",
          "text": [
            "WARNING ⚠️ 'Boxes.boxes' is deprecated. Use 'Boxes.data' instead.\n",
            "<ipython-input-60-051a0d118cd5>:8: FutureWarning: The frame.append method is deprecated and will be removed from pandas in a future version. Use pandas.concat instead.\n",
            "  SUBM.append({'name': filepath, 'class': clas}, ignore_index=True)\n",
            "\n",
            "0: 640x448 1 klikun, 28.6ms\n",
            "Speed: 3.3ms preprocess, 28.6ms inference, 1.5ms postprocess per image at shape (1, 3, 640, 640)\n"
          ]
        },
        {
          "output_type": "stream",
          "name": "stdout",
          "text": [
            "Yolo class 2, yolo conf 0.8411754071712494, Hugs class 2\n",
            "/content/TESTdataset/234.jpg\n"
          ]
        },
        {
          "output_type": "stream",
          "name": "stderr",
          "text": [
            "WARNING ⚠️ 'Boxes.boxes' is deprecated. Use 'Boxes.data' instead.\n",
            "<ipython-input-60-051a0d118cd5>:8: FutureWarning: The frame.append method is deprecated and will be removed from pandas in a future version. Use pandas.concat instead.\n",
            "  SUBM.append({'name': filepath, 'class': clas}, ignore_index=True)\n",
            "\n",
            "0: 480x640 1 mal, 29.5ms\n",
            "Speed: 3.1ms preprocess, 29.5ms inference, 2.1ms postprocess per image at shape (1, 3, 640, 640)\n"
          ]
        },
        {
          "output_type": "stream",
          "name": "stdout",
          "text": [
            "Yolo class 0, yolo conf 0.9125601649284363, Hugs class 1\n",
            "/content/TESTdataset/217.jpg\n"
          ]
        },
        {
          "output_type": "stream",
          "name": "stderr",
          "text": [
            "WARNING ⚠️ 'Boxes.boxes' is deprecated. Use 'Boxes.data' instead.\n",
            "<ipython-input-60-051a0d118cd5>:8: FutureWarning: The frame.append method is deprecated and will be removed from pandas in a future version. Use pandas.concat instead.\n",
            "  SUBM.append({'name': filepath, 'class': clas}, ignore_index=True)\n",
            "\n",
            "0: 480x640 2 klikuns, 1 ship, 28.6ms\n",
            "Speed: 3.5ms preprocess, 28.6ms inference, 1.5ms postprocess per image at shape (1, 3, 640, 640)\n"
          ]
        },
        {
          "output_type": "stream",
          "name": "stdout",
          "text": [
            "Yolo class 1, yolo conf 0.8835261464118958, Hugs class 0\n",
            "/content/TESTdataset/482.jpg\n"
          ]
        },
        {
          "output_type": "stream",
          "name": "stderr",
          "text": [
            "WARNING ⚠️ 'Boxes.boxes' is deprecated. Use 'Boxes.data' instead.\n",
            "<ipython-input-60-051a0d118cd5>:8: FutureWarning: The frame.append method is deprecated and will be removed from pandas in a future version. Use pandas.concat instead.\n",
            "  SUBM.append({'name': filepath, 'class': clas}, ignore_index=True)\n",
            "\n",
            "0: 480x640 1 ship, 28.3ms\n",
            "Speed: 3.6ms preprocess, 28.3ms inference, 1.6ms postprocess per image at shape (1, 3, 640, 640)\n"
          ]
        },
        {
          "output_type": "stream",
          "name": "stdout",
          "text": [
            "Yolo class 0, yolo conf 0.38389480113983154, Hugs class 1\n",
            "/content/TESTdataset/209.jpg\n"
          ]
        },
        {
          "output_type": "stream",
          "name": "stderr",
          "text": [
            "WARNING ⚠️ 'Boxes.boxes' is deprecated. Use 'Boxes.data' instead.\n",
            "<ipython-input-60-051a0d118cd5>:8: FutureWarning: The frame.append method is deprecated and will be removed from pandas in a future version. Use pandas.concat instead.\n",
            "  SUBM.append({'name': filepath, 'class': clas}, ignore_index=True)\n",
            "\n",
            "0: 512x640 1 klikun, 32.9ms\n",
            "Speed: 3.0ms preprocess, 32.9ms inference, 1.9ms postprocess per image at shape (1, 3, 640, 640)\n"
          ]
        },
        {
          "output_type": "stream",
          "name": "stdout",
          "text": [
            "Yolo class 2, yolo conf 0.28811773657798767, Hugs class 1\n",
            "/content/TESTdataset/145.jpg\n"
          ]
        },
        {
          "output_type": "stream",
          "name": "stderr",
          "text": [
            "WARNING ⚠️ 'Boxes.boxes' is deprecated. Use 'Boxes.data' instead.\n",
            "<ipython-input-60-051a0d118cd5>:8: FutureWarning: The frame.append method is deprecated and will be removed from pandas in a future version. Use pandas.concat instead.\n",
            "  SUBM.append({'name': filepath, 'class': clas}, ignore_index=True)\n",
            "\n",
            "0: 448x640 2 mals, 28.8ms\n",
            "Speed: 2.8ms preprocess, 28.8ms inference, 1.6ms postprocess per image at shape (1, 3, 640, 640)\n"
          ]
        },
        {
          "output_type": "stream",
          "name": "stdout",
          "text": [
            "Yolo class 0, yolo conf 0.6702949404716492, Hugs class 2\n",
            "/content/TESTdataset/507.jpg\n"
          ]
        },
        {
          "output_type": "stream",
          "name": "stderr",
          "text": [
            "WARNING ⚠️ 'Boxes.boxes' is deprecated. Use 'Boxes.data' instead.\n",
            "<ipython-input-60-051a0d118cd5>:8: FutureWarning: The frame.append method is deprecated and will be removed from pandas in a future version. Use pandas.concat instead.\n",
            "  SUBM.append({'name': filepath, 'class': clas}, ignore_index=True)\n",
            "\n",
            "0: 480x640 1 ship, 29.2ms\n",
            "Speed: 3.3ms preprocess, 29.2ms inference, 1.9ms postprocess per image at shape (1, 3, 640, 640)\n"
          ]
        },
        {
          "output_type": "stream",
          "name": "stdout",
          "text": [
            "Yolo class 1, yolo conf 0.5201542377471924, Hugs class 0\n",
            "/content/TESTdataset/129.jpg\n"
          ]
        },
        {
          "output_type": "stream",
          "name": "stderr",
          "text": [
            "WARNING ⚠️ 'Boxes.boxes' is deprecated. Use 'Boxes.data' instead.\n",
            "<ipython-input-60-051a0d118cd5>:8: FutureWarning: The frame.append method is deprecated and will be removed from pandas in a future version. Use pandas.concat instead.\n",
            "  SUBM.append({'name': filepath, 'class': clas}, ignore_index=True)\n",
            "\n",
            "0: 640x416 1 mal, 28.5ms\n",
            "Speed: 2.7ms preprocess, 28.5ms inference, 1.9ms postprocess per image at shape (1, 3, 640, 640)\n",
            "WARNING ⚠️ 'Boxes.boxes' is deprecated. Use 'Boxes.data' instead.\n",
            "<ipython-input-60-051a0d118cd5>:8: FutureWarning: The frame.append method is deprecated and will be removed from pandas in a future version. Use pandas.concat instead.\n",
            "  SUBM.append({'name': filepath, 'class': clas}, ignore_index=True)\n",
            "\n",
            "0: 448x640 2 klikuns, 1 mal, 28.9ms\n",
            "Speed: 3.3ms preprocess, 28.9ms inference, 1.5ms postprocess per image at shape (1, 3, 640, 640)\n"
          ]
        },
        {
          "output_type": "stream",
          "name": "stdout",
          "text": [
            "Yolo class 2, yolo conf 0.9380537867546082, Hugs class 2\n",
            "/content/TESTdataset/71.jpg\n",
            "HUGS FAILED ON /content/TESTdataset/71.jpg\n",
            "Yolo class 1, yolo conf 0.889837920665741, Hugs class -1\n",
            "/content/TESTdataset/447.jpg\n"
          ]
        },
        {
          "output_type": "stream",
          "name": "stderr",
          "text": [
            "WARNING ⚠️ 'Boxes.boxes' is deprecated. Use 'Boxes.data' instead.\n",
            "<ipython-input-60-051a0d118cd5>:8: FutureWarning: The frame.append method is deprecated and will be removed from pandas in a future version. Use pandas.concat instead.\n",
            "  SUBM.append({'name': filepath, 'class': clas}, ignore_index=True)\n",
            "\n",
            "0: 640x608 2 mals, 39.0ms\n",
            "Speed: 3.5ms preprocess, 39.0ms inference, 1.9ms postprocess per image at shape (1, 3, 640, 640)\n",
            "WARNING ⚠️ 'Boxes.boxes' is deprecated. Use 'Boxes.data' instead.\n",
            "<ipython-input-60-051a0d118cd5>:8: FutureWarning: The frame.append method is deprecated and will be removed from pandas in a future version. Use pandas.concat instead.\n",
            "  SUBM.append({'name': filepath, 'class': clas}, ignore_index=True)\n",
            "\n"
          ]
        },
        {
          "output_type": "stream",
          "name": "stdout",
          "text": [
            "Yolo class 0, yolo conf 0.3124539752801259, Hugs class 1\n",
            "/content/TESTdataset/141.jpg\n",
            "HUGS FAILED ON /content/TESTdataset/141.jpg\n",
            "Yolo class 1, yolo conf 0.9059917628765106, Hugs class -1\n",
            "/content/TESTdataset/552.jpg\n"
          ]
        },
        {
          "output_type": "stream",
          "name": "stderr",
          "text": [
            "0: 640x640 1 ship, 38.0ms\n",
            "Speed: 4.4ms preprocess, 38.0ms inference, 1.4ms postprocess per image at shape (1, 3, 640, 640)\n",
            "WARNING ⚠️ 'Boxes.boxes' is deprecated. Use 'Boxes.data' instead.\n",
            "<ipython-input-60-051a0d118cd5>:8: FutureWarning: The frame.append method is deprecated and will be removed from pandas in a future version. Use pandas.concat instead.\n",
            "  SUBM.append({'name': filepath, 'class': clas}, ignore_index=True)\n",
            "\n",
            "0: 448x640 1 klikun, 28.9ms\n",
            "Speed: 3.0ms preprocess, 28.9ms inference, 1.9ms postprocess per image at shape (1, 3, 640, 640)\n"
          ]
        },
        {
          "output_type": "stream",
          "name": "stdout",
          "text": [
            "Yolo class 2, yolo conf 0.8103817105293274, Hugs class 2\n",
            "/content/TESTdataset/558.jpg\n"
          ]
        },
        {
          "output_type": "stream",
          "name": "stderr",
          "text": [
            "WARNING ⚠️ 'Boxes.boxes' is deprecated. Use 'Boxes.data' instead.\n",
            "<ipython-input-60-051a0d118cd5>:8: FutureWarning: The frame.append method is deprecated and will be removed from pandas in a future version. Use pandas.concat instead.\n",
            "  SUBM.append({'name': filepath, 'class': clas}, ignore_index=True)\n",
            "\n",
            "0: 480x640 1 ship, 29.2ms\n",
            "Speed: 3.3ms preprocess, 29.2ms inference, 1.8ms postprocess per image at shape (1, 3, 640, 640)\n"
          ]
        },
        {
          "output_type": "stream",
          "name": "stdout",
          "text": [
            "Yolo class 0, yolo conf 0.6903486251831055, Hugs class 1\n",
            "/content/TESTdataset/550.jpg\n"
          ]
        },
        {
          "output_type": "stream",
          "name": "stderr",
          "text": [
            "WARNING ⚠️ 'Boxes.boxes' is deprecated. Use 'Boxes.data' instead.\n",
            "<ipython-input-60-051a0d118cd5>:8: FutureWarning: The frame.append method is deprecated and will be removed from pandas in a future version. Use pandas.concat instead.\n",
            "  SUBM.append({'name': filepath, 'class': clas}, ignore_index=True)\n",
            "\n",
            "0: 448x640 1 ship, 28.9ms\n",
            "Speed: 3.3ms preprocess, 28.9ms inference, 1.9ms postprocess per image at shape (1, 3, 640, 640)\n"
          ]
        },
        {
          "output_type": "stream",
          "name": "stdout",
          "text": [
            "Yolo class 2, yolo conf 0.9458569884300232, Hugs class 2\n",
            "/content/TESTdataset/67.jpg\n"
          ]
        },
        {
          "output_type": "stream",
          "name": "stderr",
          "text": [
            "WARNING ⚠️ 'Boxes.boxes' is deprecated. Use 'Boxes.data' instead.\n",
            "<ipython-input-60-051a0d118cd5>:8: FutureWarning: The frame.append method is deprecated and will be removed from pandas in a future version. Use pandas.concat instead.\n",
            "  SUBM.append({'name': filepath, 'class': clas}, ignore_index=True)\n",
            "\n",
            "0: 640x480 2 ships, 29.1ms\n",
            "Speed: 3.6ms preprocess, 29.1ms inference, 1.8ms postprocess per image at shape (1, 3, 640, 640)\n"
          ]
        },
        {
          "output_type": "stream",
          "name": "stdout",
          "text": [
            "Yolo class 2, yolo conf 0.9179227948188782, Hugs class 2\n",
            "/content/TESTdataset/592.jpg\n"
          ]
        },
        {
          "output_type": "stream",
          "name": "stderr",
          "text": [
            "WARNING ⚠️ 'Boxes.boxes' is deprecated. Use 'Boxes.data' instead.\n",
            "<ipython-input-60-051a0d118cd5>:8: FutureWarning: The frame.append method is deprecated and will be removed from pandas in a future version. Use pandas.concat instead.\n",
            "  SUBM.append({'name': filepath, 'class': clas}, ignore_index=True)\n",
            "\n",
            "0: 640x448 2 ships, 28.8ms\n",
            "Speed: 2.9ms preprocess, 28.8ms inference, 1.9ms postprocess per image at shape (1, 3, 640, 640)\n"
          ]
        },
        {
          "output_type": "stream",
          "name": "stdout",
          "text": [
            "Yolo class 2, yolo conf 0.5763964653015137, Hugs class 2\n",
            "/content/TESTdataset/518.jpg\n"
          ]
        },
        {
          "output_type": "stream",
          "name": "stderr",
          "text": [
            "WARNING ⚠️ 'Boxes.boxes' is deprecated. Use 'Boxes.data' instead.\n",
            "<ipython-input-60-051a0d118cd5>:8: FutureWarning: The frame.append method is deprecated and will be removed from pandas in a future version. Use pandas.concat instead.\n",
            "  SUBM.append({'name': filepath, 'class': clas}, ignore_index=True)\n",
            "\n",
            "0: 384x640 1 klikun, 1 mal, 26.9ms\n",
            "Speed: 2.7ms preprocess, 26.9ms inference, 1.6ms postprocess per image at shape (1, 3, 640, 640)\n",
            "WARNING ⚠️ 'Boxes.boxes' is deprecated. Use 'Boxes.data' instead.\n",
            "<ipython-input-60-051a0d118cd5>:8: FutureWarning: The frame.append method is deprecated and will be removed from pandas in a future version. Use pandas.concat instead.\n",
            "  SUBM.append({'name': filepath, 'class': clas}, ignore_index=True)\n",
            "\n",
            "0: 448x640 5 mals, 28.8ms\n",
            "Speed: 2.8ms preprocess, 28.8ms inference, 1.9ms postprocess per image at shape (1, 3, 640, 640)\n"
          ]
        },
        {
          "output_type": "stream",
          "name": "stdout",
          "text": [
            "Yolo class 2, yolo conf 0.8872969150543213, Hugs class 2\n",
            "/content/TESTdataset/232.jpg\n",
            "HUGS FAILED ON /content/TESTdataset/232.jpg\n",
            "Yolo class 1, yolo conf 0.20957277715206146, Hugs class -1\n",
            "/content/TESTdataset/390.jpg\n"
          ]
        },
        {
          "output_type": "stream",
          "name": "stderr",
          "text": [
            "WARNING ⚠️ 'Boxes.boxes' is deprecated. Use 'Boxes.data' instead.\n",
            "<ipython-input-60-051a0d118cd5>:8: FutureWarning: The frame.append method is deprecated and will be removed from pandas in a future version. Use pandas.concat instead.\n",
            "  SUBM.append({'name': filepath, 'class': clas}, ignore_index=True)\n",
            "\n",
            "0: 448x640 1 ship, 31.8ms\n",
            "Speed: 2.9ms preprocess, 31.8ms inference, 2.2ms postprocess per image at shape (1, 3, 640, 640)\n"
          ]
        },
        {
          "output_type": "stream",
          "name": "stdout",
          "text": [
            "Yolo class 1, yolo conf 0.4864330291748047, Hugs class 0\n",
            "/content/TESTdataset/220.jpg\n"
          ]
        },
        {
          "output_type": "stream",
          "name": "stderr",
          "text": [
            "WARNING ⚠️ 'Boxes.boxes' is deprecated. Use 'Boxes.data' instead.\n",
            "<ipython-input-60-051a0d118cd5>:8: FutureWarning: The frame.append method is deprecated and will be removed from pandas in a future version. Use pandas.concat instead.\n",
            "  SUBM.append({'name': filepath, 'class': clas}, ignore_index=True)\n",
            "\n",
            "0: 448x640 1 klikun, 27.9ms\n",
            "Speed: 2.9ms preprocess, 27.9ms inference, 4.6ms postprocess per image at shape (1, 3, 640, 640)\n"
          ]
        },
        {
          "output_type": "stream",
          "name": "stdout",
          "text": [
            "Yolo class 2, yolo conf 0.9172824025154114, Hugs class 2\n",
            "/content/TESTdataset/175.jpg\n"
          ]
        },
        {
          "output_type": "stream",
          "name": "stderr",
          "text": [
            "WARNING ⚠️ 'Boxes.boxes' is deprecated. Use 'Boxes.data' instead.\n",
            "<ipython-input-60-051a0d118cd5>:8: FutureWarning: The frame.append method is deprecated and will be removed from pandas in a future version. Use pandas.concat instead.\n",
            "  SUBM.append({'name': filepath, 'class': clas}, ignore_index=True)\n",
            "\n",
            "0: 448x640 1 mal, 27.9ms\n",
            "Speed: 3.4ms preprocess, 27.9ms inference, 2.1ms postprocess per image at shape (1, 3, 640, 640)\n"
          ]
        },
        {
          "output_type": "stream",
          "name": "stdout",
          "text": [
            "Yolo class 0, yolo conf 0.9091717600822449, Hugs class 1\n",
            "/content/TESTdataset/449.jpg\n"
          ]
        },
        {
          "output_type": "stream",
          "name": "stderr",
          "text": [
            "WARNING ⚠️ 'Boxes.boxes' is deprecated. Use 'Boxes.data' instead.\n",
            "<ipython-input-60-051a0d118cd5>:8: FutureWarning: The frame.append method is deprecated and will be removed from pandas in a future version. Use pandas.concat instead.\n",
            "  SUBM.append({'name': filepath, 'class': clas}, ignore_index=True)\n",
            "\n",
            "0: 640x512 2 klikuns, 1 mal, 1 ship, 33.0ms\n",
            "Speed: 3.4ms preprocess, 33.0ms inference, 1.5ms postprocess per image at shape (1, 3, 640, 640)\n",
            "WARNING ⚠️ 'Boxes.boxes' is deprecated. Use 'Boxes.data' instead.\n",
            "<ipython-input-60-051a0d118cd5>:8: FutureWarning: The frame.append method is deprecated and will be removed from pandas in a future version. Use pandas.concat instead.\n",
            "  SUBM.append({'name': filepath, 'class': clas}, ignore_index=True)\n",
            "\n",
            "0: 512x640 1 klikun, 29.5ms\n",
            "Speed: 3.4ms preprocess, 29.5ms inference, 1.6ms postprocess per image at shape (1, 3, 640, 640)\n"
          ]
        },
        {
          "output_type": "stream",
          "name": "stdout",
          "text": [
            "Yolo class 1, yolo conf 0.7888355851173401, Hugs class 0\n",
            "/content/TESTdataset/352.jpg\n",
            "HUGS FAILED ON /content/TESTdataset/352.jpg\n",
            "Yolo class 0, yolo conf 0.18457338213920593, Hugs class -1\n",
            "/content/TESTdataset/37.jpg\n"
          ]
        },
        {
          "output_type": "stream",
          "name": "stderr",
          "text": [
            "WARNING ⚠️ 'Boxes.boxes' is deprecated. Use 'Boxes.data' instead.\n",
            "<ipython-input-60-051a0d118cd5>:8: FutureWarning: The frame.append method is deprecated and will be removed from pandas in a future version. Use pandas.concat instead.\n",
            "  SUBM.append({'name': filepath, 'class': clas}, ignore_index=True)\n",
            "\n",
            "0: 608x640 1 klikun, 37.2ms\n",
            "Speed: 3.1ms preprocess, 37.2ms inference, 1.9ms postprocess per image at shape (1, 3, 640, 640)\n",
            "WARNING ⚠️ 'Boxes.boxes' is deprecated. Use 'Boxes.data' instead.\n",
            "<ipython-input-60-051a0d118cd5>:8: FutureWarning: The frame.append method is deprecated and will be removed from pandas in a future version. Use pandas.concat instead.\n",
            "  SUBM.append({'name': filepath, 'class': clas}, ignore_index=True)\n",
            "\n",
            "0: 480x640 1 klikun, 29.0ms\n",
            "Speed: 3.5ms preprocess, 29.0ms inference, 1.5ms postprocess per image at shape (1, 3, 640, 640)\n"
          ]
        },
        {
          "output_type": "stream",
          "name": "stdout",
          "text": [
            "Yolo class 0, yolo conf 0.44969892501831055, Hugs class 1\n",
            "/content/TESTdataset/35.jpg\n",
            "HUGS FAILED ON /content/TESTdataset/35.jpg\n",
            "Yolo class 0, yolo conf 0.4498324990272522, Hugs class -1\n",
            "/content/TESTdataset/286.jpg\n"
          ]
        },
        {
          "output_type": "stream",
          "name": "stderr",
          "text": [
            "WARNING ⚠️ 'Boxes.boxes' is deprecated. Use 'Boxes.data' instead.\n",
            "<ipython-input-60-051a0d118cd5>:8: FutureWarning: The frame.append method is deprecated and will be removed from pandas in a future version. Use pandas.concat instead.\n",
            "  SUBM.append({'name': filepath, 'class': clas}, ignore_index=True)\n",
            "\n",
            "0: 640x448 1 mal, 29.3ms\n",
            "Speed: 3.4ms preprocess, 29.3ms inference, 1.6ms postprocess per image at shape (1, 3, 640, 640)\n",
            "WARNING ⚠️ 'Boxes.boxes' is deprecated. Use 'Boxes.data' instead.\n",
            "<ipython-input-60-051a0d118cd5>:8: FutureWarning: The frame.append method is deprecated and will be removed from pandas in a future version. Use pandas.concat instead.\n",
            "  SUBM.append({'name': filepath, 'class': clas}, ignore_index=True)\n",
            "\n",
            "0: 448x640 1 klikun, 28.7ms\n",
            "Speed: 3.2ms preprocess, 28.7ms inference, 1.4ms postprocess per image at shape (1, 3, 640, 640)\n"
          ]
        },
        {
          "output_type": "stream",
          "name": "stdout",
          "text": [
            "Yolo class 0, yolo conf 0.8113062977790833, Hugs class 1\n",
            "/content/TESTdataset/196.jpg\n",
            "HUGS FAILED ON /content/TESTdataset/196.jpg\n",
            "Yolo class 1, yolo conf 0.9203595519065857, Hugs class -1\n",
            "/content/TESTdataset/520.jpg\n"
          ]
        },
        {
          "output_type": "stream",
          "name": "stderr",
          "text": [
            "WARNING ⚠️ 'Boxes.boxes' is deprecated. Use 'Boxes.data' instead.\n",
            "<ipython-input-60-051a0d118cd5>:8: FutureWarning: The frame.append method is deprecated and will be removed from pandas in a future version. Use pandas.concat instead.\n",
            "  SUBM.append({'name': filepath, 'class': clas}, ignore_index=True)\n",
            "\n",
            "0: 288x640 1 klikun, 22.8ms\n",
            "Speed: 2.2ms preprocess, 22.8ms inference, 1.7ms postprocess per image at shape (1, 3, 640, 640)\n"
          ]
        },
        {
          "output_type": "stream",
          "name": "stdout",
          "text": [
            "Yolo class 0, yolo conf 0.4425567388534546, Hugs class 1\n",
            "/content/TESTdataset/123.jpg\n"
          ]
        },
        {
          "output_type": "stream",
          "name": "stderr",
          "text": [
            "WARNING ⚠️ 'Boxes.boxes' is deprecated. Use 'Boxes.data' instead.\n",
            "<ipython-input-60-051a0d118cd5>:8: FutureWarning: The frame.append method is deprecated and will be removed from pandas in a future version. Use pandas.concat instead.\n",
            "  SUBM.append({'name': filepath, 'class': clas}, ignore_index=True)\n",
            "\n",
            "0: 448x640 1 klikun, 28.9ms\n",
            "Speed: 2.7ms preprocess, 28.9ms inference, 2.5ms postprocess per image at shape (1, 3, 640, 640)\n"
          ]
        },
        {
          "output_type": "stream",
          "name": "stdout",
          "text": [
            "Yolo class 0, yolo conf 0.9287927150726318, Hugs class 1\n",
            "/content/TESTdataset/179.jpg\n"
          ]
        },
        {
          "output_type": "stream",
          "name": "stderr",
          "text": [
            "WARNING ⚠️ 'Boxes.boxes' is deprecated. Use 'Boxes.data' instead.\n",
            "<ipython-input-60-051a0d118cd5>:8: FutureWarning: The frame.append method is deprecated and will be removed from pandas in a future version. Use pandas.concat instead.\n",
            "  SUBM.append({'name': filepath, 'class': clas}, ignore_index=True)\n",
            "\n",
            "0: 416x640 1 ship, 28.6ms\n",
            "Speed: 2.6ms preprocess, 28.6ms inference, 2.2ms postprocess per image at shape (1, 3, 640, 640)\n"
          ]
        },
        {
          "output_type": "stream",
          "name": "stdout",
          "text": [
            "Yolo class 0, yolo conf 0.7904696464538574, Hugs class 1\n",
            "/content/TESTdataset/310.jpg\n"
          ]
        },
        {
          "output_type": "stream",
          "name": "stderr",
          "text": [
            "WARNING ⚠️ 'Boxes.boxes' is deprecated. Use 'Boxes.data' instead.\n",
            "<ipython-input-60-051a0d118cd5>:8: FutureWarning: The frame.append method is deprecated and will be removed from pandas in a future version. Use pandas.concat instead.\n",
            "  SUBM.append({'name': filepath, 'class': clas}, ignore_index=True)\n",
            "\n",
            "0: 320x640 3 mals, 23.6ms\n",
            "Speed: 2.1ms preprocess, 23.6ms inference, 1.9ms postprocess per image at shape (1, 3, 640, 640)\n"
          ]
        },
        {
          "output_type": "stream",
          "name": "stdout",
          "text": [
            "Yolo class 2, yolo conf 0.9304168820381165, Hugs class 2\n",
            "/content/TESTdataset/118.jpg\n"
          ]
        },
        {
          "output_type": "stream",
          "name": "stderr",
          "text": [
            "WARNING ⚠️ 'Boxes.boxes' is deprecated. Use 'Boxes.data' instead.\n",
            "<ipython-input-60-051a0d118cd5>:8: FutureWarning: The frame.append method is deprecated and will be removed from pandas in a future version. Use pandas.concat instead.\n",
            "  SUBM.append({'name': filepath, 'class': clas}, ignore_index=True)\n",
            "\n",
            "0: 480x640 1 klikun, 1 ship, 29.1ms\n",
            "Speed: 3.4ms preprocess, 29.1ms inference, 1.5ms postprocess per image at shape (1, 3, 640, 640)\n"
          ]
        },
        {
          "output_type": "stream",
          "name": "stdout",
          "text": [
            "Yolo class 1, yolo conf 0.9015365839004517, Hugs class 0\n",
            "/content/TESTdataset/553.jpg\n"
          ]
        },
        {
          "output_type": "stream",
          "name": "stderr",
          "text": [
            "WARNING ⚠️ 'Boxes.boxes' is deprecated. Use 'Boxes.data' instead.\n",
            "<ipython-input-60-051a0d118cd5>:8: FutureWarning: The frame.append method is deprecated and will be removed from pandas in a future version. Use pandas.concat instead.\n",
            "  SUBM.append({'name': filepath, 'class': clas}, ignore_index=True)\n",
            "\n",
            "0: 448x640 1 ship, 28.9ms\n",
            "Speed: 3.3ms preprocess, 28.9ms inference, 1.5ms postprocess per image at shape (1, 3, 640, 640)\n"
          ]
        },
        {
          "output_type": "stream",
          "name": "stdout",
          "text": [
            "Yolo class 0, yolo conf 0.37414613366127014, Hugs class 1\n",
            "/content/TESTdataset/410.jpg\n"
          ]
        },
        {
          "output_type": "stream",
          "name": "stderr",
          "text": [
            "WARNING ⚠️ 'Boxes.boxes' is deprecated. Use 'Boxes.data' instead.\n",
            "<ipython-input-60-051a0d118cd5>:8: FutureWarning: The frame.append method is deprecated and will be removed from pandas in a future version. Use pandas.concat instead.\n",
            "  SUBM.append({'name': filepath, 'class': clas}, ignore_index=True)\n",
            "\n",
            "0: 448x640 2 mals, 27.9ms\n",
            "Speed: 3.0ms preprocess, 27.9ms inference, 1.9ms postprocess per image at shape (1, 3, 640, 640)\n"
          ]
        },
        {
          "output_type": "stream",
          "name": "stdout",
          "text": [
            "Yolo class 2, yolo conf 0.6039997339248657, Hugs class 0\n",
            "/content/TESTdataset/274.jpg\n"
          ]
        },
        {
          "output_type": "stream",
          "name": "stderr",
          "text": [
            "WARNING ⚠️ 'Boxes.boxes' is deprecated. Use 'Boxes.data' instead.\n",
            "<ipython-input-60-051a0d118cd5>:8: FutureWarning: The frame.append method is deprecated and will be removed from pandas in a future version. Use pandas.concat instead.\n",
            "  SUBM.append({'name': filepath, 'class': clas}, ignore_index=True)\n",
            "\n",
            "0: 448x640 1 klikun, 27.9ms\n",
            "Speed: 2.8ms preprocess, 27.9ms inference, 2.0ms postprocess per image at shape (1, 3, 640, 640)\n"
          ]
        },
        {
          "output_type": "stream",
          "name": "stdout",
          "text": [
            "Yolo class 1, yolo conf 0.5364601910114288, Hugs class 0\n",
            "/content/TESTdataset/266.jpg\n"
          ]
        },
        {
          "output_type": "stream",
          "name": "stderr",
          "text": [
            "WARNING ⚠️ 'Boxes.boxes' is deprecated. Use 'Boxes.data' instead.\n",
            "<ipython-input-60-051a0d118cd5>:8: FutureWarning: The frame.append method is deprecated and will be removed from pandas in a future version. Use pandas.concat instead.\n",
            "  SUBM.append({'name': filepath, 'class': clas}, ignore_index=True)\n",
            "\n",
            "0: 608x640 1 ship, 37.3ms\n",
            "Speed: 7.4ms preprocess, 37.3ms inference, 1.7ms postprocess per image at shape (1, 3, 640, 640)\n"
          ]
        },
        {
          "output_type": "stream",
          "name": "stdout",
          "text": [
            "Yolo class 0, yolo conf 0.565904438495636, Hugs class 0\n",
            "/content/TESTdataset/477.jpg\n"
          ]
        },
        {
          "output_type": "stream",
          "name": "stderr",
          "text": [
            "WARNING ⚠️ 'Boxes.boxes' is deprecated. Use 'Boxes.data' instead.\n",
            "<ipython-input-60-051a0d118cd5>:8: FutureWarning: The frame.append method is deprecated and will be removed from pandas in a future version. Use pandas.concat instead.\n",
            "  SUBM.append({'name': filepath, 'class': clas}, ignore_index=True)\n",
            "\n",
            "0: 448x640 1 ship, 28.7ms\n",
            "Speed: 4.3ms preprocess, 28.7ms inference, 1.5ms postprocess per image at shape (1, 3, 640, 640)\n"
          ]
        },
        {
          "output_type": "stream",
          "name": "stdout",
          "text": [
            "Yolo class 2, yolo conf 0.9296672344207764, Hugs class 2\n",
            "/content/TESTdataset/498.jpg\n"
          ]
        },
        {
          "output_type": "stream",
          "name": "stderr",
          "text": [
            "WARNING ⚠️ 'Boxes.boxes' is deprecated. Use 'Boxes.data' instead.\n",
            "<ipython-input-60-051a0d118cd5>:8: FutureWarning: The frame.append method is deprecated and will be removed from pandas in a future version. Use pandas.concat instead.\n",
            "  SUBM.append({'name': filepath, 'class': clas}, ignore_index=True)\n",
            "\n",
            "0: 512x640 1 klikun, 29.4ms\n",
            "Speed: 3.9ms preprocess, 29.4ms inference, 1.5ms postprocess per image at shape (1, 3, 640, 640)\n"
          ]
        },
        {
          "output_type": "stream",
          "name": "stdout",
          "text": [
            "Yolo class 2, yolo conf 0.9105672240257263, Hugs class 2\n",
            "/content/TESTdataset/361.jpg\n"
          ]
        },
        {
          "output_type": "stream",
          "name": "stderr",
          "text": [
            "WARNING ⚠️ 'Boxes.boxes' is deprecated. Use 'Boxes.data' instead.\n",
            "<ipython-input-60-051a0d118cd5>:8: FutureWarning: The frame.append method is deprecated and will be removed from pandas in a future version. Use pandas.concat instead.\n",
            "  SUBM.append({'name': filepath, 'class': clas}, ignore_index=True)\n",
            "\n",
            "0: 448x640 2 klikuns, 2 ships, 29.7ms\n",
            "Speed: 2.8ms preprocess, 29.7ms inference, 2.0ms postprocess per image at shape (1, 3, 640, 640)\n"
          ]
        },
        {
          "output_type": "stream",
          "name": "stdout",
          "text": [
            "Yolo class 0, yolo conf 0.9259645342826843, Hugs class 1\n",
            "/content/TESTdataset/346.jpg\n"
          ]
        },
        {
          "output_type": "stream",
          "name": "stderr",
          "text": [
            "WARNING ⚠️ 'Boxes.boxes' is deprecated. Use 'Boxes.data' instead.\n",
            "<ipython-input-60-051a0d118cd5>:8: FutureWarning: The frame.append method is deprecated and will be removed from pandas in a future version. Use pandas.concat instead.\n",
            "  SUBM.append({'name': filepath, 'class': clas}, ignore_index=True)\n",
            "\n",
            "0: 480x640 1 ship, 29.4ms\n",
            "Speed: 3.1ms preprocess, 29.4ms inference, 1.9ms postprocess per image at shape (1, 3, 640, 640)\n"
          ]
        },
        {
          "output_type": "stream",
          "name": "stdout",
          "text": [
            "Yolo class 0, yolo conf 0.28739938884973526, Hugs class 1\n",
            "/content/TESTdataset/571.jpg\n"
          ]
        },
        {
          "output_type": "stream",
          "name": "stderr",
          "text": [
            "WARNING ⚠️ 'Boxes.boxes' is deprecated. Use 'Boxes.data' instead.\n",
            "<ipython-input-60-051a0d118cd5>:8: FutureWarning: The frame.append method is deprecated and will be removed from pandas in a future version. Use pandas.concat instead.\n",
            "  SUBM.append({'name': filepath, 'class': clas}, ignore_index=True)\n",
            "\n",
            "0: 640x544 1 klikun, 38.7ms\n",
            "Speed: 3.3ms preprocess, 38.7ms inference, 1.9ms postprocess per image at shape (1, 3, 640, 640)\n",
            "WARNING ⚠️ 'Boxes.boxes' is deprecated. Use 'Boxes.data' instead.\n"
          ]
        },
        {
          "output_type": "stream",
          "name": "stdout",
          "text": [
            "Yolo class 2, yolo conf 0.7890050411224365, Hugs class 2\n",
            "/content/TESTdataset/29.jpg\n",
            "HUGS FAILED ON /content/TESTdataset/29.jpg\n",
            "Yolo class 0, yolo conf 0.8997538685798645, Hugs class -1\n",
            "/content/TESTdataset/122.jpg\n"
          ]
        },
        {
          "output_type": "stream",
          "name": "stderr",
          "text": [
            "<ipython-input-60-051a0d118cd5>:8: FutureWarning: The frame.append method is deprecated and will be removed from pandas in a future version. Use pandas.concat instead.\n",
            "  SUBM.append({'name': filepath, 'class': clas}, ignore_index=True)\n",
            "\n",
            "0: 480x640 1 ship, 29.2ms\n",
            "Speed: 3.3ms preprocess, 29.2ms inference, 1.8ms postprocess per image at shape (1, 3, 640, 640)\n",
            "WARNING ⚠️ 'Boxes.boxes' is deprecated. Use 'Boxes.data' instead.\n",
            "<ipython-input-60-051a0d118cd5>:8: FutureWarning: The frame.append method is deprecated and will be removed from pandas in a future version. Use pandas.concat instead.\n",
            "  SUBM.append({'name': filepath, 'class': clas}, ignore_index=True)\n",
            "\n",
            "0: 480x640 1 klikun, 28.2ms\n",
            "Speed: 3.4ms preprocess, 28.2ms inference, 2.4ms postprocess per image at shape (1, 3, 640, 640)\n"
          ]
        },
        {
          "output_type": "stream",
          "name": "stdout",
          "text": [
            "Yolo class 2, yolo conf 0.9246854782104492, Hugs class 2\n",
            "/content/TESTdataset/427.jpg\n"
          ]
        },
        {
          "output_type": "stream",
          "name": "stderr",
          "text": [
            "WARNING ⚠️ 'Boxes.boxes' is deprecated. Use 'Boxes.data' instead.\n",
            "<ipython-input-60-051a0d118cd5>:8: FutureWarning: The frame.append method is deprecated and will be removed from pandas in a future version. Use pandas.concat instead.\n",
            "  SUBM.append({'name': filepath, 'class': clas}, ignore_index=True)\n",
            "\n",
            "0: 384x640 2 mals, 27.5ms\n",
            "Speed: 2.7ms preprocess, 27.5ms inference, 2.1ms postprocess per image at shape (1, 3, 640, 640)\n"
          ]
        },
        {
          "output_type": "stream",
          "name": "stdout",
          "text": [
            "Yolo class 0, yolo conf 0.6533703804016113, Hugs class 1\n",
            "/content/TESTdataset/499.jpg\n"
          ]
        },
        {
          "output_type": "stream",
          "name": "stderr",
          "text": [
            "WARNING ⚠️ 'Boxes.boxes' is deprecated. Use 'Boxes.data' instead.\n",
            "<ipython-input-60-051a0d118cd5>:8: FutureWarning: The frame.append method is deprecated and will be removed from pandas in a future version. Use pandas.concat instead.\n",
            "  SUBM.append({'name': filepath, 'class': clas}, ignore_index=True)\n",
            "\n",
            "0: 448x640 1 mal, 31.3ms\n",
            "Speed: 3.1ms preprocess, 31.3ms inference, 3.0ms postprocess per image at shape (1, 3, 640, 640)\n"
          ]
        },
        {
          "output_type": "stream",
          "name": "stdout",
          "text": [
            "Yolo class 1, yolo conf 0.9119302928447723, Hugs class 0\n",
            "/content/TESTdataset/188.jpg\n"
          ]
        },
        {
          "output_type": "stream",
          "name": "stderr",
          "text": [
            "WARNING ⚠️ 'Boxes.boxes' is deprecated. Use 'Boxes.data' instead.\n",
            "<ipython-input-60-051a0d118cd5>:8: FutureWarning: The frame.append method is deprecated and will be removed from pandas in a future version. Use pandas.concat instead.\n",
            "  SUBM.append({'name': filepath, 'class': clas}, ignore_index=True)\n",
            "\n",
            "0: 480x640 1 mal, 30.4ms\n",
            "Speed: 3.4ms preprocess, 30.4ms inference, 3.0ms postprocess per image at shape (1, 3, 640, 640)\n"
          ]
        },
        {
          "output_type": "stream",
          "name": "stdout",
          "text": [
            "Yolo class 1, yolo conf 0.7757263779640198, Hugs class 1\n",
            "/content/TESTdataset/466.jpg\n"
          ]
        },
        {
          "output_type": "stream",
          "name": "stderr",
          "text": [
            "WARNING ⚠️ 'Boxes.boxes' is deprecated. Use 'Boxes.data' instead.\n",
            "<ipython-input-60-051a0d118cd5>:8: FutureWarning: The frame.append method is deprecated and will be removed from pandas in a future version. Use pandas.concat instead.\n",
            "  SUBM.append({'name': filepath, 'class': clas}, ignore_index=True)\n",
            "\n",
            "0: 384x640 1 ship, 26.7ms\n",
            "Speed: 3.5ms preprocess, 26.7ms inference, 1.4ms postprocess per image at shape (1, 3, 640, 640)\n"
          ]
        },
        {
          "output_type": "stream",
          "name": "stdout",
          "text": [
            "Yolo class 1, yolo conf 0.7330685257911682, Hugs class 0\n",
            "/content/TESTdataset/526.jpg\n"
          ]
        },
        {
          "output_type": "stream",
          "name": "stderr",
          "text": [
            "WARNING ⚠️ 'Boxes.boxes' is deprecated. Use 'Boxes.data' instead.\n",
            "<ipython-input-60-051a0d118cd5>:8: FutureWarning: The frame.append method is deprecated and will be removed from pandas in a future version. Use pandas.concat instead.\n",
            "  SUBM.append({'name': filepath, 'class': clas}, ignore_index=True)\n",
            "\n",
            "0: 512x640 3 klikuns, 30.0ms\n",
            "Speed: 3.4ms preprocess, 30.0ms inference, 2.3ms postprocess per image at shape (1, 3, 640, 640)\n"
          ]
        },
        {
          "output_type": "stream",
          "name": "stdout",
          "text": [
            "Yolo class 2, yolo conf 0.9061002135276794, Hugs class 2\n",
            "/content/TESTdataset/555.jpg\n"
          ]
        },
        {
          "output_type": "stream",
          "name": "stderr",
          "text": [
            "WARNING ⚠️ 'Boxes.boxes' is deprecated. Use 'Boxes.data' instead.\n",
            "<ipython-input-60-051a0d118cd5>:8: FutureWarning: The frame.append method is deprecated and will be removed from pandas in a future version. Use pandas.concat instead.\n",
            "  SUBM.append({'name': filepath, 'class': clas}, ignore_index=True)\n",
            "\n",
            "0: 480x640 1 ship, 31.5ms\n",
            "Speed: 3.0ms preprocess, 31.5ms inference, 1.9ms postprocess per image at shape (1, 3, 640, 640)\n"
          ]
        },
        {
          "output_type": "stream",
          "name": "stdout",
          "text": [
            "Yolo class 0, yolo conf 0.6775037248929342, Hugs class 1\n",
            "/content/TESTdataset/396.jpg\n"
          ]
        },
        {
          "output_type": "stream",
          "name": "stderr",
          "text": [
            "WARNING ⚠️ 'Boxes.boxes' is deprecated. Use 'Boxes.data' instead.\n",
            "<ipython-input-60-051a0d118cd5>:8: FutureWarning: The frame.append method is deprecated and will be removed from pandas in a future version. Use pandas.concat instead.\n",
            "  SUBM.append({'name': filepath, 'class': clas}, ignore_index=True)\n",
            "\n",
            "0: 448x640 1 klikun, 29.0ms\n",
            "Speed: 3.3ms preprocess, 29.0ms inference, 1.6ms postprocess per image at shape (1, 3, 640, 640)\n"
          ]
        },
        {
          "output_type": "stream",
          "name": "stdout",
          "text": [
            "Yolo class 2, yolo conf 0.5892724394798279, Hugs class 2\n",
            "/content/TESTdataset/377.jpg\n"
          ]
        },
        {
          "output_type": "stream",
          "name": "stderr",
          "text": [
            "WARNING ⚠️ 'Boxes.boxes' is deprecated. Use 'Boxes.data' instead.\n",
            "<ipython-input-60-051a0d118cd5>:8: FutureWarning: The frame.append method is deprecated and will be removed from pandas in a future version. Use pandas.concat instead.\n",
            "  SUBM.append({'name': filepath, 'class': clas}, ignore_index=True)\n",
            "\n",
            "0: 384x640 2 ships, 26.9ms\n",
            "Speed: 2.7ms preprocess, 26.9ms inference, 1.5ms postprocess per image at shape (1, 3, 640, 640)\n"
          ]
        },
        {
          "output_type": "stream",
          "name": "stdout",
          "text": [
            "Yolo class 0, yolo conf 0.4819859564304352, Hugs class 2\n",
            "/content/TESTdataset/451.jpg\n"
          ]
        },
        {
          "output_type": "stream",
          "name": "stderr",
          "text": [
            "WARNING ⚠️ 'Boxes.boxes' is deprecated. Use 'Boxes.data' instead.\n",
            "<ipython-input-60-051a0d118cd5>:8: FutureWarning: The frame.append method is deprecated and will be removed from pandas in a future version. Use pandas.concat instead.\n",
            "  SUBM.append({'name': filepath, 'class': clas}, ignore_index=True)\n",
            "\n",
            "0: 448x640 1 klikun, 28.9ms\n",
            "Speed: 3.2ms preprocess, 28.9ms inference, 1.4ms postprocess per image at shape (1, 3, 640, 640)\n"
          ]
        },
        {
          "output_type": "stream",
          "name": "stdout",
          "text": [
            "Yolo class 2, yolo conf 0.8274371922016144, Hugs class 2\n",
            "/content/TESTdataset/79.jpg\n"
          ]
        },
        {
          "output_type": "stream",
          "name": "stderr",
          "text": [
            "WARNING ⚠️ 'Boxes.boxes' is deprecated. Use 'Boxes.data' instead.\n",
            "<ipython-input-60-051a0d118cd5>:8: FutureWarning: The frame.append method is deprecated and will be removed from pandas in a future version. Use pandas.concat instead.\n",
            "  SUBM.append({'name': filepath, 'class': clas}, ignore_index=True)\n",
            "\n",
            "0: 480x640 6 mals, 29.9ms\n",
            "Speed: 3.3ms preprocess, 29.9ms inference, 2.0ms postprocess per image at shape (1, 3, 640, 640)\n",
            "WARNING ⚠️ 'Boxes.boxes' is deprecated. Use 'Boxes.data' instead.\n"
          ]
        },
        {
          "output_type": "stream",
          "name": "stdout",
          "text": [
            "Yolo class 0, yolo conf 0.8340479135513306, Hugs class 1\n",
            "/content/TESTdataset/18.jpg\n",
            "HUGS FAILED ON /content/TESTdataset/18.jpg\n",
            "Yolo class 1, yolo conf 0.6369441896677017, Hugs class -1\n",
            "/content/TESTdataset/500.jpg\n"
          ]
        },
        {
          "output_type": "stream",
          "name": "stderr",
          "text": [
            "<ipython-input-60-051a0d118cd5>:8: FutureWarning: The frame.append method is deprecated and will be removed from pandas in a future version. Use pandas.concat instead.\n",
            "  SUBM.append({'name': filepath, 'class': clas}, ignore_index=True)\n",
            "\n",
            "0: 448x640 1 ship, 28.7ms\n",
            "Speed: 3.8ms preprocess, 28.7ms inference, 1.5ms postprocess per image at shape (1, 3, 640, 640)\n",
            "WARNING ⚠️ 'Boxes.boxes' is deprecated. Use 'Boxes.data' instead.\n",
            "<ipython-input-60-051a0d118cd5>:8: FutureWarning: The frame.append method is deprecated and will be removed from pandas in a future version. Use pandas.concat instead.\n",
            "  SUBM.append({'name': filepath, 'class': clas}, ignore_index=True)\n",
            "\n",
            "0: 512x640 1 klikun, 29.9ms\n",
            "Speed: 2.9ms preprocess, 29.9ms inference, 1.7ms postprocess per image at shape (1, 3, 640, 640)\n"
          ]
        },
        {
          "output_type": "stream",
          "name": "stdout",
          "text": [
            "Yolo class 2, yolo conf 0.9385583996772766, Hugs class 2\n",
            "/content/TESTdataset/444.jpg\n"
          ]
        },
        {
          "output_type": "stream",
          "name": "stderr",
          "text": [
            "WARNING ⚠️ 'Boxes.boxes' is deprecated. Use 'Boxes.data' instead.\n",
            "<ipython-input-60-051a0d118cd5>:8: FutureWarning: The frame.append method is deprecated and will be removed from pandas in a future version. Use pandas.concat instead.\n",
            "  SUBM.append({'name': filepath, 'class': clas}, ignore_index=True)\n",
            "\n",
            "0: 480x640 3 mals, 29.5ms\n",
            "Speed: 3.5ms preprocess, 29.5ms inference, 2.0ms postprocess per image at shape (1, 3, 640, 640)\n"
          ]
        },
        {
          "output_type": "stream",
          "name": "stdout",
          "text": [
            "Yolo class 0, yolo conf 0.7285284399986267, Hugs class 2\n",
            "/content/TESTdataset/469.jpg\n"
          ]
        },
        {
          "output_type": "stream",
          "name": "stderr",
          "text": [
            "WARNING ⚠️ 'Boxes.boxes' is deprecated. Use 'Boxes.data' instead.\n",
            "<ipython-input-60-051a0d118cd5>:8: FutureWarning: The frame.append method is deprecated and will be removed from pandas in a future version. Use pandas.concat instead.\n",
            "  SUBM.append({'name': filepath, 'class': clas}, ignore_index=True)\n",
            "\n",
            "0: 448x640 1 mal, 29.1ms\n",
            "Speed: 3.0ms preprocess, 29.1ms inference, 2.2ms postprocess per image at shape (1, 3, 640, 640)\n"
          ]
        },
        {
          "output_type": "stream",
          "name": "stdout",
          "text": [
            "Yolo class 1, yolo conf 0.7814175883928934, Hugs class 0\n",
            "/content/TESTdataset/319.jpg\n"
          ]
        },
        {
          "output_type": "stream",
          "name": "stderr",
          "text": [
            "WARNING ⚠️ 'Boxes.boxes' is deprecated. Use 'Boxes.data' instead.\n",
            "<ipython-input-60-051a0d118cd5>:8: FutureWarning: The frame.append method is deprecated and will be removed from pandas in a future version. Use pandas.concat instead.\n",
            "  SUBM.append({'name': filepath, 'class': clas}, ignore_index=True)\n",
            "\n",
            "0: 480x640 1 klikun, 1 mal, 29.2ms\n",
            "Speed: 3.4ms preprocess, 29.2ms inference, 1.5ms postprocess per image at shape (1, 3, 640, 640)\n"
          ]
        },
        {
          "output_type": "stream",
          "name": "stdout",
          "text": [
            "Yolo class 1, yolo conf 0.9221384525299072, Hugs class 0\n",
            "/content/TESTdataset/264.jpg\n"
          ]
        },
        {
          "output_type": "stream",
          "name": "stderr",
          "text": [
            "WARNING ⚠️ 'Boxes.boxes' is deprecated. Use 'Boxes.data' instead.\n",
            "<ipython-input-60-051a0d118cd5>:8: FutureWarning: The frame.append method is deprecated and will be removed from pandas in a future version. Use pandas.concat instead.\n",
            "  SUBM.append({'name': filepath, 'class': clas}, ignore_index=True)\n",
            "\n",
            "0: 480x640 3 klikuns, 28.4ms\n",
            "Speed: 4.1ms preprocess, 28.4ms inference, 2.3ms postprocess per image at shape (1, 3, 640, 640)\n"
          ]
        },
        {
          "output_type": "stream",
          "name": "stdout",
          "text": [
            "Yolo class 0, yolo conf 0.23640437424182892, Hugs class 0\n",
            "/content/TESTdataset/31.jpg\n"
          ]
        },
        {
          "output_type": "stream",
          "name": "stderr",
          "text": [
            "WARNING ⚠️ 'Boxes.boxes' is deprecated. Use 'Boxes.data' instead.\n",
            "<ipython-input-60-051a0d118cd5>:8: FutureWarning: The frame.append method is deprecated and will be removed from pandas in a future version. Use pandas.concat instead.\n",
            "  SUBM.append({'name': filepath, 'class': clas}, ignore_index=True)\n",
            "\n",
            "0: 448x640 1 ship, 29.3ms\n",
            "Speed: 2.9ms preprocess, 29.3ms inference, 2.1ms postprocess per image at shape (1, 3, 640, 640)\n"
          ]
        },
        {
          "output_type": "stream",
          "name": "stdout",
          "text": [
            "Yolo class 0, yolo conf 0.4220689535140991, Hugs class 0\n",
            "/content/TESTdataset/435.jpg\n"
          ]
        },
        {
          "output_type": "stream",
          "name": "stderr",
          "text": [
            "WARNING ⚠️ 'Boxes.boxes' is deprecated. Use 'Boxes.data' instead.\n",
            "<ipython-input-60-051a0d118cd5>:8: FutureWarning: The frame.append method is deprecated and will be removed from pandas in a future version. Use pandas.concat instead.\n",
            "  SUBM.append({'name': filepath, 'class': clas}, ignore_index=True)\n",
            "\n",
            "0: 448x640 1 klikun, 27.9ms\n",
            "Speed: 3.3ms preprocess, 27.9ms inference, 2.3ms postprocess per image at shape (1, 3, 640, 640)\n"
          ]
        },
        {
          "output_type": "stream",
          "name": "stdout",
          "text": [
            "Yolo class 2, yolo conf 0.6327236890792847, Hugs class 2\n",
            "/content/TESTdataset/413.jpg\n"
          ]
        },
        {
          "output_type": "stream",
          "name": "stderr",
          "text": [
            "WARNING ⚠️ 'Boxes.boxes' is deprecated. Use 'Boxes.data' instead.\n",
            "<ipython-input-60-051a0d118cd5>:8: FutureWarning: The frame.append method is deprecated and will be removed from pandas in a future version. Use pandas.concat instead.\n",
            "  SUBM.append({'name': filepath, 'class': clas}, ignore_index=True)\n",
            "\n",
            "0: 544x640 3 klikuns, 40.7ms\n",
            "Speed: 3.9ms preprocess, 40.7ms inference, 1.8ms postprocess per image at shape (1, 3, 640, 640)\n"
          ]
        },
        {
          "output_type": "stream",
          "name": "stdout",
          "text": [
            "Yolo class 0, yolo conf 0.9459881782531738, Hugs class 1\n",
            "/content/TESTdataset/134.jpg\n"
          ]
        },
        {
          "output_type": "stream",
          "name": "stderr",
          "text": [
            "WARNING ⚠️ 'Boxes.boxes' is deprecated. Use 'Boxes.data' instead.\n",
            "<ipython-input-60-051a0d118cd5>:8: FutureWarning: The frame.append method is deprecated and will be removed from pandas in a future version. Use pandas.concat instead.\n",
            "  SUBM.append({'name': filepath, 'class': clas}, ignore_index=True)\n",
            "\n",
            "0: 480x640 1 ship, 29.3ms\n",
            "Speed: 7.4ms preprocess, 29.3ms inference, 1.8ms postprocess per image at shape (1, 3, 640, 640)\n"
          ]
        },
        {
          "output_type": "stream",
          "name": "stdout",
          "text": [
            "Yolo class 0, yolo conf 0.6006854971249899, Hugs class 1\n",
            "/content/TESTdataset/364.jpg\n"
          ]
        },
        {
          "output_type": "stream",
          "name": "stderr",
          "text": [
            "WARNING ⚠️ 'Boxes.boxes' is deprecated. Use 'Boxes.data' instead.\n",
            "<ipython-input-60-051a0d118cd5>:8: FutureWarning: The frame.append method is deprecated and will be removed from pandas in a future version. Use pandas.concat instead.\n",
            "  SUBM.append({'name': filepath, 'class': clas}, ignore_index=True)\n",
            "\n",
            "0: 544x640 1 mal, 36.6ms\n",
            "Speed: 3.6ms preprocess, 36.6ms inference, 1.8ms postprocess per image at shape (1, 3, 640, 640)\n",
            "WARNING ⚠️ 'Boxes.boxes' is deprecated. Use 'Boxes.data' instead.\n",
            "<ipython-input-60-051a0d118cd5>:8: FutureWarning: The frame.append method is deprecated and will be removed from pandas in a future version. Use pandas.concat instead.\n",
            "  SUBM.append({'name': filepath, 'class': clas}, ignore_index=True)\n",
            "\n"
          ]
        },
        {
          "output_type": "stream",
          "name": "stdout",
          "text": [
            "Yolo class 2, yolo conf 0.9122010469436646, Hugs class 2\n",
            "/content/TESTdataset/372.jpg\n",
            "HUGS FAILED ON /content/TESTdataset/372.jpg\n",
            "Yolo class 1, yolo conf 0.8343481421470642, Hugs class -1\n",
            "/content/TESTdataset/502.jpg\n"
          ]
        },
        {
          "output_type": "stream",
          "name": "stderr",
          "text": [
            "0: 544x640 1 mal, 36.2ms\n",
            "Speed: 3.5ms preprocess, 36.2ms inference, 2.4ms postprocess per image at shape (1, 3, 640, 640)\n",
            "WARNING ⚠️ 'Boxes.boxes' is deprecated. Use 'Boxes.data' instead.\n",
            "<ipython-input-60-051a0d118cd5>:8: FutureWarning: The frame.append method is deprecated and will be removed from pandas in a future version. Use pandas.concat instead.\n",
            "  SUBM.append({'name': filepath, 'class': clas}, ignore_index=True)\n",
            "\n",
            "0: 512x640 1 klikun, 1 mal, 30.0ms\n",
            "Speed: 3.4ms preprocess, 30.0ms inference, 1.9ms postprocess per image at shape (1, 3, 640, 640)\n"
          ]
        },
        {
          "output_type": "stream",
          "name": "stdout",
          "text": [
            "HUGS FAILED ON /content/TESTdataset/502.jpg\n",
            "Yolo class 1, yolo conf 0.7361446022987366, Hugs class -1\n",
            "/content/TESTdataset/137.jpg\n"
          ]
        },
        {
          "output_type": "stream",
          "name": "stderr",
          "text": [
            "WARNING ⚠️ 'Boxes.boxes' is deprecated. Use 'Boxes.data' instead.\n"
          ]
        },
        {
          "output_type": "stream",
          "name": "stdout",
          "text": [
            "Yolo class 1, yolo conf 0.22828060388565063, Hugs class 0\n"
          ]
        },
        {
          "output_type": "stream",
          "name": "stderr",
          "text": [
            "<ipython-input-60-051a0d118cd5>:8: FutureWarning: The frame.append method is deprecated and will be removed from pandas in a future version. Use pandas.concat instead.\n",
            "  SUBM.append({'name': filepath, 'class': clas}, ignore_index=True)\n"
          ]
        }
      ]
    },
    {
      "cell_type": "code",
      "source": [
        "value = SUBM.loc[SUBM[\"name\"] == \"510.jpg\", \"class\"].item()\n",
        "\n",
        "print(value)"
      ],
      "metadata": {
        "colab": {
          "base_uri": "https://localhost:8080/",
          "height": 247
        },
        "id": "eAPlMYYOD_p8",
        "outputId": "d7014c35-120d-4051-bda8-d3dd5a6c6c5c"
      },
      "execution_count": 61,
      "outputs": [
        {
          "output_type": "display_data",
          "data": {
            "text/plain": [
              "\u001b[31m╭─\u001b[0m\u001b[31m──────────────────────────────\u001b[0m\u001b[31m \u001b[0m\u001b[1;31mTraceback \u001b[0m\u001b[1;2;31m(most recent call last)\u001b[0m\u001b[31m \u001b[0m\u001b[31m───────────────────────────────\u001b[0m\u001b[31m─╮\u001b[0m\n",
              "\u001b[31m│\u001b[0m in \u001b[92m<cell line: 1>\u001b[0m:\u001b[94m1\u001b[0m                                                                              \u001b[31m│\u001b[0m\n",
              "\u001b[31m│\u001b[0m                                                                                                  \u001b[31m│\u001b[0m\n",
              "\u001b[31m│\u001b[0m \u001b[2;33m/usr/local/lib/python3.10/dist-packages/pandas/core/\u001b[0m\u001b[1;33mbase.py\u001b[0m:\u001b[94m347\u001b[0m in \u001b[92mitem\u001b[0m                          \u001b[31m│\u001b[0m\n",
              "\u001b[31m│\u001b[0m                                                                                                  \u001b[31m│\u001b[0m\n",
              "\u001b[31m│\u001b[0m   \u001b[2m 344 \u001b[0m\u001b[2;33m│   │   \u001b[0m\u001b[33m\"\"\"\u001b[0m                                                                               \u001b[31m│\u001b[0m\n",
              "\u001b[31m│\u001b[0m   \u001b[2m 345 \u001b[0m\u001b[2m│   │   \u001b[0m\u001b[94mif\u001b[0m \u001b[96mlen\u001b[0m(\u001b[96mself\u001b[0m) == \u001b[94m1\u001b[0m:                                                                \u001b[31m│\u001b[0m\n",
              "\u001b[31m│\u001b[0m   \u001b[2m 346 \u001b[0m\u001b[2m│   │   │   \u001b[0m\u001b[94mreturn\u001b[0m \u001b[96mnext\u001b[0m(\u001b[96miter\u001b[0m(\u001b[96mself\u001b[0m))                                                       \u001b[31m│\u001b[0m\n",
              "\u001b[31m│\u001b[0m \u001b[31m❱ \u001b[0m 347 \u001b[2m│   │   \u001b[0m\u001b[94mraise\u001b[0m \u001b[96mValueError\u001b[0m(\u001b[33m\"\u001b[0m\u001b[33mcan only convert an array of size 1 to a Python scalar\u001b[0m\u001b[33m\"\u001b[0m)        \u001b[31m│\u001b[0m\n",
              "\u001b[31m│\u001b[0m   \u001b[2m 348 \u001b[0m\u001b[2m│   \u001b[0m                                                                                      \u001b[31m│\u001b[0m\n",
              "\u001b[31m│\u001b[0m   \u001b[2m 349 \u001b[0m\u001b[2m│   \u001b[0m\u001b[1;95m@property\u001b[0m                                                                             \u001b[31m│\u001b[0m\n",
              "\u001b[31m│\u001b[0m   \u001b[2m 350 \u001b[0m\u001b[2m│   \u001b[0m\u001b[94mdef\u001b[0m \u001b[92mnbytes\u001b[0m(\u001b[96mself\u001b[0m) -> \u001b[96mint\u001b[0m:                                                              \u001b[31m│\u001b[0m\n",
              "\u001b[31m╰──────────────────────────────────────────────────────────────────────────────────────────────────╯\u001b[0m\n",
              "\u001b[1;91mValueError: \u001b[0mcan only convert an array of size \u001b[1;36m1\u001b[0m to a Python scalar\n"
            ],
            "text/html": [
              "<pre style=\"white-space:pre;overflow-x:auto;line-height:normal;font-family:Menlo,'DejaVu Sans Mono',consolas,'Courier New',monospace\"><span style=\"color: #800000; text-decoration-color: #800000\">╭─────────────────────────────── </span><span style=\"color: #800000; text-decoration-color: #800000; font-weight: bold\">Traceback </span><span style=\"color: #bf7f7f; text-decoration-color: #bf7f7f; font-weight: bold\">(most recent call last)</span><span style=\"color: #800000; text-decoration-color: #800000\"> ────────────────────────────────╮</span>\n",
              "<span style=\"color: #800000; text-decoration-color: #800000\">│</span> in <span style=\"color: #00ff00; text-decoration-color: #00ff00\">&lt;cell line: 1&gt;</span>:<span style=\"color: #0000ff; text-decoration-color: #0000ff\">1</span>                                                                              <span style=\"color: #800000; text-decoration-color: #800000\">│</span>\n",
              "<span style=\"color: #800000; text-decoration-color: #800000\">│</span>                                                                                                  <span style=\"color: #800000; text-decoration-color: #800000\">│</span>\n",
              "<span style=\"color: #800000; text-decoration-color: #800000\">│</span> <span style=\"color: #bfbf7f; text-decoration-color: #bfbf7f\">/usr/local/lib/python3.10/dist-packages/pandas/core/</span><span style=\"color: #808000; text-decoration-color: #808000; font-weight: bold\">base.py</span>:<span style=\"color: #0000ff; text-decoration-color: #0000ff\">347</span> in <span style=\"color: #00ff00; text-decoration-color: #00ff00\">item</span>                          <span style=\"color: #800000; text-decoration-color: #800000\">│</span>\n",
              "<span style=\"color: #800000; text-decoration-color: #800000\">│</span>                                                                                                  <span style=\"color: #800000; text-decoration-color: #800000\">│</span>\n",
              "<span style=\"color: #800000; text-decoration-color: #800000\">│</span>   <span style=\"color: #7f7f7f; text-decoration-color: #7f7f7f\"> 344 </span><span style=\"color: #bfbf7f; text-decoration-color: #bfbf7f\">│   │   </span><span style=\"color: #808000; text-decoration-color: #808000\">\"\"\"</span>                                                                               <span style=\"color: #800000; text-decoration-color: #800000\">│</span>\n",
              "<span style=\"color: #800000; text-decoration-color: #800000\">│</span>   <span style=\"color: #7f7f7f; text-decoration-color: #7f7f7f\"> 345 │   │   </span><span style=\"color: #0000ff; text-decoration-color: #0000ff\">if</span> <span style=\"color: #00ffff; text-decoration-color: #00ffff\">len</span>(<span style=\"color: #00ffff; text-decoration-color: #00ffff\">self</span>) == <span style=\"color: #0000ff; text-decoration-color: #0000ff\">1</span>:                                                                <span style=\"color: #800000; text-decoration-color: #800000\">│</span>\n",
              "<span style=\"color: #800000; text-decoration-color: #800000\">│</span>   <span style=\"color: #7f7f7f; text-decoration-color: #7f7f7f\"> 346 │   │   │   </span><span style=\"color: #0000ff; text-decoration-color: #0000ff\">return</span> <span style=\"color: #00ffff; text-decoration-color: #00ffff\">next</span>(<span style=\"color: #00ffff; text-decoration-color: #00ffff\">iter</span>(<span style=\"color: #00ffff; text-decoration-color: #00ffff\">self</span>))                                                       <span style=\"color: #800000; text-decoration-color: #800000\">│</span>\n",
              "<span style=\"color: #800000; text-decoration-color: #800000\">│</span> <span style=\"color: #800000; text-decoration-color: #800000\">❱ </span> 347 <span style=\"color: #7f7f7f; text-decoration-color: #7f7f7f\">│   │   </span><span style=\"color: #0000ff; text-decoration-color: #0000ff\">raise</span> <span style=\"color: #00ffff; text-decoration-color: #00ffff\">ValueError</span>(<span style=\"color: #808000; text-decoration-color: #808000\">\"can only convert an array of size 1 to a Python scalar\"</span>)        <span style=\"color: #800000; text-decoration-color: #800000\">│</span>\n",
              "<span style=\"color: #800000; text-decoration-color: #800000\">│</span>   <span style=\"color: #7f7f7f; text-decoration-color: #7f7f7f\"> 348 │   </span>                                                                                      <span style=\"color: #800000; text-decoration-color: #800000\">│</span>\n",
              "<span style=\"color: #800000; text-decoration-color: #800000\">│</span>   <span style=\"color: #7f7f7f; text-decoration-color: #7f7f7f\"> 349 │   </span><span style=\"color: #ff00ff; text-decoration-color: #ff00ff; font-weight: bold\">@property</span>                                                                             <span style=\"color: #800000; text-decoration-color: #800000\">│</span>\n",
              "<span style=\"color: #800000; text-decoration-color: #800000\">│</span>   <span style=\"color: #7f7f7f; text-decoration-color: #7f7f7f\"> 350 │   </span><span style=\"color: #0000ff; text-decoration-color: #0000ff\">def</span> <span style=\"color: #00ff00; text-decoration-color: #00ff00\">nbytes</span>(<span style=\"color: #00ffff; text-decoration-color: #00ffff\">self</span>) -&gt; <span style=\"color: #00ffff; text-decoration-color: #00ffff\">int</span>:                                                              <span style=\"color: #800000; text-decoration-color: #800000\">│</span>\n",
              "<span style=\"color: #800000; text-decoration-color: #800000\">╰──────────────────────────────────────────────────────────────────────────────────────────────────╯</span>\n",
              "<span style=\"color: #ff0000; text-decoration-color: #ff0000; font-weight: bold\">ValueError: </span>can only convert an array of size <span style=\"color: #008080; text-decoration-color: #008080; font-weight: bold\">1</span> to a Python scalar\n",
              "</pre>\n"
            ]
          },
          "metadata": {}
        }
      ]
    },
    {
      "cell_type": "code",
      "source": [
        "SUBM.to_csv('/content/SUBM.csv', index=False)"
      ],
      "metadata": {
        "id": "23pYYdzeQhai"
      },
      "execution_count": null,
      "outputs": []
    },
    {
      "cell_type": "code",
      "source": [
        "!zip -r /content/HugsModelWeights.zip /content/content/out/MYKVASIRV2MODEL/10_2023-05-21-04-36-48/trainer"
      ],
      "metadata": {
        "colab": {
          "base_uri": "https://localhost:8080/"
        },
        "id": "ZZul4ufIAj6L",
        "outputId": "de54d0b7-798a-4862-fa39-c7485b537037"
      },
      "execution_count": 39,
      "outputs": [
        {
          "output_type": "stream",
          "name": "stdout",
          "text": [
            "  adding: content/content/out/MYKVASIRV2MODEL/10_2023-05-21-04-36-48/trainer/ (stored 0%)\n",
            "  adding: content/content/out/MYKVASIRV2MODEL/10_2023-05-21-04-36-48/trainer/config.json (deflated 48%)\n",
            "  adding: content/content/out/MYKVASIRV2MODEL/10_2023-05-21-04-36-48/trainer/training_args.bin (deflated 48%)\n",
            "  adding: content/content/out/MYKVASIRV2MODEL/10_2023-05-21-04-36-48/trainer/pytorch_model.bin (deflated 7%)\n",
            "  adding: content/content/out/MYKVASIRV2MODEL/10_2023-05-21-04-36-48/trainer/preprocessor_config.json (deflated 46%)\n"
          ]
        }
      ]
    },
    {
      "cell_type": "code",
      "source": [
        "from google.colab import drive\n",
        "drive.mount('/content/drive')"
      ],
      "metadata": {
        "colab": {
          "base_uri": "https://localhost:8080/"
        },
        "id": "Qf-jnvsqAp-y",
        "outputId": "50b34415-c323-408c-b832-b2e0d21ca65f"
      },
      "execution_count": 40,
      "outputs": [
        {
          "output_type": "stream",
          "name": "stdout",
          "text": [
            "Mounted at /content/drive\n"
          ]
        }
      ]
    },
    {
      "cell_type": "code",
      "source": [
        "!cp /content/HugsModelWeights.zip /content/drive/MyDrive/"
      ],
      "metadata": {
        "id": "Oq0PfbBnA1EB"
      },
      "execution_count": 41,
      "outputs": []
    }
  ],
  "metadata": {
    "accelerator": "GPU",
    "colab": {
      "provenance": []
    },
    "gpuClass": "standard",
    "kernelspec": {
      "display_name": "Python 3",
      "name": "python3"
    },
    "language_info": {
      "name": "python"
    },
    "widgets": {
      "application/vnd.jupyter.widget-state+json": {
        "0449fd9bfa664dd0ba41258236e1e331": {
          "model_module": "@jupyter-widgets/base",
          "model_module_version": "1.2.0",
          "model_name": "LayoutModel",
          "state": {
            "_model_module": "@jupyter-widgets/base",
            "_model_module_version": "1.2.0",
            "_model_name": "LayoutModel",
            "_view_count": null,
            "_view_module": "@jupyter-widgets/base",
            "_view_module_version": "1.2.0",
            "_view_name": "LayoutView",
            "align_content": null,
            "align_items": null,
            "align_self": null,
            "border": null,
            "bottom": null,
            "display": null,
            "flex": null,
            "flex_flow": null,
            "grid_area": null,
            "grid_auto_columns": null,
            "grid_auto_flow": null,
            "grid_auto_rows": null,
            "grid_column": null,
            "grid_gap": null,
            "grid_row": null,
            "grid_template_areas": null,
            "grid_template_columns": null,
            "grid_template_rows": null,
            "height": null,
            "justify_content": null,
            "justify_items": null,
            "left": null,
            "margin": null,
            "max_height": null,
            "max_width": null,
            "min_height": null,
            "min_width": null,
            "object_fit": null,
            "object_position": null,
            "order": null,
            "overflow": null,
            "overflow_x": null,
            "overflow_y": null,
            "padding": null,
            "right": null,
            "top": null,
            "visibility": null,
            "width": null
          }
        },
        "06a35c3e87ea4d2b8936318183edc5b1": {
          "model_module": "@jupyter-widgets/controls",
          "model_module_version": "1.5.0",
          "model_name": "HBoxModel",
          "state": {
            "_dom_classes": [],
            "_model_module": "@jupyter-widgets/controls",
            "_model_module_version": "1.5.0",
            "_model_name": "HBoxModel",
            "_view_count": null,
            "_view_module": "@jupyter-widgets/controls",
            "_view_module_version": "1.5.0",
            "_view_name": "HBoxView",
            "box_style": "",
            "children": [
              "IPY_MODEL_ddecf2bcb05744b09ecb269b5a5efd9e",
              "IPY_MODEL_8fbb584bbef146fdaa4329a2cad25999",
              "IPY_MODEL_9095a1e767814115bd8a739e2b1ca3eb"
            ],
            "layout": "IPY_MODEL_07cde40eb40c43e7820854909c9acf1f"
          }
        },
        "07cde40eb40c43e7820854909c9acf1f": {
          "model_module": "@jupyter-widgets/base",
          "model_module_version": "1.2.0",
          "model_name": "LayoutModel",
          "state": {
            "_model_module": "@jupyter-widgets/base",
            "_model_module_version": "1.2.0",
            "_model_name": "LayoutModel",
            "_view_count": null,
            "_view_module": "@jupyter-widgets/base",
            "_view_module_version": "1.2.0",
            "_view_name": "LayoutView",
            "align_content": null,
            "align_items": null,
            "align_self": null,
            "border": null,
            "bottom": null,
            "display": null,
            "flex": null,
            "flex_flow": null,
            "grid_area": null,
            "grid_auto_columns": null,
            "grid_auto_flow": null,
            "grid_auto_rows": null,
            "grid_column": null,
            "grid_gap": null,
            "grid_row": null,
            "grid_template_areas": null,
            "grid_template_columns": null,
            "grid_template_rows": null,
            "height": null,
            "justify_content": null,
            "justify_items": null,
            "left": null,
            "margin": null,
            "max_height": null,
            "max_width": null,
            "min_height": null,
            "min_width": null,
            "object_fit": null,
            "object_position": null,
            "order": null,
            "overflow": null,
            "overflow_x": null,
            "overflow_y": null,
            "padding": null,
            "right": null,
            "top": null,
            "visibility": null,
            "width": null
          }
        },
        "2805fbea6f4f466696fe5e308659801e": {
          "model_module": "@jupyter-widgets/controls",
          "model_module_version": "1.5.0",
          "model_name": "HTMLModel",
          "state": {
            "_dom_classes": [],
            "_model_module": "@jupyter-widgets/controls",
            "_model_module_version": "1.5.0",
            "_model_name": "HTMLModel",
            "_view_count": null,
            "_view_module": "@jupyter-widgets/controls",
            "_view_module_version": "1.5.0",
            "_view_name": "HTMLView",
            "description": "",
            "description_tooltip": null,
            "layout": "IPY_MODEL_bf89d53cca8340e786f78e7aff572077",
            "placeholder": "​",
            "style": "IPY_MODEL_bd62901b8f7b4faba1e81a53f34d4cb7",
            "value": " 1101/? [01:37&lt;00:00,  6.07it/s]"
          }
        },
        "2fb50a7b0e344cfdb4e75dd362adb793": {
          "model_module": "@jupyter-widgets/base",
          "model_module_version": "1.2.0",
          "model_name": "LayoutModel",
          "state": {
            "_model_module": "@jupyter-widgets/base",
            "_model_module_version": "1.2.0",
            "_model_name": "LayoutModel",
            "_view_count": null,
            "_view_module": "@jupyter-widgets/base",
            "_view_module_version": "1.2.0",
            "_view_name": "LayoutView",
            "align_content": null,
            "align_items": null,
            "align_self": null,
            "border": null,
            "bottom": null,
            "display": null,
            "flex": null,
            "flex_flow": null,
            "grid_area": null,
            "grid_auto_columns": null,
            "grid_auto_flow": null,
            "grid_auto_rows": null,
            "grid_column": null,
            "grid_gap": null,
            "grid_row": null,
            "grid_template_areas": null,
            "grid_template_columns": null,
            "grid_template_rows": null,
            "height": null,
            "justify_content": null,
            "justify_items": null,
            "left": null,
            "margin": null,
            "max_height": null,
            "max_width": null,
            "min_height": null,
            "min_width": null,
            "object_fit": null,
            "object_position": null,
            "order": null,
            "overflow": null,
            "overflow_x": null,
            "overflow_y": null,
            "padding": null,
            "right": null,
            "top": null,
            "visibility": null,
            "width": "20px"
          }
        },
        "33fcbff2bca747f6986de029e8036d6d": {
          "model_module": "@jupyter-widgets/controls",
          "model_module_version": "1.5.0",
          "model_name": "HTMLModel",
          "state": {
            "_dom_classes": [],
            "_model_module": "@jupyter-widgets/controls",
            "_model_module_version": "1.5.0",
            "_model_name": "HTMLModel",
            "_view_count": null,
            "_view_module": "@jupyter-widgets/controls",
            "_view_module_version": "1.5.0",
            "_view_name": "HTMLView",
            "description": "",
            "description_tooltip": null,
            "layout": "IPY_MODEL_0449fd9bfa664dd0ba41258236e1e331",
            "placeholder": "​",
            "style": "IPY_MODEL_3e66d126ecff4685975355fde8a8bb91",
            "value": ""
          }
        },
        "3e66d126ecff4685975355fde8a8bb91": {
          "model_module": "@jupyter-widgets/controls",
          "model_module_version": "1.5.0",
          "model_name": "DescriptionStyleModel",
          "state": {
            "_model_module": "@jupyter-widgets/controls",
            "_model_module_version": "1.5.0",
            "_model_name": "DescriptionStyleModel",
            "_view_count": null,
            "_view_module": "@jupyter-widgets/base",
            "_view_module_version": "1.2.0",
            "_view_name": "StyleView",
            "description_width": ""
          }
        },
        "3f117350490a492f90680902808782d2": {
          "model_module": "@jupyter-widgets/controls",
          "model_module_version": "1.5.0",
          "model_name": "FloatProgressModel",
          "state": {
            "_dom_classes": [],
            "_model_module": "@jupyter-widgets/controls",
            "_model_module_version": "1.5.0",
            "_model_name": "FloatProgressModel",
            "_view_count": null,
            "_view_module": "@jupyter-widgets/controls",
            "_view_module_version": "1.5.0",
            "_view_name": "ProgressView",
            "bar_style": "danger",
            "description": "",
            "description_tooltip": null,
            "layout": "IPY_MODEL_e0061d413b5a419eb835e8d62a793337",
            "max": 1,
            "min": 0,
            "orientation": "horizontal",
            "style": "IPY_MODEL_4e240e4b950a49e4b0b78131152a0ad9",
            "value": 1
          }
        },
        "4e240e4b950a49e4b0b78131152a0ad9": {
          "model_module": "@jupyter-widgets/controls",
          "model_module_version": "1.5.0",
          "model_name": "ProgressStyleModel",
          "state": {
            "_model_module": "@jupyter-widgets/controls",
            "_model_module_version": "1.5.0",
            "_model_name": "ProgressStyleModel",
            "_view_count": null,
            "_view_module": "@jupyter-widgets/base",
            "_view_module_version": "1.2.0",
            "_view_name": "StyleView",
            "bar_color": null,
            "description_width": ""
          }
        },
        "60e68a4215a7487ea108acecfc79cf13": {
          "model_module": "@jupyter-widgets/controls",
          "model_module_version": "1.5.0",
          "model_name": "HTMLModel",
          "state": {
            "_dom_classes": [],
            "_model_module": "@jupyter-widgets/controls",
            "_model_module_version": "1.5.0",
            "_model_name": "HTMLModel",
            "_view_count": null,
            "_view_module": "@jupyter-widgets/controls",
            "_view_module_version": "1.5.0",
            "_view_name": "HTMLView",
            "description": "",
            "description_tooltip": null,
            "layout": "IPY_MODEL_93fc3dfe1db04b1b800c9d316d442c75",
            "placeholder": "​",
            "style": "IPY_MODEL_b097eac6c06942529ac762a7f737d986",
            "value": " 1101/? [02:16&lt;00:00, 11.04it/s]"
          }
        },
        "6ced2ccbeb1d44e3a700f09c24d65b69": {
          "model_module": "@jupyter-widgets/base",
          "model_module_version": "1.2.0",
          "model_name": "LayoutModel",
          "state": {
            "_model_module": "@jupyter-widgets/base",
            "_model_module_version": "1.2.0",
            "_model_name": "LayoutModel",
            "_view_count": null,
            "_view_module": "@jupyter-widgets/base",
            "_view_module_version": "1.2.0",
            "_view_name": "LayoutView",
            "align_content": null,
            "align_items": null,
            "align_self": null,
            "border": null,
            "bottom": null,
            "display": null,
            "flex": null,
            "flex_flow": null,
            "grid_area": null,
            "grid_auto_columns": null,
            "grid_auto_flow": null,
            "grid_auto_rows": null,
            "grid_column": null,
            "grid_gap": null,
            "grid_row": null,
            "grid_template_areas": null,
            "grid_template_columns": null,
            "grid_template_rows": null,
            "height": null,
            "justify_content": null,
            "justify_items": null,
            "left": null,
            "margin": null,
            "max_height": null,
            "max_width": null,
            "min_height": null,
            "min_width": null,
            "object_fit": null,
            "object_position": null,
            "order": null,
            "overflow": null,
            "overflow_x": null,
            "overflow_y": null,
            "padding": null,
            "right": null,
            "top": null,
            "visibility": null,
            "width": null
          }
        },
        "7b521d907eb5458eb07262ab3fb6b9a3": {
          "model_module": "@jupyter-widgets/base",
          "model_module_version": "1.2.0",
          "model_name": "LayoutModel",
          "state": {
            "_model_module": "@jupyter-widgets/base",
            "_model_module_version": "1.2.0",
            "_model_name": "LayoutModel",
            "_view_count": null,
            "_view_module": "@jupyter-widgets/base",
            "_view_module_version": "1.2.0",
            "_view_name": "LayoutView",
            "align_content": null,
            "align_items": null,
            "align_self": null,
            "border": null,
            "bottom": null,
            "display": null,
            "flex": null,
            "flex_flow": null,
            "grid_area": null,
            "grid_auto_columns": null,
            "grid_auto_flow": null,
            "grid_auto_rows": null,
            "grid_column": null,
            "grid_gap": null,
            "grid_row": null,
            "grid_template_areas": null,
            "grid_template_columns": null,
            "grid_template_rows": null,
            "height": null,
            "justify_content": null,
            "justify_items": null,
            "left": null,
            "margin": null,
            "max_height": null,
            "max_width": null,
            "min_height": null,
            "min_width": null,
            "object_fit": null,
            "object_position": null,
            "order": null,
            "overflow": null,
            "overflow_x": null,
            "overflow_y": null,
            "padding": null,
            "right": null,
            "top": null,
            "visibility": null,
            "width": null
          }
        },
        "8916d4edb02f4670b2220bbf896e2ca8": {
          "model_module": "@jupyter-widgets/base",
          "model_module_version": "1.2.0",
          "model_name": "LayoutModel",
          "state": {
            "_model_module": "@jupyter-widgets/base",
            "_model_module_version": "1.2.0",
            "_model_name": "LayoutModel",
            "_view_count": null,
            "_view_module": "@jupyter-widgets/base",
            "_view_module_version": "1.2.0",
            "_view_name": "LayoutView",
            "align_content": null,
            "align_items": null,
            "align_self": null,
            "border": null,
            "bottom": null,
            "display": null,
            "flex": null,
            "flex_flow": null,
            "grid_area": null,
            "grid_auto_columns": null,
            "grid_auto_flow": null,
            "grid_auto_rows": null,
            "grid_column": null,
            "grid_gap": null,
            "grid_row": null,
            "grid_template_areas": null,
            "grid_template_columns": null,
            "grid_template_rows": null,
            "height": null,
            "justify_content": null,
            "justify_items": null,
            "left": null,
            "margin": null,
            "max_height": null,
            "max_width": null,
            "min_height": null,
            "min_width": null,
            "object_fit": null,
            "object_position": null,
            "order": null,
            "overflow": null,
            "overflow_x": null,
            "overflow_y": null,
            "padding": null,
            "right": null,
            "top": null,
            "visibility": null,
            "width": "20px"
          }
        },
        "8fbb584bbef146fdaa4329a2cad25999": {
          "model_module": "@jupyter-widgets/controls",
          "model_module_version": "1.5.0",
          "model_name": "FloatProgressModel",
          "state": {
            "_dom_classes": [],
            "_model_module": "@jupyter-widgets/controls",
            "_model_module_version": "1.5.0",
            "_model_name": "FloatProgressModel",
            "_view_count": null,
            "_view_module": "@jupyter-widgets/controls",
            "_view_module_version": "1.5.0",
            "_view_name": "ProgressView",
            "bar_style": "danger",
            "description": "",
            "description_tooltip": null,
            "layout": "IPY_MODEL_8916d4edb02f4670b2220bbf896e2ca8",
            "max": 1,
            "min": 0,
            "orientation": "horizontal",
            "style": "IPY_MODEL_f8cd160c9a6b4d1c835bcaf54dbdd18d",
            "value": 1
          }
        },
        "9095a1e767814115bd8a739e2b1ca3eb": {
          "model_module": "@jupyter-widgets/controls",
          "model_module_version": "1.5.0",
          "model_name": "HTMLModel",
          "state": {
            "_dom_classes": [],
            "_model_module": "@jupyter-widgets/controls",
            "_model_module_version": "1.5.0",
            "_model_name": "HTMLModel",
            "_view_count": null,
            "_view_module": "@jupyter-widgets/controls",
            "_view_module_version": "1.5.0",
            "_view_name": "HTMLView",
            "description": "",
            "description_tooltip": null,
            "layout": "IPY_MODEL_a1a99e1a9fb441d88283d091ab067dee",
            "placeholder": "​",
            "style": "IPY_MODEL_9f1befc969774694afd19ad62f6cdd90",
            "value": " 1101/? [03:02&lt;00:00,  5.59it/s]"
          }
        },
        "93fc3dfe1db04b1b800c9d316d442c75": {
          "model_module": "@jupyter-widgets/base",
          "model_module_version": "1.2.0",
          "model_name": "LayoutModel",
          "state": {
            "_model_module": "@jupyter-widgets/base",
            "_model_module_version": "1.2.0",
            "_model_name": "LayoutModel",
            "_view_count": null,
            "_view_module": "@jupyter-widgets/base",
            "_view_module_version": "1.2.0",
            "_view_name": "LayoutView",
            "align_content": null,
            "align_items": null,
            "align_self": null,
            "border": null,
            "bottom": null,
            "display": null,
            "flex": null,
            "flex_flow": null,
            "grid_area": null,
            "grid_auto_columns": null,
            "grid_auto_flow": null,
            "grid_auto_rows": null,
            "grid_column": null,
            "grid_gap": null,
            "grid_row": null,
            "grid_template_areas": null,
            "grid_template_columns": null,
            "grid_template_rows": null,
            "height": null,
            "justify_content": null,
            "justify_items": null,
            "left": null,
            "margin": null,
            "max_height": null,
            "max_width": null,
            "min_height": null,
            "min_width": null,
            "object_fit": null,
            "object_position": null,
            "order": null,
            "overflow": null,
            "overflow_x": null,
            "overflow_y": null,
            "padding": null,
            "right": null,
            "top": null,
            "visibility": null,
            "width": null
          }
        },
        "992606fb78a54f208c468c5af0777724": {
          "model_module": "@jupyter-widgets/controls",
          "model_module_version": "1.5.0",
          "model_name": "ProgressStyleModel",
          "state": {
            "_model_module": "@jupyter-widgets/controls",
            "_model_module_version": "1.5.0",
            "_model_name": "ProgressStyleModel",
            "_view_count": null,
            "_view_module": "@jupyter-widgets/base",
            "_view_module_version": "1.2.0",
            "_view_name": "StyleView",
            "bar_color": null,
            "description_width": ""
          }
        },
        "9f1befc969774694afd19ad62f6cdd90": {
          "model_module": "@jupyter-widgets/controls",
          "model_module_version": "1.5.0",
          "model_name": "DescriptionStyleModel",
          "state": {
            "_model_module": "@jupyter-widgets/controls",
            "_model_module_version": "1.5.0",
            "_model_name": "DescriptionStyleModel",
            "_view_count": null,
            "_view_module": "@jupyter-widgets/base",
            "_view_module_version": "1.2.0",
            "_view_name": "StyleView",
            "description_width": ""
          }
        },
        "a1a99e1a9fb441d88283d091ab067dee": {
          "model_module": "@jupyter-widgets/base",
          "model_module_version": "1.2.0",
          "model_name": "LayoutModel",
          "state": {
            "_model_module": "@jupyter-widgets/base",
            "_model_module_version": "1.2.0",
            "_model_name": "LayoutModel",
            "_view_count": null,
            "_view_module": "@jupyter-widgets/base",
            "_view_module_version": "1.2.0",
            "_view_name": "LayoutView",
            "align_content": null,
            "align_items": null,
            "align_self": null,
            "border": null,
            "bottom": null,
            "display": null,
            "flex": null,
            "flex_flow": null,
            "grid_area": null,
            "grid_auto_columns": null,
            "grid_auto_flow": null,
            "grid_auto_rows": null,
            "grid_column": null,
            "grid_gap": null,
            "grid_row": null,
            "grid_template_areas": null,
            "grid_template_columns": null,
            "grid_template_rows": null,
            "height": null,
            "justify_content": null,
            "justify_items": null,
            "left": null,
            "margin": null,
            "max_height": null,
            "max_width": null,
            "min_height": null,
            "min_width": null,
            "object_fit": null,
            "object_position": null,
            "order": null,
            "overflow": null,
            "overflow_x": null,
            "overflow_y": null,
            "padding": null,
            "right": null,
            "top": null,
            "visibility": null,
            "width": null
          }
        },
        "a2f94a21ecbb4c9b853dbd6bcc87f66c": {
          "model_module": "@jupyter-widgets/controls",
          "model_module_version": "1.5.0",
          "model_name": "FloatProgressModel",
          "state": {
            "_dom_classes": [],
            "_model_module": "@jupyter-widgets/controls",
            "_model_module_version": "1.5.0",
            "_model_name": "FloatProgressModel",
            "_view_count": null,
            "_view_module": "@jupyter-widgets/controls",
            "_view_module_version": "1.5.0",
            "_view_name": "ProgressView",
            "bar_style": "danger",
            "description": "",
            "description_tooltip": null,
            "layout": "IPY_MODEL_2fb50a7b0e344cfdb4e75dd362adb793",
            "max": 1,
            "min": 0,
            "orientation": "horizontal",
            "style": "IPY_MODEL_992606fb78a54f208c468c5af0777724",
            "value": 1
          }
        },
        "a364db9a3fbe4477bac128477615ede0": {
          "model_module": "@jupyter-widgets/controls",
          "model_module_version": "1.5.0",
          "model_name": "HTMLModel",
          "state": {
            "_dom_classes": [],
            "_model_module": "@jupyter-widgets/controls",
            "_model_module_version": "1.5.0",
            "_model_name": "HTMLModel",
            "_view_count": null,
            "_view_module": "@jupyter-widgets/controls",
            "_view_module_version": "1.5.0",
            "_view_name": "HTMLView",
            "description": "",
            "description_tooltip": null,
            "layout": "IPY_MODEL_7b521d907eb5458eb07262ab3fb6b9a3",
            "placeholder": "​",
            "style": "IPY_MODEL_c7865182cafe419e880bf55dd86e509b",
            "value": ""
          }
        },
        "a4caa3950eac44d3b49fcbc1850634e7": {
          "model_module": "@jupyter-widgets/controls",
          "model_module_version": "1.5.0",
          "model_name": "DescriptionStyleModel",
          "state": {
            "_model_module": "@jupyter-widgets/controls",
            "_model_module_version": "1.5.0",
            "_model_name": "DescriptionStyleModel",
            "_view_count": null,
            "_view_module": "@jupyter-widgets/base",
            "_view_module_version": "1.2.0",
            "_view_name": "StyleView",
            "description_width": ""
          }
        },
        "af22b68356504d9b94c2eb9094cd1e6c": {
          "model_module": "@jupyter-widgets/base",
          "model_module_version": "1.2.0",
          "model_name": "LayoutModel",
          "state": {
            "_model_module": "@jupyter-widgets/base",
            "_model_module_version": "1.2.0",
            "_model_name": "LayoutModel",
            "_view_count": null,
            "_view_module": "@jupyter-widgets/base",
            "_view_module_version": "1.2.0",
            "_view_name": "LayoutView",
            "align_content": null,
            "align_items": null,
            "align_self": null,
            "border": null,
            "bottom": null,
            "display": null,
            "flex": null,
            "flex_flow": null,
            "grid_area": null,
            "grid_auto_columns": null,
            "grid_auto_flow": null,
            "grid_auto_rows": null,
            "grid_column": null,
            "grid_gap": null,
            "grid_row": null,
            "grid_template_areas": null,
            "grid_template_columns": null,
            "grid_template_rows": null,
            "height": null,
            "justify_content": null,
            "justify_items": null,
            "left": null,
            "margin": null,
            "max_height": null,
            "max_width": null,
            "min_height": null,
            "min_width": null,
            "object_fit": null,
            "object_position": null,
            "order": null,
            "overflow": null,
            "overflow_x": null,
            "overflow_y": null,
            "padding": null,
            "right": null,
            "top": null,
            "visibility": null,
            "width": null
          }
        },
        "b097eac6c06942529ac762a7f737d986": {
          "model_module": "@jupyter-widgets/controls",
          "model_module_version": "1.5.0",
          "model_name": "DescriptionStyleModel",
          "state": {
            "_model_module": "@jupyter-widgets/controls",
            "_model_module_version": "1.5.0",
            "_model_name": "DescriptionStyleModel",
            "_view_count": null,
            "_view_module": "@jupyter-widgets/base",
            "_view_module_version": "1.2.0",
            "_view_name": "StyleView",
            "description_width": ""
          }
        },
        "bd62901b8f7b4faba1e81a53f34d4cb7": {
          "model_module": "@jupyter-widgets/controls",
          "model_module_version": "1.5.0",
          "model_name": "DescriptionStyleModel",
          "state": {
            "_model_module": "@jupyter-widgets/controls",
            "_model_module_version": "1.5.0",
            "_model_name": "DescriptionStyleModel",
            "_view_count": null,
            "_view_module": "@jupyter-widgets/base",
            "_view_module_version": "1.2.0",
            "_view_name": "StyleView",
            "description_width": ""
          }
        },
        "bf89d53cca8340e786f78e7aff572077": {
          "model_module": "@jupyter-widgets/base",
          "model_module_version": "1.2.0",
          "model_name": "LayoutModel",
          "state": {
            "_model_module": "@jupyter-widgets/base",
            "_model_module_version": "1.2.0",
            "_model_name": "LayoutModel",
            "_view_count": null,
            "_view_module": "@jupyter-widgets/base",
            "_view_module_version": "1.2.0",
            "_view_name": "LayoutView",
            "align_content": null,
            "align_items": null,
            "align_self": null,
            "border": null,
            "bottom": null,
            "display": null,
            "flex": null,
            "flex_flow": null,
            "grid_area": null,
            "grid_auto_columns": null,
            "grid_auto_flow": null,
            "grid_auto_rows": null,
            "grid_column": null,
            "grid_gap": null,
            "grid_row": null,
            "grid_template_areas": null,
            "grid_template_columns": null,
            "grid_template_rows": null,
            "height": null,
            "justify_content": null,
            "justify_items": null,
            "left": null,
            "margin": null,
            "max_height": null,
            "max_width": null,
            "min_height": null,
            "min_width": null,
            "object_fit": null,
            "object_position": null,
            "order": null,
            "overflow": null,
            "overflow_x": null,
            "overflow_y": null,
            "padding": null,
            "right": null,
            "top": null,
            "visibility": null,
            "width": null
          }
        },
        "c40a4bea24d147028147df0c7db3c370": {
          "model_module": "@jupyter-widgets/controls",
          "model_module_version": "1.5.0",
          "model_name": "HBoxModel",
          "state": {
            "_dom_classes": [],
            "_model_module": "@jupyter-widgets/controls",
            "_model_module_version": "1.5.0",
            "_model_name": "HBoxModel",
            "_view_count": null,
            "_view_module": "@jupyter-widgets/controls",
            "_view_module_version": "1.5.0",
            "_view_name": "HBoxView",
            "box_style": "",
            "children": [
              "IPY_MODEL_33fcbff2bca747f6986de029e8036d6d",
              "IPY_MODEL_3f117350490a492f90680902808782d2",
              "IPY_MODEL_60e68a4215a7487ea108acecfc79cf13"
            ],
            "layout": "IPY_MODEL_6ced2ccbeb1d44e3a700f09c24d65b69"
          }
        },
        "c7865182cafe419e880bf55dd86e509b": {
          "model_module": "@jupyter-widgets/controls",
          "model_module_version": "1.5.0",
          "model_name": "DescriptionStyleModel",
          "state": {
            "_model_module": "@jupyter-widgets/controls",
            "_model_module_version": "1.5.0",
            "_model_name": "DescriptionStyleModel",
            "_view_count": null,
            "_view_module": "@jupyter-widgets/base",
            "_view_module_version": "1.2.0",
            "_view_name": "StyleView",
            "description_width": ""
          }
        },
        "ca72cc2738ff46fd8be024391e19aa4b": {
          "model_module": "@jupyter-widgets/base",
          "model_module_version": "1.2.0",
          "model_name": "LayoutModel",
          "state": {
            "_model_module": "@jupyter-widgets/base",
            "_model_module_version": "1.2.0",
            "_model_name": "LayoutModel",
            "_view_count": null,
            "_view_module": "@jupyter-widgets/base",
            "_view_module_version": "1.2.0",
            "_view_name": "LayoutView",
            "align_content": null,
            "align_items": null,
            "align_self": null,
            "border": null,
            "bottom": null,
            "display": null,
            "flex": null,
            "flex_flow": null,
            "grid_area": null,
            "grid_auto_columns": null,
            "grid_auto_flow": null,
            "grid_auto_rows": null,
            "grid_column": null,
            "grid_gap": null,
            "grid_row": null,
            "grid_template_areas": null,
            "grid_template_columns": null,
            "grid_template_rows": null,
            "height": null,
            "justify_content": null,
            "justify_items": null,
            "left": null,
            "margin": null,
            "max_height": null,
            "max_width": null,
            "min_height": null,
            "min_width": null,
            "object_fit": null,
            "object_position": null,
            "order": null,
            "overflow": null,
            "overflow_x": null,
            "overflow_y": null,
            "padding": null,
            "right": null,
            "top": null,
            "visibility": null,
            "width": null
          }
        },
        "db77c008d9f04098b9a33f6baceb5ef4": {
          "model_module": "@jupyter-widgets/controls",
          "model_module_version": "1.5.0",
          "model_name": "HBoxModel",
          "state": {
            "_dom_classes": [],
            "_model_module": "@jupyter-widgets/controls",
            "_model_module_version": "1.5.0",
            "_model_name": "HBoxModel",
            "_view_count": null,
            "_view_module": "@jupyter-widgets/controls",
            "_view_module_version": "1.5.0",
            "_view_name": "HBoxView",
            "box_style": "",
            "children": [
              "IPY_MODEL_a364db9a3fbe4477bac128477615ede0",
              "IPY_MODEL_a2f94a21ecbb4c9b853dbd6bcc87f66c",
              "IPY_MODEL_2805fbea6f4f466696fe5e308659801e"
            ],
            "layout": "IPY_MODEL_af22b68356504d9b94c2eb9094cd1e6c"
          }
        },
        "ddecf2bcb05744b09ecb269b5a5efd9e": {
          "model_module": "@jupyter-widgets/controls",
          "model_module_version": "1.5.0",
          "model_name": "HTMLModel",
          "state": {
            "_dom_classes": [],
            "_model_module": "@jupyter-widgets/controls",
            "_model_module_version": "1.5.0",
            "_model_name": "HTMLModel",
            "_view_count": null,
            "_view_module": "@jupyter-widgets/controls",
            "_view_module_version": "1.5.0",
            "_view_name": "HTMLView",
            "description": "",
            "description_tooltip": null,
            "layout": "IPY_MODEL_ca72cc2738ff46fd8be024391e19aa4b",
            "placeholder": "​",
            "style": "IPY_MODEL_a4caa3950eac44d3b49fcbc1850634e7",
            "value": ""
          }
        },
        "e0061d413b5a419eb835e8d62a793337": {
          "model_module": "@jupyter-widgets/base",
          "model_module_version": "1.2.0",
          "model_name": "LayoutModel",
          "state": {
            "_model_module": "@jupyter-widgets/base",
            "_model_module_version": "1.2.0",
            "_model_name": "LayoutModel",
            "_view_count": null,
            "_view_module": "@jupyter-widgets/base",
            "_view_module_version": "1.2.0",
            "_view_name": "LayoutView",
            "align_content": null,
            "align_items": null,
            "align_self": null,
            "border": null,
            "bottom": null,
            "display": null,
            "flex": null,
            "flex_flow": null,
            "grid_area": null,
            "grid_auto_columns": null,
            "grid_auto_flow": null,
            "grid_auto_rows": null,
            "grid_column": null,
            "grid_gap": null,
            "grid_row": null,
            "grid_template_areas": null,
            "grid_template_columns": null,
            "grid_template_rows": null,
            "height": null,
            "justify_content": null,
            "justify_items": null,
            "left": null,
            "margin": null,
            "max_height": null,
            "max_width": null,
            "min_height": null,
            "min_width": null,
            "object_fit": null,
            "object_position": null,
            "order": null,
            "overflow": null,
            "overflow_x": null,
            "overflow_y": null,
            "padding": null,
            "right": null,
            "top": null,
            "visibility": null,
            "width": "20px"
          }
        },
        "f8cd160c9a6b4d1c835bcaf54dbdd18d": {
          "model_module": "@jupyter-widgets/controls",
          "model_module_version": "1.5.0",
          "model_name": "ProgressStyleModel",
          "state": {
            "_model_module": "@jupyter-widgets/controls",
            "_model_module_version": "1.5.0",
            "_model_name": "ProgressStyleModel",
            "_view_count": null,
            "_view_module": "@jupyter-widgets/base",
            "_view_module_version": "1.2.0",
            "_view_name": "StyleView",
            "bar_color": null,
            "description_width": ""
          }
        },
        "9e3a9a4b10a84808940e5b5f9d86a97a": {
          "model_module": "@jupyter-widgets/controls",
          "model_name": "HBoxModel",
          "model_module_version": "1.5.0",
          "state": {
            "_dom_classes": [],
            "_model_module": "@jupyter-widgets/controls",
            "_model_module_version": "1.5.0",
            "_model_name": "HBoxModel",
            "_view_count": null,
            "_view_module": "@jupyter-widgets/controls",
            "_view_module_version": "1.5.0",
            "_view_name": "HBoxView",
            "box_style": "",
            "children": [
              "IPY_MODEL_13a31d69de9d4218a644bc1739630074",
              "IPY_MODEL_52278d9d0dfc4b668c238ede2d4d7cf5",
              "IPY_MODEL_65256ce8056e4d86a5cacca92f245ec5"
            ],
            "layout": "IPY_MODEL_693bf3382b64495591e13e1b0b223c38"
          }
        },
        "13a31d69de9d4218a644bc1739630074": {
          "model_module": "@jupyter-widgets/controls",
          "model_name": "HTMLModel",
          "model_module_version": "1.5.0",
          "state": {
            "_dom_classes": [],
            "_model_module": "@jupyter-widgets/controls",
            "_model_module_version": "1.5.0",
            "_model_name": "HTMLModel",
            "_view_count": null,
            "_view_module": "@jupyter-widgets/controls",
            "_view_module_version": "1.5.0",
            "_view_name": "HTMLView",
            "description": "",
            "description_tooltip": null,
            "layout": "IPY_MODEL_4a3e35eebd794fbd9eaae61edf1821de",
            "placeholder": "​",
            "style": "IPY_MODEL_3f4b703902484644bceb01c7bbc20ef6",
            "value": "100%"
          }
        },
        "52278d9d0dfc4b668c238ede2d4d7cf5": {
          "model_module": "@jupyter-widgets/controls",
          "model_name": "FloatProgressModel",
          "model_module_version": "1.5.0",
          "state": {
            "_dom_classes": [],
            "_model_module": "@jupyter-widgets/controls",
            "_model_module_version": "1.5.0",
            "_model_name": "FloatProgressModel",
            "_view_count": null,
            "_view_module": "@jupyter-widgets/controls",
            "_view_module_version": "1.5.0",
            "_view_name": "ProgressView",
            "bar_style": "success",
            "description": "",
            "description_tooltip": null,
            "layout": "IPY_MODEL_6abe61976ba54619a646cfa6f32cbe48",
            "max": 595,
            "min": 0,
            "orientation": "horizontal",
            "style": "IPY_MODEL_8b0aa1f99c6c466f9e78309ebcc979a7",
            "value": 595
          }
        },
        "65256ce8056e4d86a5cacca92f245ec5": {
          "model_module": "@jupyter-widgets/controls",
          "model_name": "HTMLModel",
          "model_module_version": "1.5.0",
          "state": {
            "_dom_classes": [],
            "_model_module": "@jupyter-widgets/controls",
            "_model_module_version": "1.5.0",
            "_model_name": "HTMLModel",
            "_view_count": null,
            "_view_module": "@jupyter-widgets/controls",
            "_view_module_version": "1.5.0",
            "_view_name": "HTMLView",
            "description": "",
            "description_tooltip": null,
            "layout": "IPY_MODEL_81eca56fbf90483b9d0c0c860e616041",
            "placeholder": "​",
            "style": "IPY_MODEL_1b67b9aaab65409c88a770ed57e11a89",
            "value": " 595/595 [07:15&lt;00:00,  1.50it/s]"
          }
        },
        "693bf3382b64495591e13e1b0b223c38": {
          "model_module": "@jupyter-widgets/base",
          "model_name": "LayoutModel",
          "model_module_version": "1.2.0",
          "state": {
            "_model_module": "@jupyter-widgets/base",
            "_model_module_version": "1.2.0",
            "_model_name": "LayoutModel",
            "_view_count": null,
            "_view_module": "@jupyter-widgets/base",
            "_view_module_version": "1.2.0",
            "_view_name": "LayoutView",
            "align_content": null,
            "align_items": null,
            "align_self": null,
            "border": null,
            "bottom": null,
            "display": null,
            "flex": null,
            "flex_flow": null,
            "grid_area": null,
            "grid_auto_columns": null,
            "grid_auto_flow": null,
            "grid_auto_rows": null,
            "grid_column": null,
            "grid_gap": null,
            "grid_row": null,
            "grid_template_areas": null,
            "grid_template_columns": null,
            "grid_template_rows": null,
            "height": null,
            "justify_content": null,
            "justify_items": null,
            "left": null,
            "margin": null,
            "max_height": null,
            "max_width": null,
            "min_height": null,
            "min_width": null,
            "object_fit": null,
            "object_position": null,
            "order": null,
            "overflow": null,
            "overflow_x": null,
            "overflow_y": null,
            "padding": null,
            "right": null,
            "top": null,
            "visibility": null,
            "width": null
          }
        },
        "4a3e35eebd794fbd9eaae61edf1821de": {
          "model_module": "@jupyter-widgets/base",
          "model_name": "LayoutModel",
          "model_module_version": "1.2.0",
          "state": {
            "_model_module": "@jupyter-widgets/base",
            "_model_module_version": "1.2.0",
            "_model_name": "LayoutModel",
            "_view_count": null,
            "_view_module": "@jupyter-widgets/base",
            "_view_module_version": "1.2.0",
            "_view_name": "LayoutView",
            "align_content": null,
            "align_items": null,
            "align_self": null,
            "border": null,
            "bottom": null,
            "display": null,
            "flex": null,
            "flex_flow": null,
            "grid_area": null,
            "grid_auto_columns": null,
            "grid_auto_flow": null,
            "grid_auto_rows": null,
            "grid_column": null,
            "grid_gap": null,
            "grid_row": null,
            "grid_template_areas": null,
            "grid_template_columns": null,
            "grid_template_rows": null,
            "height": null,
            "justify_content": null,
            "justify_items": null,
            "left": null,
            "margin": null,
            "max_height": null,
            "max_width": null,
            "min_height": null,
            "min_width": null,
            "object_fit": null,
            "object_position": null,
            "order": null,
            "overflow": null,
            "overflow_x": null,
            "overflow_y": null,
            "padding": null,
            "right": null,
            "top": null,
            "visibility": null,
            "width": null
          }
        },
        "3f4b703902484644bceb01c7bbc20ef6": {
          "model_module": "@jupyter-widgets/controls",
          "model_name": "DescriptionStyleModel",
          "model_module_version": "1.5.0",
          "state": {
            "_model_module": "@jupyter-widgets/controls",
            "_model_module_version": "1.5.0",
            "_model_name": "DescriptionStyleModel",
            "_view_count": null,
            "_view_module": "@jupyter-widgets/base",
            "_view_module_version": "1.2.0",
            "_view_name": "StyleView",
            "description_width": ""
          }
        },
        "6abe61976ba54619a646cfa6f32cbe48": {
          "model_module": "@jupyter-widgets/base",
          "model_name": "LayoutModel",
          "model_module_version": "1.2.0",
          "state": {
            "_model_module": "@jupyter-widgets/base",
            "_model_module_version": "1.2.0",
            "_model_name": "LayoutModel",
            "_view_count": null,
            "_view_module": "@jupyter-widgets/base",
            "_view_module_version": "1.2.0",
            "_view_name": "LayoutView",
            "align_content": null,
            "align_items": null,
            "align_self": null,
            "border": null,
            "bottom": null,
            "display": null,
            "flex": null,
            "flex_flow": null,
            "grid_area": null,
            "grid_auto_columns": null,
            "grid_auto_flow": null,
            "grid_auto_rows": null,
            "grid_column": null,
            "grid_gap": null,
            "grid_row": null,
            "grid_template_areas": null,
            "grid_template_columns": null,
            "grid_template_rows": null,
            "height": null,
            "justify_content": null,
            "justify_items": null,
            "left": null,
            "margin": null,
            "max_height": null,
            "max_width": null,
            "min_height": null,
            "min_width": null,
            "object_fit": null,
            "object_position": null,
            "order": null,
            "overflow": null,
            "overflow_x": null,
            "overflow_y": null,
            "padding": null,
            "right": null,
            "top": null,
            "visibility": null,
            "width": null
          }
        },
        "8b0aa1f99c6c466f9e78309ebcc979a7": {
          "model_module": "@jupyter-widgets/controls",
          "model_name": "ProgressStyleModel",
          "model_module_version": "1.5.0",
          "state": {
            "_model_module": "@jupyter-widgets/controls",
            "_model_module_version": "1.5.0",
            "_model_name": "ProgressStyleModel",
            "_view_count": null,
            "_view_module": "@jupyter-widgets/base",
            "_view_module_version": "1.2.0",
            "_view_name": "StyleView",
            "bar_color": null,
            "description_width": ""
          }
        },
        "81eca56fbf90483b9d0c0c860e616041": {
          "model_module": "@jupyter-widgets/base",
          "model_name": "LayoutModel",
          "model_module_version": "1.2.0",
          "state": {
            "_model_module": "@jupyter-widgets/base",
            "_model_module_version": "1.2.0",
            "_model_name": "LayoutModel",
            "_view_count": null,
            "_view_module": "@jupyter-widgets/base",
            "_view_module_version": "1.2.0",
            "_view_name": "LayoutView",
            "align_content": null,
            "align_items": null,
            "align_self": null,
            "border": null,
            "bottom": null,
            "display": null,
            "flex": null,
            "flex_flow": null,
            "grid_area": null,
            "grid_auto_columns": null,
            "grid_auto_flow": null,
            "grid_auto_rows": null,
            "grid_column": null,
            "grid_gap": null,
            "grid_row": null,
            "grid_template_areas": null,
            "grid_template_columns": null,
            "grid_template_rows": null,
            "height": null,
            "justify_content": null,
            "justify_items": null,
            "left": null,
            "margin": null,
            "max_height": null,
            "max_width": null,
            "min_height": null,
            "min_width": null,
            "object_fit": null,
            "object_position": null,
            "order": null,
            "overflow": null,
            "overflow_x": null,
            "overflow_y": null,
            "padding": null,
            "right": null,
            "top": null,
            "visibility": null,
            "width": null
          }
        },
        "1b67b9aaab65409c88a770ed57e11a89": {
          "model_module": "@jupyter-widgets/controls",
          "model_name": "DescriptionStyleModel",
          "model_module_version": "1.5.0",
          "state": {
            "_model_module": "@jupyter-widgets/controls",
            "_model_module_version": "1.5.0",
            "_model_name": "DescriptionStyleModel",
            "_view_count": null,
            "_view_module": "@jupyter-widgets/base",
            "_view_module_version": "1.2.0",
            "_view_name": "StyleView",
            "description_width": ""
          }
        }
      }
    }
  },
  "nbformat": 4,
  "nbformat_minor": 0
}